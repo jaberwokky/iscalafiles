{
 "cells": [
  {
   "cell_type": "code",
   "execution_count": 1,
   "metadata": {
    "collapsed": false
   },
   "outputs": [
    {
     "name": "stderr",
     "output_type": "stream",
     "text": [
      ":: problems summary ::"
     ]
    },
    {
     "name": "stdout",
     "output_type": "stream",
     "text": [
      ":::: WARNINGS\n",
      "\tUnable to reparse com.github.alexarchambault.jupyter#jupyter-scala-api_2.11.6;0.2.0-SNAPSHOT from sonatype-snapshots, using Thu Dec 24 17:50:58 MSK 2015\n",
      "\n",
      "\tChoosing sonatype-snapshots for com.github.alexarchambault.jupyter#jupyter-scala-api_2.11.6;0.2.0-SNAPSHOT\n",
      "\n",
      "\tUnable to reparse com.github.alexarchambault#ammonite-api_2.11.6;0.3.1-SNAPSHOT from sonatype-snapshots, using Wed Oct 21 12:43:36 MSK 2015\n",
      "\n",
      "\tChoosing sonatype-snapshots for com.github.alexarchambault#ammonite-api_2.11.6;0.3.1-SNAPSHOT\n",
      "\n",
      "\tUnable to reparse com.github.alexarchambault.jupyter#jupyter-api_2.11;0.2.0-SNAPSHOT from sonatype-snapshots, using Wed Oct 21 18:03:52 MSK 2015\n",
      "\n",
      "\tChoosing sonatype-snapshots for com.github.alexarchambault.jupyter#jupyter-api_2.11;0.2.0-SNAPSHOT\n",
      "\n"
     ]
    },
    {
     "name": "stderr",
     "output_type": "stream",
     "text": [
      "\r\n",
      ":::: ERRORS\r\n",
      "\tunknown resolver null\n",
      "\r\n"
     ]
    },
    {
     "data": {
      "text/plain": []
     },
     "metadata": {},
     "output_type": "display_data"
    }
   ],
   "source": [
    "load.ivy(\"com.assembla.scala-incubator\" %% \"graph-core\" % \"1.11.0\")"
   ]
  },
  {
   "cell_type": "code",
   "execution_count": 2,
   "metadata": {
    "collapsed": false
   },
   "outputs": [
    {
     "data": {
      "text/plain": [
       "\u001b[32mimport \u001b[36mscalax.collection.Graph\u001b[0m\n",
       "\u001b[32mimport \u001b[36mscalax.collection.GraphPredef._, scalax.collection.GraphEdge._\u001b[0m"
      ]
     },
     "metadata": {},
     "output_type": "display_data"
    }
   ],
   "source": [
    "import scalax.collection.Graph // or scalax.collection.mutable.Graph\n",
    "import scalax.collection.GraphPredef._, scalax.collection.GraphEdge._"
   ]
  },
  {
   "cell_type": "code",
   "execution_count": 3,
   "metadata": {
    "collapsed": false
   },
   "outputs": [
    {
     "data": {
      "text/plain": [
       "\u001b[32mimport \u001b[36mscalax.collection.edge.LDiEdge\u001b[0m\n",
       "\u001b[32mimport \u001b[36mscalax.collection.edge.Implicits._\u001b[0m"
      ]
     },
     "metadata": {},
     "output_type": "display_data"
    }
   ],
   "source": [
    "import scalax.collection.edge.LDiEdge     // labeled directed edge\n",
    "import scalax.collection.edge.Implicits._ // shortcuts"
   ]
  },
  {
   "cell_type": "code",
   "execution_count": 4,
   "metadata": {
    "collapsed": false
   },
   "outputs": [
    {
     "data": {
      "text/plain": [
       "\u001b[36mg1\u001b[0m: \u001b[32mGraph\u001b[0m[\u001b[32mInt\u001b[0m, \u001b[32mUnDiEdge\u001b[0m] = \u001b[33mGraph\u001b[0m(1, 5, 3, 3~1)"
      ]
     },
     "metadata": {},
     "output_type": "display_data"
    }
   ],
   "source": [
    "val g1 = Graph(3~1, 5)            // Graph[Int,UnDiEdge](1, 3, 5, 3~1)"
   ]
  },
  {
   "cell_type": "code",
   "execution_count": 9,
   "metadata": {
    "collapsed": false
   },
   "outputs": [
    {
     "data": {
      "text/plain": [
       "\u001b[36mres6\u001b[0m: \u001b[32mString\u001b[0m = \u001b[32m\"1, 3, 5, 3~1\"\u001b[0m"
      ]
     },
     "metadata": {},
     "output_type": "display_data"
    }
   ],
   "source": [
    "g1.asSortedString()"
   ]
  },
  {
   "cell_type": "code",
   "execution_count": 10,
   "metadata": {
    "collapsed": false
   },
   "outputs": [
    {
     "data": {
      "text/plain": [
       "\u001b[36mres7\u001b[0m: \u001b[32mString\u001b[0m = \u001b[32m\"Graph(1, 3, 5, 3~1)\"\u001b[0m"
      ]
     },
     "metadata": {},
     "output_type": "display_data"
    }
   ],
   "source": [
    "g1.toString"
   ]
  },
  {
   "cell_type": "code",
   "execution_count": 11,
   "metadata": {
    "collapsed": false
   },
   "outputs": [
    {
     "data": {
      "text/plain": [
       "\u001b[36mg\u001b[0m: \u001b[32mGraph\u001b[0m[\u001b[32mInt\u001b[0m, \u001b[32mscalax\u001b[0m.\u001b[32mcollection\u001b[0m.\u001b[32medge\u001b[0m.\u001b[32mWUnDiEdge\u001b[0m] = \u001b[33mGraph\u001b[0m(1, 5, 2, 3, 4, 1~2 %4, 1~>3 %5, 1~5 %3, 2~3 %2, 3~5 %2, 3~4 %1, 4~>4 %1, 4~>5 %0)"
      ]
     },
     "metadata": {},
     "output_type": "display_data"
    }
   ],
   "source": [
    "val g = Graph(1~2 % 4, 2~3 % 2, 1~>3 % 5, 1~5  % 3,\n",
    "              3~5 % 2, 3~4 % 1, 4~>4 % 1, 4~>5 % 0)"
   ]
  },
  {
   "cell_type": "code",
   "execution_count": 12,
   "metadata": {
    "collapsed": false
   },
   "outputs": [
    {
     "data": {
      "text/plain": [
       "defined \u001b[32mfunction \u001b[36mn\u001b[0m"
      ]
     },
     "metadata": {},
     "output_type": "display_data"
    }
   ],
   "source": [
    "def n(outer: Int): g.NodeT = g get outer  // look up a node known to be contained"
   ]
  },
  {
   "cell_type": "code",
   "execution_count": 15,
   "metadata": {
    "collapsed": false
   },
   "outputs": [
    {
     "data": {
      "text/plain": [
       "\u001b[36mres12\u001b[0m: \u001b[32mOption\u001b[0m[\u001b[32mg\u001b[0m.\u001b[32mNodeT\u001b[0m] = None"
      ]
     },
     "metadata": {},
     "output_type": "display_data"
    }
   ],
   "source": [
    "n(1) findSuccessor (_.outDegree >  3) // Option[g.NodeT] = None "
   ]
  },
  {
   "cell_type": "code",
   "execution_count": 16,
   "metadata": {
    "collapsed": false
   },
   "outputs": [
    {
     "data": {
      "text/plain": [
       "\u001b[36mres13\u001b[0m: \u001b[32mOption\u001b[0m[\u001b[32mg\u001b[0m.\u001b[32mNodeT\u001b[0m] = Some(3)"
      ]
     },
     "metadata": {},
     "output_type": "display_data"
    }
   ],
   "source": [
    "n(1) findSuccessor (_.outDegree >= 3) // Option[g.NodeT] = Some(3)"
   ]
  },
  {
   "cell_type": "code",
   "execution_count": 17,
   "metadata": {
    "collapsed": false
   },
   "outputs": [
    {
     "data": {
      "text/plain": [
       "\u001b[36mres14\u001b[0m: \u001b[32mOption\u001b[0m[\u001b[32mg\u001b[0m.\u001b[32mNodeT\u001b[0m] = Some(2)"
      ]
     },
     "metadata": {},
     "output_type": "display_data"
    }
   ],
   "source": [
    "n(4) findSuccessor (_.edges forall (_.undirected)) // Some(2)"
   ]
  },
  {
   "cell_type": "code",
   "execution_count": 18,
   "metadata": {
    "collapsed": false
   },
   "outputs": [
    {
     "data": {
      "text/plain": [
       "\u001b[36mres15\u001b[0m: \u001b[32mOption\u001b[0m[\u001b[32mg\u001b[0m.\u001b[32mPath\u001b[0m] = Some(Path(1, 1~>3 %5, 3, 3~4 %1, 4))"
      ]
     },
     "metadata": {},
     "output_type": "display_data"
    }
   ],
   "source": [
    "n(1) pathTo n(4)                      // Some(Path(1, 1~>3 %5, 3, 3~4 %1, 4))"
   ]
  },
  {
   "cell_type": "code",
   "execution_count": 19,
   "metadata": {
    "collapsed": false
   },
   "outputs": [
    {
     "data": {
      "text/plain": [
       "\u001b[36mres16\u001b[0m: \u001b[32mOption\u001b[0m[\u001b[32mg\u001b[0m.\u001b[32mPath\u001b[0m] = Some(Path(1, 1~>3 %5, 3))"
      ]
     },
     "metadata": {},
     "output_type": "display_data"
    }
   ],
   "source": [
    "n(1) pathUntil (_.outDegree >= 3)     // Some(Path(1, 1~>3 %5, 3))"
   ]
  },
  {
   "cell_type": "code",
   "execution_count": 20,
   "metadata": {
    "collapsed": false
   },
   "outputs": [
    {
     "data": {
      "text/plain": [
       "\u001b[36mspO\u001b[0m: \u001b[32mOption\u001b[0m[\u001b[32mg\u001b[0m.\u001b[32mPath\u001b[0m] = Some(Path(3, 3~4 %1, 4, 4~>5 %0, 5, 1~5 %3, 1))"
      ]
     },
     "metadata": {},
     "output_type": "display_data"
    }
   ],
   "source": [
    "val spO = n(3) shortestPathTo n(1) // Path(3, 3~4 %1, 4, 4~>5 %0, 5, 1~5 %3, 1)"
   ]
  },
  {
   "cell_type": "code",
   "execution_count": 21,
   "metadata": {
    "collapsed": false
   },
   "outputs": [
    {
     "data": {
      "text/plain": [
       "\u001b[36msp\u001b[0m: \u001b[32mg\u001b[0m.\u001b[32mPath\u001b[0m = \u001b[33mPath\u001b[0m(3, 3~4 %1, 4, 4~>5 %0, 5, 1~5 %3, 1)"
      ]
     },
     "metadata": {},
     "output_type": "display_data"
    }
   ],
   "source": [
    "val sp = spO.get"
   ]
  },
  {
   "cell_type": "code",
   "execution_count": 33,
   "metadata": {
    "collapsed": false
   },
   "outputs": [
    {
     "data": {
      "text/plain": [
       "\u001b[36mspO\u001b[0m: \u001b[32mg\u001b[0m.\u001b[32mPath\u001b[0m = \u001b[33mPath\u001b[0m(3, 3~4 %1, 4, 4~>5 %0, 5, 1~5 %3, 1)"
      ]
     },
     "metadata": {},
     "output_type": "display_data"
    }
   ],
   "source": [
    "val spO = n(3) shortestPathTo n(1) get"
   ]
  },
  {
   "cell_type": "code",
   "execution_count": 34,
   "metadata": {
    "collapsed": false
   },
   "outputs": [
    {
     "data": {
      "text/plain": [
       "\u001b[36mpO1\u001b[0m: \u001b[32mOption\u001b[0m[\u001b[32mg\u001b[0m.\u001b[32mPath\u001b[0m] = Some(Path(4, 3~4 %1, 3, 2~3 %2, 2))"
      ]
     },
     "metadata": {},
     "output_type": "display_data"
    }
   ],
   "source": [
    "val pO1 = n(4).withSubgraph(nodes = _ < 4) pathTo n(2)"
   ]
  },
  {
   "cell_type": "code",
   "execution_count": 35,
   "metadata": {
    "collapsed": false
   },
   "outputs": [
    {
     "data": {
      "text/plain": [
       "\u001b[36mres32\u001b[0m: \u001b[32mOption\u001b[0m[\u001b[32mTraversable\u001b[0m[\u001b[32mg\u001b[0m.\u001b[32mNodeT\u001b[0m]] = Some(Nodes(4, 3, 2))"
      ]
     },
     "metadata": {},
     "output_type": "display_data"
    }
   ],
   "source": [
    "pO1.map(_.nodes)"
   ]
  },
  {
   "cell_type": "code",
   "execution_count": null,
   "metadata": {
    "collapsed": true
   },
   "outputs": [],
   "source": []
  }
 ],
 "metadata": {
  "kernelspec": {
   "display_name": "Scala 2.11",
   "language": "scala211",
   "name": "scala211"
  },
  "language_info": {
   "codemirror_mode": "text/x-scala",
   "file_extension": ".scala",
   "mimetype": "text/x-scala",
   "name": "scala211",
   "pygments_lexer": "scala",
   "version": "2.11.6"
  }
 },
 "nbformat": 4,
 "nbformat_minor": 0
}

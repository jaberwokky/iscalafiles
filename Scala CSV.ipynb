{
 "cells": [
  {
   "cell_type": "code",
   "execution_count": 213,
   "metadata": {
    "collapsed": false
   },
   "outputs": [
    {
     "data": {
      "text/plain": [
       "\u001b[36mlines\u001b[0m: \u001b[32mIterator\u001b[0m[\u001b[32mString\u001b[0m] = non-empty iterator"
      ]
     },
     "metadata": {},
     "output_type": "display_data"
    }
   ],
   "source": [
    "val lines = scala.io.Source.fromFile(\"prefix.csv\", \"utf-8\").getLines"
   ]
  },
  {
   "cell_type": "code",
   "execution_count": 214,
   "metadata": {
    "collapsed": false
   },
   "outputs": [
    {
     "data": {
      "text/plain": [
       "\u001b[36mvals\u001b[0m: \u001b[32mList\u001b[0m[\u001b[32mArray\u001b[0m[\u001b[32mString\u001b[0m]] = \u001b[33mList\u001b[0m(\n",
       "  \u001b[33mArray\u001b[0m(\u001b[32m\"ФИО\"\u001b[0m, \u001b[32m\"Префикс\"\u001b[0m),\n",
       "  \u001b[33mArray\u001b[0m(\u001b[32m\"Адомавичюс Артур\"\u001b[0m, \u001b[32m\"AAA\"\u001b[0m),\n",
       "  \u001b[33mArray\u001b[0m(\u001b[32m\"Андреев Дмитрий\"\u001b[0m, \u001b[32m\"ADA\"\u001b[0m),\n",
       "  \u001b[33mArray\u001b[0m(\u001b[32m\"Агаев Эмиль\"\u001b[0m, \u001b[32m\"AE\"\u001b[0m),\n",
       "  \u001b[33mArray\u001b[0m(\u001b[32m\"Крайнова Александра\"\u001b[0m, \u001b[32m\"AK\"\u001b[0m),\n",
       "  \u001b[33mArray\u001b[0m(\n",
       "    \u001b[32m\"Никифорова Анна\"\u001b[0m,\n",
       "    \u001b[32m\"\"\"\n",
       "\"AN\n",
       "    \"\"\"\u001b[0m,\n",
       "    \u001b[32m\"\"\"\n",
       " NAM\"\n",
       "    \"\"\"\u001b[0m\n",
       "  ),\n",
       "  \u001b[33mArray\u001b[0m(\u001b[32m\"Черепанов Артем\"\u001b[0m, \u001b[32m\"ASCHER\"\u001b[0m),\n",
       "  \u001b[33mArray\u001b[0m(\u001b[32m\"Кумыков Беслан \"\u001b[0m, \u001b[32m\"BES\"\u001b[0m),\n",
       "  \u001b[33mArray\u001b[0m(\n",
       "    \u001b[32m\"Бобр Александр\"\u001b[0m,\n",
       "    \u001b[32m\"\"\"\n",
       "\u001b[33m...\u001b[0m"
      ]
     },
     "metadata": {},
     "output_type": "display_data"
    }
   ],
   "source": [
    "val vals = lines.toList.map(_.split(\",\"))"
   ]
  },
  {
   "cell_type": "code",
   "execution_count": 215,
   "metadata": {
    "collapsed": false
   },
   "outputs": [
    {
     "data": {
      "text/plain": [
       "\u001b[36mprefixes\u001b[0m: \u001b[32mList\u001b[0m[\u001b[32mArray\u001b[0m[\u001b[32mString\u001b[0m]] = \u001b[33mList\u001b[0m(\n",
       "  \u001b[33mArray\u001b[0m(\u001b[32m\"ФИО\"\u001b[0m, \u001b[32m\"Префикс\"\u001b[0m),\n",
       "  \u001b[33mArray\u001b[0m(\u001b[32m\"Адомавичюс Артур\"\u001b[0m, \u001b[32m\"AAA\"\u001b[0m),\n",
       "  \u001b[33mArray\u001b[0m(\u001b[32m\"Андреев Дмитрий\"\u001b[0m, \u001b[32m\"ADA\"\u001b[0m),\n",
       "  \u001b[33mArray\u001b[0m(\u001b[32m\"Агаев Эмиль\"\u001b[0m, \u001b[32m\"AE\"\u001b[0m),\n",
       "  \u001b[33mArray\u001b[0m(\u001b[32m\"Крайнова Александра\"\u001b[0m, \u001b[32m\"AK\"\u001b[0m),\n",
       "  \u001b[33mArray\u001b[0m(\u001b[32m\"Черепанов Артем\"\u001b[0m, \u001b[32m\"ASCHER\"\u001b[0m),\n",
       "  \u001b[33mArray\u001b[0m(\u001b[32m\"Кумыков Беслан \"\u001b[0m, \u001b[32m\"BES\"\u001b[0m),\n",
       "  \u001b[33mArray\u001b[0m(\u001b[32m\"Черномырдин Сергей\"\u001b[0m, \u001b[32m\"CH\"\u001b[0m),\n",
       "  \u001b[33mArray\u001b[0m(\u001b[32m\"Корешков Георгий\"\u001b[0m, \u001b[32m\"GEKO\"\u001b[0m),\n",
       "  \u001b[33mArray\u001b[0m(\u001b[32m\"Ширнин Григорий\"\u001b[0m, \u001b[32m\"GSH\"\u001b[0m),\n",
       "  \u001b[33mArray\u001b[0m(\u001b[32m\"Климаченкова Катя\"\u001b[0m, \u001b[32m\"KLIM\"\u001b[0m),\n",
       "  \u001b[33mArray\u001b[0m(\u001b[32m\"Кушников Михаил\"\u001b[0m, \u001b[32m\"KM\"\u001b[0m),\n",
       "  \u001b[33mArray\u001b[0m(\u001b[32m\"Солянов Кирилл\"\u001b[0m, \u001b[32m\"KS\"\u001b[0m),\n",
       "  \u001b[33mArray\u001b[0m(\u001b[32m\"Кузнецов Станислав\"\u001b[0m, \u001b[32m\"KUZN\"\u001b[0m),\n",
       "  \u001b[33mArray\u001b[0m(\u001b[32m\"Клёсов Виталий\"\u001b[0m, \u001b[32m\"KV\"\u001b[0m),\n",
       "  \u001b[33mArray\u001b[0m(\u001b[32m\"Сорсунова Лидия\"\u001b[0m, \u001b[32m\"LS\"\u001b[0m),\n",
       "  \u001b[33mArray\u001b[0m(\u001b[32m\"Агапова Мария\"\u001b[0m, \u001b[32m\"MA\"\u001b[0m),\n",
       "  \u001b[33mArray\u001b[0m(\u001b[32m\"Гладкова Мария\"\u001b[0m, \u001b[32m\"MGLA\"\u001b[0m),\n",
       "  \u001b[33mArray\u001b[0m(\u001b[32m\"Митина Анастасия\"\u001b[0m, \u001b[32m\"MN\"\u001b[0m),\n",
       "\u001b[33m...\u001b[0m"
      ]
     },
     "metadata": {},
     "output_type": "display_data"
    }
   ],
   "source": [
    "val prefixes = vals.filter(_.length <= 2) ::: vals.filter(_.length > 2).map(x=>x.tail.map((y=>Array(x.head, y.trim.replace(\"\\\"\", \"\"))))).flatten"
   ]
  },
  {
   "cell_type": "code",
   "execution_count": 216,
   "metadata": {
    "collapsed": false
   },
   "outputs": [
    {
     "data": {
      "text/plain": [
       "\u001b[32mimport \u001b[36mjava.io._\u001b[0m"
      ]
     },
     "metadata": {},
     "output_type": "display_data"
    }
   ],
   "source": [
    "import java.io._"
   ]
  },
  {
   "cell_type": "code",
   "execution_count": 217,
   "metadata": {
    "collapsed": false
   },
   "outputs": [
    {
     "data": {
      "text/plain": [
       "\u001b[36mwriter\u001b[0m: \u001b[32mPrintWriter\u001b[0m = java.io.PrintWriter@70276847\n",
       "\u001b[36mres216_1\u001b[0m: \u001b[32mList\u001b[0m[\u001b[32mUnit\u001b[0m] = \u001b[33mList\u001b[0m(\n",
       "  \u001b[32m()\u001b[0m,\n",
       "  \u001b[32m()\u001b[0m,\n",
       "  \u001b[32m()\u001b[0m,\n",
       "  \u001b[32m()\u001b[0m,\n",
       "  \u001b[32m()\u001b[0m,\n",
       "  \u001b[32m()\u001b[0m,\n",
       "  \u001b[32m()\u001b[0m,\n",
       "  \u001b[32m()\u001b[0m,\n",
       "  \u001b[32m()\u001b[0m,\n",
       "  \u001b[32m()\u001b[0m,\n",
       "  \u001b[32m()\u001b[0m,\n",
       "  \u001b[32m()\u001b[0m,\n",
       "  \u001b[32m()\u001b[0m,\n",
       "  \u001b[32m()\u001b[0m,\n",
       "  \u001b[32m()\u001b[0m,\n",
       "  \u001b[32m()\u001b[0m,\n",
       "  \u001b[32m()\u001b[0m,\n",
       "  \u001b[32m()\u001b[0m,\n",
       "  \u001b[32m()\u001b[0m,\n",
       "\u001b[33m...\u001b[0m"
      ]
     },
     "metadata": {},
     "output_type": "display_data"
    }
   ],
   "source": [
    "val writer = new PrintWriter(new File(\"prefixesss.csv\" ))\n",
    "prefixes.sortBy(_(0)).map(x => writer.write(x.mkString(\",\")+\"\\n\"))\n",
    "writer.close()"
   ]
  },
  {
   "cell_type": "code",
   "execution_count": 218,
   "metadata": {
    "collapsed": false
   },
   "outputs": [
    {
     "data": {
      "text/plain": [
       "\u001b[36mwriter\u001b[0m: \u001b[32mPrintWriter\u001b[0m = java.io.PrintWriter@3e26bfb6\n",
       "\u001b[36mres217_1\u001b[0m: \u001b[32mList\u001b[0m[\u001b[32mUnit\u001b[0m] = \u001b[33mList\u001b[0m(\n",
       "  \u001b[32m()\u001b[0m,\n",
       "  \u001b[32m()\u001b[0m,\n",
       "  \u001b[32m()\u001b[0m,\n",
       "  \u001b[32m()\u001b[0m,\n",
       "  \u001b[32m()\u001b[0m,\n",
       "  \u001b[32m()\u001b[0m,\n",
       "  \u001b[32m()\u001b[0m,\n",
       "  \u001b[32m()\u001b[0m,\n",
       "  \u001b[32m()\u001b[0m,\n",
       "  \u001b[32m()\u001b[0m,\n",
       "  \u001b[32m()\u001b[0m,\n",
       "  \u001b[32m()\u001b[0m,\n",
       "  \u001b[32m()\u001b[0m,\n",
       "  \u001b[32m()\u001b[0m,\n",
       "  \u001b[32m()\u001b[0m,\n",
       "  \u001b[32m()\u001b[0m,\n",
       "  \u001b[32m()\u001b[0m,\n",
       "  \u001b[32m()\u001b[0m,\n",
       "  \u001b[32m()\u001b[0m,\n",
       "\u001b[33m...\u001b[0m"
      ]
     },
     "metadata": {},
     "output_type": "display_data"
    }
   ],
   "source": [
    "val writer = new PrintWriter(new File(\"prefixess.csv\" ))\n",
    "vals.sortBy(_(0)).map(x => writer.write(x.mkString(\",\")+\"\\n\"))\n",
    "writer.close()"
   ]
  },
  {
   "cell_type": "code",
   "execution_count": 219,
   "metadata": {
    "collapsed": false
   },
   "outputs": [
    {
     "data": {
      "text/plain": [
       "\u001b[36mres218\u001b[0m: \u001b[32mString\u001b[0m = \u001b[32m\"артур.адомавичюс\"\u001b[0m"
      ]
     },
     "metadata": {},
     "output_type": "display_data"
    }
   ],
   "source": [
    "vals(1)(0).split(\" \").reverse.mkString(\".\").toLowerCase"
   ]
  },
  {
   "cell_type": "code",
   "execution_count": 220,
   "metadata": {
    "collapsed": false
   },
   "outputs": [
    {
     "name": "stdout",
     "output_type": "stream",
     "text": [
      "a\n",
      "g\n",
      "a\n",
      "e\n",
      "v\n",
      " \n",
      "e\n",
      "m\n",
      "i\n",
      "l\n",
      "\n"
     ]
    },
    {
     "data": {
      "text/plain": []
     },
     "metadata": {},
     "output_type": "display_data"
    }
   ],
   "source": [
    "for (chr <- vals(3)(0).toLowerCase.toCharArray) { chr match {\n",
    "    case 'а' => println('a')\n",
    "    case 'б' => println('b')\n",
    "    case 'в' => println('v')\n",
    "    case 'г' => println('g')\n",
    "    case 'д' => println('d')\n",
    "    case 'е' => println('e')\n",
    "    case 'ё' => println('e')\n",
    "    case 'ж' => println(\"zh\")\n",
    "    case 'з' => println('z')\n",
    "    case 'и' => println('i')\n",
    "    case 'й' => println('y')\n",
    "    case 'к' => println('k')\n",
    "    case 'л' => println('l')\n",
    "    case 'м' => println('m')\n",
    "    case 'н' => println('n')\n",
    "    case 'о' => println('o')\n",
    "    case 'п' => println('p')\n",
    "    case 'р' => println('r')\n",
    "    case 'с' => println('s')\n",
    "    case 'т' => println('t')\n",
    "    case 'у' => println('u')\n",
    "    case 'ф' => println('f')\n",
    "    case 'х' => println('h')\n",
    "    case 'ц' => println(\"ts\")\n",
    "    case 'ч' => println(\"ch\")\n",
    "    case 'ш' => println(\"sh\")\n",
    "    case 'щ' => println(\"sch\")\n",
    "    case 'ъ' => println(\"\")\n",
    "    case 'э' => println('e')\n",
    "    case 'ь' => println(\"\")\n",
    "    case 'ю' => println('u')\n",
    "    case 'я' => println(\"ya\")\n",
    "    case _ => println(\" \")\n",
    "}\n",
    "}"
   ]
  },
  {
   "cell_type": "code",
   "execution_count": 221,
   "metadata": {
    "collapsed": false
   },
   "outputs": [
    {
     "data": {
      "text/plain": [
       "\u001b[36mtmp\u001b[0m: \u001b[32mString\u001b[0m = \u001b[32m\"Эмиль Агаев\"\u001b[0m"
      ]
     },
     "metadata": {},
     "output_type": "display_data"
    }
   ],
   "source": [
    "var tmp = \"Эмиль Агаев\""
   ]
  },
  {
   "cell_type": "code",
   "execution_count": 222,
   "metadata": {
    "collapsed": false
   },
   "outputs": [
    {
     "data": {
      "text/plain": [
       "\u001b[36mtrans_prefixes\u001b[0m: \u001b[32mList\u001b[0m[\u001b[32mArray\u001b[0m[\u001b[32mString\u001b[0m]] = \u001b[33mList\u001b[0m(\n",
       "  \u001b[33mArray\u001b[0m(\u001b[32m\"fio\"\u001b[0m, \u001b[32m\"Префикс\"\u001b[0m),\n",
       "  \u001b[33mArray\u001b[0m(\u001b[32m\"artur.adomavichus\"\u001b[0m, \u001b[32m\"AAA\"\u001b[0m),\n",
       "  \u001b[33mArray\u001b[0m(\u001b[32m\"dmitriy.andreev\"\u001b[0m, \u001b[32m\"ADA\"\u001b[0m),\n",
       "  \u001b[33mArray\u001b[0m(\u001b[32m\"emil.agaev\"\u001b[0m, \u001b[32m\"AE\"\u001b[0m),\n",
       "  \u001b[33mArray\u001b[0m(\u001b[32m\"aleksandra.kraynova\"\u001b[0m, \u001b[32m\"AK\"\u001b[0m),\n",
       "  \u001b[33mArray\u001b[0m(\u001b[32m\"artem.cherepanov\"\u001b[0m, \u001b[32m\"ASCHER\"\u001b[0m),\n",
       "  \u001b[33mArray\u001b[0m(\u001b[32m\"beslan.kumykov\"\u001b[0m, \u001b[32m\"BES\"\u001b[0m),\n",
       "  \u001b[33mArray\u001b[0m(\u001b[32m\"sergey.chernomyrdin\"\u001b[0m, \u001b[32m\"CH\"\u001b[0m),\n",
       "  \u001b[33mArray\u001b[0m(\u001b[32m\"georgiy.koreshkov\"\u001b[0m, \u001b[32m\"GEKO\"\u001b[0m),\n",
       "  \u001b[33mArray\u001b[0m(\u001b[32m\"grigoriy.shirnin\"\u001b[0m, \u001b[32m\"GSH\"\u001b[0m),\n",
       "  \u001b[33mArray\u001b[0m(\u001b[32m\"katya.klimachenkova\"\u001b[0m, \u001b[32m\"KLIM\"\u001b[0m),\n",
       "  \u001b[33mArray\u001b[0m(\u001b[32m\"mihail.kushnikov\"\u001b[0m, \u001b[32m\"KM\"\u001b[0m),\n",
       "  \u001b[33mArray\u001b[0m(\u001b[32m\"kirill.solyanov\"\u001b[0m, \u001b[32m\"KS\"\u001b[0m),\n",
       "  \u001b[33mArray\u001b[0m(\u001b[32m\"stanislav.kuznetsov\"\u001b[0m, \u001b[32m\"KUZN\"\u001b[0m),\n",
       "  \u001b[33mArray\u001b[0m(\u001b[32m\"vitaliy.klesov\"\u001b[0m, \u001b[32m\"KV\"\u001b[0m),\n",
       "  \u001b[33mArray\u001b[0m(\u001b[32m\"lidiya.sorsunova\"\u001b[0m, \u001b[32m\"LS\"\u001b[0m),\n",
       "  \u001b[33mArray\u001b[0m(\u001b[32m\"mariya.agapova\"\u001b[0m, \u001b[32m\"MA\"\u001b[0m),\n",
       "  \u001b[33mArray\u001b[0m(\u001b[32m\"mariya.gladkova\"\u001b[0m, \u001b[32m\"MGLA\"\u001b[0m),\n",
       "  \u001b[33mArray\u001b[0m(\u001b[32m\"anastasiya.mitina\"\u001b[0m, \u001b[32m\"MN\"\u001b[0m),\n",
       "\u001b[33m...\u001b[0m"
      ]
     },
     "metadata": {},
     "output_type": "display_data"
    }
   ],
   "source": [
    "val trans_prefixes = prefixes.map(x => Array(x(0)\n",
    ".split(\" \")\n",
    ".reverse\n",
    ".mkString(\".\")\n",
    ".toLowerCase\n",
    ".replace(\" \",\".\")\n",
    ".replace('а','a')\n",
    ".replace('б','b')\n",
    ".replace('в','v')\n",
    ".replace('г','g')\n",
    ".replace('д','d')\n",
    ".replace('е','e')\n",
    ".replace('ё','e')\n",
    ".replace(\"ж\",\"zh\")\n",
    ".replace('з','z')\n",
    ".replace('и','i')\n",
    ".replace('й','y')\n",
    ".replace('к','k')\n",
    ".replace('л','l')\n",
    ".replace('м','m')\n",
    ".replace('н','n')\n",
    ".replace('о','o')\n",
    ".replace('п','p')\n",
    ".replace('р','r')\n",
    ".replace('с','s')\n",
    ".replace('т','t')\n",
    ".replace('у','u')\n",
    ".replace('ф','f')\n",
    ".replace('х','h')\n",
    ".replace(\"ц\",\"ts\")\n",
    ".replace(\"ч\",\"ch\")\n",
    ".replace(\"ш\",\"sh\")\n",
    ".replace(\"щ\",\"sch\")\n",
    ".replace('ы','y')\n",
    ".replace(\"ъ\",\"\")\n",
    ".replace('э','e')\n",
    ".replace(\"ь\",\"\")\n",
    ".replace('ю','u')\n",
    ".replace(\"я\",\"ya\"),x(1)))"
   ]
  },
  {
   "cell_type": "code",
   "execution_count": 223,
   "metadata": {
    "collapsed": false,
    "scrolled": true
   },
   "outputs": [
    {
     "data": {
      "text/plain": [
       "\u001b[36mlines\u001b[0m: \u001b[32mIterator\u001b[0m[\u001b[32mString\u001b[0m] = non-empty iterator"
      ]
     },
     "metadata": {},
     "output_type": "display_data"
    }
   ],
   "source": [
    "val lines = scala.io.Source.fromFile(\"slack_users.csv\", \"utf-8\").getLines"
   ]
  },
  {
   "cell_type": "code",
   "execution_count": 224,
   "metadata": {
    "collapsed": false
   },
   "outputs": [
    {
     "data": {
      "text/plain": [
       "\u001b[36mslack\u001b[0m: \u001b[32mList\u001b[0m[\u001b[32mArray\u001b[0m[\u001b[32mString\u001b[0m]] = \u001b[33mList\u001b[0m(\n",
       "  \u001b[33mArray\u001b[0m(\n",
       "    \u001b[32m\"\"\"\n",
       "\"OSUSER\"\n",
       "    \"\"\"\u001b[0m,\n",
       "    \u001b[32m\"\"\"\n",
       "\"SLACK_USER\"\n",
       "    \"\"\"\u001b[0m\n",
       "  ),\n",
       "  \u001b[33mArray\u001b[0m(\n",
       "    \u001b[32m\"\"\"\n",
       "\"alexey.rodin\"\n",
       "    \"\"\"\u001b[0m,\n",
       "    \u001b[32m\"\"\"\n",
       "\"Rodin(<@alexeyrodin>)\"\n",
       "    \"\"\"\u001b[0m\n",
       "  ),\n",
       "  \u001b[33mArray\u001b[0m(\n",
       "    \u001b[32m\"\"\"\n",
       "\"eugene.kuzmich\"\n",
       "\u001b[33m...\u001b[0m"
      ]
     },
     "metadata": {},
     "output_type": "display_data"
    }
   ],
   "source": [
    "val slack = lines.toList.map(_.split(\",\"))"
   ]
  },
  {
   "cell_type": "code",
   "execution_count": 225,
   "metadata": {
    "collapsed": false
   },
   "outputs": [
    {
     "data": {
      "text/plain": [
       "\u001b[36mres224\u001b[0m: \u001b[32mList\u001b[0m[\u001b[32mString\u001b[0m] = \u001b[33mList\u001b[0m(\n",
       "  \u001b[32m\"OSUSER\"\u001b[0m,\n",
       "  \u001b[32m\"alexey.rodin\"\u001b[0m,\n",
       "  \u001b[32m\"eugene.kuzmich\"\u001b[0m,\n",
       "  \u001b[32m\"tatyana.lovets\"\u001b[0m,\n",
       "  \u001b[32m\"dmitry.drabovich\"\u001b[0m,\n",
       "  \u001b[32m\"yana.charuyskaya\"\u001b[0m,\n",
       "  \u001b[32m\"valeriy.perepelkin\"\u001b[0m,\n",
       "  \u001b[32m\"artem.cherepanov\"\u001b[0m,\n",
       "  \u001b[32m\"dmitry.nagornov\"\u001b[0m,\n",
       "  \u001b[32m\"alexandr.vasin\"\u001b[0m,\n",
       "  \u001b[32m\"alexandra.kraynova\"\u001b[0m,\n",
       "  \u001b[32m\"yulia.gorbunova\"\u001b[0m,\n",
       "  \u001b[32m\"mikhail.chernyshov\"\u001b[0m,\n",
       "  \u001b[32m\"polina_danilicheva\"\u001b[0m,\n",
       "  \u001b[32m\"anna.nikiforova\"\u001b[0m,\n",
       "  \u001b[32m\"irina.fedorova\"\u001b[0m,\n",
       "  \u001b[32m\"stanislav.kuznetsov\"\u001b[0m,\n",
       "  \u001b[32m\"natalya.tishina\"\u001b[0m,\n",
       "  \u001b[32m\"grigoriy.shirnin\"\u001b[0m,\n",
       "\u001b[33m...\u001b[0m"
      ]
     },
     "metadata": {},
     "output_type": "display_data"
    }
   ],
   "source": [
    "slack.map(_(0).replace(\"\\\"\",\"\"))"
   ]
  },
  {
   "cell_type": "code",
   "execution_count": 226,
   "metadata": {
    "collapsed": false
   },
   "outputs": [
    {
     "name": "stdout",
     "output_type": "stream",
     "text": [
      "artur.adomavichus\n",
      "artem.cherepanov\n",
      "andrey.zheltov\n",
      "anna.nikiforova\n",
      "anna.nikiforova\n",
      "beslan.kumykov\n",
      "darya.voronova\n",
      "emil.agaev\n",
      "georgiy.koreshkov\n",
      "grigoriy.shirnin\n",
      "irina.fedorova\n",
      "irina.fedorova\n",
      "katya.klimachenkova\n",
      "kirill.solyanov\n",
      "natalya.tishina\n",
      "olga.nikulina\n",
      "sergey.chernomyrdin\n",
      "stanislav.kuznetsov\n",
      "sergey.efimenkov\n",
      "sergey.shivalin\n",
      "svetlana.sergeeva\n",
      "stanislav.kamalov\n",
      "sergey.volchkov\n",
      "tatyana.kazykina\n",
      "tatyana.mansurova\n",
      "vitaliy.klesov\n",
      "valeriy.perepelkin\n",
      "yana.charuyskaya\n"
     ]
    },
    {
     "data": {
      "text/plain": []
     },
     "metadata": {},
     "output_type": "display_data"
    }
   ],
   "source": [
    "for (str<-trans_prefixes.map(_(0)).sortBy(_(0))) {\n",
    "  if (slack.map(_(0).replace(\"\\\"\",\"\")).contains(str))\n",
    "    println(str)\n",
    "}"
   ]
  },
  {
   "cell_type": "code",
   "execution_count": 227,
   "metadata": {
    "collapsed": false
   },
   "outputs": [
    {
     "data": {
      "text/plain": [
       "\u001b[36mres226\u001b[0m: \u001b[32mList\u001b[0m[\u001b[32mArray\u001b[0m[\u001b[32mString\u001b[0m]] = \u001b[33mList\u001b[0m(\n",
       "  \u001b[33mArray\u001b[0m(\u001b[32m\"fio\"\u001b[0m, \u001b[32m\"Префикс\"\u001b[0m),\n",
       "  \u001b[33mArray\u001b[0m(\u001b[32m\"artur.adomavichus\"\u001b[0m, \u001b[32m\"AAA\"\u001b[0m),\n",
       "  \u001b[33mArray\u001b[0m(\u001b[32m\"dmitriy.andreev\"\u001b[0m, \u001b[32m\"ADA\"\u001b[0m),\n",
       "  \u001b[33mArray\u001b[0m(\u001b[32m\"emil.agaev\"\u001b[0m, \u001b[32m\"AE\"\u001b[0m),\n",
       "  \u001b[33mArray\u001b[0m(\u001b[32m\"aleksandra.kraynova\"\u001b[0m, \u001b[32m\"AK\"\u001b[0m),\n",
       "  \u001b[33mArray\u001b[0m(\u001b[32m\"artem.cherepanov\"\u001b[0m, \u001b[32m\"ASCHER\"\u001b[0m),\n",
       "  \u001b[33mArray\u001b[0m(\u001b[32m\"beslan.kumykov\"\u001b[0m, \u001b[32m\"BES\"\u001b[0m),\n",
       "  \u001b[33mArray\u001b[0m(\u001b[32m\"sergey.chernomyrdin\"\u001b[0m, \u001b[32m\"CH\"\u001b[0m),\n",
       "  \u001b[33mArray\u001b[0m(\u001b[32m\"georgiy.koreshkov\"\u001b[0m, \u001b[32m\"GEKO\"\u001b[0m),\n",
       "  \u001b[33mArray\u001b[0m(\u001b[32m\"grigoriy.shirnin\"\u001b[0m, \u001b[32m\"GSH\"\u001b[0m),\n",
       "  \u001b[33mArray\u001b[0m(\u001b[32m\"katya.klimachenkova\"\u001b[0m, \u001b[32m\"KLIM\"\u001b[0m),\n",
       "  \u001b[33mArray\u001b[0m(\u001b[32m\"mihail.kushnikov\"\u001b[0m, \u001b[32m\"KM\"\u001b[0m),\n",
       "  \u001b[33mArray\u001b[0m(\u001b[32m\"kirill.solyanov\"\u001b[0m, \u001b[32m\"KS\"\u001b[0m),\n",
       "  \u001b[33mArray\u001b[0m(\u001b[32m\"stanislav.kuznetsov\"\u001b[0m, \u001b[32m\"KUZN\"\u001b[0m),\n",
       "  \u001b[33mArray\u001b[0m(\u001b[32m\"vitaliy.klesov\"\u001b[0m, \u001b[32m\"KV\"\u001b[0m),\n",
       "  \u001b[33mArray\u001b[0m(\u001b[32m\"lidiya.sorsunova\"\u001b[0m, \u001b[32m\"LS\"\u001b[0m),\n",
       "  \u001b[33mArray\u001b[0m(\u001b[32m\"mariya.agapova\"\u001b[0m, \u001b[32m\"MA\"\u001b[0m),\n",
       "  \u001b[33mArray\u001b[0m(\u001b[32m\"mariya.gladkova\"\u001b[0m, \u001b[32m\"MGLA\"\u001b[0m),\n",
       "  \u001b[33mArray\u001b[0m(\u001b[32m\"anastasiya.mitina\"\u001b[0m, \u001b[32m\"MN\"\u001b[0m),\n",
       "\u001b[33m...\u001b[0m"
      ]
     },
     "metadata": {},
     "output_type": "display_data"
    }
   ],
   "source": [
    "trans_prefixes"
   ]
  },
  {
   "cell_type": "code",
   "execution_count": 227,
   "metadata": {
    "collapsed": false
   },
   "outputs": [
    {
     "ename": "",
     "evalue": "",
     "output_type": "error",
     "traceback": [
      "Failure((If | While | Try | DoWhile | For | Throw | Return | ImplicitLambda | SmallerExprOrLambda):3:17 ...\")\\n}\")"
     ]
    }
   ],
   "source": [
    "for (str<-trans_prefixes.map(_(0)).sortBy(_(0))) {\n",
    "   if (slack.map(_(0).replace(\"\\\"\",\"\")).map(x=>x.diff(str)).filter(x=>x.length < 8).length > 1) \n",
    "    println(str,)\n",
    "}"
   ]
  },
  {
   "cell_type": "code",
   "execution_count": 228,
   "metadata": {
    "collapsed": false
   },
   "outputs": [
    {
     "data": {
      "text/plain": [
       "\u001b[32mimport \u001b[36mscala.collection.mutable.MutableList\u001b[0m"
      ]
     },
     "metadata": {},
     "output_type": "display_data"
    }
   ],
   "source": [
    "import scala.collection.mutable.MutableList"
   ]
  },
  {
   "cell_type": "code",
   "execution_count": 229,
   "metadata": {
    "collapsed": false
   },
   "outputs": [
    {
     "data": {
      "text/plain": [
       "\u001b[36mitog\u001b[0m: \u001b[32mMutableList\u001b[0m[\u001b[32mArray\u001b[0m[\u001b[32mString\u001b[0m]] = \u001b[33mMutableList\u001b[0m(\u001b[33mArray\u001b[0m(\u001b[32m\"\"\u001b[0m))"
      ]
     },
     "metadata": {},
     "output_type": "display_data"
    }
   ],
   "source": [
    "val itog: MutableList[Array[String]] = MutableList(Array(\"\"))"
   ]
  },
  {
   "cell_type": "code",
   "execution_count": 230,
   "metadata": {
    "collapsed": false
   },
   "outputs": [
    {
     "data": {
      "text/plain": []
     },
     "metadata": {},
     "output_type": "display_data"
    }
   ],
   "source": [
    "for (str<-trans_prefixes) {\n",
    "   if (slack.map(_(0).replace(\"\\\"\",\"\")).map(x=>x.diff(str(0))).filter(x=>x.length < 8).length > 1) \n",
    "    itog += Array(str(0),str(1))\n",
    "}"
   ]
  },
  {
   "cell_type": "code",
   "execution_count": 231,
   "metadata": {
    "collapsed": false
   },
   "outputs": [
    {
     "data": {
      "text/plain": [
       "\u001b[36mres230\u001b[0m: \u001b[32mMutableList\u001b[0m[\u001b[32mArray\u001b[0m[\u001b[32mString\u001b[0m]] = \u001b[33mMutableList\u001b[0m(\n",
       "  \u001b[33mArray\u001b[0m(\u001b[32m\"artur.adomavichus\"\u001b[0m, \u001b[32m\"AAA\"\u001b[0m),\n",
       "  \u001b[33mArray\u001b[0m(\u001b[32m\"dmitriy.andreev\"\u001b[0m, \u001b[32m\"ADA\"\u001b[0m),\n",
       "  \u001b[33mArray\u001b[0m(\u001b[32m\"emil.agaev\"\u001b[0m, \u001b[32m\"AE\"\u001b[0m),\n",
       "  \u001b[33mArray\u001b[0m(\u001b[32m\"aleksandra.kraynova\"\u001b[0m, \u001b[32m\"AK\"\u001b[0m),\n",
       "  \u001b[33mArray\u001b[0m(\u001b[32m\"artem.cherepanov\"\u001b[0m, \u001b[32m\"ASCHER\"\u001b[0m),\n",
       "  \u001b[33mArray\u001b[0m(\u001b[32m\"beslan.kumykov\"\u001b[0m, \u001b[32m\"BES\"\u001b[0m),\n",
       "  \u001b[33mArray\u001b[0m(\u001b[32m\"sergey.chernomyrdin\"\u001b[0m, \u001b[32m\"CH\"\u001b[0m),\n",
       "  \u001b[33mArray\u001b[0m(\u001b[32m\"georgiy.koreshkov\"\u001b[0m, \u001b[32m\"GEKO\"\u001b[0m),\n",
       "  \u001b[33mArray\u001b[0m(\u001b[32m\"grigoriy.shirnin\"\u001b[0m, \u001b[32m\"GSH\"\u001b[0m),\n",
       "  \u001b[33mArray\u001b[0m(\u001b[32m\"katya.klimachenkova\"\u001b[0m, \u001b[32m\"KLIM\"\u001b[0m),\n",
       "  \u001b[33mArray\u001b[0m(\u001b[32m\"mihail.kushnikov\"\u001b[0m, \u001b[32m\"KM\"\u001b[0m),\n",
       "  \u001b[33mArray\u001b[0m(\u001b[32m\"kirill.solyanov\"\u001b[0m, \u001b[32m\"KS\"\u001b[0m),\n",
       "  \u001b[33mArray\u001b[0m(\u001b[32m\"stanislav.kuznetsov\"\u001b[0m, \u001b[32m\"KUZN\"\u001b[0m),\n",
       "  \u001b[33mArray\u001b[0m(\u001b[32m\"vitaliy.klesov\"\u001b[0m, \u001b[32m\"KV\"\u001b[0m),\n",
       "  \u001b[33mArray\u001b[0m(\u001b[32m\"lidiya.sorsunova\"\u001b[0m, \u001b[32m\"LS\"\u001b[0m),\n",
       "  \u001b[33mArray\u001b[0m(\u001b[32m\"mariya.agapova\"\u001b[0m, \u001b[32m\"MA\"\u001b[0m),\n",
       "  \u001b[33mArray\u001b[0m(\u001b[32m\"mariya.gladkova\"\u001b[0m, \u001b[32m\"MGLA\"\u001b[0m),\n",
       "  \u001b[33mArray\u001b[0m(\u001b[32m\"anastasiya.mitina\"\u001b[0m, \u001b[32m\"MN\"\u001b[0m),\n",
       "  \u001b[33mArray\u001b[0m(\u001b[32m\"mihail.velichkin\"\u001b[0m, \u001b[32m\"MV\"\u001b[0m),\n",
       "\u001b[33m...\u001b[0m"
      ]
     },
     "metadata": {},
     "output_type": "display_data"
    }
   ],
   "source": [
    "itog.drop(1)"
   ]
  },
  {
   "cell_type": "code",
   "execution_count": 232,
   "metadata": {
    "collapsed": false
   },
   "outputs": [
    {
     "data": {
      "text/plain": [
       "\u001b[36mres231\u001b[0m: \u001b[32mList\u001b[0m[\u001b[32mArray\u001b[0m[\u001b[32mString\u001b[0m]] = \u001b[33mList\u001b[0m(\n",
       "  \u001b[33mArray\u001b[0m(\n",
       "    \u001b[32m\"\"\"\n",
       "\"OSUSER\"\n",
       "    \"\"\"\u001b[0m,\n",
       "    \u001b[32m\"\"\"\n",
       "\"SLACK_USER\"\n",
       "    \"\"\"\u001b[0m\n",
       "  ),\n",
       "  \u001b[33mArray\u001b[0m(\n",
       "    \u001b[32m\"\"\"\n",
       "\"alexey.rodin\"\n",
       "    \"\"\"\u001b[0m,\n",
       "    \u001b[32m\"\"\"\n",
       "\"Rodin(<@alexeyrodin>)\"\n",
       "    \"\"\"\u001b[0m\n",
       "  ),\n",
       "  \u001b[33mArray\u001b[0m(\n",
       "    \u001b[32m\"\"\"\n",
       "\"eugene.kuzmich\"\n",
       "\u001b[33m...\u001b[0m"
      ]
     },
     "metadata": {},
     "output_type": "display_data"
    }
   ],
   "source": [
    "slack"
   ]
  },
  {
   "cell_type": "code",
   "execution_count": 233,
   "metadata": {
    "collapsed": false
   },
   "outputs": [
    {
     "data": {
      "text/plain": [
       "\u001b[36mres232\u001b[0m: \u001b[32mString\u001b[0m = \u001b[32m\"a\"\u001b[0m"
      ]
     },
     "metadata": {},
     "output_type": "display_data"
    }
   ],
   "source": [
    "\"af\".diff(\"bfgdfgfd\")"
   ]
  },
  {
   "cell_type": "code",
   "execution_count": 233,
   "metadata": {
    "collapsed": false
   },
   "outputs": [
    {
     "ename": "",
     "evalue": "",
     "output_type": "error",
     "traceback": [
      "Failure((\"}\" | `case`):3:15 ...\", name(0).\")"
     ]
    }
   ],
   "source": [
    "for (pref<-trans_prefixes.drop(1)) {\n",
    "   for (name<-slack.drop(1)) {\n",
    "       pref(0), name(0).replace(\"\\\"\",\"\"), pref(0).diff(name(0).replace(\"\\\"\",\"\")), pref(0).diff(name(0).replace(\"\\\"\",\"\")).length, name(0).replace(\"\\\"\",\"\").diff(pref(0)), name(0).replace(\"\\\"\",\"\").diff(pref(0)).length\n",
    "   } \n",
    "    \n",
    "}"
   ]
  },
  {
   "cell_type": "code",
   "execution_count": 234,
   "metadata": {
    "collapsed": false
   },
   "outputs": [
    {
     "name": "stdout",
     "output_type": "stream",
     "text": [
      "(\"artur.adomavichus\",\"Adomavichus(<@artur.adomavichus>)\",artur.adomavichus,AAA)\n",
      "(\"dmitry.andreev\",\"Andreev(<@dmitry.andreev>)\",dmitriy.andreev,ADA)\n",
      "(\"emil.agaev\",\"Agaev(<@emil.agaev>)\",emil.agaev,AE)\n",
      "(\"alexandra.kraynova\",\"Kraynova(<@alexandrakraynova>)\",aleksandra.kraynova,AK)\n",
      "(\"artem.cherepanov\",\"Cherepanov(<@artemcherepanov>)\",artem.cherepanov,ASCHER)\n",
      "(\"beslan.kumykov\",\"Kumykov(<@beslan_kumykov>)\",beslan.kumykov,BES)\n",
      "(\"sergey.chernomyrdin\",\"Chernomyrdin(<@sergey_chern>)\",sergey.chernomyrdin,CH)\n",
      "(\"georgiy.koreshkov\",\"Koreshkov(<@gkoreshkov>)\",georgiy.koreshkov,GEKO)\n",
      "(\"grigoriy.shirnin\",\"Shirnin(<@grigoriy_shirnin>)\",grigoriy.shirnin,GSH)\n",
      "(\"katya.klimachenkova\",\"Klimachenkova(<@katya.klimachenkova>)\",katya.klimachenkova,KLIM)\n",
      "(\"mikhail.kushnikov\",\"Kushnikov(<@mikhail.kushnikov>)\",mihail.kushnikov,KM)\n",
      "(\"kirill.solyanov\",\"Solyanov(<@solyan>)\",kirill.solyanov,KS)\n",
      "(\"stanislav.kuznetsov\",\"Kuznetsov(<@stanislav_kuznetsov>)\",stanislav.kuznetsov,KUZN)\n",
      "(\"vitaliy.klesov\",\"Klesov(<@vitaliy.klesov>)\",vitaliy.klesov,KV)\n",
      "(\"lidiya_sorsunova\",\"Sorsunova(<@lidiya_sorsunova>)\",lidiya.sorsunova,LS)\n",
      "(\"maria.agapova\",\"Agapova(<@maria_agapova>)\",mariya.agapova,MA)\n",
      "(\"maria.gladkova\",\"Gladkova(<@maria.gladkova>)\",mariya.gladkova,MGLA)\n",
      "(\"anastasia.mitina\",\"Mitina(<@mitinaaa>)\",anastasiya.mitina,MN)\n",
      "(\"mikhail.velichkin\",\"Velichkin(<@mikhailvelichkin>)\",mihail.velichkin,MV)\n",
      "(\"dmitry.nagornov\",\"Nagornov(<@dmitrynagornov>)\",dmitriy.nagornov,NAGR)\n",
      "(\"irina.fedorova\",\"Fedorova(<@irina_nazarova>)\",irina.fedorova,NAZ)\n",
      "(\"irina.fedorova\",\"Fedorova(<@irina_nazarova>)\",irina.fedorova,NAZM)\n",
      "(\"olga.nikulina\",\"Nikulina(<@olga.nikulina>)\",olga.nikulina,NIK)\n",
      "(\"oleg.zvonov\",\"Zvonov(<@oleg.zvonov>)\",zvonov.oleg,OZ)\n",
      "(\"polina_danilicheva\",\"Danilicheva(<@polina_danilicheva>)\",polina.danilicheva,PD)\n",
      "(\"valeriy.perepelkin\",\"Perepelkin(<@valeriy_perepelkin>)\",valeriy.perepelkin,PER)\n",
      "(\"maxim.poplavskiy\",\"Poplavskiy(<@maxim.poplavskiy>)\",maksim.poplavskiy,PM)\n",
      "(\"pavel.shorokhov\",\"Shorokhov(<@pavel.shorokhov>)\",pavel.shorohov,PS)\n",
      "(\"alexey.rodin\",\"Rodin(<@alexeyrodin>)\",aleksey.rodin,RA)\n",
      "(\"sergey.efimenkov\",\"Efimenkov(<@sergey.efimenkov>)\",sergey.efimenkov,SE)\n",
      "(\"valery.shakirzyanova\",\"Shakirzyanova(<@v.shakirzyanova>)\",valeriya.shakirzyanovva,SH)\n",
      "(\"sergey.shivalin\",\"Shivalin(<@sergey.shivalin>)\",sergey.shivalin,SS)\n",
      "(\"svetlana.sergeeva\",\"Sergeeva(<@svetlana.sergeeva>)\",svetlana.sergeeva,SSER)\n",
      "(\"stanislav.kamalov\",\"Kamalov(<@stas.kamalov>)\",stanislav.kamalov,STASK)\n",
      "(\"tatyana.kazykina\",\"Kazykina(<@tanya.kazykina>)\",tatyana.kazykina,TK)\n",
      "(\"tatyana.lovets\",\"Lovets(<@tanya_lovets>)\",tanya.lovets,TL)\n",
      "(\"tatyana.mansurova\",\"Mansurova(<@tatyana.mansurova>)\",tatyana.mansurova,TM )\n",
      "(\"natalya.tishina\",\"Tishina(<@natalya_tishina>)\",natalya.tishina,TN)\n",
      "(\"alexandr.vasin\",\"Vasin(<@alexvas>)\",aleksandr.vasin,VAS)\n",
      "(\"darya.voronova\",\"Voronova(<@darya.voronova>)\",darya.voronova,VODA)\n",
      "(\"sergey.volchkov\",\"Volchkov(<@sergey.volchkov>)\",sergey.volchkov,VOLCH)\n",
      "(\"yana.charuyskaya\",\"Charuyskaya(<@yanacharuyskaya>)\",yana.charuyskaya,YA)\n",
      "(\"yulia.gorbunova\",\"Gorbunova(<@yulia_gorbunova>)\",uliya.gorbunova,YUL)\n",
      "(\"andrey.zheltov\",\"Zheltov(<@andreyzheltov>)\",andrey.zheltov,ZHEL)\n",
      "(\"anna.nikiforova\",\"Nikiforova(<@cherrdi>)\",anna.nikiforova,AN)\n",
      "(\"anna.nikiforova\",\"Nikiforova(<@cherrdi>)\",anna.nikiforova,NAM)\n",
      "(\"alexandr.bobr\",\"Bobr(<@alexandr.bobr>)\",aleksandr.bobr,BOBR)\n",
      "(\"alexandr.bobr\",\"Bobr(<@alexandr.bobr>)\",aleksandr.bobr,SVERKA)\n",
      "(\"mikhail.chernyshov\",\"Chernyshov(<@misha_chernyshov>)\",mihail.chernyshov,TMPMC)\n",
      "(\"mikhail.chernyshov\",\"Chernyshov(<@misha_chernyshov>)\",mihail.chernyshov,MBANK)\n",
      "(\"mikhail.chernyshov\",\"Chernyshov(<@misha_chernyshov>)\",mihail.chernyshov,MBANK2)\n",
      "(\"mikhail.chernyshov\",\"Chernyshov(<@misha_chernyshov>)\",mihail.chernyshov,MBANK3)\n",
      "(\"mikhail.chernyshov\",\"Chernyshov(<@misha_chernyshov>)\",mihail.chernyshov,DDS)\n"
     ]
    },
    {
     "data": {
      "text/plain": []
     },
     "metadata": {},
     "output_type": "display_data"
    }
   ],
   "source": [
    "for (pref<-trans_prefixes.drop(1)) {\n",
    "   for (name<-slack.drop(1)) {\n",
    "       if ((pref(0).diff(name(0).replace(\"\\\"\",\"\")).length + name(0).replace(\"\\\"\",\"\").diff(pref(0)).length) < 5) {\n",
    "           println(name(0), name(1), pref(0), pref(1))\n",
    "       }\n",
    "   } \n",
    "    \n",
    "}"
   ]
  },
  {
   "cell_type": "code",
   "execution_count": 235,
   "metadata": {
    "collapsed": false
   },
   "outputs": [
    {
     "data": {
      "text/plain": [
       "\u001b[36mitog\u001b[0m: \u001b[32mMutableList\u001b[0m[\u001b[32mArray\u001b[0m[\u001b[32mString\u001b[0m]] = \u001b[33mMutableList\u001b[0m(\u001b[33mArray\u001b[0m(\u001b[32m\"\"\u001b[0m))"
      ]
     },
     "metadata": {},
     "output_type": "display_data"
    }
   ],
   "source": [
    "val itog: MutableList[Array[String]] = MutableList(Array(\"\"))"
   ]
  },
  {
   "cell_type": "code",
   "execution_count": 236,
   "metadata": {
    "collapsed": false
   },
   "outputs": [
    {
     "data": {
      "text/plain": []
     },
     "metadata": {},
     "output_type": "display_data"
    }
   ],
   "source": [
    "for (pref<-trans_prefixes.drop(1)) {\n",
    "   for (name<-slack.drop(1)) {\n",
    "       if ((pref(0).diff(name(0).replace(\"\\\"\",\"\")).length + name(0).replace(\"\\\"\",\"\").diff(pref(0)).length) < 4) {\n",
    "           itog += Array(pref(1).trim, name(1).replace(\"\\\"\",\"\").trim)\n",
    "       }\n",
    "   }     \n",
    "}"
   ]
  },
  {
   "cell_type": "code",
   "execution_count": 237,
   "metadata": {
    "collapsed": false
   },
   "outputs": [
    {
     "name": "stdout",
     "output_type": "stream",
     "text": [
      "\u001b[33mMutableList\u001b[0m(\n",
      "  \u001b[33mArray\u001b[0m(\u001b[32m\"AAA\"\u001b[0m, \u001b[32m\"Adomavichus(<@artur.adomavichus>)\"\u001b[0m),\n",
      "  \u001b[33mArray\u001b[0m(\u001b[32m\"ADA\"\u001b[0m, \u001b[32m\"Andreev(<@dmitry.andreev>)\"\u001b[0m),\n",
      "  \u001b[33mArray\u001b[0m(\u001b[32m\"AE\"\u001b[0m, \u001b[32m\"Agaev(<@emil.agaev>)\"\u001b[0m),\n",
      "  \u001b[33mArray\u001b[0m(\u001b[32m\"AK\"\u001b[0m, \u001b[32m\"Kraynova(<@alexandrakraynova>)\"\u001b[0m),\n",
      "  \u001b[33mArray\u001b[0m(\u001b[32m\"AN\"\u001b[0m, \u001b[32m\"Nikiforova(<@cherrdi>)\"\u001b[0m),\n",
      "  \u001b[33mArray\u001b[0m(\u001b[32m\"ASCHER\"\u001b[0m, \u001b[32m\"Cherepanov(<@artemcherepanov>)\"\u001b[0m),\n",
      "  \u001b[33mArray\u001b[0m(\u001b[32m\"BES\"\u001b[0m, \u001b[32m\"Kumykov(<@beslan_kumykov>)\"\u001b[0m),\n",
      "  \u001b[33mArray\u001b[0m(\u001b[32m\"BOBR\"\u001b[0m, \u001b[32m\"Bobr(<@alexandr.bobr>)\"\u001b[0m),\n",
      "  \u001b[33mArray\u001b[0m(\u001b[32m\"CH\"\u001b[0m, \u001b[32m\"Chernomyrdin(<@sergey_chern>)\"\u001b[0m),\n",
      "  \u001b[33mArray\u001b[0m(\u001b[32m\"DDS\"\u001b[0m, \u001b[32m\"Chernyshov(<@misha_chernyshov>)\"\u001b[0m),\n",
      "  \u001b[33mArray\u001b[0m(\u001b[32m\"GEKO\"\u001b[0m, \u001b[32m\"Koreshkov(<@gkoreshkov>)\"\u001b[0m),\n",
      "  \u001b[33mArray\u001b[0m(\u001b[32m\"GSH\"\u001b[0m, \u001b[32m\"Shirnin(<@grigoriy_shirnin>)\"\u001b[0m),\n",
      "  \u001b[33mArray\u001b[0m(\u001b[32m\"KLIM\"\u001b[0m, \u001b[32m\"Klimachenkova(<@katya.klimachenkova>)\"\u001b[0m),\n",
      "  \u001b[33mArray\u001b[0m(\u001b[32m\"KM\"\u001b[0m, \u001b[32m\"Kushnikov(<@mikhail.kushnikov>)\"\u001b[0m),\n",
      "  \u001b[33mArray\u001b[0m(\u001b[32m\"KS\"\u001b[0m, \u001b[32m\"Solyanov(<@solyan>)\"\u001b[0m),\n",
      "  \u001b[33mArray\u001b[0m(\u001b[32m\"KUZN\"\u001b[0m, \u001b[32m\"Kuznetsov(<@stanislav_kuznetsov>)\"\u001b[0m),\n",
      "  \u001b[33mArray\u001b[0m(\u001b[32m\"KV\"\u001b[0m, \u001b[32m\"Klesov(<@vitaliy.klesov>)\"\u001b[0m),\n",
      "  \u001b[33mArray\u001b[0m(\u001b[32m\"LS\"\u001b[0m, \u001b[32m\"Sorsunova(<@lidiya_sorsunova>)\"\u001b[0m),\n",
      "  \u001b[33mArray\u001b[0m(\u001b[32m\"MA\"\u001b[0m, \u001b[32m\"Agapova(<@maria_agapova>)\"\u001b[0m),\n",
      "  \u001b[33mArray\u001b[0m(\u001b[32m\"MBANK\"\u001b[0m, \u001b[32m\"Chernyshov(<@misha_chernyshov>)\"\u001b[0m),\n",
      "  \u001b[33mArray\u001b[0m(\u001b[32m\"MBANK2\"\u001b[0m, \u001b[32m\"Chernyshov(<@misha_chernyshov>)\"\u001b[0m),\n",
      "  \u001b[33mArray\u001b[0m(\u001b[32m\"MBANK3\"\u001b[0m, \u001b[32m\"Chernyshov(<@misha_chernyshov>)\"\u001b[0m),\n",
      "  \u001b[33mArray\u001b[0m(\u001b[32m\"MGLA\"\u001b[0m, \u001b[32m\"Gladkova(<@maria.gladkova>)\"\u001b[0m),\n",
      "  \u001b[33mArray\u001b[0m(\u001b[32m\"MN\"\u001b[0m, \u001b[32m\"Mitina(<@mitinaaa>)\"\u001b[0m),\n",
      "  \u001b[33mArray\u001b[0m(\u001b[32m\"MV\"\u001b[0m, \u001b[32m\"Velichkin(<@mikhailvelichkin>)\"\u001b[0m),\n",
      "  \u001b[33mArray\u001b[0m(\u001b[32m\"NAGR\"\u001b[0m, \u001b[32m\"Nagornov(<@dmitrynagornov>)\"\u001b[0m),\n",
      "  \u001b[33mArray\u001b[0m(\u001b[32m\"NAM\"\u001b[0m, \u001b[32m\"Nikiforova(<@cherrdi>)\"\u001b[0m),\n",
      "  \u001b[33mArray\u001b[0m(\u001b[32m\"NAZ\"\u001b[0m, \u001b[32m\"Fedorova(<@irina_nazarova>)\"\u001b[0m),\n",
      "  \u001b[33mArray\u001b[0m(\u001b[32m\"NAZM\"\u001b[0m, \u001b[32m\"Fedorova(<@irina_nazarova>)\"\u001b[0m),\n",
      "  \u001b[33mArray\u001b[0m(\u001b[32m\"NIK\"\u001b[0m, \u001b[32m\"Nikulina(<@olga.nikulina>)\"\u001b[0m),\n",
      "  \u001b[33mArray\u001b[0m(\u001b[32m\"OZ\"\u001b[0m, \u001b[32m\"Zvonov(<@oleg.zvonov>)\"\u001b[0m),\n",
      "  \u001b[33mArray\u001b[0m(\u001b[32m\"PD\"\u001b[0m, \u001b[32m\"Danilicheva(<@polina_danilicheva>)\"\u001b[0m),\n",
      "  \u001b[33mArray\u001b[0m(\u001b[32m\"PER\"\u001b[0m, \u001b[32m\"Perepelkin(<@valeriy_perepelkin>)\"\u001b[0m),\n",
      "  \u001b[33mArray\u001b[0m(\u001b[32m\"PM\"\u001b[0m, \u001b[32m\"Poplavskiy(<@maxim.poplavskiy>)\"\u001b[0m),\n",
      "  \u001b[33mArray\u001b[0m(\u001b[32m\"PS\"\u001b[0m, \u001b[32m\"Shorokhov(<@pavel.shorokhov>)\"\u001b[0m),\n",
      "  \u001b[33mArray\u001b[0m(\u001b[32m\"RA\"\u001b[0m, \u001b[32m\"Rodin(<@alexeyrodin>)\"\u001b[0m),\n",
      "  \u001b[33mArray\u001b[0m(\u001b[32m\"SE\"\u001b[0m, \u001b[32m\"Efimenkov(<@sergey.efimenkov>)\"\u001b[0m),\n",
      "  \u001b[33mArray\u001b[0m(\u001b[32m\"SH\"\u001b[0m, \u001b[32m\"Shakirzyanova(<@v.shakirzyanova>)\"\u001b[0m),\n",
      "  \u001b[33mArray\u001b[0m(\u001b[32m\"SS\"\u001b[0m, \u001b[32m\"Shivalin(<@sergey.shivalin>)\"\u001b[0m),\n",
      "  \u001b[33mArray\u001b[0m(\u001b[32m\"SSER\"\u001b[0m, \u001b[32m\"Sergeeva(<@svetlana.sergeeva>)\"\u001b[0m),\n",
      "  \u001b[33mArray\u001b[0m(\u001b[32m\"STASK\"\u001b[0m, \u001b[32m\"Kamalov(<@stas.kamalov>)\"\u001b[0m),\n",
      "  \u001b[33mArray\u001b[0m(\u001b[32m\"SVERKA\"\u001b[0m, \u001b[32m\"Bobr(<@alexandr.bobr>)\"\u001b[0m),\n",
      "  \u001b[33mArray\u001b[0m(\u001b[32m\"TK\"\u001b[0m, \u001b[32m\"Kazykina(<@tanya.kazykina>)\"\u001b[0m),\n",
      "  \u001b[33mArray\u001b[0m(\u001b[32m\"TL\"\u001b[0m, \u001b[32m\"Lovets(<@tanya_lovets>)\"\u001b[0m),\n",
      "  \u001b[33mArray\u001b[0m(\u001b[32m\"TM\"\u001b[0m, \u001b[32m\"Mansurova(<@tatyana.mansurova>)\"\u001b[0m),\n",
      "  \u001b[33mArray\u001b[0m(\u001b[32m\"TMPMC\"\u001b[0m, \u001b[32m\"Chernyshov(<@misha_chernyshov>)\"\u001b[0m),\n",
      "  \u001b[33mArray\u001b[0m(\u001b[32m\"TN\"\u001b[0m, \u001b[32m\"Tishina(<@natalya_tishina>)\"\u001b[0m),\n",
      "  \u001b[33mArray\u001b[0m(\u001b[32m\"VAS\"\u001b[0m, \u001b[32m\"Vasin(<@alexvas>)\"\u001b[0m),\n",
      "  \u001b[33mArray\u001b[0m(\u001b[32m\"VODA\"\u001b[0m, \u001b[32m\"Voronova(<@darya.voronova>)\"\u001b[0m),\n",
      "  \u001b[33mArray\u001b[0m(\u001b[32m\"VOLCH\"\u001b[0m, \u001b[32m\"Volchkov(<@sergey.volchkov>)\"\u001b[0m),\n",
      "  \u001b[33mArray\u001b[0m(\u001b[32m\"YA\"\u001b[0m, \u001b[32m\"Charuyskaya(<@yanacharuyskaya>)\"\u001b[0m),\n",
      "  \u001b[33mArray\u001b[0m(\u001b[32m\"YUL\"\u001b[0m, \u001b[32m\"Gorbunova(<@yulia_gorbunova>)\"\u001b[0m),\n",
      "  \u001b[33mArray\u001b[0m(\u001b[32m\"ZHEL\"\u001b[0m, \u001b[32m\"Zheltov(<@andreyzheltov>)\"\u001b[0m)\n",
      ")"
     ]
    },
    {
     "data": {
      "text/plain": []
     },
     "metadata": {},
     "output_type": "display_data"
    }
   ],
   "source": [
    "show(itog.drop(1).sortBy(_(0)))"
   ]
  },
  {
   "cell_type": "code",
   "execution_count": null,
   "metadata": {
    "collapsed": true
   },
   "outputs": [],
   "source": []
  },
  {
   "cell_type": "code",
   "execution_count": 238,
   "metadata": {
    "collapsed": false
   },
   "outputs": [
    {
     "data": {
      "text/plain": [
       "\u001b[32mimport \u001b[36mscala.math.min\u001b[0m"
      ]
     },
     "metadata": {},
     "output_type": "display_data"
    }
   ],
   "source": [
    "import scala.math.min"
   ]
  },
  {
   "cell_type": "code",
   "execution_count": 239,
   "metadata": {
    "collapsed": false
   },
   "outputs": [
    {
     "data": {
      "text/plain": [
       "\u001b[32mimport \u001b[36mscala.math.max\u001b[0m"
      ]
     },
     "metadata": {},
     "output_type": "display_data"
    }
   ],
   "source": [
    "import scala.math.max"
   ]
  },
  {
   "cell_type": "code",
   "execution_count": 239,
   "metadata": {
    "collapsed": false
   },
   "outputs": [
    {
     "ename": "",
     "evalue": "",
     "output_type": "error",
     "traceback": [
      "\u001b[31mMain.scala:29: type mismatch;",
      " found   : Unit",
      " required: Array[Array[Int]]",
      "    for (idx <- 0 to s1.length) dist(idx)(0) = idx",
      "             ^\u001b[0m"
     ]
    }
   ],
   "source": [
    "  def stringDistance(s1: String, s2: String): Int = {\n",
    "    def minimum(i1: Int, i2: Int, i3: Int) = min(min(i1, i2), i3)\n",
    " \n",
    "    val dist: Array[Array[Int]] = \n",
    " \n",
    "    for (idx <- 0 to s1.length) dist(idx)(0) = idx\n",
    "    for (jdx <- 0 to s2.length) dist(0)(jdx) = jdx\n",
    " \n",
    "    for (idx <- 1 to s1.length; jdx <- 1 to s2.length)\n",
    "      dist(idx)(jdx) = minimum (\n",
    "        dist(idx-1)(jdx  ) + 1,\n",
    "        dist(idx  )(jdx-1) + 1,\n",
    "        dist(idx-1)(jdx-1) + (if (s1(idx-1) == s2(jdx-1)) 0 else 1)\n",
    "      )\n",
    " \n",
    "    dist(s1.length)(s2.length)\n",
    "  }"
   ]
  },
  {
   "cell_type": "code",
   "execution_count": 240,
   "metadata": {
    "collapsed": false
   },
   "outputs": [
    {
     "data": {
      "text/plain": [
       "\u001b[36mwriter\u001b[0m: \u001b[32mPrintWriter\u001b[0m = java.io.PrintWriter@3c3461d5\n",
       "\u001b[36mres239_1\u001b[0m: \u001b[32mMutableList\u001b[0m[\u001b[32mUnit\u001b[0m] = \u001b[33mMutableList\u001b[0m(\n",
       "  \u001b[32m()\u001b[0m,\n",
       "  \u001b[32m()\u001b[0m,\n",
       "  \u001b[32m()\u001b[0m,\n",
       "  \u001b[32m()\u001b[0m,\n",
       "  \u001b[32m()\u001b[0m,\n",
       "  \u001b[32m()\u001b[0m,\n",
       "  \u001b[32m()\u001b[0m,\n",
       "  \u001b[32m()\u001b[0m,\n",
       "  \u001b[32m()\u001b[0m,\n",
       "  \u001b[32m()\u001b[0m,\n",
       "  \u001b[32m()\u001b[0m,\n",
       "  \u001b[32m()\u001b[0m,\n",
       "  \u001b[32m()\u001b[0m,\n",
       "  \u001b[32m()\u001b[0m,\n",
       "  \u001b[32m()\u001b[0m,\n",
       "  \u001b[32m()\u001b[0m,\n",
       "  \u001b[32m()\u001b[0m,\n",
       "  \u001b[32m()\u001b[0m,\n",
       "  \u001b[32m()\u001b[0m,\n",
       "\u001b[33m...\u001b[0m"
      ]
     },
     "metadata": {},
     "output_type": "display_data"
    }
   ],
   "source": [
    "val writer = new PrintWriter(new File(\"itog.csv\" ))\n",
    "itog.drop(1).sortBy(_(1)).map(x => writer.write(x.mkString(\",\")+\"\\n\"))\n",
    "writer.close()"
   ]
  },
  {
   "cell_type": "code",
   "execution_count": 241,
   "metadata": {
    "collapsed": false
   },
   "outputs": [
    {
     "data": {
      "text/plain": [
       "\u001b[36mres240\u001b[0m: \u001b[32mMutableList\u001b[0m[\u001b[32mString\u001b[0m] = \u001b[33mMutableList\u001b[0m(\n",
       "  \u001b[32m\"Adomavichus(<@artur.adomavichus>)\"\u001b[0m,\n",
       "  \u001b[32m\"Andreev(<@dmitry.andreev>)\"\u001b[0m,\n",
       "  \u001b[32m\"Agaev(<@emil.agaev>)\"\u001b[0m,\n",
       "  \u001b[32m\"Kraynova(<@alexandrakraynova>)\"\u001b[0m,\n",
       "  \u001b[32m\"Cherepanov(<@artemcherepanov>)\"\u001b[0m,\n",
       "  \u001b[32m\"Kumykov(<@beslan_kumykov>)\"\u001b[0m,\n",
       "  \u001b[32m\"Chernomyrdin(<@sergey_chern>)\"\u001b[0m,\n",
       "  \u001b[32m\"Koreshkov(<@gkoreshkov>)\"\u001b[0m,\n",
       "  \u001b[32m\"Shirnin(<@grigoriy_shirnin>)\"\u001b[0m,\n",
       "  \u001b[32m\"Klimachenkova(<@katya.klimachenkova>)\"\u001b[0m,\n",
       "  \u001b[32m\"Kushnikov(<@mikhail.kushnikov>)\"\u001b[0m,\n",
       "  \u001b[32m\"Solyanov(<@solyan>)\"\u001b[0m,\n",
       "  \u001b[32m\"Kuznetsov(<@stanislav_kuznetsov>)\"\u001b[0m,\n",
       "  \u001b[32m\"Klesov(<@vitaliy.klesov>)\"\u001b[0m,\n",
       "  \u001b[32m\"Sorsunova(<@lidiya_sorsunova>)\"\u001b[0m,\n",
       "  \u001b[32m\"Agapova(<@maria_agapova>)\"\u001b[0m,\n",
       "  \u001b[32m\"Gladkova(<@maria.gladkova>)\"\u001b[0m,\n",
       "  \u001b[32m\"Mitina(<@mitinaaa>)\"\u001b[0m,\n",
       "  \u001b[32m\"Velichkin(<@mikhailvelichkin>)\"\u001b[0m,\n",
       "\u001b[33m...\u001b[0m"
      ]
     },
     "metadata": {},
     "output_type": "display_data"
    }
   ],
   "source": [
    "itog.drop(1).map(_(1))"
   ]
  },
  {
   "cell_type": "code",
   "execution_count": 242,
   "metadata": {
    "collapsed": false
   },
   "outputs": [
    {
     "data": {
      "text/plain": [
       "\u001b[36mitog\u001b[0m: \u001b[32mMutableList\u001b[0m[\u001b[32mArray\u001b[0m[\u001b[32mString\u001b[0m]] = \u001b[33mMutableList\u001b[0m(\u001b[33mArray\u001b[0m(\u001b[32m\"\"\u001b[0m))"
      ]
     },
     "metadata": {},
     "output_type": "display_data"
    }
   ],
   "source": [
    "val itog: MutableList[Array[String]] = MutableList(Array(\"\"))"
   ]
  },
  {
   "cell_type": "code",
   "execution_count": 243,
   "metadata": {
    "collapsed": false
   },
   "outputs": [
    {
     "data": {
      "text/plain": []
     },
     "metadata": {},
     "output_type": "display_data"
    }
   ],
   "source": [
    "for (pref<-trans_prefixes.drop(1)) {\n",
    "   for (name<-slack.drop(1)) {\n",
    "       if ((pref(0).diff(name(0).replace(\"\\\"\",\"\")).length + name(0).replace(\"\\\"\",\"\").diff(pref(0)).length) < 4) {\n",
    "           itog += Array(pref(1), name(1).replace(\"\\\"\",\"\"), name(0), pref(0))\n",
    "       }\n",
    "   }     \n",
    "}"
   ]
  },
  {
   "cell_type": "code",
   "execution_count": 244,
   "metadata": {
    "collapsed": false
   },
   "outputs": [
    {
     "data": {
      "text/plain": [
       "\u001b[36mres243\u001b[0m: \u001b[32mList\u001b[0m[\u001b[32mString\u001b[0m] = \u001b[33mList\u001b[0m(\n",
       "  \u001b[32m\"artur.adomavichus\"\u001b[0m,\n",
       "  \u001b[32m\"dmitriy.andreev\"\u001b[0m,\n",
       "  \u001b[32m\"emil.agaev\"\u001b[0m,\n",
       "  \u001b[32m\"aleksandra.kraynova\"\u001b[0m,\n",
       "  \u001b[32m\"artem.cherepanov\"\u001b[0m,\n",
       "  \u001b[32m\"beslan.kumykov\"\u001b[0m,\n",
       "  \u001b[32m\"sergey.chernomyrdin\"\u001b[0m,\n",
       "  \u001b[32m\"georgiy.koreshkov\"\u001b[0m,\n",
       "  \u001b[32m\"grigoriy.shirnin\"\u001b[0m,\n",
       "  \u001b[32m\"katya.klimachenkova\"\u001b[0m,\n",
       "  \u001b[32m\"mihail.kushnikov\"\u001b[0m,\n",
       "  \u001b[32m\"kirill.solyanov\"\u001b[0m,\n",
       "  \u001b[32m\"stanislav.kuznetsov\"\u001b[0m,\n",
       "  \u001b[32m\"vitaliy.klesov\"\u001b[0m,\n",
       "  \u001b[32m\"lidiya.sorsunova\"\u001b[0m,\n",
       "  \u001b[32m\"mariya.agapova\"\u001b[0m,\n",
       "  \u001b[32m\"mariya.gladkova\"\u001b[0m,\n",
       "  \u001b[32m\"anastasiya.mitina\"\u001b[0m,\n",
       "  \u001b[32m\"mihail.velichkin\"\u001b[0m,\n",
       "\u001b[33m...\u001b[0m"
      ]
     },
     "metadata": {},
     "output_type": "display_data"
    }
   ],
   "source": [
    "trans_prefixes.map(_(0)).drop(1)"
   ]
  },
  {
   "cell_type": "code",
   "execution_count": 245,
   "metadata": {
    "collapsed": false
   },
   "outputs": [
    {
     "data": {
      "text/plain": [
       "\u001b[36mres244\u001b[0m: \u001b[32mMutableList\u001b[0m[\u001b[32mString\u001b[0m] = \u001b[33mMutableList\u001b[0m()"
      ]
     },
     "metadata": {},
     "output_type": "display_data"
    }
   ],
   "source": [
    "itog.drop(1).map(_(3)).diff(trans_prefixes.map(_(0)).drop(1))"
   ]
  },
  {
   "cell_type": "code",
   "execution_count": 246,
   "metadata": {
    "collapsed": false
   },
   "outputs": [
    {
     "data": {
      "text/plain": [
       "\u001b[36mres245\u001b[0m: \u001b[32mList\u001b[0m[\u001b[32mString\u001b[0m] = \u001b[33mList\u001b[0m(\u001b[32m\"nikita.pronko\"\u001b[0m)"
      ]
     },
     "metadata": {},
     "output_type": "display_data"
    }
   ],
   "source": [
    "trans_prefixes.map(_(0)).drop(1).diff(itog.drop(1).map(_(3)))"
   ]
  },
  {
   "cell_type": "code",
   "execution_count": 247,
   "metadata": {
    "collapsed": false
   },
   "outputs": [
    {
     "data": {
      "text/plain": [
       "\u001b[36mres246\u001b[0m: \u001b[32mList\u001b[0m[\u001b[32mArray\u001b[0m[\u001b[32mString\u001b[0m]] = \u001b[33mList\u001b[0m(\u001b[33mArray\u001b[0m(\u001b[32m\"nikita.pronko\"\u001b[0m, \u001b[32m\"PRON\"\u001b[0m))"
      ]
     },
     "metadata": {},
     "output_type": "display_data"
    }
   ],
   "source": [
    "trans_prefixes.filter(_(0)==\"nikita.pronko\")"
   ]
  },
  {
   "cell_type": "code",
   "execution_count": null,
   "metadata": {
    "collapsed": true
   },
   "outputs": [],
   "source": []
  }
 ],
 "metadata": {
  "kernelspec": {
   "display_name": "Scala 2.11",
   "language": "scala211",
   "name": "scala211"
  },
  "language_info": {
   "codemirror_mode": "text/x-scala",
   "file_extension": ".scala",
   "mimetype": "text/x-scala",
   "name": "scala211",
   "pygments_lexer": "scala",
   "version": "2.11.8"
  }
 },
 "nbformat": 4,
 "nbformat_minor": 0
}

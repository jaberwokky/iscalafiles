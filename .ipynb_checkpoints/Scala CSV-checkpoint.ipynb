{
 "cells": [
  {
   "cell_type": "code",
   "execution_count": 44,
   "metadata": {
    "collapsed": false
   },
   "outputs": [
    {
     "data": {
      "text/plain": [
       "\u001b[36mlines\u001b[0m: \u001b[32mIterator\u001b[0m[\u001b[32mString\u001b[0m] = non-empty iterator"
      ]
     },
     "metadata": {},
     "output_type": "display_data"
    }
   ],
   "source": [
    "val lines = scala.io.Source.fromFile(\"prefix.csv\", \"utf-8\").getLines"
   ]
  },
  {
   "cell_type": "code",
   "execution_count": 45,
   "metadata": {
    "collapsed": false
   },
   "outputs": [
    {
     "data": {
      "text/plain": [
       "\u001b[36mvals\u001b[0m: \u001b[32mList\u001b[0m[\u001b[32mArray\u001b[0m[\u001b[32mString\u001b[0m]] = \u001b[33mList\u001b[0m(\n",
       "  \u001b[33mArray\u001b[0m(\u001b[32m\"ФИО\"\u001b[0m, \u001b[32m\"Префикс\"\u001b[0m),\n",
       "  \u001b[33mArray\u001b[0m(\u001b[32m\"Адомавичюс Артур\"\u001b[0m, \u001b[32m\"AAA\"\u001b[0m),\n",
       "  \u001b[33mArray\u001b[0m(\u001b[32m\"Андреев Дмитрий\"\u001b[0m, \u001b[32m\"ADA\"\u001b[0m),\n",
       "  \u001b[33mArray\u001b[0m(\u001b[32m\"Агаев Эмиль\"\u001b[0m, \u001b[32m\"AE\"\u001b[0m),\n",
       "  \u001b[33mArray\u001b[0m(\u001b[32m\"Крайнова Александра\"\u001b[0m, \u001b[32m\"AK\"\u001b[0m),\n",
       "  \u001b[33mArray\u001b[0m(\n",
       "    \u001b[32m\"Никифорова Анна\"\u001b[0m,\n",
       "    \u001b[32m\"\"\"\n",
       "\"AN\n",
       "    \"\"\"\u001b[0m,\n",
       "    \u001b[32m\"\"\"\n",
       " NAM\"\n",
       "    \"\"\"\u001b[0m\n",
       "  ),\n",
       "\u001b[33m...\u001b[0m"
      ]
     },
     "metadata": {},
     "output_type": "display_data"
    }
   ],
   "source": [
    "val vals = lines.toList.map(_.split(\",\"))"
   ]
  },
  {
   "cell_type": "code",
   "execution_count": 135,
   "metadata": {
    "collapsed": false
   },
   "outputs": [
    {
     "data": {
      "text/plain": [
       "\u001b[36mprefixes\u001b[0m: \u001b[32mList\u001b[0m[\u001b[32mArray\u001b[0m[\u001b[32mString\u001b[0m]] = \u001b[33mList\u001b[0m(\n",
       "  \u001b[33mArray\u001b[0m(\u001b[32m\"ФИО\"\u001b[0m, \u001b[32m\"Префикс\"\u001b[0m),\n",
       "  \u001b[33mArray\u001b[0m(\u001b[32m\"Адомавичюс Артур\"\u001b[0m, \u001b[32m\"AAA\"\u001b[0m),\n",
       "  \u001b[33mArray\u001b[0m(\u001b[32m\"Андреев Дмитрий\"\u001b[0m, \u001b[32m\"ADA\"\u001b[0m),\n",
       "  \u001b[33mArray\u001b[0m(\u001b[32m\"Агаев Эмиль\"\u001b[0m, \u001b[32m\"AE\"\u001b[0m),\n",
       "  \u001b[33mArray\u001b[0m(\u001b[32m\"Крайнова Александра\"\u001b[0m, \u001b[32m\"AK\"\u001b[0m),\n",
       "  \u001b[33mArray\u001b[0m(\u001b[32m\"Черепанов Артем\"\u001b[0m, \u001b[32m\"ASCHER\"\u001b[0m),\n",
       "  \u001b[33mArray\u001b[0m(\u001b[32m\"Кумыков Беслан \"\u001b[0m, \u001b[32m\"BES\"\u001b[0m),\n",
       "  \u001b[33mArray\u001b[0m(\u001b[32m\"Черномырдин Сергей\"\u001b[0m, \u001b[32m\"CH\"\u001b[0m),\n",
       "  \u001b[33mArray\u001b[0m(\u001b[32m\"Корешков Георгий\"\u001b[0m, \u001b[32m\"GEKO\"\u001b[0m),\n",
       "  \u001b[33mArray\u001b[0m(\u001b[32m\"Ширнин Григорий\"\u001b[0m, \u001b[32m\"GSH\"\u001b[0m),\n",
       "  \u001b[33mArray\u001b[0m(\u001b[32m\"Климаченкова Екатерина\"\u001b[0m, \u001b[32m\"KLIM\"\u001b[0m),\n",
       "  \u001b[33mArray\u001b[0m(\u001b[32m\"Кушников Михаил\"\u001b[0m, \u001b[32m\"KM\"\u001b[0m),\n",
       "  \u001b[33mArray\u001b[0m(\u001b[32m\"Солянов Кирилл\"\u001b[0m, \u001b[32m\"KS\"\u001b[0m),\n",
       "  \u001b[33mArray\u001b[0m(\u001b[32m\"Кузнецов Станислав\"\u001b[0m, \u001b[32m\"KUZN\"\u001b[0m),\n",
       "\u001b[33m...\u001b[0m"
      ]
     },
     "metadata": {},
     "output_type": "display_data"
    }
   ],
   "source": [
    "val prefixes = vals.filter(_.length <= 2) ::: vals.filter(_.length > 2).map(x=>x.tail.map((y=>Array(x.head, y.trim.replace(\"\\\"\", \"\"))))).flatten"
   ]
  },
  {
   "cell_type": "code",
   "execution_count": 139,
   "metadata": {
    "collapsed": false
   },
   "outputs": [
    {
     "data": {
      "text/plain": [
       "\u001b[32mimport \u001b[36mjava.io._\u001b[0m"
      ]
     },
     "metadata": {},
     "output_type": "display_data"
    }
   ],
   "source": [
    "import java.io._"
   ]
  },
  {
   "cell_type": "code",
   "execution_count": 147,
   "metadata": {
    "collapsed": false
   },
   "outputs": [
    {
     "data": {
      "text/plain": [
       "\u001b[36mwriter\u001b[0m: \u001b[32mPrintWriter\u001b[0m = java.io.PrintWriter@4c224ffb\n",
       "\u001b[36mres115_1\u001b[0m: \u001b[32mList\u001b[0m[\u001b[32mUnit\u001b[0m] = \u001b[33mList\u001b[0m(\n",
       "  (),\n",
       "  (),\n",
       "  (),\n",
       "  (),\n",
       "  (),\n",
       "  (),\n",
       "  (),\n",
       "  (),\n",
       "  (),\n",
       "  (),\n",
       "  (),\n",
       "  (),\n",
       "  (),\n",
       "  (),\n",
       "\u001b[33m...\u001b[0m"
      ]
     },
     "metadata": {},
     "output_type": "display_data"
    }
   ],
   "source": [
    "val writer = new PrintWriter(new File(\"prefixesss.csv\" ))\n",
    "prefixes.sortBy(_(0)).map(x => writer.write(x.mkString(\",\")+\"\\n\"))\n",
    "writer.close()"
   ]
  },
  {
   "cell_type": "code",
   "execution_count": 149,
   "metadata": {
    "collapsed": false
   },
   "outputs": [
    {
     "data": {
      "text/plain": [
       "\u001b[36mwriter\u001b[0m: \u001b[32mPrintWriter\u001b[0m = java.io.PrintWriter@6328ed79\n",
       "\u001b[36mres116_1\u001b[0m: \u001b[32mList\u001b[0m[\u001b[32mUnit\u001b[0m] = \u001b[33mList\u001b[0m(\n",
       "  (),\n",
       "  (),\n",
       "  (),\n",
       "  (),\n",
       "  (),\n",
       "  (),\n",
       "  (),\n",
       "  (),\n",
       "  (),\n",
       "  (),\n",
       "  (),\n",
       "  (),\n",
       "  (),\n",
       "  (),\n",
       "\u001b[33m...\u001b[0m"
      ]
     },
     "metadata": {},
     "output_type": "display_data"
    }
   ],
   "source": [
    "val writer = new PrintWriter(new File(\"prefixess.csv\" ))\n",
    "vals.sortBy(_(0)).map(x => writer.write(x.mkString(\",\")+\"\\n\"))\n",
    "writer.close()"
   ]
  },
  {
   "cell_type": "code",
   "execution_count": 202,
   "metadata": {
    "collapsed": false
   },
   "outputs": [
    {
     "data": {
      "text/plain": [
       "\u001b[36mres162\u001b[0m: \u001b[32mString\u001b[0m = \u001b[32m\"артур.адомавичюс\"\u001b[0m"
      ]
     },
     "metadata": {},
     "output_type": "display_data"
    }
   ],
   "source": [
    "vals(1)(0).split(\" \").reverse.mkString(\".\").toLowerCase"
   ]
  },
  {
   "cell_type": "code",
   "execution_count": 177,
   "metadata": {
    "collapsed": false
   },
   "outputs": [
    {
     "name": "stdout",
     "output_type": "stream",
     "text": [
      "a\n",
      "g\n",
      "a\n",
      "e\n",
      "v\n",
      " \n",
      "e\n",
      "m\n",
      "i\n",
      "l\n",
      "\n"
     ]
    },
    {
     "data": {
      "text/plain": []
     },
     "metadata": {},
     "output_type": "display_data"
    }
   ],
   "source": [
    "for (chr <- vals(3)(0).toLowerCase.toCharArray) { chr match {\n",
    "    case 'а' => println('a')\n",
    "    case 'б' => println('b')\n",
    "    case 'в' => println('v')\n",
    "    case 'г' => println('g')\n",
    "    case 'д' => println('d')\n",
    "    case 'е' => println('e')\n",
    "    case 'ё' => println('e')\n",
    "    case 'ж' => println(\"zh\")\n",
    "    case 'з' => println('z')\n",
    "    case 'и' => println('i')\n",
    "    case 'й' => println('y')\n",
    "    case 'к' => println('k')\n",
    "    case 'л' => println('l')\n",
    "    case 'м' => println('m')\n",
    "    case 'н' => println('n')\n",
    "    case 'о' => println('o')\n",
    "    case 'п' => println('p')\n",
    "    case 'р' => println('r')\n",
    "    case 'с' => println('s')\n",
    "    case 'т' => println('t')\n",
    "    case 'у' => println('u')\n",
    "    case 'ф' => println('f')\n",
    "    case 'х' => println('h')\n",
    "    case 'ц' => println(\"ts\")\n",
    "    case 'ч' => println(\"ch\")\n",
    "    case 'ш' => println(\"sh\")\n",
    "    case 'щ' => println(\"sch\")\n",
    "    case 'ъ' => println(\"\")\n",
    "    case 'э' => println('e')\n",
    "    case 'ь' => println(\"\")\n",
    "    case 'ю' => println('u')\n",
    "    case 'я' => println(\"ya\")\n",
    "    case _ => println(\" \")\n",
    "}\n",
    "}"
   ]
  },
  {
   "cell_type": "code",
   "execution_count": 192,
   "metadata": {
    "collapsed": false
   },
   "outputs": [
    {
     "data": {
      "text/plain": [
       "\u001b[36mtmp\u001b[0m: \u001b[32mString\u001b[0m = \u001b[32m\"Эмиль Агаев\"\u001b[0m"
      ]
     },
     "metadata": {},
     "output_type": "display_data"
    }
   ],
   "source": [
    "var tmp = \"Эмиль Агаев\""
   ]
  },
  {
   "cell_type": "code",
   "execution_count": 205,
   "metadata": {
    "collapsed": false
   },
   "outputs": [
    {
     "data": {
      "text/plain": [
       "\u001b[36mres165\u001b[0m: \u001b[32mString\u001b[0m = \u001b[32m\"aleksandra.kraynova\"\u001b[0m"
      ]
     },
     "metadata": {},
     "output_type": "display_data"
    }
   ],
   "source": [
    "vals(4)(0)\n",
    ".split(\" \")\n",
    ".reverse\n",
    ".mkString(\".\")\n",
    ".toLowerCase\n",
    ".replace(\" \",\".\")\n",
    ".replace('а','a')\n",
    ".replace('б','b')\n",
    ".replace('в','v')\n",
    ".replace('г','g')\n",
    ".replace('д','d')\n",
    ".replace('е','e')\n",
    ".replace('ё','e')\n",
    ".replace(\"ж\",\"zh\")\n",
    ".replace('з','z')\n",
    ".replace('и','i')\n",
    ".replace('й','y')\n",
    ".replace('к','k')\n",
    ".replace('л','l')\n",
    ".replace('м','m')\n",
    ".replace('н','n')\n",
    ".replace('о','o')\n",
    ".replace('п','p')\n",
    ".replace('р','r')\n",
    ".replace('с','s')\n",
    ".replace('т','t')\n",
    ".replace('у','u')\n",
    ".replace('ф','f')\n",
    ".replace('х','h')\n",
    ".replace(\"ц\",\"ts\")\n",
    ".replace(\"ч\",\"ch\")\n",
    ".replace(\"ш\",\"sh\")\n",
    ".replace(\"щ\",\"sch\")\n",
    ".replace('ы','y')\n",
    ".replace(\"ъ\",\"\")\n",
    ".replace('э','e')\n",
    ".replace(\"ь\",\"\")\n",
    ".replace('ю','u')\n",
    ".replace(\"я\",\"ya\")"
   ]
  },
  {
   "cell_type": "code",
   "execution_count": 206,
   "metadata": {
    "collapsed": false,
    "scrolled": true
   },
   "outputs": [
    {
     "data": {
      "text/plain": [
       "\u001b[36mlines\u001b[0m: \u001b[32mIterator\u001b[0m[\u001b[32mString\u001b[0m] = non-empty iterator"
      ]
     },
     "metadata": {},
     "output_type": "display_data"
    }
   ],
   "source": [
    "val lines = scala.io.Source.fromFile(\"slack_users.csv\", \"utf-8\").getLines"
   ]
  },
  {
   "cell_type": "code",
   "execution_count": 207,
   "metadata": {
    "collapsed": false
   },
   "outputs": [
    {
     "data": {
      "text/plain": [
       "\u001b[36mvals\u001b[0m: \u001b[32mList\u001b[0m[\u001b[32mArray\u001b[0m[\u001b[32mString\u001b[0m]] = \u001b[33mList\u001b[0m(\n",
       "  \u001b[33mArray\u001b[0m(\n",
       "    \u001b[32m\"\"\"\n",
       "\"OSUSER\"\n",
       "    \"\"\"\u001b[0m,\n",
       "    \u001b[32m\"\"\"\n",
       "\"SLACK_USER\"\n",
       "    \"\"\"\u001b[0m\n",
       "  ),\n",
       "  \u001b[33mArray\u001b[0m(\n",
       "    \u001b[32m\"\"\"\n",
       "\"alexey.rodin\"\n",
       "    \"\"\"\u001b[0m,\n",
       "    \u001b[32m\"\"\"\n",
       "\"Rodin(<@alexeyrodin>)\"\n",
       "\u001b[33m...\u001b[0m"
      ]
     },
     "metadata": {},
     "output_type": "display_data"
    }
   ],
   "source": [
    "val vals = lines.toList.map(_.split(\",\"))"
   ]
  },
  {
   "cell_type": "code",
   "execution_count": null,
   "metadata": {
    "collapsed": true
   },
   "outputs": [],
   "source": []
  }
 ],
 "metadata": {
  "kernelspec": {
   "display_name": "Scala 2.11",
   "language": "scala211",
   "name": "scala211"
  },
  "language_info": {
   "codemirror_mode": "text/x-scala",
   "file_extension": ".scala",
   "mimetype": "text/x-scala",
   "name": "scala211",
   "pygments_lexer": "scala",
   "version": "2.11.6"
  }
 },
 "nbformat": 4,
 "nbformat_minor": 0
}

{
 "cells": [
  {
   "cell_type": "code",
   "execution_count": 1,
   "metadata": {
    "collapsed": false
   },
   "outputs": [
    {
     "data": {
      "text/plain": [
       "\u001b[36mxml\u001b[0m: \u001b[32mxml\u001b[0m.\u001b[32mElem\u001b[0m = \u001b[33mElem\u001b[0m(\n",
       "  <POWERMART REPOSITORY_VERSION=\"182.91\" CREATION_DATE=\"03/02/2016 17:39:59\">\n",
       "<REPOSITORY DATABASETYPE=\"Oracle\" CODEPAGE=\"MS1251\" VERSION=\"182\" NAME=\"RS_PRD\">\n",
       "<FOLDER UUID=\"31c156e6-66f3-43e1-af0a-0975c3af674f\" PERMISSIONS=\"rwx------\" DESCRIPTION=\"\" SHARED=\"SHARED\" OWNER=\"Administrator\" GROUP=\"\" NAME=\"EDW_PREDDS\">\n",
       "    <TARGET VERSIONNUMBER=\"1\" TABLEOPTIONS=\"\" OBJECTVERSION=\"1\" NAME=\"CA_GET_HFORMS\" DESCRIPTION=\"\" DATABASETYPE=\"Oracle\" CONSTRAINT=\"\" BUSINESSNAME=\"\">\n",
       "        <TARGETFIELD SCALE=\"0\" PRECISION=\"15\" PICTURETEXT=\"\" NULLABLE=\"NULL\" NAME=\"REFERENCE\" KEYTYPE=\"NOT A KEY\" FIELDNUMBER=\"1\" DESCRIPTION=\"\" DATATYPE=\"number\" BUSINESSNAME=\"\"/>\n",
       "        <TARGETFIELD SCALE=\"0\" PRECISION=\"15\" PICTURETEXT=\"\" NULLABLE=\"NULL\" NAME=\"BRANCH\" KEYTYPE=\"NOT A KEY\" FIELDNUMBER=\"2\" DESCRIPTION=\"\" DATATYPE=\"number\" BUSINESSNAME=\"\"/>\n",
       "        <TARGETFIELD SCALE=\"0\" PRECISION=\"19\" PICTURETEXT=\"\" NULLABLE=\"NULL\" NAME=\"OPEN_DATE\" KEYTYPE=\"NOT A KEY\" FIELDNUMBER=\"3\" DESCRIPTION=\"\" DATATYPE=\"date\" BUSINESSNAME=\"\"/>\n",
       "        <TARGETFIELD SCALE=\"0\" PRECISION=\"12\" PICTURETEXT=\"\" NULLABLE=\"NULL\" NAME=\"INN\" KEYTYPE=\"NOT A KEY\" FIELDNUMBER=\"4\" DESCRIPTION=\"\" DATATYPE=\"varchar2\" BUSINESSNAME=\"\"/>\n",
       "\u001b[33m...\u001b[0m"
      ]
     },
     "metadata": {},
     "output_type": "display_data"
    }
   ],
   "source": [
    "val xml = scala.xml.XML.loadFile(\"C:\\\\Users\\\\Andrey.Zheltov\\\\Documents\\\\CA_GET_HFRORMS_xml_edited.xml\")"
   ]
  },
  {
   "cell_type": "code",
   "execution_count": 2,
   "metadata": {
    "collapsed": false
   },
   "outputs": [
    {
     "data": {
      "text/plain": [
       "\u001b[36mfields\u001b[0m: \u001b[32mscala\u001b[0m.\u001b[32mxml\u001b[0m.\u001b[32mNodeSeq\u001b[0m = \u001b[33mNodeSeq\u001b[0m(\n",
       "  <TARGETFIELD SCALE=\"0\" PRECISION=\"15\" PICTURETEXT=\"\" NULLABLE=\"NULL\" NAME=\"REFERENCE\" KEYTYPE=\"NOT A KEY\" FIELDNUMBER=\"1\" DESCRIPTION=\"\" DATATYPE=\"number\" BUSINESSNAME=\"\"/>,\n",
       "  <TARGETFIELD SCALE=\"0\" PRECISION=\"15\" PICTURETEXT=\"\" NULLABLE=\"NULL\" NAME=\"BRANCH\" KEYTYPE=\"NOT A KEY\" FIELDNUMBER=\"2\" DESCRIPTION=\"\" DATATYPE=\"number\" BUSINESSNAME=\"\"/>,\n",
       "  <TARGETFIELD SCALE=\"0\" PRECISION=\"19\" PICTURETEXT=\"\" NULLABLE=\"NULL\" NAME=\"OPEN_DATE\" KEYTYPE=\"NOT A KEY\" FIELDNUMBER=\"3\" DESCRIPTION=\"\" DATATYPE=\"date\" BUSINESSNAME=\"\"/>,\n",
       "  <TARGETFIELD SCALE=\"0\" PRECISION=\"12\" PICTURETEXT=\"\" NULLABLE=\"NULL\" NAME=\"INN\" KEYTYPE=\"NOT A KEY\" FIELDNUMBER=\"4\" DESCRIPTION=\"\" DATATYPE=\"varchar2\" BUSINESSNAME=\"\"/>,\n",
       "  <TARGETFIELD SCALE=\"0\" PRECISION=\"4\" PICTURETEXT=\"\" NULLABLE=\"NULL\" NAME=\"NOTIF_METHOD\" KEYTYPE=\"NOT A KEY\" FIELDNUMBER=\"5\" DESCRIPTION=\"\" DATATYPE=\"varchar2\" BUSINESSNAME=\"\"/>,\n",
       "  <TARGETFIELD SCALE=\"0\" PRECISION=\"15\" PICTURETEXT=\"\" NULLABLE=\"NULL\" NAME=\"SUBDEPARTMENT\" KEYTYPE=\"NOT A KEY\" FIELDNUMBER=\"6\" DESCRIPTION=\"\" DATATYPE=\"number\" BUSINESSNAME=\"\"/>,\n",
       "  <TARGETFIELD SCALE=\"0\" PRECISION=\"15\" PICTURETEXT=\"\" NULLABLE=\"NULL\" NAME=\"EID\" KEYTYPE=\"NOT A KEY\" FIELDNUMBER=\"7\" DESCRIPTION=\"\" DATATYPE=\"number\" BUSINESSNAME=\"\"/>,\n",
       "\u001b[33m...\u001b[0m"
      ]
     },
     "metadata": {},
     "output_type": "display_data"
    }
   ],
   "source": [
    "val fields = xml \\\\ \"TARGETFIELD\""
   ]
  },
  {
   "cell_type": "code",
   "execution_count": 3,
   "metadata": {
    "collapsed": false
   },
   "outputs": [
    {
     "data": {
      "text/plain": [
       "\u001b[36mvariables\u001b[0m: \u001b[32mcollection\u001b[0m.\u001b[32mimmutable\u001b[0m.\u001b[32mSeq\u001b[0m[((\u001b[32mscala\u001b[0m.\u001b[32mxml\u001b[0m.\u001b[32mNode\u001b[0m, \u001b[32mscala\u001b[0m.\u001b[32mxml\u001b[0m.\u001b[32mNode\u001b[0m), \u001b[32mscala\u001b[0m.\u001b[32mxml\u001b[0m.\u001b[32mNode\u001b[0m)] = \u001b[33mList\u001b[0m(\n",
       "  \u001b[33m\u001b[0m(\u001b[33m\u001b[0m(\u001b[33mText\u001b[0m(REFERENCE), \u001b[33mText\u001b[0m(number)), \u001b[33mText\u001b[0m(15)),\n",
       "  \u001b[33m\u001b[0m(\u001b[33m\u001b[0m(\u001b[33mText\u001b[0m(BRANCH), \u001b[33mText\u001b[0m(number)), \u001b[33mText\u001b[0m(15)),\n",
       "  \u001b[33m\u001b[0m(\u001b[33m\u001b[0m(\u001b[33mText\u001b[0m(OPEN_DATE), \u001b[33mText\u001b[0m(date)), \u001b[33mText\u001b[0m(19)),\n",
       "  \u001b[33m\u001b[0m(\u001b[33m\u001b[0m(\u001b[33mText\u001b[0m(INN), \u001b[33mText\u001b[0m(varchar2)), \u001b[33mText\u001b[0m(12)),\n",
       "  \u001b[33m\u001b[0m(\u001b[33m\u001b[0m(\u001b[33mText\u001b[0m(NOTIF_METHOD), \u001b[33mText\u001b[0m(varchar2)), \u001b[33mText\u001b[0m(4)),\n",
       "  \u001b[33m\u001b[0m(\u001b[33m\u001b[0m(\u001b[33mText\u001b[0m(SUBDEPARTMENT), \u001b[33mText\u001b[0m(number)), \u001b[33mText\u001b[0m(15)),\n",
       "  \u001b[33m\u001b[0m(\u001b[33m\u001b[0m(\u001b[33mText\u001b[0m(EID), \u001b[33mText\u001b[0m(number)), \u001b[33mText\u001b[0m(15)),\n",
       "  \u001b[33m\u001b[0m(\u001b[33m\u001b[0m(\u001b[33mText\u001b[0m(DML_TYPE), \u001b[33mText\u001b[0m(varchar2)), \u001b[33mText\u001b[0m(1)),\n",
       "  \u001b[33m\u001b[0m(\u001b[33m\u001b[0m(\u001b[33mText\u001b[0m(POST_INDEX), \u001b[33mText\u001b[0m(varchar2)), \u001b[33mText\u001b[0m(6)),\n",
       "  \u001b[33m\u001b[0m(\u001b[33m\u001b[0m(\u001b[33mText\u001b[0m(REGION), \u001b[33mText\u001b[0m(varchar2)), \u001b[33mText\u001b[0m(2)),\n",
       "  \u001b[33m\u001b[0m(\u001b[33m\u001b[0m(\u001b[33mText\u001b[0m(AREA), \u001b[33mText\u001b[0m(varchar2)), \u001b[33mText\u001b[0m(15)),\n",
       "  \u001b[33m\u001b[0m(\u001b[33m\u001b[0m(\u001b[33mText\u001b[0m(CITY), \u001b[33mText\u001b[0m(varchar2)), \u001b[33mText\u001b[0m(15)),\n",
       "  \u001b[33m\u001b[0m(\u001b[33m\u001b[0m(\u001b[33mText\u001b[0m(PLACE), \u001b[33mText\u001b[0m(varchar2)), \u001b[33mText\u001b[0m(15)),\n",
       "  \u001b[33m\u001b[0m(\u001b[33m\u001b[0m(\u001b[33mText\u001b[0m(STREET), \u001b[33mText\u001b[0m(varchar2)), \u001b[33mText\u001b[0m(15)),\n",
       "\u001b[33m...\u001b[0m"
      ]
     },
     "metadata": {},
     "output_type": "display_data"
    }
   ],
   "source": [
    "val variables = (fields \\\\ \"@NAME\").zip(fields \\\\ \"@DATATYPE\").zip(fields \\\\ \"@PRECISION\")"
   ]
  },
  {
   "cell_type": "code",
   "execution_count": 4,
   "metadata": {
    "collapsed": false
   },
   "outputs": [
    {
     "data": {
      "text/plain": [
       "\u001b[36msorted_vars\u001b[0m: \u001b[32mcollection\u001b[0m.\u001b[32mimmutable\u001b[0m.\u001b[32mSeq\u001b[0m[((\u001b[32mscala\u001b[0m.\u001b[32mxml\u001b[0m.\u001b[32mNode\u001b[0m, \u001b[32mscala\u001b[0m.\u001b[32mxml\u001b[0m.\u001b[32mNode\u001b[0m), \u001b[32mscala\u001b[0m.\u001b[32mxml\u001b[0m.\u001b[32mNode\u001b[0m)] = \u001b[33mList\u001b[0m(\n",
       "  \u001b[33m\u001b[0m(\u001b[33m\u001b[0m(\u001b[33mText\u001b[0m(ADDRESS), \u001b[33mText\u001b[0m(varchar2)), \u001b[33mText\u001b[0m(150)),\n",
       "  \u001b[33m\u001b[0m(\u001b[33m\u001b[0m(\u001b[33mText\u001b[0m(ADDRESS_PHONE), \u001b[33mText\u001b[0m(varchar2)), \u001b[33mText\u001b[0m(30)),\n",
       "  \u001b[33m\u001b[0m(\u001b[33m\u001b[0m(\u001b[33mText\u001b[0m(ALIMENTS), \u001b[33mText\u001b[0m(number)), \u001b[33mText\u001b[0m(15)),\n",
       "  \u001b[33m\u001b[0m(\u001b[33m\u001b[0m(\u001b[33mText\u001b[0m(AREA), \u001b[33mText\u001b[0m(varchar2)), \u001b[33mText\u001b[0m(15)),\n",
       "  \u001b[33m\u001b[0m(\u001b[33m\u001b[0m(\u001b[33mText\u001b[0m(ASOURCE), \u001b[33mText\u001b[0m(number)), \u001b[33mText\u001b[0m(15)),\n",
       "  \u001b[33m\u001b[0m(\u001b[33m\u001b[0m(\u001b[33mText\u001b[0m(AUTO1_COST), \u001b[33mText\u001b[0m(number)), \u001b[33mText\u001b[0m(15)),\n",
       "  \u001b[33m\u001b[0m(\u001b[33m\u001b[0m(\u001b[33mText\u001b[0m(AUTO1_MODEL), \u001b[33mText\u001b[0m(varchar2)), \u001b[33mText\u001b[0m(50)),\n",
       "  \u001b[33m\u001b[0m(\u001b[33m\u001b[0m(\u001b[33mText\u001b[0m(AUTO1_YEAR), \u001b[33mText\u001b[0m(number)), \u001b[33mText\u001b[0m(15)),\n",
       "  \u001b[33m\u001b[0m(\u001b[33m\u001b[0m(\u001b[33mText\u001b[0m(AUTO2_COST), \u001b[33mText\u001b[0m(number)), \u001b[33mText\u001b[0m(15)),\n",
       "  \u001b[33m\u001b[0m(\u001b[33m\u001b[0m(\u001b[33mText\u001b[0m(AUTO2_MODEL), \u001b[33mText\u001b[0m(varchar2)), \u001b[33mText\u001b[0m(50)),\n",
       "  \u001b[33m\u001b[0m(\u001b[33m\u001b[0m(\u001b[33mText\u001b[0m(AUTO2_YEAR), \u001b[33mText\u001b[0m(number)), \u001b[33mText\u001b[0m(15)),\n",
       "  \u001b[33m\u001b[0m(\u001b[33m\u001b[0m(\u001b[33mText\u001b[0m(AV_BONUS), \u001b[33mText\u001b[0m(number)), \u001b[33mText\u001b[0m(15)),\n",
       "  \u001b[33m\u001b[0m(\u001b[33m\u001b[0m(\u001b[33mText\u001b[0m(AV_BONUS_PERIOD), \u001b[33mText\u001b[0m(number)), \u001b[33mText\u001b[0m(15)),\n",
       "  \u001b[33m\u001b[0m(\u001b[33m\u001b[0m(\u001b[33mText\u001b[0m(AV_EXPENSE), \u001b[33mText\u001b[0m(number)), \u001b[33mText\u001b[0m(15)),\n",
       "\u001b[33m...\u001b[0m"
      ]
     },
     "metadata": {},
     "output_type": "display_data"
    }
   ],
   "source": [
    "val sorted_vars = variables.sortBy(_._1._1.text)"
   ]
  },
  {
   "cell_type": "code",
   "execution_count": 6,
   "metadata": {
    "collapsed": false,
    "scrolled": true
   },
   "outputs": [
    {
     "data": {
      "text/plain": [
       "defined \u001b[32mfunction \u001b[36mflat\u001b[0m"
      ]
     },
     "metadata": {},
     "output_type": "display_data"
    }
   ],
   "source": [
    "def flat[A,B,C](t: ((A,B),C)) = (t._1._1.toString, t._1._2.toString, t._2.toString)"
   ]
  },
  {
   "cell_type": "code",
   "execution_count": 7,
   "metadata": {
    "collapsed": false
   },
   "outputs": [
    {
     "data": {
      "text/plain": [
       "\u001b[36mflsvars\u001b[0m: \u001b[32mcollection\u001b[0m.\u001b[32mimmutable\u001b[0m.\u001b[32mSeq\u001b[0m[(\u001b[32mString\u001b[0m, \u001b[32mString\u001b[0m, \u001b[32mString\u001b[0m)] = \u001b[33mList\u001b[0m(\n",
       "  \u001b[33m\u001b[0m(\u001b[32m\"ADDRESS\"\u001b[0m, \u001b[32m\"varchar2\"\u001b[0m, \u001b[32m\"150\"\u001b[0m),\n",
       "  \u001b[33m\u001b[0m(\u001b[32m\"ADDRESS_PHONE\"\u001b[0m, \u001b[32m\"varchar2\"\u001b[0m, \u001b[32m\"30\"\u001b[0m),\n",
       "  \u001b[33m\u001b[0m(\u001b[32m\"ALIMENTS\"\u001b[0m, \u001b[32m\"number\"\u001b[0m, \u001b[32m\"15\"\u001b[0m),\n",
       "  \u001b[33m\u001b[0m(\u001b[32m\"AREA\"\u001b[0m, \u001b[32m\"varchar2\"\u001b[0m, \u001b[32m\"15\"\u001b[0m),\n",
       "  \u001b[33m\u001b[0m(\u001b[32m\"ASOURCE\"\u001b[0m, \u001b[32m\"number\"\u001b[0m, \u001b[32m\"15\"\u001b[0m),\n",
       "  \u001b[33m\u001b[0m(\u001b[32m\"AUTO1_COST\"\u001b[0m, \u001b[32m\"number\"\u001b[0m, \u001b[32m\"15\"\u001b[0m),\n",
       "  \u001b[33m\u001b[0m(\u001b[32m\"AUTO1_MODEL\"\u001b[0m, \u001b[32m\"varchar2\"\u001b[0m, \u001b[32m\"50\"\u001b[0m),\n",
       "  \u001b[33m\u001b[0m(\u001b[32m\"AUTO1_YEAR\"\u001b[0m, \u001b[32m\"number\"\u001b[0m, \u001b[32m\"15\"\u001b[0m),\n",
       "  \u001b[33m\u001b[0m(\u001b[32m\"AUTO2_COST\"\u001b[0m, \u001b[32m\"number\"\u001b[0m, \u001b[32m\"15\"\u001b[0m),\n",
       "  \u001b[33m\u001b[0m(\u001b[32m\"AUTO2_MODEL\"\u001b[0m, \u001b[32m\"varchar2\"\u001b[0m, \u001b[32m\"50\"\u001b[0m),\n",
       "  \u001b[33m\u001b[0m(\u001b[32m\"AUTO2_YEAR\"\u001b[0m, \u001b[32m\"number\"\u001b[0m, \u001b[32m\"15\"\u001b[0m),\n",
       "  \u001b[33m\u001b[0m(\u001b[32m\"AV_BONUS\"\u001b[0m, \u001b[32m\"number\"\u001b[0m, \u001b[32m\"15\"\u001b[0m),\n",
       "  \u001b[33m\u001b[0m(\u001b[32m\"AV_BONUS_PERIOD\"\u001b[0m, \u001b[32m\"number\"\u001b[0m, \u001b[32m\"15\"\u001b[0m),\n",
       "  \u001b[33m\u001b[0m(\u001b[32m\"AV_EXPENSE\"\u001b[0m, \u001b[32m\"number\"\u001b[0m, \u001b[32m\"15\"\u001b[0m),\n",
       "\u001b[33m...\u001b[0m"
      ]
     },
     "metadata": {},
     "output_type": "display_data"
    }
   ],
   "source": [
    "var flsvars = sorted_vars map flat"
   ]
  },
  {
   "cell_type": "code",
   "execution_count": 8,
   "metadata": {
    "collapsed": false
   },
   "outputs": [
    {
     "data": {
      "text/plain": [
       "\u001b[36mfl\u001b[0m: \u001b[32mcollection\u001b[0m.\u001b[32mimmutable\u001b[0m.\u001b[32mSeq\u001b[0m[((\u001b[32mString\u001b[0m, \u001b[32mString\u001b[0m), \u001b[32mString\u001b[0m)] = \u001b[33mList\u001b[0m(\n",
       "  \u001b[33m\u001b[0m(\u001b[33m\u001b[0m(\u001b[32m\"ADDRESS\"\u001b[0m, \u001b[32m\"varchar2\"\u001b[0m), \u001b[32m\"150\"\u001b[0m),\n",
       "  \u001b[33m\u001b[0m(\u001b[33m\u001b[0m(\u001b[32m\"ADDRESS_PHONE\"\u001b[0m, \u001b[32m\"varchar2\"\u001b[0m), \u001b[32m\"30\"\u001b[0m),\n",
       "  \u001b[33m\u001b[0m(\u001b[33m\u001b[0m(\u001b[32m\"ALIMENTS\"\u001b[0m, \u001b[32m\"number\"\u001b[0m), \u001b[32m\"15\"\u001b[0m),\n",
       "  \u001b[33m\u001b[0m(\u001b[33m\u001b[0m(\u001b[32m\"AREA\"\u001b[0m, \u001b[32m\"varchar2\"\u001b[0m), \u001b[32m\"15\"\u001b[0m),\n",
       "  \u001b[33m\u001b[0m(\u001b[33m\u001b[0m(\u001b[32m\"ASOURCE\"\u001b[0m, \u001b[32m\"number\"\u001b[0m), \u001b[32m\"15\"\u001b[0m),\n",
       "  \u001b[33m\u001b[0m(\u001b[33m\u001b[0m(\u001b[32m\"AUTO1_COST\"\u001b[0m, \u001b[32m\"number\"\u001b[0m), \u001b[32m\"15\"\u001b[0m),\n",
       "  \u001b[33m\u001b[0m(\u001b[33m\u001b[0m(\u001b[32m\"AUTO1_MODEL\"\u001b[0m, \u001b[32m\"varchar2\"\u001b[0m), \u001b[32m\"50\"\u001b[0m),\n",
       "  \u001b[33m\u001b[0m(\u001b[33m\u001b[0m(\u001b[32m\"AUTO1_YEAR\"\u001b[0m, \u001b[32m\"number\"\u001b[0m), \u001b[32m\"15\"\u001b[0m),\n",
       "  \u001b[33m\u001b[0m(\u001b[33m\u001b[0m(\u001b[32m\"AUTO2_COST\"\u001b[0m, \u001b[32m\"number\"\u001b[0m), \u001b[32m\"15\"\u001b[0m),\n",
       "  \u001b[33m\u001b[0m(\u001b[33m\u001b[0m(\u001b[32m\"AUTO2_MODEL\"\u001b[0m, \u001b[32m\"varchar2\"\u001b[0m), \u001b[32m\"50\"\u001b[0m),\n",
       "  \u001b[33m\u001b[0m(\u001b[33m\u001b[0m(\u001b[32m\"AUTO2_YEAR\"\u001b[0m, \u001b[32m\"number\"\u001b[0m), \u001b[32m\"15\"\u001b[0m),\n",
       "  \u001b[33m\u001b[0m(\u001b[33m\u001b[0m(\u001b[32m\"AV_BONUS\"\u001b[0m, \u001b[32m\"number\"\u001b[0m), \u001b[32m\"15\"\u001b[0m),\n",
       "  \u001b[33m\u001b[0m(\u001b[33m\u001b[0m(\u001b[32m\"AV_BONUS_PERIOD\"\u001b[0m, \u001b[32m\"number\"\u001b[0m), \u001b[32m\"15\"\u001b[0m),\n",
       "  \u001b[33m\u001b[0m(\u001b[33m\u001b[0m(\u001b[32m\"AV_EXPENSE\"\u001b[0m, \u001b[32m\"number\"\u001b[0m), \u001b[32m\"15\"\u001b[0m),\n",
       "\u001b[33m...\u001b[0m"
      ]
     },
     "metadata": {},
     "output_type": "display_data"
    }
   ],
   "source": [
    "var fl = flsvars.map(_._1) zip flsvars.map(_._2) zip flsvars.map(_._3)"
   ]
  },
  {
   "cell_type": "code",
   "execution_count": 9,
   "metadata": {
    "collapsed": false
   },
   "outputs": [
    {
     "data": {
      "text/plain": [
       "\u001b[36mans\u001b[0m: \u001b[32mcollection\u001b[0m.\u001b[32mimmutable\u001b[0m.\u001b[32mSeq\u001b[0m[(\u001b[32mString\u001b[0m, \u001b[32mString\u001b[0m, \u001b[32mString\u001b[0m)] = \u001b[33mList\u001b[0m(\n",
       "  \u001b[33m\u001b[0m(\u001b[32m\"ADDRESS\"\u001b[0m, \u001b[32m\"varchar2\"\u001b[0m, \u001b[32m\"150\"\u001b[0m),\n",
       "  \u001b[33m\u001b[0m(\u001b[32m\"ADDRESS_PHONE\"\u001b[0m, \u001b[32m\"varchar2\"\u001b[0m, \u001b[32m\"30\"\u001b[0m),\n",
       "  \u001b[33m\u001b[0m(\u001b[32m\"ALIMENTS\"\u001b[0m, \u001b[32m\"number\"\u001b[0m, \u001b[32m\"15\"\u001b[0m),\n",
       "  \u001b[33m\u001b[0m(\u001b[32m\"AREA\"\u001b[0m, \u001b[32m\"varchar2\"\u001b[0m, \u001b[32m\"15\"\u001b[0m),\n",
       "  \u001b[33m\u001b[0m(\u001b[32m\"ASOURCE\"\u001b[0m, \u001b[32m\"number\"\u001b[0m, \u001b[32m\"15\"\u001b[0m),\n",
       "  \u001b[33m\u001b[0m(\u001b[32m\"AUTO1_COST\"\u001b[0m, \u001b[32m\"number\"\u001b[0m, \u001b[32m\"15\"\u001b[0m),\n",
       "  \u001b[33m\u001b[0m(\u001b[32m\"AUTO1_MODEL\"\u001b[0m, \u001b[32m\"varchar2\"\u001b[0m, \u001b[32m\"50\"\u001b[0m),\n",
       "  \u001b[33m\u001b[0m(\u001b[32m\"AUTO1_YEAR\"\u001b[0m, \u001b[32m\"number\"\u001b[0m, \u001b[32m\"15\"\u001b[0m),\n",
       "  \u001b[33m\u001b[0m(\u001b[32m\"AUTO2_COST\"\u001b[0m, \u001b[32m\"number\"\u001b[0m, \u001b[32m\"15\"\u001b[0m),\n",
       "  \u001b[33m\u001b[0m(\u001b[32m\"AUTO2_MODEL\"\u001b[0m, \u001b[32m\"varchar2\"\u001b[0m, \u001b[32m\"50\"\u001b[0m),\n",
       "  \u001b[33m\u001b[0m(\u001b[32m\"AUTO2_YEAR\"\u001b[0m, \u001b[32m\"number\"\u001b[0m, \u001b[32m\"15\"\u001b[0m),\n",
       "  \u001b[33m\u001b[0m(\u001b[32m\"AV_BONUS\"\u001b[0m, \u001b[32m\"number\"\u001b[0m, \u001b[32m\"15\"\u001b[0m),\n",
       "  \u001b[33m\u001b[0m(\u001b[32m\"AV_BONUS_PERIOD\"\u001b[0m, \u001b[32m\"number\"\u001b[0m, \u001b[32m\"15\"\u001b[0m),\n",
       "  \u001b[33m\u001b[0m(\u001b[32m\"AV_EXPENSE\"\u001b[0m, \u001b[32m\"number\"\u001b[0m, \u001b[32m\"15\"\u001b[0m),\n",
       "\u001b[33m...\u001b[0m"
      ]
     },
     "metadata": {},
     "output_type": "display_data"
    }
   ],
   "source": [
    "var ans = fl map flat"
   ]
  },
  {
   "cell_type": "code",
   "execution_count": 10,
   "metadata": {
    "collapsed": false
   },
   "outputs": [
    {
     "name": "stdout",
     "output_type": "stream",
     "text": [
      "(ADDRESS,varchar2,150)\n",
      "(ADDRESS_PHONE,varchar2,30)\n",
      "(ALIMENTS,number,15)\n",
      "(AREA,varchar2,15)\n",
      "(ASOURCE,number,15)\n",
      "(AUTO1_COST,number,15)\n",
      "(AUTO1_MODEL,varchar2,50)\n",
      "(AUTO1_YEAR,number,15)\n",
      "(AUTO2_COST,number,15)\n",
      "(AUTO2_MODEL,varchar2,50)\n",
      "(AUTO2_YEAR,number,15)\n",
      "(AV_BONUS,number,15)\n",
      "(AV_BONUS_PERIOD,number,15)\n",
      "(AV_EXPENSE,number,15)\n",
      "(AV_PROFIT,number,15)\n",
      "(AV_PROFIT_STAT,number,15)\n",
      "(AV_WIFE_PROFIT,number,15)\n",
      "(BABIES,number,15)\n",
      "(BABY1_BIRTH_DATE,date,19)\n",
      "(BABY2_BIRTH_DATE,date,19)\n",
      "(BABY3_BIRTH_DATE,date,19)\n",
      "(BABY4_BIRTH_DATE,date,19)\n",
      "(BIRTH_DATE,date,19)\n",
      "(BIRTH_PLACE,varchar2,300)\n",
      "(BKI_IS_INFO,number,15)\n",
      "(BKI_IS_USED,number,15)\n",
      "(BRANCH,number,15)\n",
      "(BRANCH_CLIENT,number,15)\n",
      "(BRANCH_CONTRACT,number,15)\n",
      "(BRANCH_FROM,number,15)\n",
      "(BUILDING,varchar2,15)\n",
      "(CARD1_ANNUAL,number,15)\n",
      "(CARD1_BANK,varchar2,50)\n",
      "(CARD1_LIMIT,number,15)\n",
      "(CARD2_ANNUAL,number,15)\n",
      "(CARD2_BANK,varchar2,50)\n",
      "(CARD2_LIMIT,number,15)\n",
      "(CARD3_ANNUAL,number,15)\n",
      "(CARD3_BANK,varchar2,50)\n",
      "(CARD3_LIMIT,number,15)\n",
      "(CARD4_ANNUAL,number,15)\n",
      "(CARD4_BANK,varchar2,50)\n",
      "(CARD4_LIMIT,number,15)\n",
      "(CARD5_ANNUAL,number,15)\n",
      "(CARD5_BANK,varchar2,50)\n",
      "(CARD5_LIMIT,number,15)\n",
      "(CITY,varchar2,15)\n",
      "(CORP_MEMBER,varchar2,10)\n",
      "(CREDIT1_ANNUAL,number,15)\n",
      "(CREDIT1_BANK,varchar2,50)\n",
      "(CREDIT1_CLOSE_DATE,date,19)\n",
      "(CREDIT1_REMAIN_SUMMA,number,15)\n",
      "(CREDIT1_SUMMA,number,15)\n",
      "(CREDIT2_ANNUAL,number,15)\n",
      "(CREDIT2_BANK,varchar2,50)\n",
      "(CREDIT2_CLOSE_DATE,date,19)\n",
      "(CREDIT2_REMAIN_SUMMA,number,15)\n",
      "(CREDIT2_SUMMA,number,15)\n",
      "(CREDIT3_ANNUAL,number,15)\n",
      "(CREDIT3_BANK,varchar2,50)\n",
      "(CREDIT3_CLOSE_DATE,date,19)\n",
      "(CREDIT3_REMAIN_SUMMA,number,15)\n",
      "(CREDIT3_SUMMA,number,15)\n",
      "(CREDIT4_ANNUAL,number,15)\n",
      "(CREDIT4_BANK,varchar2,50)\n",
      "(CREDIT4_CLOSE_DATE,date,19)\n",
      "(CREDIT4_REMAIN_SUMMA,number,15)\n",
      "(CREDIT4_SUMMA,number,15)\n",
      "(CREDIT_ANNUAL_BM,number,15)\n",
      "(CURRENCY,varchar2,3)\n",
      "(DATE_REGISTRATION,date,19)\n",
      "(DEBTS_REST,number,15)\n",
      "(DELETED_FLAG,varchar2,1)\n",
      "(DEPENDANT,number,15)\n",
      "(DEPENDANT1_BIRTH_DATE,date,19)\n",
      "(DEPENDANT2_BIRTH_DATE,date,19)\n",
      "(DEPENDANT3_BIRTH_DATE,date,19)\n",
      "(DEPENDANT4_BIRTH_DATE,date,19)\n",
      "(DML_TYPE,varchar2,1)\n",
      "(DRIVELIC_DATE,date,19)\n",
      "(DRIVELIC_NUMBER,varchar2,12)\n",
      "(DWH_JOB_ID,number,15)\n",
      "(EDUCATION,number,15)\n",
      "(EID,number,15)\n",
      "(EID_FIRMA,number,15)\n",
      "(EMAIL,varchar2,512)\n",
      "(FIRST_NAME,varchar2,30)\n",
      "(FIRST_PAY,number,15)\n",
      "(FLAT,varchar2,15)\n",
      "(GUAR_ANNUAL,number,15)\n",
      "(GUAR_BANK,varchar2,50)\n",
      "(GUAR_CLOSE_DATE,date,19)\n",
      "(GUAR_SUMMA,number,15)\n",
      "(HOUSE,varchar2,15)\n",
      "(INN,varchar2,12)\n",
      "(IS_AUTO1,number,15)\n",
      "(IS_AUTO2,number,15)\n",
      "(IS_MEMBER,number,15)\n",
      "(IS_NDFL2,varchar2,2)\n",
      "(IS_REALTY1,number,15)\n",
      "(IS_REALTY2,number,15)\n",
      "(IS_REALTY3,number,15)\n",
      "(IS_SALARY,number,15)\n",
      "(LAST_NAME,varchar2,30)\n",
      "(MARKET_ACTION,number,15)\n",
      "(MARR_STATUS,number,15)\n",
      "(MILITARY_TYPE,number,15)\n",
      "(MOBILE,varchar2,30)\n",
      "(NATIONALITY,varchar2,3)\n",
      "(NEAR_RELATION_PHONE,varchar2,100)\n",
      "(NOTIF_METHOD,varchar2,4)\n",
      "(OPEN_DATE,date,19)\n",
      "(PARAMS_FIELD,varchar2,4000)\n",
      "(PASSPORT_CODE,varchar2,10)\n",
      "(PASSPORT_DATE,date,19)\n",
      "(PASSPORT_NUMBER,varchar2,12)\n",
      "(PASSPORT_VIDAN,varchar2,150)\n",
      "(PEOPLE_RELATIONS,varchar2,50)\n",
      "(PERIOD,number,15)\n",
      "(PERSONAL_EMAIL,varchar2,512)\n",
      "(PHONE,varchar2,30)\n",
      "(PLACE,varchar2,15)\n",
      "(POST_INDEX,varchar2,6)\n",
      "(PREFER_PHONE,varchar2,20)\n",
      "(PREV_FIO,varchar2,90)\n",
      "(PROCESSED_DTTM,timestamp,26)\n",
      "(PROFIT1_BANK_COST,number,15)\n",
      "(PROFIT2_BANK_COST,number,15)\n",
      "(PROFIT3_BANK_COST,number,15)\n",
      "(PROFIT4_BANK_COST,number,15)\n",
      "(PROFIT_DIVID,number,15)\n",
      "(PROFIT_DIVID_PERIOD,varchar2,50)\n",
      "(PROFIT_OTHER,number,15)\n",
      "(PROFIT_OTHER_PERIOD,varchar2,50)\n",
      "(PROFIT_PENSION,number,15)\n",
      "(PROFIT_PENSION_PERIOD,varchar2,50)\n",
      "(PROFIT_RENT,number,15)\n",
      "(PROFIT_RENT_PERIOD,varchar2,50)\n",
      "(PROFIT_TWO,number,15)\n",
      "(PROFIT_TWO_PERIOD,varchar2,50)\n",
      "(RATING_SECTOR,number,15)\n",
      "(REALTY1_ADDRESS,varchar2,150)\n",
      "(REALTY1_COST,number,15)\n",
      "(REALTY1_OWNERSHIP,number,15)\n",
      "(REALTY1_SPACE,number,15)\n",
      "(REALTY2_ADDRESS,varchar2,150)\n",
      "(REALTY2_COST,number,15)\n",
      "(REALTY2_OWNERSHIP,number,15)\n",
      "(REALTY2_SPACE,number,15)\n",
      "(REALTY3_ADDRESS,varchar2,150)\n",
      "(REALTY3_COST,number,15)\n",
      "(REALTY3_OWNERSHIP,number,15)\n",
      "(REALTY3_SPACE,number,15)\n",
      "(REAL_ADDRESS,varchar2,150)\n",
      "(REAL_AREA,varchar2,15)\n",
      "(REAL_BUILDING,varchar2,15)\n",
      "(REAL_CITY,varchar2,15)\n",
      "(REAL_FLAT,varchar2,15)\n",
      "(REAL_FLAT_OWNER_STATUS,number,15)\n",
      "(REAL_HOUSE,varchar2,15)\n",
      "(REAL_PLACE,varchar2,15)\n",
      "(REAL_POST_INDEX,varchar2,6)\n",
      "(REAL_REGION,varchar2,15)\n",
      "(REAL_STREET,varchar2,15)\n",
      "(REAL_SUMMA,number,15)\n",
      "(REFERENCE,number,15)\n",
      "(REFER_CLIENT,number,15)\n",
      "(REFER_CONTRACT,number,15)\n",
      "(REFER_FROM,number,15)\n",
      "(REGION,varchar2,2)\n",
      "(RESULT_STATUS,number,15)\n",
      "(SECOND_NAME,varchar2,30)\n",
      "(SEX,number,15)\n",
      "(SOURCE_SYSTEM_CCD,varchar2,3)\n",
      "(STAKE,number,15)\n",
      "(STATUS,number,15)\n",
      "(STREET,varchar2,15)\n",
      "(SUBDEPARTMENT,number,15)\n",
      "(SUMMA,number,15)\n",
      "(TARGET,number,15)\n",
      "(TOTAL_YEAR,number,15)\n",
      "(TYPE_CREDIT,number,15)\n",
      "(WORK1_HEAD_NAME,varchar2,50)\n",
      "(WORK1_HEAD_PHONE,varchar2,30)\n",
      "(WORK2_HEAD_NAME,varchar2,50)\n",
      "(WORK2_HEAD_PHONE,varchar2,30)\n",
      "(WORK_ADDRESS,varchar2,300)\n",
      "(WORK_EMPLOYMENT,number,15)\n",
      "(WORK_INN,varchar2,15)\n",
      "(WORK_NAME,varchar2,300)\n",
      "(WORK_OCCUPATION,number,15)\n",
      "(WORK_ORGTYPE3,number,15)\n",
      "(WORK_ORGTYPE3_NAME,varchar2,50)\n",
      "(WORK_PHONE,varchar2,100)\n",
      "(WORK_POSITION,varchar2,50)\n",
      "(WORK_POSTYPE,number,15)\n",
      "(WORK_POSTYPE_NAME,varchar2,50)\n",
      "(WORK_SPHERE,number,15)\n",
      "(WORK_SPHERE_NAME,varchar2,50)\n",
      "(WORK_WWW,varchar2,30)\n",
      "(WORK_YEAR,number,15)\n"
     ]
    },
    {
     "data": {
      "text/plain": [
       "\u001b[36mres8\u001b[0m: \u001b[32mcollection\u001b[0m.\u001b[32mimmutable\u001b[0m.\u001b[32mSeq\u001b[0m[\u001b[32mUnit\u001b[0m] = \u001b[33mList\u001b[0m(\n",
       "  (),\n",
       "  (),\n",
       "  (),\n",
       "  (),\n",
       "  (),\n",
       "  (),\n",
       "  (),\n",
       "  (),\n",
       "  (),\n",
       "  (),\n",
       "  (),\n",
       "  (),\n",
       "  (),\n",
       "  (),\n",
       "\u001b[33m...\u001b[0m"
      ]
     },
     "metadata": {},
     "output_type": "display_data"
    }
   ],
   "source": [
    "ans.map(println(_))"
   ]
  },
  {
   "cell_type": "code",
   "execution_count": 11,
   "metadata": {
    "collapsed": false
   },
   "outputs": [
    {
     "data": {
      "text/plain": [
       "\u001b[36mmappping\u001b[0m: \u001b[32mscala\u001b[0m.\u001b[32mxml\u001b[0m.\u001b[32mElem\u001b[0m = \u001b[33mElem\u001b[0m(\n",
       "  <POWERMART REPOSITORY_VERSION=\"182.91\" CREATION_DATE=\"03/24/2016 22:49:36\">\n",
       "<REPOSITORY DATABASETYPE=\"Oracle\" CODEPAGE=\"MS1251\" VERSION=\"182\" NAME=\"RS_DEV\">\n",
       "<FOLDER UUID=\"bcb7efd3-85f7-4405-b22e-b85f23579b42\" PERMISSIONS=\"rwx---r--\" DESCRIPTION=\"\" SHARED=\"NOTSHARED\" OWNER=\"Administrator\" GROUP=\"\" NAME=\"EDW_PREDDS_010\">\n",
       "    <MAPPING VERSIONNUMBER=\"1\" OBJECTVERSION=\"1\" NAME=\"m_PREDDS_010_COUNTERPARTY_WORK\" ISVALID=\"YES\" DESCRIPTION=\"\">\n",
       "        <TRANSFORMATION VERSIONNUMBER=\"1\" TYPE=\"Source Qualifier\" REUSABLE=\"NO\" OBJECTVERSION=\"1\" NAME=\"SQ_CA_WORK\" DESCRIPTION=\"\">\n",
       "            <TRANSFORMFIELD SCALE=\"0\" PRECISION=\"50\" PORTTYPE=\"INPUT/OUTPUT\" PICTURETEXT=\"\" NAME=\"COUNTERPARTY_EMPLOYEE_CCD\" DESCRIPTION=\"\" DEFAULTVALUE=\"\" DATATYPE=\"string\"/>\n",
       "            <TRANSFORMFIELD SCALE=\"0\" PRECISION=\"50\" PORTTYPE=\"INPUT/OUTPUT\" PICTURETEXT=\"\" NAME=\"COUNTERPARTY_EMPLOYER_CCD\" DESCRIPTION=\"\" DEFAULTVALUE=\"\" DATATYPE=\"string\"/>\n",
       "            <TRANSFORMFIELD SCALE=\"0\" PRECISION=\"2000\" PORTTYPE=\"INPUT/OUTPUT\" PICTURETEXT=\"\" NAME=\"WORK_NAME\" DESCRIPTION=\"\" DEFAULTVALUE=\"\" DATATYPE=\"string\"/>\n",
       "\u001b[33m...\u001b[0m"
      ]
     },
     "metadata": {},
     "output_type": "display_data"
    }
   ],
   "source": [
    "val mappping = scala.xml.XML.loadFile(\"C:\\\\Users\\\\Andrey.Zheltov\\\\Documents\\\\mappings_xml\\\\m_PREDDS_010_COUNTERPARTY_WORK_upd.XML\")"
   ]
  },
  {
   "cell_type": "code",
   "execution_count": 12,
   "metadata": {
    "collapsed": false
   },
   "outputs": [
    {
     "data": {
      "text/plain": [
       "\u001b[36mres10\u001b[0m: \u001b[32mcollection\u001b[0m.\u001b[32mimmutable\u001b[0m.\u001b[32mSeq\u001b[0m[\u001b[32mscala\u001b[0m.\u001b[32mxml\u001b[0m.\u001b[32mNodeSeq\u001b[0m] = \u001b[33mList\u001b[0m(\n",
       "  \u001b[33mGroup\u001b[0m(SQ_CA_WORK),\n",
       "  \u001b[33mGroup\u001b[0m(EXP_RECODE),\n",
       "  \u001b[33mGroup\u001b[0m(INPUT),\n",
       "  \u001b[33mGroup\u001b[0m(OUTPUT),\n",
       "  \u001b[33mGroup\u001b[0m(OUTPUT_BAD),\n",
       "  \u001b[33mGroup\u001b[0m(EXP_RETURN_VAL),\n",
       "  \u001b[33mGroup\u001b[0m(LKP_xREFMAP_OCCUPATION),\n",
       "  \u001b[33mGroup\u001b[0m(LKP_IDMAP_XREF_OCCUPATION),\n",
       "  \u001b[33mGroup\u001b[0m(mp_xREFMAP_OCCUPATION),\n",
       "  \u001b[33mGroup\u001b[0m(OUTPUT),\n",
       "  \u001b[33mGroup\u001b[0m(INPUT),\n",
       "  \u001b[33mGroup\u001b[0m(EXP_RETURN_VAL),\n",
       "  \u001b[33mGroup\u001b[0m(OUTPUT_BAD),\n",
       "  \u001b[33mGroup\u001b[0m(LKP_XREFMAP_XREF_DIRECTION_ORG),\n",
       "\u001b[33m...\u001b[0m"
      ]
     },
     "metadata": {},
     "output_type": "display_data"
    }
   ],
   "source": [
    "(mappping \\\\ \"TRANSFORMATION\").map(_ \\ \"@NAME\")"
   ]
  },
  {
   "cell_type": "code",
   "execution_count": 13,
   "metadata": {
    "collapsed": false
   },
   "outputs": [
    {
     "data": {
      "text/plain": [
       "\u001b[36mres11\u001b[0m: \u001b[32mscala\u001b[0m.\u001b[32mxml\u001b[0m.\u001b[32mNodeSeq\u001b[0m = \u001b[33mGroup\u001b[0m(EXP_RECODE)"
      ]
     },
     "metadata": {},
     "output_type": "display_data"
    }
   ],
   "source": [
    "(mappping \\\\ \"TRANSFORMATION\")(1) \\ \"@NAME\""
   ]
  },
  {
   "cell_type": "code",
   "execution_count": 14,
   "metadata": {
    "collapsed": false
   },
   "outputs": [
    {
     "name": "stdout",
     "output_type": "stream",
     "text": [
      "<TRANSFORMFIELD SCALE=\"0\" PRECISION=\"50\" PORTTYPE=\"INPUT/OUTPUT\" PICTURETEXT=\"\" NAME=\"COUNTERPARTY_EMPLOYEE_CCD\" DESCRIPTION=\"\" DEFAULTVALUE=\"\" DATATYPE=\"string\"/><TRANSFORMFIELD NAME=\"test\"/>\n"
     ]
    },
    {
     "data": {
      "text/plain": []
     },
     "metadata": {},
     "output_type": "display_data"
    }
   ],
   "source": [
    "println(mappping.child(1).child(1).child(1).child(1).child(1) ++ <TRANSFORMFIELD NAME=\"test\"/>)"
   ]
  },
  {
   "cell_type": "code",
   "execution_count": 15,
   "metadata": {
    "collapsed": false
   },
   "outputs": [
    {
     "name": "stdout",
     "output_type": "stream",
     "text": [
      "<TRANSFORMATION VERSIONNUMBER=\"1\" TYPE=\"Source Qualifier\" REUSABLE=\"NO\" OBJECTVERSION=\"1\" NAME=\"SQ_CA_WORK\" DESCRIPTION=\"\">\n",
      "            <TRANSFORMFIELD SCALE=\"0\" PRECISION=\"50\" PORTTYPE=\"INPUT/OUTPUT\" PICTURETEXT=\"\" NAME=\"COUNTERPARTY_EMPLOYEE_CCD\" DESCRIPTION=\"\" DEFAULTVALUE=\"\" DATATYPE=\"string\"/>\n",
      "            <TRANSFORMFIELD SCALE=\"0\" PRECISION=\"50\" PORTTYPE=\"INPUT/OUTPUT\" PICTURETEXT=\"\" NAME=\"COUNTERPARTY_EMPLOYER_CCD\" DESCRIPTION=\"\" DEFAULTVALUE=\"\" DATATYPE=\"string\"/>\n",
      "            <TRANSFORMFIELD SCALE=\"0\" PRECISION=\"2000\" PORTTYPE=\"INPUT/OUTPUT\" PICTURETEXT=\"\" NAME=\"WORK_NAME\" DESCRIPTION=\"\" DEFAULTVALUE=\"\" DATATYPE=\"string\"/>\n",
      "            <TRANSFORMFIELD SCALE=\"0\" PRECISION=\"15\" PORTTYPE=\"INPUT/OUTPUT\" PICTURETEXT=\"\" NAME=\"WORK_INN\" DESCRIPTION=\"\" DEFAULTVALUE=\"\" DATATYPE=\"string\"/>\n",
      "            <TRANSFORMFIELD SCALE=\"0\" PRECISION=\"15\" PORTTYPE=\"INPUT/OUTPUT\" PICTURETEXT=\"\" NAME=\"WORK_OGRN\" DESCRIPTION=\"\" DEFAULTVALUE=\"\" DATATYPE=\"string\"/>\n",
      "            <TRANSFORMFIELD SCALE=\"0\" PRECISION=\"4000\" PORTTYPE=\"INPUT/OUTPUT\" PICTURETEXT=\"\" NAME=\"WORK_PHONE\" DESCRIPTION=\"\" DEFAULTVALUE=\"\" DATATYPE=\"string\"/>\n",
      "            <TRANSFORMFIELD SCALE=\"0\" PRECISION=\"2000\" PORTTYPE=\"INPUT/OUTPUT\" PICTURETEXT=\"\" NAME=\"WORK_ADDRESS\" DESCRIPTION=\"\" DEFAULTVALUE=\"\" DATATYPE=\"string\"/>\n",
      "            <TRANSFORMFIELD SCALE=\"0\" PRECISION=\"2000\" PORTTYPE=\"INPUT/OUTPUT\" PICTURETEXT=\"\" NAME=\"WORK_POSITION\" DESCRIPTION=\"\" DEFAULTVALUE=\"\" DATATYPE=\"string\"/>\n",
      "            <TRANSFORMFIELD SCALE=\"0\" PRECISION=\"4000\" PORTTYPE=\"INPUT/OUTPUT\" PICTURETEXT=\"\" NAME=\"OCCUPATION_CCD\" DESCRIPTION=\"\" DEFAULTVALUE=\"\" DATATYPE=\"string\"/>\n",
      "            <TRANSFORMFIELD SCALE=\"0\" PRECISION=\"4000\" PORTTYPE=\"INPUT/OUTPUT\" PICTURETEXT=\"\" NAME=\"OKOPF_CCD\" DESCRIPTION=\"\" DEFAULTVALUE=\"\" DATATYPE=\"string\"/>\n",
      "            <TRANSFORMFIELD SCALE=\"0\" PRECISION=\"4000\" PORTTYPE=\"INPUT/OUTPUT\" PICTURETEXT=\"\" NAME=\"DIRECTION_ORG_CCD\" DESCRIPTION=\"\" DEFAULTVALUE=\"\" DATATYPE=\"string\"/>\n",
      "            <TRANSFORMFIELD SCALE=\"0\" PRECISION=\"15\" PORTTYPE=\"INPUT/OUTPUT\" PICTURETEXT=\"\" NAME=\"WORK_YEAR\" DESCRIPTION=\"\" DEFAULTVALUE=\"\" DATATYPE=\"double\"/>\n",
      "            <TRANSFORMFIELD SCALE=\"0\" PRECISION=\"4000\" PORTTYPE=\"INPUT/OUTPUT\" PICTURETEXT=\"\" NAME=\"WORK_YEAR5\" DESCRIPTION=\"\" DEFAULTVALUE=\"\" DATATYPE=\"string\"/>\n",
      "            <TRANSFORMFIELD SCALE=\"0\" PRECISION=\"4000\" PORTTYPE=\"INPUT/OUTPUT\" PICTURETEXT=\"\" NAME=\"WORK_INCOME\" DESCRIPTION=\"\" DEFAULTVALUE=\"\" DATATYPE=\"string\"/>\n",
      "            <TABLEATTRIBUTE VALUE=\"select 'A|#%' || sr.reference || '|%#' || sr.branch as counterparty_employee_ccd,\n",
      "  /*Контрагент-работник*/\n",
      "  'L|#%' || swi.eid_firma as counterparty_empoyer_ccd,\n",
      "  /*Контрагент-работодатель*/\n",
      "  swi.work_name,\n",
      "  /*Наименование работодателя*/\n",
      "  swi.work_inn,\n",
      "  /*ИНН работодателя*/\n",
      "  swi.work_ogrn,\n",
      "  /*ОГРН организации-работодателя потенциального клиента*/\n",
      "  sra1.attr_value as work_phone,\n",
      "  /*Телефон работодателя*/\n",
      "  swi.work_address,\n",
      "  /*Адрес места работы*/\n",
      "  swi.work_position,\n",
      "  /*Наименование должности*/\n",
      "  'A|#%' || sra2.attr_value as occupation_ccd,\n",
      "  /*Род занятий*/\n",
      "  'S|#%' || swi.work_orgtype3 as okopf_ccd,\n",
      "  /*ОКОПФ*/\n",
      "  'A|#%' || sra5.attr_value as direction_org_ccd,\n",
      "  /*Направление деятельности организации*/\n",
      "  swi.work_year,\n",
      "  /*Стаж на текущем месте работы*/\n",
      "  sra3.attr_value as work_year5,\n",
      "  /*Стаж общий*/\n",
      "  sra4.attr_value as work_income\n",
      "  /*Дата начала трудового договора*/\n",
      "from ods_010.tbl_scoring_request sr\n",
      "left join ods_010.tbl_scoring_work_info swi\n",
      "on sr.reference=swi.reference_req\n",
      "  and sr.branch=swi.branch_req\n",
      "  and swi.dml_type&lt;&gt;'D'\n",
      "left join ods_010.tbl_scoring_request_attr sra1\n",
      "on sra1.reference=sr.reference\n",
      "  and sra1.branch=sr.branch\n",
      "  and sra1.attr_key = 'WORK_PHONE'\n",
      "  and sra1.dml_type&lt;&gt;'D'\n",
      "left join ods_010.tbl_scoring_request_attr sra2\n",
      "on sra2.reference=sr.reference\n",
      "  and sra2.branch=sr.branch\n",
      "  and sra2.attr_key = 'WORK_OCCUPATION'\n",
      "  and sra2.dml_type&lt;&gt;'D'\n",
      "left join ods_010.tbl_scoring_request_attr sra3\n",
      "on sra3.reference=sr.reference\n",
      "  and sra3.branch=sr.branch\n",
      "  and sra3.attr_key = 'WORK_YEAR5'\n",
      "  and sra3.dml_type&lt;&gt;'D'\n",
      "left join ods_010.tbl_scoring_request_attr sra4\n",
      "on sra4.reference=sr.reference\n",
      "  and sra4.branch=sr.branch\n",
      "  and sra4.attr_key = 'WORK_INCOME'\n",
      "  and sra4.dml_type&lt;&gt;'D'\n",
      "left join ods_010.tbl_scoring_request_attr sra5\n",
      "on sra5.reference=sr.reference\n",
      "  and sra5.branch=sr.branch\n",
      "  and sra5.attr_key = 'WORK_SPHERE'\n",
      "  and sra5.dml_type&lt;&gt;'D'\n",
      "where sr.dml_type&lt;&gt;'D'\" NAME=\"Sql Query\"/>\n",
      "            <TABLEATTRIBUTE VALUE=\"\" NAME=\"User Defined Join\"/>\n",
      "            <TABLEATTRIBUTE VALUE=\"\" NAME=\"Source Filter\"/>\n",
      "            <TABLEATTRIBUTE VALUE=\"0\" NAME=\"Number Of Sorted Ports\"/>\n",
      "            <TABLEATTRIBUTE VALUE=\"Normal\" NAME=\"Tracing Level\"/>\n",
      "            <TABLEATTRIBUTE VALUE=\"NO\" NAME=\"Select Distinct\"/>\n",
      "            <TABLEATTRIBUTE VALUE=\"NO\" NAME=\"Is Partitionable\"/>\n",
      "            <TABLEATTRIBUTE VALUE=\"\" NAME=\"Pre SQL\"/>\n",
      "            <TABLEATTRIBUTE VALUE=\"\" NAME=\"Post SQL\"/>\n",
      "            <TABLEATTRIBUTE VALUE=\"NO\" NAME=\"Output is deterministic\"/>\n",
      "            <TABLEATTRIBUTE VALUE=\"Never\" NAME=\"Output is repeatable\"/>\n",
      "        </TRANSFORMATION><TRANSFORMFIELD/>\n"
     ]
    },
    {
     "data": {
      "text/plain": []
     },
     "metadata": {},
     "output_type": "display_data"
    }
   ],
   "source": [
    "println(mappping.child(1).child(1).child(1).child(1) ++ <TRANSFORMFIELD/>)"
   ]
  },
  {
   "cell_type": "code",
   "execution_count": 31,
   "metadata": {
    "collapsed": false
   },
   "outputs": [
    {
     "data": {
      "text/plain": [
       "\u001b[36mxmltxt\u001b[0m: \u001b[32mList\u001b[0m[\u001b[32mString\u001b[0m] = \u001b[33mList\u001b[0m(\n",
       "  \u001b[32m\"\"\"\n",
       "<?xml version=\"1.0\" encoding=\"windows-1251\"?>\n",
       "  \"\"\"\u001b[0m,\n",
       "  \u001b[32m\"\"\"\n",
       "<!DOCTYPE POWERMART SYSTEM \"powrmart.dtd\">\n",
       "  \"\"\"\u001b[0m,\n",
       "  \u001b[32m\"\"\"\n",
       "<POWERMART CREATION_DATE=\"04/27/2016 11:58:38\" REPOSITORY_VERSION=\"182.91\">\n",
       "  \"\"\"\u001b[0m,\n",
       "  \u001b[32m\"\"\"\n",
       "<REPOSITORY NAME=\"RS_TST\" VERSION=\"182\" CODEPAGE=\"MS1251\" DATABASETYPE=\"Oracle\">\n",
       "  \"\"\"\u001b[0m,\n",
       "  \u001b[32m\"\"\"\n",
       "<FOLDER NAME=\"EDW_PREDDS_001\" GROUP=\"\" OWNER=\"Administrator\" SHARED=\"NOTSHARED\" DESCRIPTION=\"\" PERMI\u001b[33m...\u001b[0m"
      ]
     },
     "metadata": {},
     "output_type": "display_data"
    }
   ],
   "source": [
    "val xmltxt = scala.io.Source.fromFile(\"C:\\\\Users\\\\Andrey.Zheltov\\\\Downloads\\\\wf_PREDDS_001_APP_ADD_ATTR.XML\").getLines.toList"
   ]
  },
  {
   "cell_type": "code",
   "execution_count": 32,
   "metadata": {
    "collapsed": false
   },
   "outputs": [
    {
     "data": {
      "text/plain": [
       "\u001b[36mres26\u001b[0m: \u001b[32mString\u001b[0m = \u001b[32m\"\"\"\n",
       "<POWERMART CREATION_DATE=\"04/27/2016 11:58:38\" REPOSITORY_VERSION=\"182.91\">\n",
       "\"\"\"\u001b[0m"
      ]
     },
     "metadata": {},
     "output_type": "display_data"
    }
   ],
   "source": [
    "xmltxt(2)"
   ]
  },
  {
   "cell_type": "code",
   "execution_count": 33,
   "metadata": {
    "collapsed": false
   },
   "outputs": [
    {
     "data": {
      "text/plain": [
       "\u001b[36mcomment\u001b[0m: \u001b[32mString\u001b[0m = \u001b[32m\"\"\"\n",
       "<!--<!DOCTYPE POWERMART SYSTEM \"powrmart.dtd\">-->\n",
       "\"\"\"\u001b[0m"
      ]
     },
     "metadata": {},
     "output_type": "display_data"
    }
   ],
   "source": [
    "val comment = \"<!--\" + xmltxt(1) + \"-->\""
   ]
  },
  {
   "cell_type": "code",
   "execution_count": 34,
   "metadata": {
    "collapsed": false
   },
   "outputs": [
    {
     "data": {
      "text/plain": [
       "\u001b[36mres28\u001b[0m: \u001b[32mSeq\u001b[0m[\u001b[32mString\u001b[0m] = \u001b[33mList\u001b[0m(\n",
       "  \u001b[32m\"\"\"\n",
       "<!--<!DOCTYPE POWERMART SYSTEM \"powrmart.dtd\">-->\n",
       "  \"\"\"\u001b[0m\n",
       ")"
      ]
     },
     "metadata": {},
     "output_type": "display_data"
    }
   ],
   "source": [
    "Seq(comment)"
   ]
  },
  {
   "cell_type": "code",
   "execution_count": 43,
   "metadata": {
    "collapsed": false
   },
   "outputs": [
    {
     "data": {
      "text/plain": [
       "\u001b[36mxmltxtp\u001b[0m: \u001b[32mList\u001b[0m[\u001b[32mString\u001b[0m] = \u001b[33mList\u001b[0m(\n",
       "  \u001b[32m\"\"\"\n",
       "<?xml version=\"1.0\" encoding=\"windows-1251\"?>\n",
       "  \"\"\"\u001b[0m,\n",
       "  \u001b[32m\"\"\"\n",
       "<!--<!DOCTYPE POWERMART SYSTEM \"powrmart.dtd\">-->\n",
       "  \"\"\"\u001b[0m,\n",
       "  \u001b[32m\"\"\"\n",
       "<POWERMART CREATION_DATE=\"04/27/2016 11:58:38\" REPOSITORY_VERSION=\"182.91\">\n",
       "  \"\"\"\u001b[0m,\n",
       "  \u001b[32m\"\"\"\n",
       "<REPOSITORY NAME=\"RS_TST\" VERSION=\"182\" CODEPAGE=\"MS1251\" DATABASETYPE=\"Oracle\">\n",
       "  \"\"\"\u001b[0m,\n",
       "  \u001b[32m\"\"\"\n",
       "<FOLDER NAME=\"EDW_PREDDS_001\" GROUP=\"\" OWNER=\"Administrator\" SHARED=\"NOTSHARED\" DESCRIPTION=\"\" PERMI\u001b[33m...\u001b[0m"
      ]
     },
     "metadata": {},
     "output_type": "display_data"
    }
   ],
   "source": [
    "val xmltxtp = xmltxt.patch(1, Seq(comment), 1)"
   ]
  },
  {
   "cell_type": "code",
   "execution_count": 62,
   "metadata": {
    "collapsed": false
   },
   "outputs": [
    {
     "data": {
      "text/plain": [
       "\u001b[32mimport \u001b[36mjava.io._\u001b[0m"
      ]
     },
     "metadata": {},
     "output_type": "display_data"
    }
   ],
   "source": [
    "import java.io._"
   ]
  },
  {
   "cell_type": "code",
   "execution_count": 63,
   "metadata": {
    "collapsed": false
   },
   "outputs": [
    {
     "data": {
      "text/plain": [
       "\u001b[36mfile\u001b[0m: \u001b[32mFile\u001b[0m = C:\\Users\\Andrey.Zheltov\\Downloads\\wf_PREDDS_001_APP_ADD_ATTR_com.XML"
      ]
     },
     "metadata": {},
     "output_type": "display_data"
    }
   ],
   "source": [
    "val file = new File(\"C:\\\\Users\\\\Andrey.Zheltov\\\\Downloads\\\\wf_PREDDS_001_APP_ADD_ATTR_com.XML\")"
   ]
  },
  {
   "cell_type": "code",
   "execution_count": 64,
   "metadata": {
    "collapsed": false
   },
   "outputs": [
    {
     "data": {
      "text/plain": [
       "\u001b[36mbw\u001b[0m: \u001b[32mBufferedWriter\u001b[0m = java.io.BufferedWriter@7e99fb83"
      ]
     },
     "metadata": {},
     "output_type": "display_data"
    }
   ],
   "source": [
    "val bw = new BufferedWriter(new FileWriter(file))"
   ]
  },
  {
   "cell_type": "code",
   "execution_count": 65,
   "metadata": {
    "collapsed": false
   },
   "outputs": [
    {
     "data": {
      "text/plain": [
       "\u001b[36mres56_0\u001b[0m: \u001b[32mList\u001b[0m[\u001b[32mUnit\u001b[0m] = \u001b[33mList\u001b[0m(\n",
       "  (),\n",
       "  (),\n",
       "  (),\n",
       "  (),\n",
       "  (),\n",
       "  (),\n",
       "  (),\n",
       "  (),\n",
       "  (),\n",
       "  (),\n",
       "  (),\n",
       "  (),\n",
       "  (),\n",
       "  (),\n",
       "\u001b[33m...\u001b[0m"
      ]
     },
     "metadata": {},
     "output_type": "display_data"
    }
   ],
   "source": [
    "xmltxtp.map(st => bw.write(st + \"\\n\"))\n",
    "bw.close()"
   ]
  },
  {
   "cell_type": "code",
   "execution_count": 66,
   "metadata": {
    "collapsed": false
   },
   "outputs": [
    {
     "data": {
      "text/plain": [
       "\u001b[36mxml\u001b[0m: \u001b[32mxml\u001b[0m.\u001b[32mElem\u001b[0m = \u001b[33mElem\u001b[0m(\n",
       "  <POWERMART REPOSITORY_VERSION=\"182.91\" CREATION_DATE=\"04/27/2016 11:58:38\">\n",
       "<REPOSITORY DATABASETYPE=\"Oracle\" CODEPAGE=\"MS1251\" VERSION=\"182\" NAME=\"RS_TST\">\n",
       "<FOLDER UUID=\"d318e01d-c840-4918-a8c9-969f0504dfc1\" PERMISSIONS=\"rwx---r--\" DESCRIPTION=\"\" SHARED=\"NOTSHARED\" OWNER=\"Administrator\" GROUP=\"\" NAME=\"EDW_PREDDS_001\">\n",
       "    <TASK VERSIONNUMBER=\"1\" TYPE=\"Command\" REUSABLE=\"YES\" NAME=\"cmd_ETLFW_START_JOB\" DESCRIPTION=\"Команда для запуска процесса управления Джобами PREDDS\">\n",
       "        <ATTRIBUTE VALUE=\"YES\" NAME=\"Fail task if any command fails\"/>\n",
       "        <ATTRIBUTE VALUE=\"Restart task\" NAME=\"Recovery Strategy\"/>\n",
       "        <VALUEPAIR VALUE=\" python /home/etl/etlfw/startjob.py  $PMFolderName $PMWorkflowName $PMRootDir/ParamFiles/EDW_PREDDS_001.$PMWorkflowName.prm $PMWorkflowRunId $PMIntegrationServiceName\" REVERSEASSIGNMENT=\"NO\" NAME=\"ETLFW Start Job wf_STG_CDC_002_ACNT_CONTRACT\" EXECORDER=\"1\"/>\n",
       "    </TASK>\n",
       "    <TASK VERSIONNUMBER=\"1\" TYPE=\"Command\" REUSABLE=\"YES\" NAME=\"cmd_ETLFW_FINISH_JOB\" DESCRIPTION=\"Команда для завершения процесса управления Джобами PREDDS\">\n",
       "\u001b[33m...\u001b[0m"
      ]
     },
     "metadata": {},
     "output_type": "display_data"
    }
   ],
   "source": [
    "val xml = scala.xml.XML.loadFile(\"C:\\\\Users\\\\Andrey.Zheltov\\\\Downloads\\\\wf_PREDDS_001_APP_ADD_ATTR_com.XML\")"
   ]
  },
  {
   "cell_type": "code",
   "execution_count": 71,
   "metadata": {
    "collapsed": false
   },
   "outputs": [
    {
     "data": {
      "text/plain": [
       "\u001b[36mres62\u001b[0m: \u001b[32mscala\u001b[0m.\u001b[32mxml\u001b[0m.\u001b[32mNodeSeq\u001b[0m = \u001b[33mNodeSeq\u001b[0m(\n",
       "  <ATTRIBUTE VALUE=\"call etl.etl_utils_api.predds_trunc_part_prc('APP_ADD_ATTR', '001')\" NAME=\"Pre SQL\"/>,\n",
       "  <ATTRIBUTE VALUE=\"call etl.etl_utils_api.get_inc_tab_stats('PREDDS','APP_ADD_ATTR')\" NAME=\"Post SQL\"/>,\n",
       "  <ATTRIBUTE VALUE=\"ODS_001.GUIDES\" NAME=\"Lookup table name\"/>,\n",
       "  <ATTRIBUTE VALUE=\"type_doc in (6032, 4095, 1309, 3713, 3420)\" NAME=\"Lookup Source Filter\"/>,\n",
       "  <ATTRIBUTE VALUE=\"Relational:EDW_ETL\" NAME=\"Connection Information\"/>,\n",
       "  <ATTRIBUTE VALUE=\"ODS_001.SCORING_FORMS_VARIABLE\" NAME=\"Lookup table name\"/>,\n",
       "  <ATTRIBUTE VALUE=\"Relational:EDW_ETL\" NAME=\"Connection Information\"/>,\n",
       "  <ATTRIBUTE VALUE=\"ODS_001.SCORING_FORMS_VARIABLE\" NAME=\"Lookup table name\"/>,\n",
       "  <ATTRIBUTE VALUE=\"Relational:EDW_ETL\" NAME=\"Connection Information\"/>,\n",
       "  <ATTRIBUTE VALUE=\"ODS_001.SCORING_FORMS_VARIABLE\" NAME=\"Lookup table name\"/>,\n",
       "  <ATTRIBUTE VALUE=\"Relational:EDW_ETL\" NAME=\"Connection Information\"/>,\n",
       "  <ATTRIBUTE VALUE=\"ODS_001.SCORING_FORMS_VARIABLE\" NAME=\"Lookup table name\"/>,\n",
       "\u001b[33m...\u001b[0m"
      ]
     },
     "metadata": {},
     "output_type": "display_data"
    }
   ],
   "source": [
    "xml \\\\ \"SESSTRANSFORMATIONINST\" \\\\ \"ATTRIBUTE\""
   ]
  },
  {
   "cell_type": "code",
   "execution_count": 86,
   "metadata": {
    "collapsed": false
   },
   "outputs": [
    {
     "data": {
      "text/plain": [
       "\u001b[36mres77\u001b[0m: \u001b[32mscala\u001b[0m.\u001b[32mxml\u001b[0m.\u001b[32mNodeSeq\u001b[0m = \u001b[33mNodeSeq\u001b[0m(\n",
       "  EDW_PREDDS,\n",
       "  EDW_ETL,\n",
       "  EDW_ETL,\n",
       "  EDW_ETL,\n",
       "  EDW_ETL,\n",
       "  EDW_XREFMAP,\n",
       "  EDW_IDMAP,\n",
       "  EDW_XREFMAP,\n",
       "  EDW_IDMAP,\n",
       "  EDW_IDMAP,\n",
       "  EDW_XREFMAP,\n",
       "  EDW_XREFMAP,\n",
       "  EDW_XREFMAP,\n",
       "  EDW_IDMAP,\n",
       "\u001b[33m...\u001b[0m"
      ]
     },
     "metadata": {},
     "output_type": "display_data"
    }
   ],
   "source": [
    "xml \\\\ \"SESSIONEXTENSION\" \\\\ \"@CONNECTIONNAME\""
   ]
  },
  {
   "cell_type": "code",
   "execution_count": 227,
   "metadata": {
    "collapsed": false
   },
   "outputs": [
    {
     "data": {
      "text/plain": [
       "\u001b[36mres209\u001b[0m: \u001b[32mcollection\u001b[0m.\u001b[32mimmutable\u001b[0m.\u001b[32mSeq\u001b[0m[((\u001b[32mNode\u001b[0m, \u001b[32mNode\u001b[0m), \u001b[32mNode\u001b[0m)] = \u001b[33mList\u001b[0m(\n",
       "  \u001b[33m\u001b[0m(\n",
       "    \u001b[33m\u001b[0m(\u001b[33mText\u001b[0m(APP_ADD_ATTR), \u001b[33mText\u001b[0m(Target Definition)),\n",
       "    \u001b[33mText\u001b[0m(EDW_PREDDS)\n",
       "  ),\n",
       "  \u001b[33m\u001b[0m(\n",
       "    \u001b[33m\u001b[0m(\u001b[33mText\u001b[0m(LKP_ODS_001_GUIDES), \u001b[33mText\u001b[0m(Lookup Procedure)),\n",
       "    \u001b[33mText\u001b[0m(EDW_ETL)\n",
       "  ),\n",
       "  \u001b[33m\u001b[0m(\n",
       "    \u001b[33m\u001b[0m(\u001b[33mText\u001b[0m(LKP_ODS_001_SCORING_VARIABLE_SALES_PARAMS), \u001b[33mText\u001b[0m(Lookup Procedure)),\n",
       "    \u001b[33mText\u001b[0m(EDW_ETL)\n",
       "  ),\n",
       "  \u001b[33m\u001b[0m(\n",
       "\u001b[33m...\u001b[0m"
      ]
     },
     "metadata": {},
     "output_type": "display_data"
    }
   ],
   "source": [
    "xml \\\\ \"SESSIONEXTENSION\" \\\\ \"@SINSTANCENAME\" zip xml \\\\ \"SESSIONEXTENSION\" \\\\ \"@TRANSFORMATIONTYPE\" zip xml \\\\ \"SESSIONEXTENSION\" \\\\ \"@CONNECTIONNAME\""
   ]
  },
  {
   "cell_type": "code",
   "execution_count": 454,
   "metadata": {
    "collapsed": false
   },
   "outputs": [
    {
     "data": {
      "text/plain": [
       "\u001b[36mInputXml\u001b[0m: \u001b[32mElem\u001b[0m = \u001b[33mElem\u001b[0m(\n",
       "  <root>\n",
       "    <subnode>\n",
       "        <version>1</version>\n",
       "    </subnode>\n",
       "    <contents>\n",
       "        <version>1</version>\n",
       "        <name first=\"Andrey\" second=\"Zheltov\"></name>\n",
       "    </contents>\n",
       "</root>\n",
       ")"
      ]
     },
     "metadata": {},
     "output_type": "display_data"
    }
   ],
   "source": [
    "val InputXml =\n",
    "<root>\n",
    "    <subnode>\n",
    "        <version>1</version>\n",
    "    </subnode>\n",
    "    <contents>\n",
    "        <version>1</version>\n",
    "        <name first=\"Andrey\" second=\"Zheltov\"></name>\n",
    "    </contents>\n",
    "</root>"
   ]
  },
  {
   "cell_type": "code",
   "execution_count": 455,
   "metadata": {
    "collapsed": false
   },
   "outputs": [
    {
     "data": {
      "text/plain": [
       "\u001b[36mres402\u001b[0m: \u001b[32mElem\u001b[0m = \u001b[33mElem\u001b[0m(\n",
       "  <root>\n",
       "    <subnode>\n",
       "        <version>1</version>\n",
       "    </subnode>\n",
       "    <contents>\n",
       "        <version>1</version>\n",
       "        <name first=\"Andrey\" second=\"Zheltov\"></name>\n",
       "    </contents>\n",
       "</root>\n",
       ")"
      ]
     },
     "metadata": {},
     "output_type": "display_data"
    }
   ],
   "source": [
    "InputXml"
   ]
  },
  {
   "cell_type": "code",
   "execution_count": 456,
   "metadata": {
    "collapsed": false
   },
   "outputs": [
    {
     "data": {
      "text/plain": [
       "\u001b[32mimport \u001b[36mscala.xml._\u001b[0m\n",
       "\u001b[32mimport \u001b[36mscala.xml.transform._\u001b[0m"
      ]
     },
     "metadata": {},
     "output_type": "display_data"
    }
   ],
   "source": [
    "import scala.xml._\n",
    "import scala.xml.transform._"
   ]
  },
  {
   "cell_type": "code",
   "execution_count": 457,
   "metadata": {
    "collapsed": false
   },
   "outputs": [
    {
     "data": {
      "text/plain": [
       "defined \u001b[32mobject \u001b[36mt1\u001b[0m"
      ]
     },
     "metadata": {},
     "output_type": "display_data"
    }
   ],
   "source": [
    "object t1 extends RewriteRule {\n",
    "  override def transform(n: Node): Seq[Node] = n match {\n",
    "    case Elem(prefix, \"version\", attribs, scope, _*)  =>\n",
    "      Elem(prefix, \"version\", attribs, scope, Text(\"jh882\"))\n",
    "    case other => other\n",
    "  }\n",
    "}"
   ]
  },
  {
   "cell_type": "code",
   "execution_count": 458,
   "metadata": {
    "collapsed": false
   },
   "outputs": [
    {
     "data": {
      "text/plain": [
       "defined \u001b[32mobject \u001b[36mrt1\u001b[0m"
      ]
     },
     "metadata": {},
     "output_type": "display_data"
    }
   ],
   "source": [
    "object rt1 extends RuleTransformer(t1)"
   ]
  },
  {
   "cell_type": "code",
   "execution_count": 462,
   "metadata": {
    "collapsed": false
   },
   "outputs": [
    {
     "data": {
      "text/plain": [
       "defined \u001b[32mobject \u001b[36mt3\u001b[0m"
      ]
     },
     "metadata": {},
     "output_type": "display_data"
    }
   ],
   "source": [
    "object t3 extends RewriteRule {\n",
    "  override def transform(n: Node): Seq[Node] = n match {\n",
    "    case Elem(prefix, \"name\", attribs, scope, _*)  =>\n",
    "      Elem(prefix, \"name\", attribs, scope, Text(\"MMM\"))\n",
    "    case other => other\n",
    "  }\n",
    "}"
   ]
  },
  {
   "cell_type": "code",
   "execution_count": 463,
   "metadata": {
    "collapsed": false
   },
   "outputs": [
    {
     "data": {
      "text/plain": [
       "defined \u001b[32mobject \u001b[36mrt3\u001b[0m"
      ]
     },
     "metadata": {},
     "output_type": "display_data"
    }
   ],
   "source": [
    "object rt3 extends RuleTransformer(t3)"
   ]
  },
  {
   "cell_type": "code",
   "execution_count": 464,
   "metadata": {
    "collapsed": false
   },
   "outputs": [
    {
     "data": {
      "text/plain": [
       "defined \u001b[32mobject \u001b[36mt2\u001b[0m"
      ]
     },
     "metadata": {},
     "output_type": "display_data"
    }
   ],
   "source": [
    "object t2 extends RewriteRule {\n",
    "  override def transform(n: Node): Seq[Node] = n match {\n",
    "    case an @ Elem(_, \"subnode\", _, _, _*) => rt1(an)\n",
    "    case sn @ Elem(_, \"contents\", _, _, _*) => rt3(sn)\n",
    "    case other => other\n",
    "  }\n",
    "}"
   ]
  },
  {
   "cell_type": "code",
   "execution_count": 465,
   "metadata": {
    "collapsed": false
   },
   "outputs": [
    {
     "data": {
      "text/plain": [
       "defined \u001b[32mobject \u001b[36mrt2\u001b[0m"
      ]
     },
     "metadata": {},
     "output_type": "display_data"
    }
   ],
   "source": [
    "object rt2 extends RuleTransformer(t2)"
   ]
  },
  {
   "cell_type": "code",
   "execution_count": 466,
   "metadata": {
    "collapsed": false
   },
   "outputs": [
    {
     "data": {
      "text/plain": [
       "\u001b[36mres412\u001b[0m: \u001b[32mNode\u001b[0m = \u001b[33mElem\u001b[0m(\n",
       "  <root>\n",
       "    <subnode>\n",
       "        <version>jh882</version>\n",
       "    </subnode>\n",
       "    <contents>\n",
       "        <version>1</version>\n",
       "        <name first=\"Andrey\" second=\"Zheltov\">MMM</name>\n",
       "    </contents>\n",
       "</root>\n",
       ")"
      ]
     },
     "metadata": {},
     "output_type": "display_data"
    }
   ],
   "source": [
    "rt2(InputXml)"
   ]
  },
  {
   "cell_type": "code",
   "execution_count": 215,
   "metadata": {
    "collapsed": false
   },
   "outputs": [
    {
     "data": {
      "text/plain": [
       "\u001b[36ma\u001b[0m: \u001b[32mString\u001b[0m = \u001b[32m\"1536\"\u001b[0m"
      ]
     },
     "metadata": {},
     "output_type": "display_data"
    }
   ],
   "source": [
    "val a = \"1536\";"
   ]
  },
  {
   "cell_type": "code",
   "execution_count": 216,
   "metadata": {
    "collapsed": false
   },
   "outputs": [
    {
     "data": {
      "text/plain": [
       "\u001b[36mres203\u001b[0m: \u001b[32mAny\u001b[0m = OTHER"
      ]
     },
     "metadata": {},
     "output_type": "display_data"
    }
   ],
   "source": [
    "a match {\n",
    "    case my @ s if s.contains(\"d\") || s.contains(\"fs\") => s + \"___100500\"\n",
    "    case str @ \"3\" => 1\n",
    "    case other => \"OTHER\"\n",
    "}"
   ]
  },
  {
   "cell_type": "code",
   "execution_count": 228,
   "metadata": {
    "collapsed": false
   },
   "outputs": [
    {
     "data": {
      "text/plain": [
       "\u001b[36mtst\u001b[0m: \u001b[32mcollection\u001b[0m.\u001b[32mimmutable\u001b[0m.\u001b[32mSeq\u001b[0m[((\u001b[32mNode\u001b[0m, \u001b[32mNode\u001b[0m), \u001b[32mNode\u001b[0m)] = \u001b[33mList\u001b[0m(\n",
       "  \u001b[33m\u001b[0m(\n",
       "    \u001b[33m\u001b[0m(\u001b[33mText\u001b[0m(APP_ADD_ATTR), \u001b[33mText\u001b[0m(Target Definition)),\n",
       "    \u001b[33mText\u001b[0m(EDW_PREDDS)\n",
       "  ),\n",
       "  \u001b[33m\u001b[0m(\n",
       "    \u001b[33m\u001b[0m(\u001b[33mText\u001b[0m(LKP_ODS_001_GUIDES), \u001b[33mText\u001b[0m(Lookup Procedure)),\n",
       "    \u001b[33mText\u001b[0m(EDW_ETL)\n",
       "  ),\n",
       "  \u001b[33m\u001b[0m(\n",
       "    \u001b[33m\u001b[0m(\u001b[33mText\u001b[0m(LKP_ODS_001_SCORING_VARIABLE_SALES_PARAMS), \u001b[33mText\u001b[0m(Lookup Procedure)),\n",
       "    \u001b[33mText\u001b[0m(EDW_ETL)\n",
       "  ),\n",
       "  \u001b[33m\u001b[0m(\n",
       "\u001b[33m...\u001b[0m"
      ]
     },
     "metadata": {},
     "output_type": "display_data"
    }
   ],
   "source": [
    "val tst = xml \\\\ \"SESSIONEXTENSION\" \\\\ \"@SINSTANCENAME\" zip xml \\\\ \"SESSIONEXTENSION\" \\\\ \"@TRANSFORMATIONTYPE\" zip xml \\\\ \"SESSIONEXTENSION\" \\\\ \"@CONNECTIONNAME\""
   ]
  },
  {
   "cell_type": "code",
   "execution_count": 230,
   "metadata": {
    "collapsed": false
   },
   "outputs": [
    {
     "data": {
      "text/plain": [
       "defined \u001b[32mfunction \u001b[36mflat\u001b[0m"
      ]
     },
     "metadata": {},
     "output_type": "display_data"
    }
   ],
   "source": [
    "def flat[A,B,C](t: ((A,B),C)) = (t._1._1.toString, t._1._2.toString, t._2.toString)"
   ]
  },
  {
   "cell_type": "code",
   "execution_count": 235,
   "metadata": {
    "collapsed": false
   },
   "outputs": [
    {
     "data": {
      "text/plain": [
       "\u001b[36mtstflat\u001b[0m: \u001b[32mcollection\u001b[0m.\u001b[32mimmutable\u001b[0m.\u001b[32mSeq\u001b[0m[(\u001b[32mString\u001b[0m, \u001b[32mString\u001b[0m, \u001b[32mString\u001b[0m)] = \u001b[33mList\u001b[0m(\n",
       "  \u001b[33m\u001b[0m(\u001b[32m\"APP_ADD_ATTR\"\u001b[0m, \u001b[32m\"Target Definition\"\u001b[0m, \u001b[32m\"EDW_PREDDS\"\u001b[0m),\n",
       "  \u001b[33m\u001b[0m(\u001b[32m\"LKP_ODS_001_GUIDES\"\u001b[0m, \u001b[32m\"Lookup Procedure\"\u001b[0m, \u001b[32m\"EDW_ETL\"\u001b[0m),\n",
       "  \u001b[33m\u001b[0m(\n",
       "    \u001b[32m\"LKP_ODS_001_SCORING_VARIABLE_SALES_PARAMS\"\u001b[0m,\n",
       "    \u001b[32m\"Lookup Procedure\"\u001b[0m,\n",
       "    \u001b[32m\"EDW_ETL\"\u001b[0m\n",
       "  ),\n",
       "  \u001b[33m\u001b[0m(\n",
       "    \u001b[32m\"LKP_ODS_001_SCORING_VARIABLE_SALES_REASON\"\u001b[0m,\n",
       "    \u001b[32m\"Lookup Procedure\"\u001b[0m,\n",
       "    \u001b[32m\"EDW_ETL\"\u001b[0m\n",
       "  ),\n",
       "  \u001b[33m\u001b[0m(\n",
       "    \u001b[32m\"LKP_ODS_001_SCORING_VARIABLE_SALE_TYPE\"\u001b[0m,\n",
       "\u001b[33m...\u001b[0m"
      ]
     },
     "metadata": {},
     "output_type": "display_data"
    }
   ],
   "source": [
    "val tstflat = tst map flat"
   ]
  },
  {
   "cell_type": "code",
   "execution_count": 240,
   "metadata": {
    "collapsed": false
   },
   "outputs": [
    {
     "data": {
      "text/plain": [
       "\u001b[36mtst0\u001b[0m: (\u001b[32mString\u001b[0m, \u001b[32mString\u001b[0m, \u001b[32mString\u001b[0m) = \u001b[33m\u001b[0m(\u001b[32m\"APP_ADD_ATTR\"\u001b[0m, \u001b[32m\"Target Definition\"\u001b[0m, \u001b[32m\"EDW_PREDDS\"\u001b[0m)"
      ]
     },
     "metadata": {},
     "output_type": "display_data"
    }
   ],
   "source": [
    "val tst0 = tstflat(0)"
   ]
  },
  {
   "cell_type": "code",
   "execution_count": 247,
   "metadata": {
    "collapsed": false
   },
   "outputs": [
    {
     "data": {
      "text/plain": [
       "\u001b[36mres222\u001b[0m: \u001b[32mString\u001b[0m = \u001b[32m\"APP_ADD_ATTR\"\u001b[0m"
      ]
     },
     "metadata": {},
     "output_type": "display_data"
    }
   ],
   "source": [
    "tst0._1"
   ]
  },
  {
   "cell_type": "code",
   "execution_count": 256,
   "metadata": {
    "collapsed": false
   },
   "outputs": [
    {
     "data": {
      "text/plain": [
       "\u001b[36mres228\u001b[0m: \u001b[32mString\u001b[0m = \u001b[32m\"EDW_PREDDS\"\u001b[0m"
      ]
     },
     "metadata": {},
     "output_type": "display_data"
    }
   ],
   "source": [
    "tst0 match {\n",
    "    case prod @ s if s._1.contains(\"d\") || s._1.contains(\"fs\") => s._3 + \"_PROD\"\n",
    "    case dont_touch_it @ s if s._2.contains(\"Target\") => s._3\n",
    "    case other => \"OTHER\"\n",
    "}"
   ]
  },
  {
   "cell_type": "code",
   "execution_count": 268,
   "metadata": {
    "collapsed": false
   },
   "outputs": [
    {
     "data": {
      "text/plain": [
       "\u001b[36mtmp\u001b[0m: \u001b[32mString\u001b[0m = \u001b[32m\"gdgdf\"\u001b[0m"
      ]
     },
     "metadata": {},
     "output_type": "display_data"
    }
   ],
   "source": [
    "val tmp = \"gdgdf\""
   ]
  },
  {
   "cell_type": "code",
   "execution_count": 301,
   "metadata": {
    "collapsed": false
   },
   "outputs": [
    {
     "name": "stdout",
     "output_type": "stream",
     "text": [
      "(APP_ADD_ATTR,Target Definition,EDW_PREDDS)\n",
      "(LKP_ODS_001_GUIDES,Lookup Procedure,EDW_ETL_PROD)\n",
      "(LKP_ODS_001_SCORING_VARIABLE_SALES_PARAMS,Lookup Procedure,EDW_ETL_PROD)\n",
      "(LKP_ODS_001_SCORING_VARIABLE_SALES_REASON,Lookup Procedure,EDW_ETL_PROD)\n",
      "(LKP_ODS_001_SCORING_VARIABLE_SALE_TYPE,Lookup Procedure,EDW_ETL_PROD)\n",
      "(mp_xREFMAP_SALES_TYPE.LKP_xREFMAP_SALES_TYPE,Lookup Procedure,EDW_XREFMAP_PROD)\n",
      "(mp_xREFMAP_SALES_TYPE.LKP_IDMAP_xREF_SALES_TYPE,Lookup Procedure,EDW_IDMAP_PROD)\n",
      "(mp_XREFMAP_DISCOUNT_TYPE.LKP_XREFMAP_DISCOUNT_TYPE,Lookup Procedure,EDW_XREFMAP_PROD)\n",
      "(mp_XREFMAP_DISCOUNT_TYPE.LKP_IDMAP_xREF_DISCOUNT_TYPE,Lookup Procedure,EDW_IDMAP_PROD)\n",
      "(mp_xREFMAP_DSA_EMPLOYEE.LKP_IDMAP_xREF_DSA_EMPLOYEE,Lookup Procedure,EDW_IDMAP_PROD)\n",
      "(mp_xREFMAP_DSA_EMPLOYEE.LKP_XREFMAP_DSA_EMPLOYEE,Lookup Procedure,EDW_XREFMAP_PROD)\n",
      "(mp_XREFMAP_SALES.LKP_xREFMAP_SALES,Lookup Procedure,EDW_XREFMAP_PROD)\n",
      "(mp_XREFMAP_AUTOSALON.LKP_XREFMAP_AUTOSALON,Lookup Procedure,EDW_XREFMAP_PROD)\n",
      "(mp_XREFMAP_AUTOSALON.LKP_IDMAP_XREF_AUTOSALON,Lookup Procedure,EDW_IDMAP_PROD)\n",
      "(mp_XREFMAP_CARD_TYPE.LKP_IDMAP_xREF_CARD_TYPE,Lookup Procedure,EDW_IDMAP_PROD)\n",
      "(mp_XREFMAP_CARD_TYPE.LKP_XREFMAP_CARD_TYPE,Lookup Procedure,EDW_XREFMAP_PROD)\n",
      "(LKP_ODS_001_SCORING_VARIABLE_CPA_AGENT,Lookup Procedure,EDW_ETL_PROD)\n",
      "(mp_XREFMAP_CPA_AGENT.LKP_IDMAP_xREF_CARD_TYPE,Lookup Procedure,EDW_IDMAP_PROD)\n",
      "(mp_XREFMAP_CPA_AGENT.LKP_XREFMAP_CPA_AGENT,Lookup Procedure,EDW_XREFMAP_PROD)\n",
      "(DQ_ERROR_EVENT_FACT,Target Definition,EDW_ETLFW)\n",
      "(XREF_BAD,Target Definition,EDW_XREFMAP)\n",
      "(mp_IDMAP_ORPHAN_AGREEM.LKP_IDMAP_AGREEM,Lookup Procedure,EDW_IDMAP)\n",
      "(mp_IDMAP_ORPHAN_EMPLOYEE.LKP_IDMAP_EMPLOYEE,Lookup Procedure,EDW_IDMAP)\n",
      "(mp_USER_ID_TO_CNTRP.BOSS_EMP_ALL,Lookup Procedure,EDW_ETL_PROD)\n",
      "(mp_USER_ID_TO_CNTRP.LKP_ODS_001_USERS,Lookup Procedure,EDW_ETL_PROD)\n",
      "(CA_GET_HFORMS,Source Definition,EDW_TDS)\n",
      "(SQ_CA_GET_HFORMS,Source Qualifier,EDW_TDS_PROD)\n"
     ]
    },
    {
     "data": {
      "text/plain": []
     },
     "metadata": {},
     "output_type": "display_data"
    }
   ],
   "source": [
    "tstflat.foreach(_ match {\n",
    "    case dont_touch_it @ s if s._2.contains(\"Target\") || ((s._1.contains(\"COUNTERPARTY\") || s._1.contains(\"EMPLOYEE\") || s._1.contains(\"QUEST\") || s._1.contains(\"AGREEM\")) && s._1.contains(\"IDMAP\") && !s._1.contains(\"REF\")) || (s._3.contains(\"TDS\") && !s._1.contains(\"SQ\")) => println(s._1, s._2, s._3)\n",
    "    case prod @ s => println(s._1, s._2, s._3 + \"_PROD\")\n",
    "})"
   ]
  },
  {
   "cell_type": "code",
   "execution_count": null,
   "metadata": {
    "collapsed": true
   },
   "outputs": [],
   "source": [
    "object t1 extends RewriteRule {\n",
    "  override def transform(n: Node): Seq[Node] = n match {\n",
    "    case Elem(prefix, \"version\", attribs, scope, _*)  =>\n",
    "      Elem(prefix, \"version\", attribs, scope, Text(\"jh882\"))\n",
    "    case other => other\n",
    "  }\n",
    "}"
   ]
  },
  {
   "cell_type": "code",
   "execution_count": null,
   "metadata": {
    "collapsed": true
   },
   "outputs": [],
   "source": [
    "object rt1 extends RuleTransformer(t1)"
   ]
  },
  {
   "cell_type": "code",
   "execution_count": null,
   "metadata": {
    "collapsed": true
   },
   "outputs": [],
   "source": [
    "object t3 extends RewriteRule {\n",
    "  override def transform(n: Node): Seq[Node] = n match {\n",
    "    case Elem(prefix, \"name\", attribs, scope, _*)  =>\n",
    "      Elem(prefix, \"name\", attribs, scope, Text(\"MMM\"))\n",
    "    case other => other\n",
    "  }\n",
    "}"
   ]
  },
  {
   "cell_type": "code",
   "execution_count": null,
   "metadata": {
    "collapsed": true
   },
   "outputs": [],
   "source": [
    "object rt3 extends RuleTransformer(t3)"
   ]
  },
  {
   "cell_type": "code",
   "execution_count": null,
   "metadata": {
    "collapsed": true
   },
   "outputs": [],
   "source": [
    "object t2 extends RewriteRule {\n",
    "  override def transform(n: Node): Seq[Node] = n match {\n",
    "    case an @ Elem(_, \"subnode\", _, _, _*) => rt1(an)\n",
    "    case sn @ Elem(_, \"contents\", _, _, _*) => rt3(sn)\n",
    "    case other => other\n",
    "  }\n",
    "}"
   ]
  },
  {
   "cell_type": "code",
   "execution_count": null,
   "metadata": {
    "collapsed": true
   },
   "outputs": [],
   "source": [
    "object rt2 extends RuleTransformer(t2)"
   ]
  },
  {
   "cell_type": "code",
   "execution_count": null,
   "metadata": {
    "collapsed": true
   },
   "outputs": [],
   "source": [
    "rt2(InputXml)"
   ]
  },
  {
   "cell_type": "code",
   "execution_count": 360,
   "metadata": {
    "collapsed": false
   },
   "outputs": [
    {
     "data": {
      "text/plain": [
       "\u001b[36mres316\u001b[0m: \u001b[32mNode\u001b[0m = \u001b[33mElem\u001b[0m(\n",
       "  <contents>\n",
       "        <version>1</version>\n",
       "        <name>KKK</name>\n",
       "    </contents>\n",
       ")"
      ]
     },
     "metadata": {},
     "output_type": "display_data"
    }
   ],
   "source": [
    "InputXml.child(3)"
   ]
  },
  {
   "cell_type": "code",
   "execution_count": 354,
   "metadata": {
    "collapsed": false
   },
   "outputs": [
    {
     "name": "stdout",
     "output_type": "stream",
     "text": [
      "fds\n"
     ]
    },
    {
     "data": {
      "text/plain": []
     },
     "metadata": {},
     "output_type": "display_data"
    }
   ],
   "source": [
    "InputXml.child(3) match {\n",
    "    case Elem(_, \"contents\", _, _, _*) => println(\"fds\")\n",
    "    case other => println(\"111\")\n",
    "}"
   ]
  },
  {
   "cell_type": "code",
   "execution_count": 379,
   "metadata": {
    "collapsed": false
   },
   "outputs": [
    {
     "name": "stdout",
     "output_type": "stream",
     "text": [
      "111\r\n"
     ]
    },
    {
     "data": {
      "text/plain": []
     },
     "metadata": {},
     "output_type": "display_data"
    }
   ],
   "source": [
    "InputXml.child(3) match {\n",
    "    case <contents>{v}</contents> if v.toString contains \"version\" => println(v.text)\n",
    "    case other => println(\"111\")\n",
    "}"
   ]
  },
  {
   "cell_type": "code",
   "execution_count": 380,
   "metadata": {
    "collapsed": false
   },
   "outputs": [
    {
     "data": {
      "text/plain": [
       "\u001b[36mres335\u001b[0m: \u001b[32mString\u001b[0m = \u001b[32m\"\"\"\n",
       "<contents>\n",
       "        <version>1</version>\n",
       "        <name>KKK</name>\n",
       "    </contents>\n",
       "\"\"\"\u001b[0m"
      ]
     },
     "metadata": {},
     "output_type": "display_data"
    }
   ],
   "source": [
    "InputXml.child(3).toString"
   ]
  },
  {
   "cell_type": "code",
   "execution_count": 417,
   "metadata": {
    "collapsed": false
   },
   "outputs": [
    {
     "data": {
      "text/plain": [
       "\u001b[36mxmltstnew\u001b[0m: \u001b[32mElem\u001b[0m = \u001b[33mElem\u001b[0m(\n",
       "  <dependency>\n",
       "<params>\n",
       "<groupId>foo</groupId>\n",
       "<artifactId>bar</artifactId>\n",
       "<version name=\"1\" prefix=\"5\"></version>\n",
       "</params>\n",
       "</dependency>\n",
       ")"
      ]
     },
     "metadata": {},
     "output_type": "display_data"
    }
   ],
   "source": [
    "val xmltstnew = <dependency>\n",
    "<params>\n",
    "<groupId>foo</groupId>\n",
    "<artifactId>bar</artifactId>\n",
    "<version name=\"1\" prefix=\"5\"></version>\n",
    "</params>\n",
    "</dependency>"
   ]
  },
  {
   "cell_type": "code",
   "execution_count": 418,
   "metadata": {
    "collapsed": false
   },
   "outputs": [
    {
     "data": {
      "text/plain": [
       "\u001b[36mres370\u001b[0m: \u001b[32mSeq\u001b[0m[\u001b[32mNode\u001b[0m] = \u001b[33mElem\u001b[0m(\n",
       "  <dependency>\n",
       "<params>\n",
       "<groupId>foo</groupId>\n",
       "<artifactId>bar</artifactId>\n",
       "<version name=\"1\" prefix=\"5\"></version>\n",
       "</params>\n",
       "</dependency>\n",
       ")"
      ]
     },
     "metadata": {},
     "output_type": "display_data"
    }
   ],
   "source": [
    "new scala.xml.transform.RewriteRule {\n",
    "  override def transform(n: Node): Seq[Node] = n match {\n",
    "    case <version>{v}</version> if v.text contains \"SNAPSHOT\" => <version>{v.text.split(\"-\")(0)}</version>\n",
    "    case elem: Elem => elem copy (child = elem.child flatMap (this transform))\n",
    "    case other => other\n",
    "  }\n",
    "} transform xmltstnew"
   ]
  },
  {
   "cell_type": "code",
   "execution_count": 419,
   "metadata": {
    "collapsed": false
   },
   "outputs": [
    {
     "data": {
      "text/plain": [
       "defined \u001b[32mobject \u001b[36mtrans1\u001b[0m"
      ]
     },
     "metadata": {},
     "output_type": "display_data"
    }
   ],
   "source": [
    "object trans1 extends RewriteRule {\n",
    "  override def transform(n: Node): Seq[Node] = n match {\n",
    "    case <version>{v}</version> if v.text contains \"SNAPSHOT\" => <version>{\"ololo\"}</version>\n",
    "    case other => other\n",
    "  }\n",
    "}"
   ]
  },
  {
   "cell_type": "code",
   "execution_count": 420,
   "metadata": {
    "collapsed": false
   },
   "outputs": [
    {
     "data": {
      "text/plain": [
       "defined \u001b[32mobject \u001b[36mruletrans1\u001b[0m"
      ]
     },
     "metadata": {},
     "output_type": "display_data"
    }
   ],
   "source": [
    "object ruletrans1 extends RuleTransformer(trans1)"
   ]
  },
  {
   "cell_type": "code",
   "execution_count": 421,
   "metadata": {
    "collapsed": false
   },
   "outputs": [
    {
     "data": {
      "text/plain": [
       "\u001b[36mres373\u001b[0m: \u001b[32mNode\u001b[0m = \u001b[33mElem\u001b[0m(\n",
       "  <dependency>\n",
       "<params>\n",
       "<groupId>foo</groupId>\n",
       "<artifactId>bar</artifactId>\n",
       "<version name=\"1\" prefix=\"5\"></version>\n",
       "</params>\n",
       "</dependency>\n",
       ")"
      ]
     },
     "metadata": {},
     "output_type": "display_data"
    }
   ],
   "source": [
    "ruletrans1(xmltstnew)"
   ]
  },
  {
   "cell_type": "code",
   "execution_count": 453,
   "metadata": {
    "collapsed": false
   },
   "outputs": [
    {
     "data": {
      "text/plain": [
       "\u001b[36mres400\u001b[0m: \u001b[32mOption\u001b[0m[\u001b[32mSeq\u001b[0m[\u001b[32mNode\u001b[0m]] = Some(5)"
      ]
     },
     "metadata": {},
     "output_type": "display_data"
    }
   ],
   "source": [
    "xmltstnew.child(1).child(5).attribute(\"prefix\")"
   ]
  },
  {
   "cell_type": "code",
   "execution_count": 470,
   "metadata": {
    "collapsed": false
   },
   "outputs": [
    {
     "data": {
      "text/plain": [
       "\u001b[36mxml1\u001b[0m: \u001b[32mElem\u001b[0m = \u001b[33mElem\u001b[0m(<a><b attr1=\"100\" attr2=\"50\"></b></a>)"
      ]
     },
     "metadata": {},
     "output_type": "display_data"
    }
   ],
   "source": [
    "val xml1 = <a><b attr1=\"100\" attr2=\"50\"></b></a>"
   ]
  },
  {
   "cell_type": "code",
   "execution_count": 471,
   "metadata": {
    "collapsed": false
   },
   "outputs": [
    {
     "data": {
      "text/plain": [
       "\u001b[36mrule1\u001b[0m: \u001b[32mRewriteRule\u001b[0m = <function1>"
      ]
     },
     "metadata": {},
     "output_type": "display_data"
    }
   ],
   "source": [
    "val rule1 = new RewriteRule {\n",
    "  override def transform(n: Node) = n match {\n",
    "    case e @ <b>{_*}</b> => e.asInstanceOf[Elem] % \n",
    "      Attribute(null, \"attr1\", \"200\", \n",
    "      Attribute(null, \"attr2\", \"100\", Null))\n",
    "    case _ => n \n",
    "  }\n",
    "}"
   ]
  },
  {
   "cell_type": "code",
   "execution_count": 472,
   "metadata": {
    "collapsed": false
   },
   "outputs": [
    {
     "data": {
      "text/plain": [
       "\u001b[36mxml2\u001b[0m: \u001b[32mSeq\u001b[0m[\u001b[32mNode\u001b[0m] = \u001b[33mElem\u001b[0m(<a><b attr2=\"100\" attr1=\"200\"></b></a>)"
      ]
     },
     "metadata": {},
     "output_type": "display_data"
    }
   ],
   "source": [
    "val xml2 = new RuleTransformer(rule1).transform(xml1)"
   ]
  },
  {
   "cell_type": "code",
   "execution_count": null,
   "metadata": {
    "collapsed": true
   },
   "outputs": [],
   "source": []
  }
 ],
 "metadata": {
  "kernelspec": {
   "display_name": "Scala 2.11",
   "language": "scala211",
   "name": "scala211"
  },
  "language_info": {
   "codemirror_mode": "text/x-scala",
   "file_extension": ".scala",
   "mimetype": "text/x-scala",
   "name": "scala211",
   "pygments_lexer": "scala",
   "version": "2.11.6"
  }
 },
 "nbformat": 4,
 "nbformat_minor": 0
}

{
 "cells": [
  {
   "cell_type": "code",
   "execution_count": 1,
   "metadata": {
    "collapsed": false
   },
   "outputs": [
    {
     "data": {
      "text/plain": [
       "\u001b[36mxml\u001b[0m: \u001b[32mxml\u001b[0m.\u001b[32mElem\u001b[0m = \u001b[33mElem\u001b[0m(\n",
       "  <POWERMART REPOSITORY_VERSION=\"182.91\" CREATION_DATE=\"03/02/2016 17:39:59\">\n",
       "<REPOSITORY DATABASETYPE=\"Oracle\" CODEPAGE=\"MS1251\" VERSION=\"182\" NAME=\"RS_PRD\">\n",
       "<FOLDER UUID=\"31c156e6-66f3-43e1-af0a-0975c3af674f\" PERMISSIONS=\"rwx------\" DESCRIPTION=\"\" SHARED=\"SHARED\" OWNER=\"Administrator\" GROUP=\"\" NAME=\"EDW_PREDDS\">\n",
       "    <TARGET VERSIONNUMBER=\"1\" TABLEOPTIONS=\"\" OBJECTVERSION=\"1\" NAME=\"CA_GET_HFORMS\" DESCRIPTION=\"\" DATABASETYPE=\"Oracle\" CONSTRAINT=\"\" BUSINESSNAME=\"\">\n",
       "        <TARGETFIELD SCALE=\"0\" PRECISION=\"15\" PICTURETEXT=\"\" NULLABLE=\"NULL\" NAME=\"REFERENCE\" KEYTYPE=\"NOT A KEY\" FIELDNUMBER=\"1\" DESCRIPTION=\"\" DATATYPE=\"number\" BUSINESSNAME=\"\"/>\n",
       "        <TARGETFIELD SCALE=\"0\" PRECISION=\"15\" PICTURETEXT=\"\" NULLABLE=\"NULL\" NAME=\"BRANCH\" KEYTYPE=\"NOT A KEY\" FIELDNUMBER=\"2\" DESCRIPTION=\"\" DATATYPE=\"number\" BUSINESSNAME=\"\"/>\n",
       "        <TARGETFIELD SCALE=\"0\" PRECISION=\"19\" PICTURETEXT=\"\" NULLABLE=\"NULL\" NAME=\"OPEN_DATE\" KEYTYPE=\"NOT A KEY\" FIELDNUMBER=\"3\" DESCRIPTION=\"\" DATATYPE=\"date\" BUSINESSNAME=\"\"/>\n",
       "        <TARGETFIELD SCALE=\"0\" PRECISION=\"12\" PICTURETEXT=\"\" NULLABLE=\"NULL\" NAME=\"INN\" KEYTYPE=\"NOT A KEY\" FIELDNUMBER=\"4\" DESCRIPTION=\"\" DATATYPE=\"varchar2\" BUSINESSNAME=\"\"/>\n",
       "\u001b[33m...\u001b[0m"
      ]
     },
     "metadata": {},
     "output_type": "display_data"
    }
   ],
   "source": [
    "val xml = scala.xml.XML.loadFile(\"C:\\\\Users\\\\Andrey.Zheltov\\\\Documents\\\\CA_GET_HFRORMS_xml_edited.xml\")"
   ]
  },
  {
   "cell_type": "code",
   "execution_count": 2,
   "metadata": {
    "collapsed": false
   },
   "outputs": [
    {
     "data": {
      "text/plain": [
       "\u001b[36mfields\u001b[0m: \u001b[32mscala\u001b[0m.\u001b[32mxml\u001b[0m.\u001b[32mNodeSeq\u001b[0m = \u001b[33mNodeSeq\u001b[0m(\n",
       "  <TARGETFIELD SCALE=\"0\" PRECISION=\"15\" PICTURETEXT=\"\" NULLABLE=\"NULL\" NAME=\"REFERENCE\" KEYTYPE=\"NOT A KEY\" FIELDNUMBER=\"1\" DESCRIPTION=\"\" DATATYPE=\"number\" BUSINESSNAME=\"\"/>,\n",
       "  <TARGETFIELD SCALE=\"0\" PRECISION=\"15\" PICTURETEXT=\"\" NULLABLE=\"NULL\" NAME=\"BRANCH\" KEYTYPE=\"NOT A KEY\" FIELDNUMBER=\"2\" DESCRIPTION=\"\" DATATYPE=\"number\" BUSINESSNAME=\"\"/>,\n",
       "  <TARGETFIELD SCALE=\"0\" PRECISION=\"19\" PICTURETEXT=\"\" NULLABLE=\"NULL\" NAME=\"OPEN_DATE\" KEYTYPE=\"NOT A KEY\" FIELDNUMBER=\"3\" DESCRIPTION=\"\" DATATYPE=\"date\" BUSINESSNAME=\"\"/>,\n",
       "  <TARGETFIELD SCALE=\"0\" PRECISION=\"12\" PICTURETEXT=\"\" NULLABLE=\"NULL\" NAME=\"INN\" KEYTYPE=\"NOT A KEY\" FIELDNUMBER=\"4\" DESCRIPTION=\"\" DATATYPE=\"varchar2\" BUSINESSNAME=\"\"/>,\n",
       "  <TARGETFIELD SCALE=\"0\" PRECISION=\"4\" PICTURETEXT=\"\" NULLABLE=\"NULL\" NAME=\"NOTIF_METHOD\" KEYTYPE=\"NOT A KEY\" FIELDNUMBER=\"5\" DESCRIPTION=\"\" DATATYPE=\"varchar2\" BUSINESSNAME=\"\"/>,\n",
       "  <TARGETFIELD SCALE=\"0\" PRECISION=\"15\" PICTURETEXT=\"\" NULLABLE=\"NULL\" NAME=\"SUBDEPARTMENT\" KEYTYPE=\"NOT A KEY\" FIELDNUMBER=\"6\" DESCRIPTION=\"\" DATATYPE=\"number\" BUSINESSNAME=\"\"/>,\n",
       "  <TARGETFIELD SCALE=\"0\" PRECISION=\"15\" PICTURETEXT=\"\" NULLABLE=\"NULL\" NAME=\"EID\" KEYTYPE=\"NOT A KEY\" FIELDNUMBER=\"7\" DESCRIPTION=\"\" DATATYPE=\"number\" BUSINESSNAME=\"\"/>,\n",
       "\u001b[33m...\u001b[0m"
      ]
     },
     "metadata": {},
     "output_type": "display_data"
    }
   ],
   "source": [
    "val fields = xml \\\\ \"TARGETFIELD\""
   ]
  },
  {
   "cell_type": "code",
   "execution_count": 3,
   "metadata": {
    "collapsed": false
   },
   "outputs": [
    {
     "data": {
      "text/plain": [
       "\u001b[36mvariables\u001b[0m: \u001b[32mcollection\u001b[0m.\u001b[32mimmutable\u001b[0m.\u001b[32mSeq\u001b[0m[((\u001b[32mscala\u001b[0m.\u001b[32mxml\u001b[0m.\u001b[32mNode\u001b[0m, \u001b[32mscala\u001b[0m.\u001b[32mxml\u001b[0m.\u001b[32mNode\u001b[0m), \u001b[32mscala\u001b[0m.\u001b[32mxml\u001b[0m.\u001b[32mNode\u001b[0m)] = \u001b[33mList\u001b[0m(\n",
       "  \u001b[33m\u001b[0m(\u001b[33m\u001b[0m(\u001b[33mText\u001b[0m(REFERENCE), \u001b[33mText\u001b[0m(number)), \u001b[33mText\u001b[0m(15)),\n",
       "  \u001b[33m\u001b[0m(\u001b[33m\u001b[0m(\u001b[33mText\u001b[0m(BRANCH), \u001b[33mText\u001b[0m(number)), \u001b[33mText\u001b[0m(15)),\n",
       "  \u001b[33m\u001b[0m(\u001b[33m\u001b[0m(\u001b[33mText\u001b[0m(OPEN_DATE), \u001b[33mText\u001b[0m(date)), \u001b[33mText\u001b[0m(19)),\n",
       "  \u001b[33m\u001b[0m(\u001b[33m\u001b[0m(\u001b[33mText\u001b[0m(INN), \u001b[33mText\u001b[0m(varchar2)), \u001b[33mText\u001b[0m(12)),\n",
       "  \u001b[33m\u001b[0m(\u001b[33m\u001b[0m(\u001b[33mText\u001b[0m(NOTIF_METHOD), \u001b[33mText\u001b[0m(varchar2)), \u001b[33mText\u001b[0m(4)),\n",
       "  \u001b[33m\u001b[0m(\u001b[33m\u001b[0m(\u001b[33mText\u001b[0m(SUBDEPARTMENT), \u001b[33mText\u001b[0m(number)), \u001b[33mText\u001b[0m(15)),\n",
       "  \u001b[33m\u001b[0m(\u001b[33m\u001b[0m(\u001b[33mText\u001b[0m(EID), \u001b[33mText\u001b[0m(number)), \u001b[33mText\u001b[0m(15)),\n",
       "  \u001b[33m\u001b[0m(\u001b[33m\u001b[0m(\u001b[33mText\u001b[0m(DML_TYPE), \u001b[33mText\u001b[0m(varchar2)), \u001b[33mText\u001b[0m(1)),\n",
       "  \u001b[33m\u001b[0m(\u001b[33m\u001b[0m(\u001b[33mText\u001b[0m(POST_INDEX), \u001b[33mText\u001b[0m(varchar2)), \u001b[33mText\u001b[0m(6)),\n",
       "  \u001b[33m\u001b[0m(\u001b[33m\u001b[0m(\u001b[33mText\u001b[0m(REGION), \u001b[33mText\u001b[0m(varchar2)), \u001b[33mText\u001b[0m(2)),\n",
       "  \u001b[33m\u001b[0m(\u001b[33m\u001b[0m(\u001b[33mText\u001b[0m(AREA), \u001b[33mText\u001b[0m(varchar2)), \u001b[33mText\u001b[0m(15)),\n",
       "  \u001b[33m\u001b[0m(\u001b[33m\u001b[0m(\u001b[33mText\u001b[0m(CITY), \u001b[33mText\u001b[0m(varchar2)), \u001b[33mText\u001b[0m(15)),\n",
       "  \u001b[33m\u001b[0m(\u001b[33m\u001b[0m(\u001b[33mText\u001b[0m(PLACE), \u001b[33mText\u001b[0m(varchar2)), \u001b[33mText\u001b[0m(15)),\n",
       "  \u001b[33m\u001b[0m(\u001b[33m\u001b[0m(\u001b[33mText\u001b[0m(STREET), \u001b[33mText\u001b[0m(varchar2)), \u001b[33mText\u001b[0m(15)),\n",
       "\u001b[33m...\u001b[0m"
      ]
     },
     "metadata": {},
     "output_type": "display_data"
    }
   ],
   "source": [
    "val variables = (fields \\\\ \"@NAME\").zip(fields \\\\ \"@DATATYPE\").zip(fields \\\\ \"@PRECISION\")"
   ]
  },
  {
   "cell_type": "code",
   "execution_count": 4,
   "metadata": {
    "collapsed": false
   },
   "outputs": [
    {
     "data": {
      "text/plain": [
       "\u001b[36msorted_vars\u001b[0m: \u001b[32mcollection\u001b[0m.\u001b[32mimmutable\u001b[0m.\u001b[32mSeq\u001b[0m[((\u001b[32mscala\u001b[0m.\u001b[32mxml\u001b[0m.\u001b[32mNode\u001b[0m, \u001b[32mscala\u001b[0m.\u001b[32mxml\u001b[0m.\u001b[32mNode\u001b[0m), \u001b[32mscala\u001b[0m.\u001b[32mxml\u001b[0m.\u001b[32mNode\u001b[0m)] = \u001b[33mList\u001b[0m(\n",
       "  \u001b[33m\u001b[0m(\u001b[33m\u001b[0m(\u001b[33mText\u001b[0m(ADDRESS), \u001b[33mText\u001b[0m(varchar2)), \u001b[33mText\u001b[0m(150)),\n",
       "  \u001b[33m\u001b[0m(\u001b[33m\u001b[0m(\u001b[33mText\u001b[0m(ADDRESS_PHONE), \u001b[33mText\u001b[0m(varchar2)), \u001b[33mText\u001b[0m(30)),\n",
       "  \u001b[33m\u001b[0m(\u001b[33m\u001b[0m(\u001b[33mText\u001b[0m(ALIMENTS), \u001b[33mText\u001b[0m(number)), \u001b[33mText\u001b[0m(15)),\n",
       "  \u001b[33m\u001b[0m(\u001b[33m\u001b[0m(\u001b[33mText\u001b[0m(AREA), \u001b[33mText\u001b[0m(varchar2)), \u001b[33mText\u001b[0m(15)),\n",
       "  \u001b[33m\u001b[0m(\u001b[33m\u001b[0m(\u001b[33mText\u001b[0m(ASOURCE), \u001b[33mText\u001b[0m(number)), \u001b[33mText\u001b[0m(15)),\n",
       "  \u001b[33m\u001b[0m(\u001b[33m\u001b[0m(\u001b[33mText\u001b[0m(AUTO1_COST), \u001b[33mText\u001b[0m(number)), \u001b[33mText\u001b[0m(15)),\n",
       "  \u001b[33m\u001b[0m(\u001b[33m\u001b[0m(\u001b[33mText\u001b[0m(AUTO1_MODEL), \u001b[33mText\u001b[0m(varchar2)), \u001b[33mText\u001b[0m(50)),\n",
       "  \u001b[33m\u001b[0m(\u001b[33m\u001b[0m(\u001b[33mText\u001b[0m(AUTO1_YEAR), \u001b[33mText\u001b[0m(number)), \u001b[33mText\u001b[0m(15)),\n",
       "  \u001b[33m\u001b[0m(\u001b[33m\u001b[0m(\u001b[33mText\u001b[0m(AUTO2_COST), \u001b[33mText\u001b[0m(number)), \u001b[33mText\u001b[0m(15)),\n",
       "  \u001b[33m\u001b[0m(\u001b[33m\u001b[0m(\u001b[33mText\u001b[0m(AUTO2_MODEL), \u001b[33mText\u001b[0m(varchar2)), \u001b[33mText\u001b[0m(50)),\n",
       "  \u001b[33m\u001b[0m(\u001b[33m\u001b[0m(\u001b[33mText\u001b[0m(AUTO2_YEAR), \u001b[33mText\u001b[0m(number)), \u001b[33mText\u001b[0m(15)),\n",
       "  \u001b[33m\u001b[0m(\u001b[33m\u001b[0m(\u001b[33mText\u001b[0m(AV_BONUS), \u001b[33mText\u001b[0m(number)), \u001b[33mText\u001b[0m(15)),\n",
       "  \u001b[33m\u001b[0m(\u001b[33m\u001b[0m(\u001b[33mText\u001b[0m(AV_BONUS_PERIOD), \u001b[33mText\u001b[0m(number)), \u001b[33mText\u001b[0m(15)),\n",
       "  \u001b[33m\u001b[0m(\u001b[33m\u001b[0m(\u001b[33mText\u001b[0m(AV_EXPENSE), \u001b[33mText\u001b[0m(number)), \u001b[33mText\u001b[0m(15)),\n",
       "\u001b[33m...\u001b[0m"
      ]
     },
     "metadata": {},
     "output_type": "display_data"
    }
   ],
   "source": [
    "val sorted_vars = variables.sortBy(_._1._1.text)"
   ]
  },
  {
   "cell_type": "code",
   "execution_count": 6,
   "metadata": {
    "collapsed": false,
    "scrolled": true
   },
   "outputs": [
    {
     "data": {
      "text/plain": [
       "defined \u001b[32mfunction \u001b[36mflat\u001b[0m"
      ]
     },
     "metadata": {},
     "output_type": "display_data"
    }
   ],
   "source": [
    "def flat[A,B,C](t: ((A,B),C)) = (t._1._1.toString, t._1._2.toString, t._2.toString)"
   ]
  },
  {
   "cell_type": "code",
   "execution_count": 7,
   "metadata": {
    "collapsed": false
   },
   "outputs": [
    {
     "data": {
      "text/plain": [
       "\u001b[36mflsvars\u001b[0m: \u001b[32mcollection\u001b[0m.\u001b[32mimmutable\u001b[0m.\u001b[32mSeq\u001b[0m[(\u001b[32mString\u001b[0m, \u001b[32mString\u001b[0m, \u001b[32mString\u001b[0m)] = \u001b[33mList\u001b[0m(\n",
       "  \u001b[33m\u001b[0m(\u001b[32m\"ADDRESS\"\u001b[0m, \u001b[32m\"varchar2\"\u001b[0m, \u001b[32m\"150\"\u001b[0m),\n",
       "  \u001b[33m\u001b[0m(\u001b[32m\"ADDRESS_PHONE\"\u001b[0m, \u001b[32m\"varchar2\"\u001b[0m, \u001b[32m\"30\"\u001b[0m),\n",
       "  \u001b[33m\u001b[0m(\u001b[32m\"ALIMENTS\"\u001b[0m, \u001b[32m\"number\"\u001b[0m, \u001b[32m\"15\"\u001b[0m),\n",
       "  \u001b[33m\u001b[0m(\u001b[32m\"AREA\"\u001b[0m, \u001b[32m\"varchar2\"\u001b[0m, \u001b[32m\"15\"\u001b[0m),\n",
       "  \u001b[33m\u001b[0m(\u001b[32m\"ASOURCE\"\u001b[0m, \u001b[32m\"number\"\u001b[0m, \u001b[32m\"15\"\u001b[0m),\n",
       "  \u001b[33m\u001b[0m(\u001b[32m\"AUTO1_COST\"\u001b[0m, \u001b[32m\"number\"\u001b[0m, \u001b[32m\"15\"\u001b[0m),\n",
       "  \u001b[33m\u001b[0m(\u001b[32m\"AUTO1_MODEL\"\u001b[0m, \u001b[32m\"varchar2\"\u001b[0m, \u001b[32m\"50\"\u001b[0m),\n",
       "  \u001b[33m\u001b[0m(\u001b[32m\"AUTO1_YEAR\"\u001b[0m, \u001b[32m\"number\"\u001b[0m, \u001b[32m\"15\"\u001b[0m),\n",
       "  \u001b[33m\u001b[0m(\u001b[32m\"AUTO2_COST\"\u001b[0m, \u001b[32m\"number\"\u001b[0m, \u001b[32m\"15\"\u001b[0m),\n",
       "  \u001b[33m\u001b[0m(\u001b[32m\"AUTO2_MODEL\"\u001b[0m, \u001b[32m\"varchar2\"\u001b[0m, \u001b[32m\"50\"\u001b[0m),\n",
       "  \u001b[33m\u001b[0m(\u001b[32m\"AUTO2_YEAR\"\u001b[0m, \u001b[32m\"number\"\u001b[0m, \u001b[32m\"15\"\u001b[0m),\n",
       "  \u001b[33m\u001b[0m(\u001b[32m\"AV_BONUS\"\u001b[0m, \u001b[32m\"number\"\u001b[0m, \u001b[32m\"15\"\u001b[0m),\n",
       "  \u001b[33m\u001b[0m(\u001b[32m\"AV_BONUS_PERIOD\"\u001b[0m, \u001b[32m\"number\"\u001b[0m, \u001b[32m\"15\"\u001b[0m),\n",
       "  \u001b[33m\u001b[0m(\u001b[32m\"AV_EXPENSE\"\u001b[0m, \u001b[32m\"number\"\u001b[0m, \u001b[32m\"15\"\u001b[0m),\n",
       "\u001b[33m...\u001b[0m"
      ]
     },
     "metadata": {},
     "output_type": "display_data"
    }
   ],
   "source": [
    "var flsvars = sorted_vars map flat"
   ]
  },
  {
   "cell_type": "code",
   "execution_count": 8,
   "metadata": {
    "collapsed": false
   },
   "outputs": [
    {
     "data": {
      "text/plain": [
       "\u001b[36mfl\u001b[0m: \u001b[32mcollection\u001b[0m.\u001b[32mimmutable\u001b[0m.\u001b[32mSeq\u001b[0m[((\u001b[32mString\u001b[0m, \u001b[32mString\u001b[0m), \u001b[32mString\u001b[0m)] = \u001b[33mList\u001b[0m(\n",
       "  \u001b[33m\u001b[0m(\u001b[33m\u001b[0m(\u001b[32m\"ADDRESS\"\u001b[0m, \u001b[32m\"varchar2\"\u001b[0m), \u001b[32m\"150\"\u001b[0m),\n",
       "  \u001b[33m\u001b[0m(\u001b[33m\u001b[0m(\u001b[32m\"ADDRESS_PHONE\"\u001b[0m, \u001b[32m\"varchar2\"\u001b[0m), \u001b[32m\"30\"\u001b[0m),\n",
       "  \u001b[33m\u001b[0m(\u001b[33m\u001b[0m(\u001b[32m\"ALIMENTS\"\u001b[0m, \u001b[32m\"number\"\u001b[0m), \u001b[32m\"15\"\u001b[0m),\n",
       "  \u001b[33m\u001b[0m(\u001b[33m\u001b[0m(\u001b[32m\"AREA\"\u001b[0m, \u001b[32m\"varchar2\"\u001b[0m), \u001b[32m\"15\"\u001b[0m),\n",
       "  \u001b[33m\u001b[0m(\u001b[33m\u001b[0m(\u001b[32m\"ASOURCE\"\u001b[0m, \u001b[32m\"number\"\u001b[0m), \u001b[32m\"15\"\u001b[0m),\n",
       "  \u001b[33m\u001b[0m(\u001b[33m\u001b[0m(\u001b[32m\"AUTO1_COST\"\u001b[0m, \u001b[32m\"number\"\u001b[0m), \u001b[32m\"15\"\u001b[0m),\n",
       "  \u001b[33m\u001b[0m(\u001b[33m\u001b[0m(\u001b[32m\"AUTO1_MODEL\"\u001b[0m, \u001b[32m\"varchar2\"\u001b[0m), \u001b[32m\"50\"\u001b[0m),\n",
       "  \u001b[33m\u001b[0m(\u001b[33m\u001b[0m(\u001b[32m\"AUTO1_YEAR\"\u001b[0m, \u001b[32m\"number\"\u001b[0m), \u001b[32m\"15\"\u001b[0m),\n",
       "  \u001b[33m\u001b[0m(\u001b[33m\u001b[0m(\u001b[32m\"AUTO2_COST\"\u001b[0m, \u001b[32m\"number\"\u001b[0m), \u001b[32m\"15\"\u001b[0m),\n",
       "  \u001b[33m\u001b[0m(\u001b[33m\u001b[0m(\u001b[32m\"AUTO2_MODEL\"\u001b[0m, \u001b[32m\"varchar2\"\u001b[0m), \u001b[32m\"50\"\u001b[0m),\n",
       "  \u001b[33m\u001b[0m(\u001b[33m\u001b[0m(\u001b[32m\"AUTO2_YEAR\"\u001b[0m, \u001b[32m\"number\"\u001b[0m), \u001b[32m\"15\"\u001b[0m),\n",
       "  \u001b[33m\u001b[0m(\u001b[33m\u001b[0m(\u001b[32m\"AV_BONUS\"\u001b[0m, \u001b[32m\"number\"\u001b[0m), \u001b[32m\"15\"\u001b[0m),\n",
       "  \u001b[33m\u001b[0m(\u001b[33m\u001b[0m(\u001b[32m\"AV_BONUS_PERIOD\"\u001b[0m, \u001b[32m\"number\"\u001b[0m), \u001b[32m\"15\"\u001b[0m),\n",
       "  \u001b[33m\u001b[0m(\u001b[33m\u001b[0m(\u001b[32m\"AV_EXPENSE\"\u001b[0m, \u001b[32m\"number\"\u001b[0m), \u001b[32m\"15\"\u001b[0m),\n",
       "\u001b[33m...\u001b[0m"
      ]
     },
     "metadata": {},
     "output_type": "display_data"
    }
   ],
   "source": [
    "var fl = flsvars.map(_._1) zip flsvars.map(_._2) zip flsvars.map(_._3)"
   ]
  },
  {
   "cell_type": "code",
   "execution_count": 9,
   "metadata": {
    "collapsed": false
   },
   "outputs": [
    {
     "data": {
      "text/plain": [
       "\u001b[36mans\u001b[0m: \u001b[32mcollection\u001b[0m.\u001b[32mimmutable\u001b[0m.\u001b[32mSeq\u001b[0m[(\u001b[32mString\u001b[0m, \u001b[32mString\u001b[0m, \u001b[32mString\u001b[0m)] = \u001b[33mList\u001b[0m(\n",
       "  \u001b[33m\u001b[0m(\u001b[32m\"ADDRESS\"\u001b[0m, \u001b[32m\"varchar2\"\u001b[0m, \u001b[32m\"150\"\u001b[0m),\n",
       "  \u001b[33m\u001b[0m(\u001b[32m\"ADDRESS_PHONE\"\u001b[0m, \u001b[32m\"varchar2\"\u001b[0m, \u001b[32m\"30\"\u001b[0m),\n",
       "  \u001b[33m\u001b[0m(\u001b[32m\"ALIMENTS\"\u001b[0m, \u001b[32m\"number\"\u001b[0m, \u001b[32m\"15\"\u001b[0m),\n",
       "  \u001b[33m\u001b[0m(\u001b[32m\"AREA\"\u001b[0m, \u001b[32m\"varchar2\"\u001b[0m, \u001b[32m\"15\"\u001b[0m),\n",
       "  \u001b[33m\u001b[0m(\u001b[32m\"ASOURCE\"\u001b[0m, \u001b[32m\"number\"\u001b[0m, \u001b[32m\"15\"\u001b[0m),\n",
       "  \u001b[33m\u001b[0m(\u001b[32m\"AUTO1_COST\"\u001b[0m, \u001b[32m\"number\"\u001b[0m, \u001b[32m\"15\"\u001b[0m),\n",
       "  \u001b[33m\u001b[0m(\u001b[32m\"AUTO1_MODEL\"\u001b[0m, \u001b[32m\"varchar2\"\u001b[0m, \u001b[32m\"50\"\u001b[0m),\n",
       "  \u001b[33m\u001b[0m(\u001b[32m\"AUTO1_YEAR\"\u001b[0m, \u001b[32m\"number\"\u001b[0m, \u001b[32m\"15\"\u001b[0m),\n",
       "  \u001b[33m\u001b[0m(\u001b[32m\"AUTO2_COST\"\u001b[0m, \u001b[32m\"number\"\u001b[0m, \u001b[32m\"15\"\u001b[0m),\n",
       "  \u001b[33m\u001b[0m(\u001b[32m\"AUTO2_MODEL\"\u001b[0m, \u001b[32m\"varchar2\"\u001b[0m, \u001b[32m\"50\"\u001b[0m),\n",
       "  \u001b[33m\u001b[0m(\u001b[32m\"AUTO2_YEAR\"\u001b[0m, \u001b[32m\"number\"\u001b[0m, \u001b[32m\"15\"\u001b[0m),\n",
       "  \u001b[33m\u001b[0m(\u001b[32m\"AV_BONUS\"\u001b[0m, \u001b[32m\"number\"\u001b[0m, \u001b[32m\"15\"\u001b[0m),\n",
       "  \u001b[33m\u001b[0m(\u001b[32m\"AV_BONUS_PERIOD\"\u001b[0m, \u001b[32m\"number\"\u001b[0m, \u001b[32m\"15\"\u001b[0m),\n",
       "  \u001b[33m\u001b[0m(\u001b[32m\"AV_EXPENSE\"\u001b[0m, \u001b[32m\"number\"\u001b[0m, \u001b[32m\"15\"\u001b[0m),\n",
       "\u001b[33m...\u001b[0m"
      ]
     },
     "metadata": {},
     "output_type": "display_data"
    }
   ],
   "source": [
    "var ans = fl map flat"
   ]
  },
  {
   "cell_type": "code",
   "execution_count": 10,
   "metadata": {
    "collapsed": false,
    "scrolled": true
   },
   "outputs": [
    {
     "name": "stdout",
     "output_type": "stream",
     "text": [
      "(ADDRESS,varchar2,150)\n",
      "(ADDRESS_PHONE,varchar2,30)\n",
      "(ALIMENTS,number,15)\n",
      "(AREA,varchar2,15)\n",
      "(ASOURCE,number,15)\n",
      "(AUTO1_COST,number,15)\n",
      "(AUTO1_MODEL,varchar2,50)\n",
      "(AUTO1_YEAR,number,15)\n",
      "(AUTO2_COST,number,15)\n",
      "(AUTO2_MODEL,varchar2,50)\n",
      "(AUTO2_YEAR,number,15)\n",
      "(AV_BONUS,number,15)\n",
      "(AV_BONUS_PERIOD,number,15)\n",
      "(AV_EXPENSE,number,15)\n",
      "(AV_PROFIT,number,15)\n",
      "(AV_PROFIT_STAT,number,15)\n",
      "(AV_WIFE_PROFIT,number,15)\n",
      "(BABIES,number,15)\n",
      "(BABY1_BIRTH_DATE,date,19)\n",
      "(BABY2_BIRTH_DATE,date,19)\n",
      "(BABY3_BIRTH_DATE,date,19)\n",
      "(BABY4_BIRTH_DATE,date,19)\n",
      "(BIRTH_DATE,date,19)\n",
      "(BIRTH_PLACE,varchar2,300)\n",
      "(BKI_IS_INFO,number,15)\n",
      "(BKI_IS_USED,number,15)\n",
      "(BRANCH,number,15)\n",
      "(BRANCH_CLIENT,number,15)\n",
      "(BRANCH_CONTRACT,number,15)\n",
      "(BRANCH_FROM,number,15)\n",
      "(BUILDING,varchar2,15)\n",
      "(CARD1_ANNUAL,number,15)\n",
      "(CARD1_BANK,varchar2,50)\n",
      "(CARD1_LIMIT,number,15)\n",
      "(CARD2_ANNUAL,number,15)\n",
      "(CARD2_BANK,varchar2,50)\n",
      "(CARD2_LIMIT,number,15)\n",
      "(CARD3_ANNUAL,number,15)\n",
      "(CARD3_BANK,varchar2,50)\n",
      "(CARD3_LIMIT,number,15)\n",
      "(CARD4_ANNUAL,number,15)\n",
      "(CARD4_BANK,varchar2,50)\n",
      "(CARD4_LIMIT,number,15)\n",
      "(CARD5_ANNUAL,number,15)\n",
      "(CARD5_BANK,varchar2,50)\n",
      "(CARD5_LIMIT,number,15)\n",
      "(CITY,varchar2,15)\n",
      "(CORP_MEMBER,varchar2,10)\n",
      "(CREDIT1_ANNUAL,number,15)\n",
      "(CREDIT1_BANK,varchar2,50)\n",
      "(CREDIT1_CLOSE_DATE,date,19)\n",
      "(CREDIT1_REMAIN_SUMMA,number,15)\n",
      "(CREDIT1_SUMMA,number,15)\n",
      "(CREDIT2_ANNUAL,number,15)\n",
      "(CREDIT2_BANK,varchar2,50)\n",
      "(CREDIT2_CLOSE_DATE,date,19)\n",
      "(CREDIT2_REMAIN_SUMMA,number,15)\n",
      "(CREDIT2_SUMMA,number,15)\n",
      "(CREDIT3_ANNUAL,number,15)\n",
      "(CREDIT3_BANK,varchar2,50)\n",
      "(CREDIT3_CLOSE_DATE,date,19)\n",
      "(CREDIT3_REMAIN_SUMMA,number,15)\n",
      "(CREDIT3_SUMMA,number,15)\n",
      "(CREDIT4_ANNUAL,number,15)\n",
      "(CREDIT4_BANK,varchar2,50)\n",
      "(CREDIT4_CLOSE_DATE,date,19)\n",
      "(CREDIT4_REMAIN_SUMMA,number,15)\n",
      "(CREDIT4_SUMMA,number,15)\n",
      "(CREDIT_ANNUAL_BM,number,15)\n",
      "(CURRENCY,varchar2,3)\n",
      "(DATE_REGISTRATION,date,19)\n",
      "(DEBTS_REST,number,15)\n",
      "(DELETED_FLAG,varchar2,1)\n",
      "(DEPENDANT,number,15)\n",
      "(DEPENDANT1_BIRTH_DATE,date,19)\n",
      "(DEPENDANT2_BIRTH_DATE,date,19)\n",
      "(DEPENDANT3_BIRTH_DATE,date,19)\n",
      "(DEPENDANT4_BIRTH_DATE,date,19)\n",
      "(DML_TYPE,varchar2,1)\n",
      "(DRIVELIC_DATE,date,19)\n",
      "(DRIVELIC_NUMBER,varchar2,12)\n",
      "(DWH_JOB_ID,number,15)\n",
      "(EDUCATION,number,15)\n",
      "(EID,number,15)\n",
      "(EID_FIRMA,number,15)\n",
      "(EMAIL,varchar2,512)\n",
      "(FIRST_NAME,varchar2,30)\n",
      "(FIRST_PAY,number,15)\n",
      "(FLAT,varchar2,15)\n",
      "(GUAR_ANNUAL,number,15)\n",
      "(GUAR_BANK,varchar2,50)\n",
      "(GUAR_CLOSE_DATE,date,19)\n",
      "(GUAR_SUMMA,number,15)\n",
      "(HOUSE,varchar2,15)\n",
      "(INN,varchar2,12)\n",
      "(IS_AUTO1,number,15)\n",
      "(IS_AUTO2,number,15)\n",
      "(IS_MEMBER,number,15)\n",
      "(IS_NDFL2,varchar2,2)\n",
      "(IS_REALTY1,number,15)\n",
      "(IS_REALTY2,number,15)\n",
      "(IS_REALTY3,number,15)\n",
      "(IS_SALARY,number,15)\n",
      "(LAST_NAME,varchar2,30)\n",
      "(MARKET_ACTION,number,15)\n",
      "(MARR_STATUS,number,15)\n",
      "(MILITARY_TYPE,number,15)\n",
      "(MOBILE,varchar2,30)\n",
      "(NATIONALITY,varchar2,3)\n",
      "(NEAR_RELATION_PHONE,varchar2,100)\n",
      "(NOTIF_METHOD,varchar2,4)\n",
      "(OPEN_DATE,date,19)\n",
      "(PARAMS_FIELD,varchar2,4000)\n",
      "(PASSPORT_CODE,varchar2,10)\n",
      "(PASSPORT_DATE,date,19)\n",
      "(PASSPORT_NUMBER,varchar2,12)\n",
      "(PASSPORT_VIDAN,varchar2,150)\n",
      "(PEOPLE_RELATIONS,varchar2,50)\n",
      "(PERIOD,number,15)\n",
      "(PERSONAL_EMAIL,varchar2,512)\n",
      "(PHONE,varchar2,30)\n",
      "(PLACE,varchar2,15)\n",
      "(POST_INDEX,varchar2,6)\n",
      "(PREFER_PHONE,varchar2,20)\n",
      "(PREV_FIO,varchar2,90)\n",
      "(PROCESSED_DTTM,timestamp,26)\n",
      "(PROFIT1_BANK_COST,number,15)\n",
      "(PROFIT2_BANK_COST,number,15)\n",
      "(PROFIT3_BANK_COST,number,15)\n",
      "(PROFIT4_BANK_COST,number,15)\n",
      "(PROFIT_DIVID,number,15)\n",
      "(PROFIT_DIVID_PERIOD,varchar2,50)\n",
      "(PROFIT_OTHER,number,15)\n",
      "(PROFIT_OTHER_PERIOD,varchar2,50)\n",
      "(PROFIT_PENSION,number,15)\n",
      "(PROFIT_PENSION_PERIOD,varchar2,50)\n",
      "(PROFIT_RENT,number,15)\n",
      "(PROFIT_RENT_PERIOD,varchar2,50)\n",
      "(PROFIT_TWO,number,15)\n",
      "(PROFIT_TWO_PERIOD,varchar2,50)\n",
      "(RATING_SECTOR,number,15)\n",
      "(REALTY1_ADDRESS,varchar2,150)\n",
      "(REALTY1_COST,number,15)\n",
      "(REALTY1_OWNERSHIP,number,15)\n",
      "(REALTY1_SPACE,number,15)\n",
      "(REALTY2_ADDRESS,varchar2,150)\n",
      "(REALTY2_COST,number,15)\n",
      "(REALTY2_OWNERSHIP,number,15)\n",
      "(REALTY2_SPACE,number,15)\n",
      "(REALTY3_ADDRESS,varchar2,150)\n",
      "(REALTY3_COST,number,15)\n",
      "(REALTY3_OWNERSHIP,number,15)\n",
      "(REALTY3_SPACE,number,15)\n",
      "(REAL_ADDRESS,varchar2,150)\n",
      "(REAL_AREA,varchar2,15)\n",
      "(REAL_BUILDING,varchar2,15)\n",
      "(REAL_CITY,varchar2,15)\n",
      "(REAL_FLAT,varchar2,15)\n",
      "(REAL_FLAT_OWNER_STATUS,number,15)\n",
      "(REAL_HOUSE,varchar2,15)\n",
      "(REAL_PLACE,varchar2,15)\n",
      "(REAL_POST_INDEX,varchar2,6)\n",
      "(REAL_REGION,varchar2,15)\n",
      "(REAL_STREET,varchar2,15)\n",
      "(REAL_SUMMA,number,15)\n",
      "(REFERENCE,number,15)\n",
      "(REFER_CLIENT,number,15)\n",
      "(REFER_CONTRACT,number,15)\n",
      "(REFER_FROM,number,15)\n",
      "(REGION,varchar2,2)\n",
      "(RESULT_STATUS,number,15)\n",
      "(SECOND_NAME,varchar2,30)\n",
      "(SEX,number,15)\n",
      "(SOURCE_SYSTEM_CCD,varchar2,3)\n",
      "(STAKE,number,15)\n",
      "(STATUS,number,15)\n",
      "(STREET,varchar2,15)\n",
      "(SUBDEPARTMENT,number,15)\n",
      "(SUMMA,number,15)\n",
      "(TARGET,number,15)\n",
      "(TOTAL_YEAR,number,15)\n",
      "(TYPE_CREDIT,number,15)\n",
      "(WORK1_HEAD_NAME,varchar2,50)\n",
      "(WORK1_HEAD_PHONE,varchar2,30)\n",
      "(WORK2_HEAD_NAME,varchar2,50)\n",
      "(WORK2_HEAD_PHONE,varchar2,30)\n",
      "(WORK_ADDRESS,varchar2,300)\n",
      "(WORK_EMPLOYMENT,number,15)\n",
      "(WORK_INN,varchar2,15)\n",
      "(WORK_NAME,varchar2,300)\n",
      "(WORK_OCCUPATION,number,15)\n",
      "(WORK_ORGTYPE3,number,15)\n",
      "(WORK_ORGTYPE3_NAME,varchar2,50)\n",
      "(WORK_PHONE,varchar2,100)\n",
      "(WORK_POSITION,varchar2,50)\n",
      "(WORK_POSTYPE,number,15)\n",
      "(WORK_POSTYPE_NAME,varchar2,50)\n",
      "(WORK_SPHERE,number,15)\n",
      "(WORK_SPHERE_NAME,varchar2,50)\n",
      "(WORK_WWW,varchar2,30)\n",
      "(WORK_YEAR,number,15)\n"
     ]
    },
    {
     "data": {
      "text/plain": [
       "\u001b[36mres8\u001b[0m: \u001b[32mcollection\u001b[0m.\u001b[32mimmutable\u001b[0m.\u001b[32mSeq\u001b[0m[\u001b[32mUnit\u001b[0m] = \u001b[33mList\u001b[0m(\n",
       "  (),\n",
       "  (),\n",
       "  (),\n",
       "  (),\n",
       "  (),\n",
       "  (),\n",
       "  (),\n",
       "  (),\n",
       "  (),\n",
       "  (),\n",
       "  (),\n",
       "  (),\n",
       "  (),\n",
       "  (),\n",
       "\u001b[33m...\u001b[0m"
      ]
     },
     "metadata": {},
     "output_type": "display_data"
    }
   ],
   "source": [
    "ans.map(println(_))"
   ]
  },
  {
   "cell_type": "code",
   "execution_count": 14,
   "metadata": {
    "collapsed": false
   },
   "outputs": [
    {
     "data": {
      "text/plain": [
       "\u001b[36mmappping\u001b[0m: \u001b[32mElem\u001b[0m = \u001b[33mElem\u001b[0m(\n",
       "  <POWERMART REPOSITORY_VERSION=\"182.91\" CREATION_DATE=\"03/24/2016 22:49:36\">\n",
       "<REPOSITORY DATABASETYPE=\"Oracle\" CODEPAGE=\"MS1251\" VERSION=\"182\" NAME=\"RS_DEV\">\n",
       "<FOLDER UUID=\"bcb7efd3-85f7-4405-b22e-b85f23579b42\" PERMISSIONS=\"rwx---r--\" DESCRIPTION=\"\" SHARED=\"NOTSHARED\" OWNER=\"Administrator\" GROUP=\"\" NAME=\"EDW_PREDDS_010\">\n",
       "    <MAPPING VERSIONNUMBER=\"1\" OBJECTVERSION=\"1\" NAME=\"m_PREDDS_010_COUNTERPARTY_WORK\" ISVALID=\"YES\" DESCRIPTION=\"\">\n",
       "        <TRANSFORMATION VERSIONNUMBER=\"1\" TYPE=\"Source Qualifier\" REUSABLE=\"NO\" OBJECTVERSION=\"1\" NAME=\"SQ_CA_WORK\" DESCRIPTION=\"\">\n",
       "            <TRANSFORMFIELD SCALE=\"0\" PRECISION=\"50\" PORTTYPE=\"INPUT/OUTPUT\" PICTURETEXT=\"\" NAME=\"COUNTERPARTY_EMPLOYEE_CCD\" DESCRIPTION=\"\" DEFAULTVALUE=\"\" DATATYPE=\"string\"/>\n",
       "            <TRANSFORMFIELD SCALE=\"0\" PRECISION=\"50\" PORTTYPE=\"INPUT/OUTPUT\" PICTURETEXT=\"\" NAME=\"COUNTERPARTY_EMPLOYER_CCD\" DESCRIPTION=\"\" DEFAULTVALUE=\"\" DATATYPE=\"string\"/>\n",
       "            <TRANSFORMFIELD SCALE=\"0\" PRECISION=\"2000\" PORTTYPE=\"INPUT/OUTPUT\" PICTURETEXT=\"\" NAME=\"WORK_NAME\" DESCRIPTION=\"\" DEFAULTVALUE=\"\" DATATYPE=\"string\"/>\n",
       "\u001b[33m...\u001b[0m"
      ]
     },
     "metadata": {},
     "output_type": "display_data"
    }
   ],
   "source": [
    "val mappping = scala.xml.XML.loadFile(\"C:\\\\Users\\\\Andrey.Zheltov\\\\Documents\\\\mappings_xml\\\\m_PREDDS_010_COUNTERPARTY_WORK_upd.XML\")"
   ]
  },
  {
   "cell_type": "code",
   "execution_count": 15,
   "metadata": {
    "collapsed": false
   },
   "outputs": [
    {
     "data": {
      "text/plain": [
       "\u001b[36mres12\u001b[0m: \u001b[32mcollection\u001b[0m.\u001b[32mimmutable\u001b[0m.\u001b[32mSeq\u001b[0m[\u001b[32mscala\u001b[0m.\u001b[32mxml\u001b[0m.\u001b[32mNodeSeq\u001b[0m] = \u001b[33mList\u001b[0m(\n",
       "  \u001b[33mGroup\u001b[0m(SQ_CA_WORK),\n",
       "  \u001b[33mGroup\u001b[0m(EXP_RECODE),\n",
       "  \u001b[33mGroup\u001b[0m(INPUT),\n",
       "  \u001b[33mGroup\u001b[0m(OUTPUT),\n",
       "  \u001b[33mGroup\u001b[0m(OUTPUT_BAD),\n",
       "  \u001b[33mGroup\u001b[0m(EXP_RETURN_VAL),\n",
       "  \u001b[33mGroup\u001b[0m(LKP_xREFMAP_OCCUPATION),\n",
       "  \u001b[33mGroup\u001b[0m(LKP_IDMAP_XREF_OCCUPATION),\n",
       "  \u001b[33mGroup\u001b[0m(mp_xREFMAP_OCCUPATION),\n",
       "  \u001b[33mGroup\u001b[0m(OUTPUT),\n",
       "  \u001b[33mGroup\u001b[0m(INPUT),\n",
       "  \u001b[33mGroup\u001b[0m(EXP_RETURN_VAL),\n",
       "  \u001b[33mGroup\u001b[0m(OUTPUT_BAD),\n",
       "  \u001b[33mGroup\u001b[0m(LKP_XREFMAP_XREF_DIRECTION_ORG),\n",
       "\u001b[33m...\u001b[0m"
      ]
     },
     "metadata": {},
     "output_type": "display_data"
    }
   ],
   "source": [
    "(mappping \\\\ \"TRANSFORMATION\").map(_ \\ \"@NAME\")"
   ]
  },
  {
   "cell_type": "code",
   "execution_count": 16,
   "metadata": {
    "collapsed": false
   },
   "outputs": [
    {
     "data": {
      "text/plain": [
       "\u001b[36mres13\u001b[0m: \u001b[32mscala\u001b[0m.\u001b[32mxml\u001b[0m.\u001b[32mNodeSeq\u001b[0m = \u001b[33mGroup\u001b[0m(EXP_RECODE)"
      ]
     },
     "metadata": {},
     "output_type": "display_data"
    }
   ],
   "source": [
    "(mappping \\\\ \"TRANSFORMATION\")(1) \\ \"@NAME\""
   ]
  },
  {
   "cell_type": "code",
   "execution_count": 17,
   "metadata": {
    "collapsed": false
   },
   "outputs": [
    {
     "name": "stdout",
     "output_type": "stream",
     "text": [
      "<TRANSFORMFIELD SCALE=\"0\" PRECISION=\"50\" PORTTYPE=\"INPUT/OUTPUT\" PICTURETEXT=\"\" NAME=\"COUNTERPARTY_EMPLOYEE_CCD\" DESCRIPTION=\"\" DEFAULTVALUE=\"\" DATATYPE=\"string\"/><TRANSFORMFIELD NAME=\"test\"/>\n"
     ]
    },
    {
     "data": {
      "text/plain": []
     },
     "metadata": {},
     "output_type": "display_data"
    }
   ],
   "source": [
    "println(mappping.child(1).child(1).child(1).child(1).child(1) ++ <TRANSFORMFIELD NAME=\"test\"/>)"
   ]
  },
  {
   "cell_type": "code",
   "execution_count": 18,
   "metadata": {
    "collapsed": false
   },
   "outputs": [
    {
     "data": {
      "text/plain": [
       "\u001b[36mres15\u001b[0m: \u001b[32mscala\u001b[0m.\u001b[32mxml\u001b[0m.\u001b[32mNodeSeq\u001b[0m = \u001b[33mNodeSeq\u001b[0m(\n",
       "  <TRANSFORMFIELD SCALE=\"0\" PRECISION=\"50\" PORTTYPE=\"INPUT/OUTPUT\" PICTURETEXT=\"\" NAME=\"COUNTERPARTY_EMPLOYEE_CCD\" DESCRIPTION=\"\" DEFAULTVALUE=\"\" DATATYPE=\"string\"/>,\n",
       "  <TRANSFORMFIELD NAME=\"test\"/>\n",
       ")"
      ]
     },
     "metadata": {},
     "output_type": "display_data"
    }
   ],
   "source": [
    "mappping.child(1).child(1).child(1).child(1).child(1) ++ <TRANSFORMFIELD NAME=\"test\"/>"
   ]
  },
  {
   "cell_type": "code",
   "execution_count": 15,
   "metadata": {
    "collapsed": false,
    "scrolled": true
   },
   "outputs": [
    {
     "name": "stdout",
     "output_type": "stream",
     "text": [
      "<TRANSFORMATION VERSIONNUMBER=\"1\" TYPE=\"Source Qualifier\" REUSABLE=\"NO\" OBJECTVERSION=\"1\" NAME=\"SQ_CA_WORK\" DESCRIPTION=\"\">\n",
      "            <TRANSFORMFIELD SCALE=\"0\" PRECISION=\"50\" PORTTYPE=\"INPUT/OUTPUT\" PICTURETEXT=\"\" NAME=\"COUNTERPARTY_EMPLOYEE_CCD\" DESCRIPTION=\"\" DEFAULTVALUE=\"\" DATATYPE=\"string\"/>\n",
      "            <TRANSFORMFIELD SCALE=\"0\" PRECISION=\"50\" PORTTYPE=\"INPUT/OUTPUT\" PICTURETEXT=\"\" NAME=\"COUNTERPARTY_EMPLOYER_CCD\" DESCRIPTION=\"\" DEFAULTVALUE=\"\" DATATYPE=\"string\"/>\n",
      "            <TRANSFORMFIELD SCALE=\"0\" PRECISION=\"2000\" PORTTYPE=\"INPUT/OUTPUT\" PICTURETEXT=\"\" NAME=\"WORK_NAME\" DESCRIPTION=\"\" DEFAULTVALUE=\"\" DATATYPE=\"string\"/>\n",
      "            <TRANSFORMFIELD SCALE=\"0\" PRECISION=\"15\" PORTTYPE=\"INPUT/OUTPUT\" PICTURETEXT=\"\" NAME=\"WORK_INN\" DESCRIPTION=\"\" DEFAULTVALUE=\"\" DATATYPE=\"string\"/>\n",
      "            <TRANSFORMFIELD SCALE=\"0\" PRECISION=\"15\" PORTTYPE=\"INPUT/OUTPUT\" PICTURETEXT=\"\" NAME=\"WORK_OGRN\" DESCRIPTION=\"\" DEFAULTVALUE=\"\" DATATYPE=\"string\"/>\n",
      "            <TRANSFORMFIELD SCALE=\"0\" PRECISION=\"4000\" PORTTYPE=\"INPUT/OUTPUT\" PICTURETEXT=\"\" NAME=\"WORK_PHONE\" DESCRIPTION=\"\" DEFAULTVALUE=\"\" DATATYPE=\"string\"/>\n",
      "            <TRANSFORMFIELD SCALE=\"0\" PRECISION=\"2000\" PORTTYPE=\"INPUT/OUTPUT\" PICTURETEXT=\"\" NAME=\"WORK_ADDRESS\" DESCRIPTION=\"\" DEFAULTVALUE=\"\" DATATYPE=\"string\"/>\n",
      "            <TRANSFORMFIELD SCALE=\"0\" PRECISION=\"2000\" PORTTYPE=\"INPUT/OUTPUT\" PICTURETEXT=\"\" NAME=\"WORK_POSITION\" DESCRIPTION=\"\" DEFAULTVALUE=\"\" DATATYPE=\"string\"/>\n",
      "            <TRANSFORMFIELD SCALE=\"0\" PRECISION=\"4000\" PORTTYPE=\"INPUT/OUTPUT\" PICTURETEXT=\"\" NAME=\"OCCUPATION_CCD\" DESCRIPTION=\"\" DEFAULTVALUE=\"\" DATATYPE=\"string\"/>\n",
      "            <TRANSFORMFIELD SCALE=\"0\" PRECISION=\"4000\" PORTTYPE=\"INPUT/OUTPUT\" PICTURETEXT=\"\" NAME=\"OKOPF_CCD\" DESCRIPTION=\"\" DEFAULTVALUE=\"\" DATATYPE=\"string\"/>\n",
      "            <TRANSFORMFIELD SCALE=\"0\" PRECISION=\"4000\" PORTTYPE=\"INPUT/OUTPUT\" PICTURETEXT=\"\" NAME=\"DIRECTION_ORG_CCD\" DESCRIPTION=\"\" DEFAULTVALUE=\"\" DATATYPE=\"string\"/>\n",
      "            <TRANSFORMFIELD SCALE=\"0\" PRECISION=\"15\" PORTTYPE=\"INPUT/OUTPUT\" PICTURETEXT=\"\" NAME=\"WORK_YEAR\" DESCRIPTION=\"\" DEFAULTVALUE=\"\" DATATYPE=\"double\"/>\n",
      "            <TRANSFORMFIELD SCALE=\"0\" PRECISION=\"4000\" PORTTYPE=\"INPUT/OUTPUT\" PICTURETEXT=\"\" NAME=\"WORK_YEAR5\" DESCRIPTION=\"\" DEFAULTVALUE=\"\" DATATYPE=\"string\"/>\n",
      "            <TRANSFORMFIELD SCALE=\"0\" PRECISION=\"4000\" PORTTYPE=\"INPUT/OUTPUT\" PICTURETEXT=\"\" NAME=\"WORK_INCOME\" DESCRIPTION=\"\" DEFAULTVALUE=\"\" DATATYPE=\"string\"/>\n",
      "            <TABLEATTRIBUTE VALUE=\"select 'A|#%' || sr.reference || '|%#' || sr.branch as counterparty_employee_ccd,\n",
      "  /*Контрагент-работник*/\n",
      "  'L|#%' || swi.eid_firma as counterparty_empoyer_ccd,\n",
      "  /*Контрагент-работодатель*/\n",
      "  swi.work_name,\n",
      "  /*Наименование работодателя*/\n",
      "  swi.work_inn,\n",
      "  /*ИНН работодателя*/\n",
      "  swi.work_ogrn,\n",
      "  /*ОГРН организации-работодателя потенциального клиента*/\n",
      "  sra1.attr_value as work_phone,\n",
      "  /*Телефон работодателя*/\n",
      "  swi.work_address,\n",
      "  /*Адрес места работы*/\n",
      "  swi.work_position,\n",
      "  /*Наименование должности*/\n",
      "  'A|#%' || sra2.attr_value as occupation_ccd,\n",
      "  /*Род занятий*/\n",
      "  'S|#%' || swi.work_orgtype3 as okopf_ccd,\n",
      "  /*ОКОПФ*/\n",
      "  'A|#%' || sra5.attr_value as direction_org_ccd,\n",
      "  /*Направление деятельности организации*/\n",
      "  swi.work_year,\n",
      "  /*Стаж на текущем месте работы*/\n",
      "  sra3.attr_value as work_year5,\n",
      "  /*Стаж общий*/\n",
      "  sra4.attr_value as work_income\n",
      "  /*Дата начала трудового договора*/\n",
      "from ods_010.tbl_scoring_request sr\n",
      "left join ods_010.tbl_scoring_work_info swi\n",
      "on sr.reference=swi.reference_req\n",
      "  and sr.branch=swi.branch_req\n",
      "  and swi.dml_type&lt;&gt;'D'\n",
      "left join ods_010.tbl_scoring_request_attr sra1\n",
      "on sra1.reference=sr.reference\n",
      "  and sra1.branch=sr.branch\n",
      "  and sra1.attr_key = 'WORK_PHONE'\n",
      "  and sra1.dml_type&lt;&gt;'D'\n",
      "left join ods_010.tbl_scoring_request_attr sra2\n",
      "on sra2.reference=sr.reference\n",
      "  and sra2.branch=sr.branch\n",
      "  and sra2.attr_key = 'WORK_OCCUPATION'\n",
      "  and sra2.dml_type&lt;&gt;'D'\n",
      "left join ods_010.tbl_scoring_request_attr sra3\n",
      "on sra3.reference=sr.reference\n",
      "  and sra3.branch=sr.branch\n",
      "  and sra3.attr_key = 'WORK_YEAR5'\n",
      "  and sra3.dml_type&lt;&gt;'D'\n",
      "left join ods_010.tbl_scoring_request_attr sra4\n",
      "on sra4.reference=sr.reference\n",
      "  and sra4.branch=sr.branch\n",
      "  and sra4.attr_key = 'WORK_INCOME'\n",
      "  and sra4.dml_type&lt;&gt;'D'\n",
      "left join ods_010.tbl_scoring_request_attr sra5\n",
      "on sra5.reference=sr.reference\n",
      "  and sra5.branch=sr.branch\n",
      "  and sra5.attr_key = 'WORK_SPHERE'\n",
      "  and sra5.dml_type&lt;&gt;'D'\n",
      "where sr.dml_type&lt;&gt;'D'\" NAME=\"Sql Query\"/>\n",
      "            <TABLEATTRIBUTE VALUE=\"\" NAME=\"User Defined Join\"/>\n",
      "            <TABLEATTRIBUTE VALUE=\"\" NAME=\"Source Filter\"/>\n",
      "            <TABLEATTRIBUTE VALUE=\"0\" NAME=\"Number Of Sorted Ports\"/>\n",
      "            <TABLEATTRIBUTE VALUE=\"Normal\" NAME=\"Tracing Level\"/>\n",
      "            <TABLEATTRIBUTE VALUE=\"NO\" NAME=\"Select Distinct\"/>\n",
      "            <TABLEATTRIBUTE VALUE=\"NO\" NAME=\"Is Partitionable\"/>\n",
      "            <TABLEATTRIBUTE VALUE=\"\" NAME=\"Pre SQL\"/>\n",
      "            <TABLEATTRIBUTE VALUE=\"\" NAME=\"Post SQL\"/>\n",
      "            <TABLEATTRIBUTE VALUE=\"NO\" NAME=\"Output is deterministic\"/>\n",
      "            <TABLEATTRIBUTE VALUE=\"Never\" NAME=\"Output is repeatable\"/>\n",
      "        </TRANSFORMATION><TRANSFORMFIELD/>\n"
     ]
    },
    {
     "data": {
      "text/plain": []
     },
     "metadata": {},
     "output_type": "display_data"
    }
   ],
   "source": [
    "println(mappping.child(1).child(1).child(1).child(1) ++ <TRANSFORMFIELD/>)"
   ]
  },
  {
   "cell_type": "code",
   "execution_count": null,
   "metadata": {
    "collapsed": true
   },
   "outputs": [],
   "source": []
  },
  {
   "cell_type": "code",
   "execution_count": 142,
   "metadata": {
    "collapsed": false
   },
   "outputs": [
    {
     "data": {
      "text/plain": [
       "\u001b[36mxmltxt\u001b[0m: \u001b[32mList\u001b[0m[\u001b[32mString\u001b[0m] = \u001b[33mList\u001b[0m(\n",
       "  \u001b[32m\"\"\"\n",
       "<?xml version=\"1.0\" encoding=\"windows-1251\"?>\n",
       "  \"\"\"\u001b[0m,\n",
       "  \u001b[32m\"\"\"\n",
       "<!DOCTYPE POWERMART SYSTEM \"powrmart.dtd\">\n",
       "  \"\"\"\u001b[0m,\n",
       "  \u001b[32m\"\"\"\n",
       "<POWERMART CREATION_DATE=\"05/02/2016 16:58:35\" REPOSITORY_VERSION=\"182.91\">\n",
       "  \"\"\"\u001b[0m,\n",
       "  \u001b[32m\"\"\"\n",
       "<REPOSITORY NAME=\"RS_TST\" VERSION=\"182\" CODEPAGE=\"MS1251\" DATABASETYPE=\"Oracle\">\n",
       "  \"\"\"\u001b[0m,\n",
       "  \u001b[32m\"\"\"\n",
       "<FOLDER NAME=\"EDW_PREDDS_001\" GROUP=\"\" OWNER=\"Administrator\" SHARED=\"NOTSHARED\" DESCRIPTION=\"\" PERMI\u001b[33m...\u001b[0m"
      ]
     },
     "metadata": {},
     "output_type": "display_data"
    }
   ],
   "source": [
    "val xmltxt = scala.io.Source.fromFile(\"wf_PREDDS_001_COUNTERP_NPERS_ESTATE.XML\",\"cp1251\").getLines.toList"
   ]
  },
  {
   "cell_type": "code",
   "execution_count": 143,
   "metadata": {
    "collapsed": false
   },
   "outputs": [
    {
     "data": {
      "text/plain": [
       "\u001b[36mres126\u001b[0m: \u001b[32mString\u001b[0m = \u001b[32m\"\"\"\n",
       "<!DOCTYPE POWERMART SYSTEM \"powrmart.dtd\">\n",
       "\"\"\"\u001b[0m"
      ]
     },
     "metadata": {},
     "output_type": "display_data"
    }
   ],
   "source": [
    "xmltxt(1)"
   ]
  },
  {
   "cell_type": "code",
   "execution_count": 144,
   "metadata": {
    "collapsed": false
   },
   "outputs": [
    {
     "data": {
      "text/plain": [
       "\u001b[36mcomment\u001b[0m: \u001b[32mString\u001b[0m = \u001b[32m\"\"\"\n",
       "<!--<!DOCTYPE POWERMART SYSTEM \"powrmart.dtd\">-->\n",
       "\"\"\"\u001b[0m"
      ]
     },
     "metadata": {},
     "output_type": "display_data"
    }
   ],
   "source": [
    "val comment = \"<!--\" + xmltxt(1) + \"-->\""
   ]
  },
  {
   "cell_type": "code",
   "execution_count": 145,
   "metadata": {
    "collapsed": false
   },
   "outputs": [
    {
     "data": {
      "text/plain": [
       "\u001b[36mres128\u001b[0m: \u001b[32mSeq\u001b[0m[\u001b[32mString\u001b[0m] = \u001b[33mList\u001b[0m(\n",
       "  \u001b[32m\"\"\"\n",
       "<!--<!DOCTYPE POWERMART SYSTEM \"powrmart.dtd\">-->\n",
       "  \"\"\"\u001b[0m\n",
       ")"
      ]
     },
     "metadata": {},
     "output_type": "display_data"
    }
   ],
   "source": [
    "Seq(comment)"
   ]
  },
  {
   "cell_type": "code",
   "execution_count": 146,
   "metadata": {
    "collapsed": false
   },
   "outputs": [
    {
     "data": {
      "text/plain": [
       "\u001b[36mxmltxtp\u001b[0m: \u001b[32mList\u001b[0m[\u001b[32mString\u001b[0m] = \u001b[33mList\u001b[0m(\n",
       "  \u001b[32m\"\"\"\n",
       "<?xml version=\"1.0\" encoding=\"windows-1251\"?>\n",
       "  \"\"\"\u001b[0m,\n",
       "  \u001b[32m\"\"\"\n",
       "<!--<!DOCTYPE POWERMART SYSTEM \"powrmart.dtd\">-->\n",
       "  \"\"\"\u001b[0m,\n",
       "  \u001b[32m\"\"\"\n",
       "<POWERMART CREATION_DATE=\"05/02/2016 16:58:35\" REPOSITORY_VERSION=\"182.91\">\n",
       "  \"\"\"\u001b[0m,\n",
       "  \u001b[32m\"\"\"\n",
       "<REPOSITORY NAME=\"RS_TST\" VERSION=\"182\" CODEPAGE=\"MS1251\" DATABASETYPE=\"Oracle\">\n",
       "  \"\"\"\u001b[0m,\n",
       "  \u001b[32m\"\"\"\n",
       "<FOLDER NAME=\"EDW_PREDDS_001\" GROUP=\"\" OWNER=\"Administrator\" SHARED=\"NOTSHARED\" DESCRIPTION=\"\" PERMI\u001b[33m...\u001b[0m"
      ]
     },
     "metadata": {},
     "output_type": "display_data"
    }
   ],
   "source": [
    "val xmltxtp = xmltxt.patch(1, Seq(comment), 1)"
   ]
  },
  {
   "cell_type": "code",
   "execution_count": 1,
   "metadata": {
    "collapsed": false
   },
   "outputs": [
    {
     "data": {
      "text/plain": [
       "\u001b[32mimport \u001b[36mjava.io._\u001b[0m"
      ]
     },
     "metadata": {},
     "output_type": "display_data"
    }
   ],
   "source": [
    "import java.io._"
   ]
  },
  {
   "cell_type": "code",
   "execution_count": 148,
   "metadata": {
    "collapsed": false
   },
   "outputs": [
    {
     "data": {
      "text/plain": [
       "\u001b[36mfile\u001b[0m: \u001b[32mFile\u001b[0m = wf_PREDDS_001_COUNTERP_NPERS_ESTATE_com.XML"
      ]
     },
     "metadata": {},
     "output_type": "display_data"
    }
   ],
   "source": [
    "val file = new File(\"wf_PREDDS_001_COUNTERP_NPERS_ESTATE_com.XML\")"
   ]
  },
  {
   "cell_type": "code",
   "execution_count": 149,
   "metadata": {
    "collapsed": false
   },
   "outputs": [
    {
     "data": {
      "text/plain": [
       "\u001b[36mbw\u001b[0m: \u001b[32mBufferedWriter\u001b[0m = java.io.BufferedWriter@6697467d"
      ]
     },
     "metadata": {},
     "output_type": "display_data"
    }
   ],
   "source": [
    "val bw = new BufferedWriter(new FileWriter(file))"
   ]
  },
  {
   "cell_type": "code",
   "execution_count": 150,
   "metadata": {
    "collapsed": false
   },
   "outputs": [
    {
     "data": {
      "text/plain": [
       "\u001b[36mres133_0\u001b[0m: \u001b[32mList\u001b[0m[\u001b[32mUnit\u001b[0m] = \u001b[33mList\u001b[0m(\n",
       "  (),\n",
       "  (),\n",
       "  (),\n",
       "  (),\n",
       "  (),\n",
       "  (),\n",
       "  (),\n",
       "  (),\n",
       "  (),\n",
       "  (),\n",
       "  (),\n",
       "  (),\n",
       "  (),\n",
       "  (),\n",
       "\u001b[33m...\u001b[0m"
      ]
     },
     "metadata": {},
     "output_type": "display_data"
    }
   ],
   "source": [
    "xmltxtp.map(st => bw.write(st + \"\\n\"))\n",
    "bw.close()"
   ]
  },
  {
   "cell_type": "code",
   "execution_count": 2,
   "metadata": {
    "collapsed": false
   },
   "outputs": [
    {
     "data": {
      "text/plain": [
       "\u001b[32mimport \u001b[36mscala.io._\u001b[0m"
      ]
     },
     "metadata": {},
     "output_type": "display_data"
    }
   ],
   "source": [
    "import scala.io._"
   ]
  },
  {
   "cell_type": "code",
   "execution_count": 163,
   "metadata": {
    "collapsed": false
   },
   "outputs": [
    {
     "data": {
      "text/plain": [
       "\u001b[36mres139\u001b[0m: \u001b[32mcollection\u001b[0m.\u001b[32mimmutable\u001b[0m.\u001b[32mSeq\u001b[0m[\u001b[32mNode\u001b[0m] = \u001b[33mList\u001b[0m(\n",
       "  mp_xREFMAP_ESTATE_OBTAIN_TYPE.LKP_IDMAP_XREF_ESTATE_OBTAIN_TYPE,\n",
       "  mp_xREFMAP_ESTATE_OBTAIN_TYPE.LKP_XREFMAP_ESTATE_OBTAIN_TYPE,\n",
       "  mp_IDMAP_ORPHAN_XREF_ESTATE_TYPE.LKP_IDMAP_XREF_ESTATE_TYPE,\n",
       "  mp_IDMAP_ORPHAN_ESTATE_RK.LKP_IDMAP_COUNTERPARTY,\n",
       "  mp_IDMAP_ORPHAN_COUNTRP_NAT_PERS_RK.LKP_IDMAP_COUNTERPARTY\n",
       ")"
      ]
     },
     "metadata": {},
     "output_type": "display_data"
    }
   ],
   "source": [
    "procsNames"
   ]
  },
  {
   "cell_type": "code",
   "execution_count": 6,
   "metadata": {
    "collapsed": false
   },
   "outputs": [
    {
     "data": {
      "text/plain": [
       "\u001b[36mprocs\u001b[0m: \u001b[32mcollection\u001b[0m.\u001b[32mimmutable\u001b[0m.\u001b[32mSeq\u001b[0m[(\u001b[32mscala\u001b[0m.\u001b[32mxml\u001b[0m.\u001b[32mNode\u001b[0m, \u001b[32mscala\u001b[0m.\u001b[32mxml\u001b[0m.\u001b[32mNode\u001b[0m)] = \u001b[33mList\u001b[0m(\n",
       "  \u001b[33m\u001b[0m(\n",
       "    \u001b[33mText\u001b[0m(mp_IDMAP_ORPHAN_XREF_ESTATE_TYPE.ODS_INS_IDMAP_ORPH_FNC),\n",
       "    \u001b[33mText\u001b[0m(Stored Procedure)\n",
       "  ),\n",
       "  \u001b[33m\u001b[0m(\u001b[33mText\u001b[0m(mp_IDMAP_ORPHAN_ESTATE_RK.ODS_INS_IDMAP_ORPH_FNC), \u001b[33mText\u001b[0m(Stored Procedure)),\n",
       "  \u001b[33m\u001b[0m(\n",
       "    \u001b[33mText\u001b[0m(mp_IDMAP_ORPHAN_COUNTRP_NAT_PERS_RK.ODS_INS_IDMAP_ORPH_FNC),\n",
       "    \u001b[33mText\u001b[0m(Stored Procedure)\n",
       "  )\n",
       ")"
      ]
     },
     "metadata": {},
     "output_type": "display_data"
    }
   ],
   "source": [
    "val procs = ((xml \\\\ \"SESSTRANSFORMATIONINST\" \\\\ \"@TRANSFORMATIONNAME\") zip (xml \\\\ \"SESSTRANSFORMATIONINST\" \\\\ \"@TRANSFORMATIONTYPE\")).filter(_._2.text.contains(\"Stored\"))"
   ]
  },
  {
   "cell_type": "code",
   "execution_count": 7,
   "metadata": {
    "collapsed": false
   },
   "outputs": [
    {
     "data": {
      "text/plain": [
       "\u001b[36mprocsNames\u001b[0m: \u001b[32mcollection\u001b[0m.\u001b[32mimmutable\u001b[0m.\u001b[32mSeq\u001b[0m[\u001b[32mscala\u001b[0m.\u001b[32mxml\u001b[0m.\u001b[32mNode\u001b[0m] = \u001b[33mList\u001b[0m(\n",
       "  mp_IDMAP_ORPHAN_XREF_ESTATE_TYPE.ODS_INS_IDMAP_ORPH_FNC,\n",
       "  mp_IDMAP_ORPHAN_ESTATE_RK.ODS_INS_IDMAP_ORPH_FNC,\n",
       "  mp_IDMAP_ORPHAN_COUNTRP_NAT_PERS_RK.ODS_INS_IDMAP_ORPH_FNC\n",
       ")"
      ]
     },
     "metadata": {},
     "output_type": "display_data"
    }
   ],
   "source": [
    "val procsNames = procs map (_._1)"
   ]
  },
  {
   "cell_type": "code",
   "execution_count": 8,
   "metadata": {
    "collapsed": false
   },
   "outputs": [
    {
     "data": {
      "text/plain": [
       "\u001b[36mprocsNamesE\u001b[0m: \u001b[32mcollection\u001b[0m.\u001b[32mimmutable\u001b[0m.\u001b[32mSeq\u001b[0m[\u001b[32mString\u001b[0m] = \u001b[33mList\u001b[0m(\n",
       "  \u001b[32m\"IDMAP_ORPHAN_XREF_ESTATE_TYPE\"\u001b[0m,\n",
       "  \u001b[32m\"IDMAP_ORPHAN_ESTATE_RK\"\u001b[0m,\n",
       "  \u001b[32m\"IDMAP_ORPHAN_COUNTRP_NAT_PERS_RK\"\u001b[0m\n",
       ")"
      ]
     },
     "metadata": {},
     "output_type": "display_data"
    }
   ],
   "source": [
    "val procsNamesE = procsNames.map(_.text.split('.')(0).split('_').drop(1).reduce((x, y) => x + '_' + y))"
   ]
  },
  {
   "cell_type": "code",
   "execution_count": 12,
   "metadata": {
    "collapsed": false,
    "scrolled": true
   },
   "outputs": [
    {
     "data": {
      "text/plain": [
       "\u001b[36mprocsNamesEO\u001b[0m: \u001b[32mcollection\u001b[0m.\u001b[32mimmutable\u001b[0m.\u001b[32mSeq\u001b[0m[\u001b[32mString\u001b[0m] = \u001b[33mList\u001b[0m(\n",
       "  \u001b[32m\"IDMAP_XREF_ESTATE_TYPE\"\u001b[0m,\n",
       "  \u001b[32m\"IDMAP_ESTATE_RK\"\u001b[0m,\n",
       "  \u001b[32m\"IDMAP_COUNTRP_NAT_PERS_RK\"\u001b[0m\n",
       ")"
      ]
     },
     "metadata": {},
     "output_type": "display_data"
    }
   ],
   "source": [
    "val procsNamesEO = procsNamesE.map(_.replace(\"_ORPHAN\",\"\"))"
   ]
  },
  {
   "cell_type": "code",
   "execution_count": 13,
   "metadata": {
    "collapsed": false
   },
   "outputs": [
    {
     "data": {
      "text/plain": [
       "\u001b[36mprocs\u001b[0m: \u001b[32mcollection\u001b[0m.\u001b[32mimmutable\u001b[0m.\u001b[32mSeq\u001b[0m[(\u001b[32mscala\u001b[0m.\u001b[32mxml\u001b[0m.\u001b[32mNode\u001b[0m, \u001b[32mscala\u001b[0m.\u001b[32mxml\u001b[0m.\u001b[32mNode\u001b[0m)] = \u001b[33mList\u001b[0m(\n",
       "  \u001b[33m\u001b[0m(\n",
       "    \u001b[33mText\u001b[0m(mp_xREFMAP_ESTATE_OBTAIN_TYPE.LKP_IDMAP_XREF_ESTATE_OBTAIN_TYPE),\n",
       "    \u001b[33mText\u001b[0m(Lookup Procedure)\n",
       "  ),\n",
       "  \u001b[33m\u001b[0m(\n",
       "    \u001b[33mText\u001b[0m(mp_xREFMAP_ESTATE_OBTAIN_TYPE.LKP_XREFMAP_ESTATE_OBTAIN_TYPE),\n",
       "    \u001b[33mText\u001b[0m(Lookup Procedure)\n",
       "  ),\n",
       "  \u001b[33m\u001b[0m(\n",
       "    \u001b[33mText\u001b[0m(mp_IDMAP_ORPHAN_XREF_ESTATE_TYPE.LKP_IDMAP_XREF_ESTATE_TYPE),\n",
       "    \u001b[33mText\u001b[0m(Lookup Procedure)\n",
       "  ),\n",
       "  \u001b[33m\u001b[0m(\u001b[33mText\u001b[0m(mp_IDMAP_ORPHAN_ESTATE_RK.LKP_IDMAP_COUNTERPARTY), \u001b[33mText\u001b[0m(Lookup Procedure)),\n",
       "\u001b[33m...\u001b[0m"
      ]
     },
     "metadata": {},
     "output_type": "display_data"
    }
   ],
   "source": [
    "val procs = ((xml \\\\ \"SESSTRANSFORMATIONINST\" \\\\ \"@TRANSFORMATIONNAME\") zip (xml \\\\ \"SESSTRANSFORMATIONINST\" \\\\ \"@TRANSFORMATIONTYPE\")).filter(_._2.text.contains(\"Lookup\"))"
   ]
  },
  {
   "cell_type": "code",
   "execution_count": 14,
   "metadata": {
    "collapsed": false
   },
   "outputs": [
    {
     "data": {
      "text/plain": [
       "\u001b[36mprocsNames\u001b[0m: \u001b[32mcollection\u001b[0m.\u001b[32mimmutable\u001b[0m.\u001b[32mSeq\u001b[0m[\u001b[32mscala\u001b[0m.\u001b[32mxml\u001b[0m.\u001b[32mNode\u001b[0m] = \u001b[33mList\u001b[0m(\n",
       "  mp_xREFMAP_ESTATE_OBTAIN_TYPE.LKP_IDMAP_XREF_ESTATE_OBTAIN_TYPE,\n",
       "  mp_xREFMAP_ESTATE_OBTAIN_TYPE.LKP_XREFMAP_ESTATE_OBTAIN_TYPE,\n",
       "  mp_IDMAP_ORPHAN_XREF_ESTATE_TYPE.LKP_IDMAP_XREF_ESTATE_TYPE,\n",
       "  mp_IDMAP_ORPHAN_ESTATE_RK.LKP_IDMAP_COUNTERPARTY,\n",
       "  mp_IDMAP_ORPHAN_COUNTRP_NAT_PERS_RK.LKP_IDMAP_COUNTERPARTY\n",
       ")"
      ]
     },
     "metadata": {},
     "output_type": "display_data"
    }
   ],
   "source": [
    "val procsNames = procs map (_._1)"
   ]
  },
  {
   "cell_type": "code",
   "execution_count": 16,
   "metadata": {
    "collapsed": false
   },
   "outputs": [
    {
     "data": {
      "text/plain": [
       "\u001b[36mprocsNamesE\u001b[0m: \u001b[32mcollection\u001b[0m.\u001b[32mimmutable\u001b[0m.\u001b[32mSeq\u001b[0m[\u001b[32mString\u001b[0m] = \u001b[33mList\u001b[0m(\n",
       "  \u001b[32m\"IDMAP_XREF_ESTATE_OBTAIN_TYPE\"\u001b[0m,\n",
       "  \u001b[32m\"XREFMAP_ESTATE_OBTAIN_TYPE\"\u001b[0m,\n",
       "  \u001b[32m\"IDMAP_XREF_ESTATE_TYPE\"\u001b[0m,\n",
       "  \u001b[32m\"IDMAP_COUNTERPARTY\"\u001b[0m,\n",
       "  \u001b[32m\"IDMAP_COUNTERPARTY\"\u001b[0m\n",
       ")"
      ]
     },
     "metadata": {},
     "output_type": "display_data"
    }
   ],
   "source": [
    "val procsNamesE = procsNames.map(_.text.split('.')(1).split('_').drop(1).reduce((x, y) => x + '_' + y))"
   ]
  },
  {
   "cell_type": "code",
   "execution_count": null,
   "metadata": {
    "collapsed": true
   },
   "outputs": [],
   "source": [
    "val procsStoredNames = procsStored map (_._1)"
   ]
  },
  {
   "cell_type": "code",
   "execution_count": 174,
   "metadata": {
    "collapsed": false
   },
   "outputs": [
    {
     "data": {
      "text/plain": [
       "\u001b[36mprocsStored\u001b[0m: \u001b[32mcollection\u001b[0m.\u001b[32mimmutable\u001b[0m.\u001b[32mSeq\u001b[0m[(\u001b[32mNode\u001b[0m, \u001b[32mNode\u001b[0m)] = \u001b[33mList\u001b[0m(\n",
       "  \u001b[33m\u001b[0m(\n",
       "    \u001b[33mText\u001b[0m(mp_IDMAP_ORPHAN_XREF_ESTATE_TYPE.ODS_INS_IDMAP_ORPH_FNC),\n",
       "    \u001b[33mText\u001b[0m(Stored Procedure)\n",
       "  ),\n",
       "  \u001b[33m\u001b[0m(\u001b[33mText\u001b[0m(mp_IDMAP_ORPHAN_ESTATE_RK.ODS_INS_IDMAP_ORPH_FNC), \u001b[33mText\u001b[0m(Stored Procedure)),\n",
       "  \u001b[33m\u001b[0m(\n",
       "    \u001b[33mText\u001b[0m(mp_IDMAP_ORPHAN_COUNTRP_NAT_PERS_RK.ODS_INS_IDMAP_ORPH_FNC),\n",
       "    \u001b[33mText\u001b[0m(Stored Procedure)\n",
       "  )\n",
       ")\n",
       "\u001b[36mprocsStoredNames\u001b[0m: \u001b[32mcollection\u001b[0m.\u001b[32mimmutable\u001b[0m.\u001b[32mSeq\u001b[0m[\u001b[32mNode\u001b[0m] = \u001b[33mList\u001b[0m(\n",
       "  mp_IDMAP_ORPHAN_XREF_ESTATE_TYPE.ODS_INS_IDMAP_ORPH_FNC,\n",
       "  mp_IDMAP_ORPHAN_ESTATE_RK.ODS_INS_IDMAP_ORPH_FNC,\n",
       "  mp_IDMAP_ORPHAN_COUNTRP_NAT_PERS_RK.ODS_INS_IDMAP_ORPH_FNC\n",
       ")\n",
       "\u001b[36mtableNames\u001b[0m: \u001b[32mcollection\u001b[0m.\u001b[32mimmutable\u001b[0m.\u001b[32mSeq\u001b[0m[\u001b[32mString\u001b[0m] = \u001b[33mList\u001b[0m(\u001b[32m\"IDMAP.XREF_ESTATE_TYPE\"\u001b[0m, \u001b[32m\"IDMAP.COUNTERPARTY\"\u001b[0m)"
      ]
     },
     "metadata": {},
     "output_type": "display_data"
    }
   ],
   "source": [
    "val procsStored = ((xml \\\\ \"SESSTRANSFORMATIONINST\" \\\\ \"@TRANSFORMATIONNAME\") zip (xml \\\\ \"SESSTRANSFORMATIONINST\" \\\\ \"@TRANSFORMATIONTYPE\")).filter(_._2.text.contains(\"Stored\"))\n",
    "    \n",
    "    val procsStoredNames = procsStored map (_._1)\n",
    "    \n",
    "    val tableNames = procsNames.filter(x => procsStoredNames.map(_.text.split('.')(0)).contains(x.text.split('.')(0))).map(_.text.split('.')(1).split('_').drop(1).reduce((x,y)=>x+'_'+y)).distinct.map(_.replaceFirst(\"_\",\".\"))\n",
    "    "
   ]
  },
  {
   "cell_type": "code",
   "execution_count": 175,
   "metadata": {
    "collapsed": false
   },
   "outputs": [
    {
     "data": {
      "text/plain": [
       "\u001b[36mlistOfTables\u001b[0m: \u001b[32mList\u001b[0m[\u001b[32mString\u001b[0m] = \u001b[33mList\u001b[0m()"
      ]
     },
     "metadata": {},
     "output_type": "display_data"
    }
   ],
   "source": [
    "var listOfTables:List[String] = List()"
   ]
  },
  {
   "cell_type": "code",
   "execution_count": 176,
   "metadata": {
    "collapsed": false
   },
   "outputs": [
    {
     "data": {
      "text/plain": []
     },
     "metadata": {},
     "output_type": "display_data"
    }
   ],
   "source": [
    "try {\n",
    "listOfTables = scala.io.Source.fromFile(\"listOfTabes\").getLines.toList}\n",
    "catch {\n",
    "    case e: Exception => {}\n",
    "}"
   ]
  },
  {
   "cell_type": "code",
   "execution_count": 177,
   "metadata": {
    "collapsed": false
   },
   "outputs": [
    {
     "data": {
      "text/plain": [
       "\u001b[36mres153\u001b[0m: \u001b[32mList\u001b[0m[\u001b[32mString\u001b[0m] = \u001b[33mList\u001b[0m()"
      ]
     },
     "metadata": {},
     "output_type": "display_data"
    }
   ],
   "source": [
    "listOfTables"
   ]
  },
  {
   "cell_type": "code",
   "execution_count": 178,
   "metadata": {
    "collapsed": false
   },
   "outputs": [
    {
     "data": {
      "text/plain": [
       "\u001b[36mres154\u001b[0m: \u001b[32mcollection\u001b[0m.\u001b[32mimmutable\u001b[0m.\u001b[32mSeq\u001b[0m[\u001b[32mString\u001b[0m] = \u001b[33mList\u001b[0m(\u001b[32m\"IDMAP.XREF_ESTATE_TYPE\"\u001b[0m, \u001b[32m\"IDMAP.COUNTERPARTY\"\u001b[0m)"
      ]
     },
     "metadata": {},
     "output_type": "display_data"
    }
   ],
   "source": [
    "tableNames.filter(!listOfTables.contains(_))"
   ]
  },
  {
   "cell_type": "code",
   "execution_count": 170,
   "metadata": {
    "collapsed": false
   },
   "outputs": [
    {
     "data": {
      "text/plain": [
       "\u001b[32mimport \u001b[36mjava.io._\u001b[0m"
      ]
     },
     "metadata": {},
     "output_type": "display_data"
    }
   ],
   "source": [
    "import java.io._"
   ]
  },
  {
   "cell_type": "code",
   "execution_count": 171,
   "metadata": {
    "collapsed": false
   },
   "outputs": [
    {
     "data": {
      "text/plain": [
       "\u001b[36mfile\u001b[0m: \u001b[32mFile\u001b[0m = listOfTables\n",
       "\u001b[36mbw\u001b[0m: \u001b[32mBufferedWriter\u001b[0m = java.io.BufferedWriter@6c7c3e9e\n",
       "\u001b[36mres147_2\u001b[0m: \u001b[32mcollection\u001b[0m.\u001b[32mimmutable\u001b[0m.\u001b[32mSeq\u001b[0m[\u001b[32mUnit\u001b[0m] = \u001b[33mList\u001b[0m((), ())"
      ]
     },
     "metadata": {},
     "output_type": "display_data"
    }
   ],
   "source": [
    "val file = new File(\"listOfTables\")\n",
    "val bw = new BufferedWriter(new FileWriter(file, true))\n",
    "tableNames.filter(!listOfTabl.contains(_)).map(st => bw.write(st + \"\\n\"))\n",
    "bw.close()    "
   ]
  },
  {
   "cell_type": "code",
   "execution_count": 98,
   "metadata": {
    "collapsed": false
   },
   "outputs": [
    {
     "ename": "",
     "evalue": "",
     "output_type": "error",
     "traceback": [
      "Compilation Failed",
      "\u001b[31mMain.scala:244: not found: value Resource\r",
      "Resource.fromFile(\"someFile\") \r",
      "^\u001b[0m"
     ]
    }
   ],
   "source": [
    "val output = Resource.fromFile(\"someFile\")"
   ]
  },
  {
   "cell_type": "code",
   "execution_count": 3,
   "metadata": {
    "collapsed": false
   },
   "outputs": [
    {
     "data": {
      "text/plain": [
       "\u001b[32mimport \u001b[36mscala.xml.Elem\u001b[0m\n",
       "\u001b[32mimport \u001b[36mscala.xml.factory.XMLLoader\u001b[0m\n",
       "\u001b[32mimport \u001b[36mjavax.xml.parsers.SAXParser\u001b[0m"
      ]
     },
     "metadata": {},
     "output_type": "display_data"
    }
   ],
   "source": [
    "import scala.xml.Elem\n",
    "import scala.xml.factory.XMLLoader\n",
    "import javax.xml.parsers.SAXParser"
   ]
  },
  {
   "cell_type": "code",
   "execution_count": 3,
   "metadata": {
    "collapsed": false
   },
   "outputs": [
    {
     "data": {
      "text/plain": [
       "\u001b[36mf\u001b[0m: \u001b[32mjavax\u001b[0m.\u001b[32mxml\u001b[0m.\u001b[32mparsers\u001b[0m.\u001b[32mSAXParserFactory\u001b[0m = com.sun.org.apache.xerces.internal.jaxp.SAXParserFactoryImpl@4d4fd4c5\n",
       "\u001b[36mp\u001b[0m: \u001b[32mSAXParser\u001b[0m = com.sun.org.apache.xerces.internal.jaxp.SAXParserImpl@64477\n",
       "\u001b[36mdoc\u001b[0m: \u001b[32mElem\u001b[0m = \u001b[33mElem\u001b[0m(\n",
       "  <POWERMART REPOSITORY_VERSION=\"182.91\" CREATION_DATE=\"05/02/2016 16:58:35\">\n",
       "<REPOSITORY DATABASETYPE=\"Oracle\" CODEPAGE=\"MS1251\" VERSION=\"182\" NAME=\"RS_TST\">\n",
       "<FOLDER UUID=\"d318e01d-c840-4918-a8c9-969f0504dfc1\" PERMISSIONS=\"rwx---r--\" DESCRIPTION=\"\" SHARED=\"NOTSHARED\" OWNER=\"Administrator\" GROUP=\"\" NAME=\"EDW_PREDDS_001\">\n",
       "    <TASK VERSIONNUMBER=\"1\" TYPE=\"Command\" REUSABLE=\"YES\" NAME=\"cmd_ETLFW_START_JOB\" DESCRIPTION=\"Команда для запуска процесса управления Джобами PREDDS\">\n",
       "        <ATTRIBUTE VALUE=\"YES\" NAME=\"Fail task if any command fails\"/>\n",
       "        <ATTRIBUTE VALUE=\"Restart task\" NAME=\"Recovery Strategy\"/>\n",
       "        <VALUEPAIR VALUE=\" python /home/etl/etlfw/startjob.py  $PMFolderName $PMWorkflowName $PMRootDir/ParamFiles/EDW_PREDDS_001.$PMWorkflowName.prm $PMWorkflowRunId $PMIntegrationServiceName\" REVERSEASSIGNMENT=\"NO\" NAME=\"ETLFW Start Job wf_STG_CDC_002_ACNT_CONTRACT\" EXECORDER=\"1\"/>\n",
       "    </TASK>\n",
       "    <TASK VERSIONNUMBER=\"1\" TYPE=\"Command\" REUSABLE=\"YES\" NAME=\"cmd_ETLFW_FINISH_JOB\" DESCRIPTION=\"Команда для завершения процесса управления Джобами PREDDS\">\n",
       "\u001b[33m...\u001b[0m"
      ]
     },
     "metadata": {},
     "output_type": "display_data"
    }
   ],
   "source": [
    "val f = javax.xml.parsers.SAXParserFactory.newInstance()\n",
    "//f.setValidating(false)\n",
    "//f.setNamespaceAware(false)\n",
    "f.setFeature(\"http://apache.org/xml/features/nonvalidating/load-external-dtd\", false);\n",
    "val p = f.newSAXParser()\n",
    "val doc = scala.xml.XML.withSAXParser(p).load(\"wf_PREDDS_001_COUNTERP_NPERS_ESTATE.XML\")"
   ]
  },
  {
   "cell_type": "code",
   "execution_count": 623,
   "metadata": {
    "collapsed": false
   },
   "outputs": [
    {
     "ename": "",
     "evalue": "",
     "output_type": "error",
     "traceback": [
      "java.io.FileNotFoundException: C:\\Users\\Andrey.Zheltov\\Documents\\github\\iscalafiles\\powrmart.dtd (The system cannot find the file specified)",
      "\tjava.io.FileInputStream.open0(Native Method)",
      "\tjava.io.FileInputStream.open(Unknown Source)",
      "\tjava.io.FileInputStream.<init>(Unknown Source)",
      "\tjava.io.FileInputStream.<init>(Unknown Source)",
      "\tsun.net.www.protocol.file.FileURLConnection.connect(Unknown Source)",
      "\tsun.net.www.protocol.file.FileURLConnection.getInputStream(Unknown Source)",
      "\tcom.sun.org.apache.xerces.internal.impl.XMLEntityManager.setupCurrentEntity(Unknown Source)",
      "\tcom.sun.org.apache.xerces.internal.impl.XMLEntityManager.startEntity(Unknown Source)",
      "\tcom.sun.org.apache.xerces.internal.impl.XMLEntityManager.startDTDEntity(Unknown Source)",
      "\tcom.sun.org.apache.xerces.internal.impl.XMLDTDScannerImpl.setInputSource(Unknown Source)",
      "\tcom.sun.org.apache.xerces.internal.impl.XMLDocumentScannerImpl$DTDDriver.dispatch(Unknown Source)",
      "\tcom.sun.org.apache.xerces.internal.impl.XMLDocumentScannerImpl$DTDDriver.next(Unknown Source)",
      "\tcom.sun.org.apache.xerces.internal.impl.XMLDocumentScannerImpl$PrologDriver.next(Unknown Source)",
      "\tcom.sun.org.apache.xerces.internal.impl.XMLDocumentScannerImpl.next(Unknown Source)",
      "\tcom.sun.org.apache.xerces.internal.impl.XMLDocumentFragmentScannerImpl.scanDocument(Unknown Source)",
      "\tcom.sun.org.apache.xerces.internal.parsers.XML11Configuration.parse(Unknown Source)",
      "\tcom.sun.org.apache.xerces.internal.parsers.XML11Configuration.parse(Unknown Source)",
      "\tcom.sun.org.apache.xerces.internal.parsers.XMLParser.parse(Unknown Source)",
      "\tcom.sun.org.apache.xerces.internal.parsers.AbstractSAXParser.parse(Unknown Source)",
      "\tcom.sun.org.apache.xerces.internal.jaxp.SAXParserImpl$JAXPSAXParser.parse(Unknown Source)",
      "\tcom.sun.org.apache.xerces.internal.jaxp.SAXParserImpl.parse(Unknown Source)",
      "\tscala.xml.factory.XMLLoader$class.loadXML(XMLLoader.scala:41)",
      "\tscala.xml.XML$.loadXML(XML.scala:60)",
      "\tscala.xml.factory.XMLLoader$class.loadFile(XMLLoader.scala:50)",
      "\tscala.xml.XML$.loadFile(XML.scala:60)",
      "\tcmd556$$user$$anonfun$1.apply(Main.scala:859)",
      "\tcmd556$$user$$anonfun$1.apply(Main.scala:858)"
     ]
    }
   ],
   "source": [
    "val xmlt = scala.xml.XML.loadFile(\"wf_PREDDS_001_COUNTERP_NPERS_ESTATE.XML\",)"
   ]
  },
  {
   "cell_type": "code",
   "execution_count": 4,
   "metadata": {
    "collapsed": false
   },
   "outputs": [
    {
     "data": {
      "text/plain": [
       "\u001b[36mxml\u001b[0m: \u001b[32mElem\u001b[0m = \u001b[33mElem\u001b[0m(\n",
       "  <POWERMART REPOSITORY_VERSION=\"182.91\" CREATION_DATE=\"05/02/2016 16:58:35\">\n",
       "<REPOSITORY DATABASETYPE=\"Oracle\" CODEPAGE=\"MS1251\" VERSION=\"182\" NAME=\"RS_TST\">\n",
       "<FOLDER UUID=\"d318e01d-c840-4918-a8c9-969f0504dfc1\" PERMISSIONS=\"rwx---r--\" DESCRIPTION=\"\" SHARED=\"NOTSHARED\" OWNER=\"Administrator\" GROUP=\"\" NAME=\"EDW_PREDDS_001\">\n",
       "    <TASK VERSIONNUMBER=\"1\" TYPE=\"Command\" REUSABLE=\"YES\" NAME=\"cmd_ETLFW_START_JOB\" DESCRIPTION=\"Команда для запуска процесса управления Джобами PREDDS\">\n",
       "        <ATTRIBUTE VALUE=\"YES\" NAME=\"Fail task if any command fails\"/>\n",
       "        <ATTRIBUTE VALUE=\"Restart task\" NAME=\"Recovery Strategy\"/>\n",
       "        <VALUEPAIR VALUE=\" python /home/etl/etlfw/startjob.py  $PMFolderName $PMWorkflowName $PMRootDir/ParamFiles/EDW_PREDDS_001.$PMWorkflowName.prm $PMWorkflowRunId $PMIntegrationServiceName\" REVERSEASSIGNMENT=\"NO\" NAME=\"ETLFW Start Job wf_STG_CDC_002_ACNT_CONTRACT\" EXECORDER=\"1\"/>\n",
       "    </TASK>\n",
       "    <TASK VERSIONNUMBER=\"1\" TYPE=\"Command\" REUSABLE=\"YES\" NAME=\"cmd_ETLFW_FINISH_JOB\" DESCRIPTION=\"Команда для завершения процесса управления Джобами PREDDS\">\n",
       "\u001b[33m...\u001b[0m"
      ]
     },
     "metadata": {},
     "output_type": "display_data"
    }
   ],
   "source": [
    "val xml = scala.xml.XML.loadFile(\"wf_PREDDS_001_COUNTERP_NPERS_ESTATE_com.XML\")"
   ]
  },
  {
   "cell_type": "code",
   "execution_count": 4,
   "metadata": {
    "collapsed": false
   },
   "outputs": [
    {
     "data": {
      "text/plain": [
       "\u001b[36mxml\u001b[0m: \u001b[32mElem\u001b[0m = \u001b[33mElem\u001b[0m(\n",
       "  <POWERMART REPOSITORY_VERSION=\"182.91\" CREATION_DATE=\"05/02/2016 16:58:35\">\n",
       "<REPOSITORY DATABASETYPE=\"Oracle\" CODEPAGE=\"MS1251\" VERSION=\"182\" NAME=\"RS_TST\">\n",
       "<FOLDER UUID=\"d318e01d-c840-4918-a8c9-969f0504dfc1\" PERMISSIONS=\"rwx---r--\" DESCRIPTION=\"\" SHARED=\"NOTSHARED\" OWNER=\"Administrator\" GROUP=\"\" NAME=\"EDW_PREDDS_001\">\n",
       "    <TASK VERSIONNUMBER=\"1\" TYPE=\"Command\" REUSABLE=\"YES\" NAME=\"cmd_ETLFW_START_JOB\" DESCRIPTION=\"Команда для запуска процесса управления Джобами PREDDS\">\n",
       "        <ATTRIBUTE VALUE=\"YES\" NAME=\"Fail task if any command fails\"/>\n",
       "        <ATTRIBUTE VALUE=\"Restart task\" NAME=\"Recovery Strategy\"/>\n",
       "        <VALUEPAIR VALUE=\" python /home/etl/etlfw/startjob.py  $PMFolderName $PMWorkflowName $PMRootDir/ParamFiles/EDW_PREDDS_001.$PMWorkflowName.prm $PMWorkflowRunId $PMIntegrationServiceName\" REVERSEASSIGNMENT=\"NO\" NAME=\"ETLFW Start Job wf_STG_CDC_002_ACNT_CONTRACT\" EXECORDER=\"1\"/>\n",
       "    </TASK>\n",
       "    <TASK VERSIONNUMBER=\"1\" TYPE=\"Command\" REUSABLE=\"YES\" NAME=\"cmd_ETLFW_FINISH_JOB\" DESCRIPTION=\"Команда для завершения процесса управления Джобами PREDDS\">\n",
       "\u001b[33m...\u001b[0m"
      ]
     },
     "metadata": {},
     "output_type": "display_data"
    }
   ],
   "source": [
    "val xml = doc"
   ]
  },
  {
   "cell_type": "code",
   "execution_count": 5,
   "metadata": {
    "collapsed": false
   },
   "outputs": [
    {
     "data": {
      "text/plain": [
       "\u001b[36mres3\u001b[0m: \u001b[32mscala\u001b[0m.\u001b[32mxml\u001b[0m.\u001b[32mNodeSeq\u001b[0m = \u001b[33mNodeSeq\u001b[0m(\n",
       "  <ATTRIBUTE VALUE=\"call etl.etl_utils_api.predds_trunc_part_prc('COUNTERP_NPERS_ESTATE', '$$mpSourceSystemCCD')\" NAME=\"Pre SQL\"/>,\n",
       "  <ATTRIBUTE VALUE=\"call etl.etl_utils_api.get_inc_tab_stats('PREDDS','COUNTERP_NPERS_ESTATE')\" NAME=\"Post SQL\"/>,\n",
       "  <ATTRIBUTE VALUE=\"SELECT /*+parallel(16)*/\r\n",
       " REFERENCE,\r\n",
       " BRANCH,\r\n",
       " IS_REALTY1,\r\n",
       " REALTY1_COST,\r\n",
       " IS_REALTY2,\r\n",
       " REALTY2_COST,\r\n",
       " IS_REALTY3,\r\n",
       " REALTY3_COST,\r\n",
       " IS_AUTO1,\r\n",
       "\u001b[33m...\u001b[0m"
      ]
     },
     "metadata": {},
     "output_type": "display_data"
    }
   ],
   "source": [
    "xml \\\\ \"SESSTRANSFORMATIONINST\" \\\\ \"ATTRIBUTE\""
   ]
  },
  {
   "cell_type": "code",
   "execution_count": 153,
   "metadata": {
    "collapsed": false
   },
   "outputs": [
    {
     "data": {
      "text/plain": [
       "\u001b[36mres136\u001b[0m: \u001b[32mNodeSeq\u001b[0m = \u001b[33mNodeSeq\u001b[0m(\n",
       "  EDW_PREDDS,\n",
       "  EDW_ETL,\n",
       "  EDW_ETL,\n",
       "  EDW_IDMAP,\n",
       "  EDW_XREFMAP,\n",
       "  EDW_IDMAP,\n",
       "  EDW_IDMAP,\n",
       "  EDW_IDMAP,\n",
       "  EDW_ETL,\n",
       "  EDW_ETL\n",
       ")"
      ]
     },
     "metadata": {},
     "output_type": "display_data"
    }
   ],
   "source": [
    "xml \\\\ \"SESSIONEXTENSION\" \\\\ \"@CONNECTIONNAME\""
   ]
  },
  {
   "cell_type": "code",
   "execution_count": 19,
   "metadata": {
    "collapsed": false
   },
   "outputs": [
    {
     "data": {
      "text/plain": [
       "\u001b[36mres16\u001b[0m: \u001b[32mcollection\u001b[0m.\u001b[32mimmutable\u001b[0m.\u001b[32mSeq\u001b[0m[((\u001b[32mscala\u001b[0m.\u001b[32mxml\u001b[0m.\u001b[32mNode\u001b[0m, \u001b[32mscala\u001b[0m.\u001b[32mxml\u001b[0m.\u001b[32mNode\u001b[0m), \u001b[32mscala\u001b[0m.\u001b[32mxml\u001b[0m.\u001b[32mNode\u001b[0m)] = \u001b[33mList\u001b[0m(\n",
       "  \u001b[33m\u001b[0m(\n",
       "    \u001b[33m\u001b[0m(\u001b[33mText\u001b[0m(COUNTERP_NPERS_ESTATE), \u001b[33mText\u001b[0m(Target Definition)),\n",
       "    \u001b[33mText\u001b[0m(EDW_PREDDS)\n",
       "  ),\n",
       "  \u001b[33m\u001b[0m(\u001b[33m\u001b[0m(\u001b[33mText\u001b[0m(HYPO_FORMS), \u001b[33mText\u001b[0m(Source Definition)), \u001b[33mText\u001b[0m(EDW_ETL)),\n",
       "  \u001b[33m\u001b[0m(\u001b[33m\u001b[0m(\u001b[33mText\u001b[0m(SQ_HYPO_FORMS), \u001b[33mText\u001b[0m(Source Qualifier)), \u001b[33mText\u001b[0m(EDW_ETL)),\n",
       "  \u001b[33m\u001b[0m(\n",
       "    \u001b[33m\u001b[0m(\u001b[33mText\u001b[0m(SCORING_FORMS), \u001b[33mText\u001b[0m(Source Definition)),\n",
       "    \u001b[33mText\u001b[0m(EDW_IDMAP)\n",
       "  ),\n",
       "  \u001b[33m\u001b[0m(\n",
       "    \u001b[33m\u001b[0m(\u001b[33mText\u001b[0m(SQ_SCORING_FORMS), \u001b[33mText\u001b[0m(Source Qualifier)),\n",
       "\u001b[33m...\u001b[0m"
      ]
     },
     "metadata": {},
     "output_type": "display_data"
    }
   ],
   "source": [
    "xml \\\\ \"SESSIONEXTENSION\" \\\\ \"@SINSTANCENAME\" zip xml \\\\ \"SESSIONEXTENSION\" \\\\ \"@TRANSFORMATIONTYPE\" zip xml \\\\ \"SESSIONEXTENSION\" \\\\ \"@CONNECTIONNAME\""
   ]
  },
  {
   "cell_type": "code",
   "execution_count": 6,
   "metadata": {
    "collapsed": false
   },
   "outputs": [
    {
     "data": {
      "text/plain": [
       "\u001b[36mInputXml\u001b[0m: \u001b[32mElem\u001b[0m = \u001b[33mElem\u001b[0m(\n",
       "  <root>\n",
       "    <subnode>\n",
       "        <version>1</version>\n",
       "    </subnode>\n",
       "    <contents>\n",
       "        <version>1</version>\n",
       "        <name first=\"Andrey\" second=\"Zheltov\"></name>\n",
       "    </contents>\n",
       "</root>\n",
       ")"
      ]
     },
     "metadata": {},
     "output_type": "display_data"
    }
   ],
   "source": [
    "val InputXml =\n",
    "<root>\n",
    "    <subnode>\n",
    "        <version>1</version>\n",
    "    </subnode>\n",
    "    <contents>\n",
    "        <version>1</version>\n",
    "        <name first=\"Andrey\" second=\"Zheltov\"></name>\n",
    "    </contents>\n",
    "</root>"
   ]
  },
  {
   "cell_type": "code",
   "execution_count": 12,
   "metadata": {
    "collapsed": false
   },
   "outputs": [
    {
     "data": {
      "text/plain": [
       "\u001b[36mres10\u001b[0m: \u001b[32mElem\u001b[0m = \u001b[33mElem\u001b[0m(\n",
       "  <root>\n",
       "    <subnode>\n",
       "        <version>1</version>\n",
       "    </subnode>\n",
       "    <contents>\n",
       "        <version>1</version>\n",
       "        <name first=\"Andrey\" second=\"Zheltov\"></name>\n",
       "    </contents>\n",
       "</root>\n",
       ")"
      ]
     },
     "metadata": {},
     "output_type": "display_data"
    }
   ],
   "source": [
    "InputXml"
   ]
  },
  {
   "cell_type": "code",
   "execution_count": 21,
   "metadata": {
    "collapsed": false
   },
   "outputs": [
    {
     "data": {
      "text/plain": [
       "defined \u001b[32mfunction \u001b[36maddChild\u001b[0m"
      ]
     },
     "metadata": {},
     "output_type": "display_data"
    }
   ],
   "source": [
    "def addChild(n: Node, newChild: Node) = n match {\n",
    "  case Elem(prefix, label, attribs, scope, child @ _*) =>\n",
    "    Elem(prefix, label, attribs, scope, child ++ newChild : _*)\n",
    "  case _ => error(\"Can only add children to elements!\")\n",
    "}"
   ]
  },
  {
   "cell_type": "code",
   "execution_count": 23,
   "metadata": {
    "collapsed": false
   },
   "outputs": [
    {
     "data": {
      "text/plain": [
       "defined \u001b[32mclass \u001b[36mAddChildrenTo\u001b[0m"
      ]
     },
     "metadata": {},
     "output_type": "display_data"
    }
   ],
   "source": [
    "class AddChildrenTo(newChild: Node) extends RewriteRule {\n",
    "  override def transform(n: Node) = n match {\n",
    "    case n @ Elem(_, \"subnode\", _, _, _*) => addChild(n, newChild)\n",
    "    case other => other\n",
    "  }\n",
    "}"
   ]
  },
  {
   "cell_type": "code",
   "execution_count": 42,
   "metadata": {
    "collapsed": false
   },
   "outputs": [
    {
     "data": {
      "text/plain": [
       "\u001b[36mres38\u001b[0m: \u001b[32mBoolean\u001b[0m = true"
      ]
     },
     "metadata": {},
     "output_type": "display_data"
    }
   ],
   "source": [
    "InputXml.child(3).toString.contains(\"first\")"
   ]
  },
  {
   "cell_type": "code",
   "execution_count": 35,
   "metadata": {
    "collapsed": false
   },
   "outputs": [
    {
     "data": {
      "text/plain": [
       "\u001b[36mres31\u001b[0m: \u001b[32mBoolean\u001b[0m = true"
      ]
     },
     "metadata": {},
     "output_type": "display_data"
    }
   ],
   "source": [
    "InputXml.child(1).child.toString.contains(\"version\")"
   ]
  },
  {
   "cell_type": "code",
   "execution_count": 25,
   "metadata": {
    "collapsed": false
   },
   "outputs": [
    {
     "data": {
      "text/plain": [
       "\u001b[36mnewChild\u001b[0m: \u001b[32mElem\u001b[0m = \u001b[33mElem\u001b[0m(<child name=\"\" value=\"\"/>)"
      ]
     },
     "metadata": {},
     "output_type": "display_data"
    }
   ],
   "source": [
    "val newChild = <child name=\"\" value=\"\"/>"
   ]
  },
  {
   "cell_type": "code",
   "execution_count": 26,
   "metadata": {
    "collapsed": false
   },
   "outputs": [
    {
     "data": {
      "text/plain": [
       "\u001b[36mnewXML\u001b[0m: \u001b[32mNode\u001b[0m = \u001b[33mElem\u001b[0m(\n",
       "  <root>\n",
       "    <subnode>\n",
       "        <version>1</version>\n",
       "    <child name=\"\" value=\"\"/></subnode>\n",
       "    <contents>\n",
       "        <version>1</version>\n",
       "        <name first=\"Andrey\" second=\"Zheltov\"></name>\n",
       "    </contents>\n",
       "</root>\n",
       ")"
      ]
     },
     "metadata": {},
     "output_type": "display_data"
    }
   ],
   "source": [
    "val newXML = new RuleTransformer(new AddChildrenTo(newChild)).transform(InputXml).head"
   ]
  },
  {
   "cell_type": "code",
   "execution_count": 20,
   "metadata": {
    "collapsed": false
   },
   "outputs": [
    {
     "data": {
      "text/plain": [
       "\u001b[32mimport \u001b[36mscala.xml._\u001b[0m\n",
       "\u001b[32mimport \u001b[36mscala.xml.transform._\u001b[0m"
      ]
     },
     "metadata": {},
     "output_type": "display_data"
    }
   ],
   "source": [
    "import scala.xml._\n",
    "import scala.xml.transform._"
   ]
  },
  {
   "cell_type": "code",
   "execution_count": 300,
   "metadata": {
    "collapsed": false
   },
   "outputs": [
    {
     "data": {
      "text/plain": [
       "defined \u001b[32mobject \u001b[36mt1\u001b[0m"
      ]
     },
     "metadata": {},
     "output_type": "display_data"
    }
   ],
   "source": [
    "object t1 extends RewriteRule {\n",
    "  override def transform(n: Node): Seq[Node] = n match {\n",
    "    case Elem(prefix, \"version\", attribs, scope, _*)  =>\n",
    "      Elem(prefix, \"version\", attribs, scope, Text(\"jh882\"))\n",
    "    case other => other\n",
    "  }\n",
    "}"
   ]
  },
  {
   "cell_type": "code",
   "execution_count": 301,
   "metadata": {
    "collapsed": false
   },
   "outputs": [
    {
     "data": {
      "text/plain": [
       "defined \u001b[32mobject \u001b[36mrt1\u001b[0m"
      ]
     },
     "metadata": {},
     "output_type": "display_data"
    }
   ],
   "source": [
    "object rt1 extends RuleTransformer(t1)"
   ]
  },
  {
   "cell_type": "code",
   "execution_count": 302,
   "metadata": {
    "collapsed": false
   },
   "outputs": [
    {
     "data": {
      "text/plain": [
       "defined \u001b[32mobject \u001b[36mt3\u001b[0m"
      ]
     },
     "metadata": {},
     "output_type": "display_data"
    }
   ],
   "source": [
    "object t3 extends RewriteRule {\n",
    "  override def transform(n: Node): Seq[Node] = n match {\n",
    "    case Elem(prefix, \"name\", attribs, scope, _*)  =>\n",
    "      Elem(prefix, \"name\", attribs, scope, Elem(prefix, \"name1\", Attribute(null, \"first\", \"200\", Attribute(null, \"second\", \"100\", Null)), scope, Text(\"\")))\n",
    "    case other => other\n",
    "  }\n",
    "}"
   ]
  },
  {
   "cell_type": "code",
   "execution_count": 303,
   "metadata": {
    "collapsed": false
   },
   "outputs": [
    {
     "data": {
      "text/plain": [
       "defined \u001b[32mobject \u001b[36mrt3\u001b[0m"
      ]
     },
     "metadata": {},
     "output_type": "display_data"
    }
   ],
   "source": [
    "object rt3 extends RuleTransformer(t3)"
   ]
  },
  {
   "cell_type": "code",
   "execution_count": 304,
   "metadata": {
    "collapsed": false
   },
   "outputs": [
    {
     "data": {
      "text/plain": [
       "defined \u001b[32mobject \u001b[36mt2\u001b[0m"
      ]
     },
     "metadata": {},
     "output_type": "display_data"
    }
   ],
   "source": [
    "object t2 extends RewriteRule {\n",
    "  override def transform(n: Node): Seq[Node] = n match {\n",
    "    case an @ Elem(_, \"subnode\", _, _, _*) => rt1(an)\n",
    "    case sn @ Elem(_, \"contents\", _, _, _*) => rt3(sn)\n",
    "    case other => other\n",
    "  }\n",
    "}"
   ]
  },
  {
   "cell_type": "code",
   "execution_count": 305,
   "metadata": {
    "collapsed": false
   },
   "outputs": [
    {
     "data": {
      "text/plain": [
       "defined \u001b[32mobject \u001b[36mrt2\u001b[0m"
      ]
     },
     "metadata": {},
     "output_type": "display_data"
    }
   ],
   "source": [
    "object rt2 extends RuleTransformer(t2)"
   ]
  },
  {
   "cell_type": "code",
   "execution_count": 306,
   "metadata": {
    "collapsed": false
   },
   "outputs": [
    {
     "data": {
      "text/plain": [
       "\u001b[36mres278\u001b[0m: \u001b[32mNode\u001b[0m = \u001b[33mElem\u001b[0m(\n",
       "  <root>\n",
       "    <subnode>\n",
       "        <version>jh882</version>\n",
       "    </subnode>\n",
       "    <contents>\n",
       "        <version>1</version>\n",
       "        <name first=\"Andrey\" second=\"Zheltov\"><name1 first=\"200\" second=\"100\"></name1></name>\n",
       "    </contents>\n",
       "</root>\n",
       ")"
      ]
     },
     "metadata": {},
     "output_type": "display_data"
    }
   ],
   "source": [
    "rt2(InputXml)"
   ]
  },
  {
   "cell_type": "code",
   "execution_count": 307,
   "metadata": {
    "collapsed": false
   },
   "outputs": [
    {
     "data": {
      "text/plain": [
       "\u001b[36mInputXml\u001b[0m: \u001b[32mElem\u001b[0m = \u001b[33mElem\u001b[0m(\n",
       "  <root>\n",
       "    <subnode>\n",
       "        <version>1</version>\n",
       "    </subnode>\n",
       "    <contents>\n",
       "        <version>1</version>\n",
       "        <name first=\"Andrey\" second=\"Zheltov\">\n",
       "            <desc age=\"100500\" cond=\"ppp\"/>\n",
       "        </name>\n",
       "    </contents>\n",
       "</root>\n",
       ")"
      ]
     },
     "metadata": {},
     "output_type": "display_data"
    }
   ],
   "source": [
    "val InputXml =\n",
    "<root>\n",
    "    <subnode>\n",
    "        <version>1</version>\n",
    "    </subnode>\n",
    "    <contents>\n",
    "        <version>1</version>\n",
    "        <name first=\"Andrey\" second=\"Zheltov\">\n",
    "            <desc age=\"100500\" cond=\"ppp\"/>\n",
    "        </name>\n",
    "    </contents>\n",
    "</root>"
   ]
  },
  {
   "cell_type": "code",
   "execution_count": 308,
   "metadata": {
    "collapsed": false
   },
   "outputs": [
    {
     "data": {
      "text/plain": [
       "defined \u001b[32mobject \u001b[36mt1\u001b[0m"
      ]
     },
     "metadata": {},
     "output_type": "display_data"
    }
   ],
   "source": [
    "object t1 extends RewriteRule {\n",
    "  override def transform(n: Node): Seq[Node] = n match {\n",
    "    case Elem(prefix, \"version\", attribs, scope, _*)  =>\n",
    "      Elem(prefix, \"version\", attribs, scope, Text(\"jh882\"))\n",
    "    case other => other\n",
    "  }\n",
    "}"
   ]
  },
  {
   "cell_type": "code",
   "execution_count": 309,
   "metadata": {
    "collapsed": false
   },
   "outputs": [
    {
     "data": {
      "text/plain": [
       "defined \u001b[32mobject \u001b[36mrt1\u001b[0m"
      ]
     },
     "metadata": {},
     "output_type": "display_data"
    }
   ],
   "source": [
    "object rt1 extends RuleTransformer(t1)"
   ]
  },
  {
   "cell_type": "code",
   "execution_count": 348,
   "metadata": {
    "collapsed": false
   },
   "outputs": [
    {
     "data": {
      "text/plain": [
       "defined \u001b[32mobject \u001b[36mt4\u001b[0m"
      ]
     },
     "metadata": {},
     "output_type": "display_data"
    }
   ],
   "source": [
    "object t4 extends RewriteRule {\n",
    "  override def transform(n: Node): Seq[Node] = n match {\n",
    "    case e @ Elem(prefix, \"desc\", attribs, scope, _*)  =>\n",
    "      Elem(prefix, \"desc\", mapMetaData(e.attributes) {\n",
    "        case g @ GenAttr(_, key, Text(v), _) if Set(\"age\",\"g\") contains key =>\n",
    "          g.copy(value = Text(v.toInt * 2 toString))\n",
    "        case other => other\n",
    "      }, TopScope)\n",
    "    case other => other\n",
    "  }\n",
    "}"
   ]
  },
  {
   "cell_type": "code",
   "execution_count": 342,
   "metadata": {
    "collapsed": false
   },
   "outputs": [
    {
     "data": {
      "text/plain": [
       "defined \u001b[32mobject \u001b[36mrt4\u001b[0m"
      ]
     },
     "metadata": {},
     "output_type": "display_data"
    }
   ],
   "source": [
    "object rt4 extends RuleTransformer(t4)"
   ]
  },
  {
   "cell_type": "code",
   "execution_count": 343,
   "metadata": {
    "collapsed": false
   },
   "outputs": [
    {
     "data": {
      "text/plain": [
       "defined \u001b[32mobject \u001b[36mt3\u001b[0m"
      ]
     },
     "metadata": {},
     "output_type": "display_data"
    }
   ],
   "source": [
    "object t3 extends RewriteRule {\n",
    "  override def transform(n: Node): Seq[Node] = n match {\n",
    "    case fn @ Elem(prefix, \"name\", attribs, scope, _*) if attribs.asAttrMap(\"first\") == \"Andrey\" => rt4(fn)\n",
    "    case other => other\n",
    "  }\n",
    "}"
   ]
  },
  {
   "cell_type": "code",
   "execution_count": 344,
   "metadata": {
    "collapsed": false
   },
   "outputs": [
    {
     "data": {
      "text/plain": [
       "defined \u001b[32mobject \u001b[36mrt3\u001b[0m"
      ]
     },
     "metadata": {},
     "output_type": "display_data"
    }
   ],
   "source": [
    "object rt3 extends RuleTransformer(t3)"
   ]
  },
  {
   "cell_type": "code",
   "execution_count": 345,
   "metadata": {
    "collapsed": false
   },
   "outputs": [
    {
     "data": {
      "text/plain": [
       "defined \u001b[32mobject \u001b[36mt2\u001b[0m"
      ]
     },
     "metadata": {},
     "output_type": "display_data"
    }
   ],
   "source": [
    "object t2 extends RewriteRule {\n",
    "  override def transform(n: Node): Seq[Node] = n match {\n",
    "    case an @ Elem(_, \"subnode\", _, _, _*) => rt1(an)\n",
    "    case sn @ Elem(_, \"contents\", _, _, _*) => rt3(sn)\n",
    "    case other => other\n",
    "  }\n",
    "}"
   ]
  },
  {
   "cell_type": "code",
   "execution_count": 346,
   "metadata": {
    "collapsed": false
   },
   "outputs": [
    {
     "data": {
      "text/plain": [
       "defined \u001b[32mobject \u001b[36mrt2\u001b[0m"
      ]
     },
     "metadata": {},
     "output_type": "display_data"
    }
   ],
   "source": [
    "object rt2 extends RuleTransformer(t2)"
   ]
  },
  {
   "cell_type": "code",
   "execution_count": 347,
   "metadata": {
    "collapsed": false,
    "scrolled": true
   },
   "outputs": [
    {
     "data": {
      "text/plain": [
       "\u001b[36mres309\u001b[0m: \u001b[32mNode\u001b[0m = \u001b[33mElem\u001b[0m(\n",
       "  <root>\n",
       "    <subnode>\n",
       "        <version>jh882</version>\n",
       "    </subnode>\n",
       "    <contents>\n",
       "        <version>1</version>\n",
       "        <name first=\"Andrey\" second=\"Zheltov\">\n",
       "            <desc cond=\"ppp\" age=\"201000\"/>\n",
       "        </name>\n",
       "    </contents>\n",
       "</root>\n",
       ")"
      ]
     },
     "metadata": {},
     "output_type": "display_data"
    }
   ],
   "source": [
    "rt2(InputXml)"
   ]
  },
  {
   "cell_type": "code",
   "execution_count": 241,
   "metadata": {
    "collapsed": false
   },
   "outputs": [
    {
     "data": {
      "text/plain": [
       "defined \u001b[32mclass \u001b[36mGenAttr\u001b[0m"
      ]
     },
     "metadata": {},
     "output_type": "display_data"
    }
   ],
   "source": [
    "case class GenAttr(pre: Option[String], \n",
    "                   key: String, \n",
    "                   value: Seq[Node], \n",
    "                   next: MetaData) {\n",
    "  def toMetaData = Attribute(pre, key, value, next)\n",
    "}"
   ]
  },
  {
   "cell_type": "code",
   "execution_count": 242,
   "metadata": {
    "collapsed": false
   },
   "outputs": [
    {
     "data": {
      "text/plain": [
       "defined \u001b[32mfunction \u001b[36mdecomposeMetaData\u001b[0m"
      ]
     },
     "metadata": {},
     "output_type": "display_data"
    }
   ],
   "source": [
    "def decomposeMetaData(m: MetaData): Option[GenAttr] = m match {\n",
    "  case Null => None\n",
    "  case PrefixedAttribute(pre, key, value, next) => \n",
    "    Some(GenAttr(Some(pre), key, value, next))\n",
    "  case UnprefixedAttribute(key, value, next) => \n",
    "    Some(GenAttr(None, key, value, next))\n",
    "}"
   ]
  },
  {
   "cell_type": "code",
   "execution_count": 243,
   "metadata": {
    "collapsed": false
   },
   "outputs": [
    {
     "data": {
      "text/plain": [
       "defined \u001b[32mfunction \u001b[36munchainMetaData\u001b[0m"
      ]
     },
     "metadata": {},
     "output_type": "display_data"
    }
   ],
   "source": [
    "def unchainMetaData(m: MetaData): Iterable[GenAttr] = \n",
    "  m.flatMap(decomposeMetaData).toList.reverse"
   ]
  },
  {
   "cell_type": "code",
   "execution_count": 244,
   "metadata": {
    "collapsed": false
   },
   "outputs": [
    {
     "data": {
      "text/plain": [
       "defined \u001b[32mfunction \u001b[36mchainMetaData\u001b[0m"
      ]
     },
     "metadata": {},
     "output_type": "display_data"
    }
   ],
   "source": [
    "def chainMetaData(l: Iterable[GenAttr]): MetaData = l match {\n",
    "  case Nil => Null\n",
    "  case head :: tail => head.copy(next = chainMetaData(tail)).toMetaData\n",
    "}"
   ]
  },
  {
   "cell_type": "code",
   "execution_count": 245,
   "metadata": {
    "collapsed": false
   },
   "outputs": [
    {
     "data": {
      "text/plain": [
       "defined \u001b[32mfunction \u001b[36mmapMetaData\u001b[0m"
      ]
     },
     "metadata": {},
     "output_type": "display_data"
    }
   ],
   "source": [
    "def mapMetaData(m: MetaData)(f: GenAttr => GenAttr): MetaData = \n",
    "  chainMetaData(unchainMetaData(m).map(f))"
   ]
  },
  {
   "cell_type": "code",
   "execution_count": 246,
   "metadata": {
    "collapsed": false
   },
   "outputs": [
    {
     "data": {
      "text/plain": [
       "\u001b[36mprocsNamesE\u001b[0m: \u001b[32mcollection\u001b[0m.\u001b[32mimmutable\u001b[0m.\u001b[32mSeq\u001b[0m[\u001b[32mString\u001b[0m] = \u001b[33mList\u001b[0m(\n",
       "  \u001b[32m\"IDMAP_ORPHAN_XREF_ESTATE_TYPE\"\u001b[0m,\n",
       "  \u001b[32m\"IDMAP_ORPHAN_ESTATE_RK\"\u001b[0m,\n",
       "  \u001b[32m\"IDMAP_ORPHAN_COUNTRP_NAT_PERS_RK\"\u001b[0m\n",
       ")"
      ]
     },
     "metadata": {},
     "output_type": "display_data"
    }
   ],
   "source": [
    "val procsNamesE = procsNames.map(_.text.split('.')(0).split('_').drop(1).reduce((x,y)=>x+'_'+y))"
   ]
  },
  {
   "cell_type": "code",
   "execution_count": 247,
   "metadata": {
    "collapsed": false
   },
   "outputs": [
    {
     "data": {
      "text/plain": [
       "\u001b[36mres225\u001b[0m: \u001b[32mcollection\u001b[0m.\u001b[32mimmutable\u001b[0m.\u001b[32mSeq\u001b[0m[\u001b[32mString\u001b[0m] = \u001b[33mList\u001b[0m(\n",
       "  \u001b[32m\"IDMAP_ORPHAN_XREF_ESTATE_TYPE\"\u001b[0m,\n",
       "  \u001b[32m\"IDMAP_ORPHAN_ESTATE_RK\"\u001b[0m,\n",
       "  \u001b[32m\"IDMAP_ORPHAN_COUNTRP_NAT_PERS_RK\"\u001b[0m\n",
       ")"
      ]
     },
     "metadata": {},
     "output_type": "display_data"
    }
   ],
   "source": [
    "procsNamesE "
   ]
  },
  {
   "cell_type": "code",
   "execution_count": 349,
   "metadata": {
    "collapsed": false
   },
   "outputs": [
    {
     "data": {
      "text/plain": [
       "defined \u001b[32mobject \u001b[36mSeestEditAttrs\u001b[0m"
      ]
     },
     "metadata": {},
     "output_type": "display_data"
    }
   ],
   "source": [
    "object SeestEditAttrs extends RewriteRule {\n",
    "  override def transform(n: Node): Seq[Node] = n match {\n",
    "    case e @ Elem(prefix, \"ATTRIBUTE\", attribs, scope, _*)  =>\n",
    "      Elem(prefix, \"ATTRIBUTE\", mapMetaData(e.attributes) {\n",
    "        case g @ GenAttr(_, key, Text(v), _) if key == \"VALUE\" =>\n",
    "          g.copy(value = Text(v + \"_PROD\"))\n",
    "        case other => other\n",
    "      }, TopScope)\n",
    "    case other => other\n",
    "  }\n",
    "}"
   ]
  },
  {
   "cell_type": "code",
   "execution_count": 350,
   "metadata": {
    "collapsed": false
   },
   "outputs": [
    {
     "data": {
      "text/plain": [
       "defined \u001b[32mobject \u001b[36mRuleSesstEditAttrs\u001b[0m"
      ]
     },
     "metadata": {},
     "output_type": "display_data"
    }
   ],
   "source": [
    "object RuleSesstEditAttrs extends RuleTransformer(SeestEditAttrs)"
   ]
  },
  {
   "cell_type": "code",
   "execution_count": 351,
   "metadata": {
    "collapsed": false
   },
   "outputs": [
    {
     "data": {
      "text/plain": [
       "defined \u001b[32mobject \u001b[36mSeeseEditAttrs\u001b[0m"
      ]
     },
     "metadata": {},
     "output_type": "display_data"
    }
   ],
   "source": [
    "object SeeseEditAttrs extends RewriteRule {\n",
    "  override def transform(n: Node): Seq[Node] = n match {\n",
    "    case e @ Elem(prefix, \"CONNECTIONREFERENCE\", attribs, scope, _*)  =>\n",
    "      Elem(prefix, \"CONNECTIONREFERENCE\", mapMetaData(e.attributes) {\n",
    "        case g @ GenAttr(_, key, Text(v), _) if key == \"CONNECTIONNAME\" =>\n",
    "          g.copy(value = Text(v + \"_PROD\"))\n",
    "        case other => other\n",
    "      }, TopScope)\n",
    "    case other => other\n",
    "  }\n",
    "}"
   ]
  },
  {
   "cell_type": "code",
   "execution_count": 352,
   "metadata": {
    "collapsed": false
   },
   "outputs": [
    {
     "data": {
      "text/plain": [
       "defined \u001b[32mobject \u001b[36mRuleSesseEditAttrs\u001b[0m"
      ]
     },
     "metadata": {},
     "output_type": "display_data"
    }
   ],
   "source": [
    "object RuleSesseEditAttrs extends RuleTransformer(SeeseEditAttrs)"
   ]
  },
  {
   "cell_type": "code",
   "execution_count": 353,
   "metadata": {
    "collapsed": false
   },
   "outputs": [
    {
     "data": {
      "text/plain": [
       "defined \u001b[32mobject \u001b[36mSesstEdit\u001b[0m"
      ]
     },
     "metadata": {},
     "output_type": "display_data"
    }
   ],
   "source": [
    "object SesstEdit extends RewriteRule {\n",
    "  override def transform(n: Node): Seq[Node] = n match {\n",
    "    case fn @ Elem(prefix, \"ATTRIBUTE\", attribs, scope, _*) if attribs.asAttrMap(\"NAME\") == \"Connection Information\" => RuleSesstEditAttrs(fn)\n",
    "    case other => other\n",
    "  }\n",
    "}"
   ]
  },
  {
   "cell_type": "code",
   "execution_count": 354,
   "metadata": {
    "collapsed": false
   },
   "outputs": [
    {
     "data": {
      "text/plain": [
       "defined \u001b[32mobject \u001b[36mRuleSesstEdit\u001b[0m"
      ]
     },
     "metadata": {},
     "output_type": "display_data"
    }
   ],
   "source": [
    "object RuleSesstEdit extends RuleTransformer(SesstEdit)"
   ]
  },
  {
   "cell_type": "code",
   "execution_count": 403,
   "metadata": {
    "collapsed": false
   },
   "outputs": [
    {
     "data": {
      "text/plain": [
       "\u001b[36mres361\u001b[0m: \u001b[32mBoolean\u001b[0m = true"
      ]
     },
     "metadata": {},
     "output_type": "display_data"
    }
   ],
   "source": [
    "\"DUAL\".split('.').drop(1).reduceOption((x,y) => x + \"_\" + y).isEmpty"
   ]
  },
  {
   "cell_type": "code",
   "execution_count": 407,
   "metadata": {
    "collapsed": false
   },
   "outputs": [
    {
     "data": {
      "text/plain": [
       "\u001b[36mres365\u001b[0m: \u001b[32mcollection\u001b[0m.\u001b[32mimmutable\u001b[0m.\u001b[32mSeq\u001b[0m[\u001b[32mString\u001b[0m] = \u001b[33mList\u001b[0m(\n",
       "  \u001b[32m\"IDMAP_ORPHAN_XREF_ESTATE_TYPE\"\u001b[0m,\n",
       "  \u001b[32m\"IDMAP_ORPHAN_ESTATE_RK\"\u001b[0m,\n",
       "  \u001b[32m\"IDMAP_ORPHAN_COUNTRP_NAT_PERS_RK\"\u001b[0m\n",
       ")"
      ]
     },
     "metadata": {},
     "output_type": "display_data"
    }
   ],
   "source": [
    "procsNamesE"
   ]
  },
  {
   "cell_type": "code",
   "execution_count": 514,
   "metadata": {
    "collapsed": false
   },
   "outputs": [
    {
     "data": {
      "text/plain": [
       "\u001b[36mres454\u001b[0m: \u001b[32mBoolean\u001b[0m = false"
      ]
     },
     "metadata": {},
     "output_type": "display_data"
    }
   ],
   "source": [
    "!procsNamesE.contains(\"IDMAP_ORPHAN_XREF_ESTATE_TYPE\") && !false"
   ]
  },
  {
   "cell_type": "code",
   "execution_count": 436,
   "metadata": {
    "collapsed": false
   },
   "outputs": [
    {
     "data": {
      "text/plain": [
       "\u001b[36mres383\u001b[0m: \u001b[32mString\u001b[0m = null"
      ]
     },
     "metadata": {},
     "output_type": "display_data"
    }
   ],
   "source": [
    "\"DUALD\".split('.').drop(1).reduceOption((x,y) => x + \"_\" + y).getOrElse(null)"
   ]
  },
  {
   "cell_type": "code",
   "execution_count": 444,
   "metadata": {
    "collapsed": false
   },
   "outputs": [
    {
     "data": {
      "text/plain": [
       "\u001b[36mres391\u001b[0m: \u001b[32mcollection\u001b[0m.\u001b[32mimmutable\u001b[0m.\u001b[32mSeq\u001b[0m[\u001b[32mString\u001b[0m] = \u001b[33mList\u001b[0m()"
      ]
     },
     "metadata": {},
     "output_type": "display_data"
    }
   ],
   "source": [
    "procsNamesE.intersect((\"DUAL.D\".split('.').drop(1).reduceOption((x,y) => x + \"_\" + y)).getOrElse(\"\"))"
   ]
  },
  {
   "cell_type": "code",
   "execution_count": 412,
   "metadata": {
    "collapsed": false
   },
   "outputs": [
    {
     "data": {
      "text/plain": [
       "\u001b[36mres370\u001b[0m: \u001b[32mOption\u001b[0m[\u001b[32mString\u001b[0m] = Some(D)"
      ]
     },
     "metadata": {},
     "output_type": "display_data"
    }
   ],
   "source": [
    "\"DUAL.D\".split('.').drop(1).reduceOption((x,y) => x + y)"
   ]
  },
  {
   "cell_type": "code",
   "execution_count": 423,
   "metadata": {
    "collapsed": false
   },
   "outputs": [
    {
     "data": {
      "text/plain": [
       "\u001b[36mres375\u001b[0m: \u001b[32mBoolean\u001b[0m = true"
      ]
     },
     "metadata": {},
     "output_type": "display_data"
    }
   ],
   "source": [
    "procsNamesE.intersect(\"\").isEmpty"
   ]
  },
  {
   "cell_type": "code",
   "execution_count": 411,
   "metadata": {
    "collapsed": false,
    "scrolled": true
   },
   "outputs": [
    {
     "data": {
      "text/plain": [
       "\u001b[36mres369\u001b[0m: \u001b[32mBoolean\u001b[0m = false"
      ]
     },
     "metadata": {},
     "output_type": "display_data"
    }
   ],
   "source": [
    "(\"DUAL.D\".split('.').drop(1).reduceOption((x,y) => x + y)).isEmpty"
   ]
  },
  {
   "cell_type": "code",
   "execution_count": 602,
   "metadata": {
    "collapsed": false
   },
   "outputs": [
    {
     "data": {
      "text/plain": [
       "\u001b[36mres535\u001b[0m: \u001b[32mcollection\u001b[0m.\u001b[32mimmutable\u001b[0m.\u001b[32mSeq\u001b[0m[\u001b[32mString\u001b[0m] = \u001b[33mList\u001b[0m(\n",
       "  \u001b[32m\"IDMAP_ORPHAN_XREF_ESTATE_TYPE\"\u001b[0m,\n",
       "  \u001b[32m\"IDMAP_ORPHAN_ESTATE_RK\"\u001b[0m,\n",
       "  \u001b[32m\"IDMAP_ORPHAN_COUNTRP_NAT_PERS_RK\"\u001b[0m\n",
       ")"
      ]
     },
     "metadata": {},
     "output_type": "display_data"
    }
   ],
   "source": [
    "procsNamesE"
   ]
  },
  {
   "cell_type": "code",
   "execution_count": 606,
   "metadata": {
    "collapsed": false
   },
   "outputs": [
    {
     "data": {
      "text/plain": [
       "\u001b[36mres539\u001b[0m: \u001b[32mString\u001b[0m = \u001b[32m\"IDMAP_ORPHAN_XREF_ESTATE_TYPE\"\u001b[0m"
      ]
     },
     "metadata": {},
     "output_type": "display_data"
    }
   ],
   "source": [
    "\"mp_IDMAP_ORPHAN_XREF_ESTATE_TYPE.LKP_IDMAP_XREF_ESTATE_TYPE\".split('.')(0).split('_').drop(1).reduceOption((x,y)=>x+'_'+y).getOrElse(\"\")"
   ]
  },
  {
   "cell_type": "code",
   "execution_count": 608,
   "metadata": {
    "collapsed": false
   },
   "outputs": [
    {
     "data": {
      "text/plain": [
       "\u001b[36mres541\u001b[0m: \u001b[32mBoolean\u001b[0m = true"
      ]
     },
     "metadata": {},
     "output_type": "display_data"
    }
   ],
   "source": [
    "!procsNamesE.contains(\"mp\".split('.')(0).split('_').drop(1).reduceOption((x,y)=>x+'_'+y).getOrElse(\"\"))"
   ]
  },
  {
   "cell_type": "code",
   "execution_count": 599,
   "metadata": {
    "collapsed": false
   },
   "outputs": [
    {
     "data": {
      "text/plain": [
       "\u001b[36mres532\u001b[0m: \u001b[32mBoolean\u001b[0m = true"
      ]
     },
     "metadata": {},
     "output_type": "display_data"
    }
   ],
   "source": [
    "!procsNamesE.contains(\"mp_IDMAP_ORPHAN_XREF_ESTATE_TYPE.LKP_IDMAP_XREF_ESTATE_TYPE\".split('.').drop(1).reduceOption((x,y) => x + \"_\" + y).getOrElse(\"null\")) //|| !(\"mp_IDMAP_ORPHAN_XREF_ESTATE_TYPE\".split('.').drop(1).reduceOption((x,y) => x + \"_\" + y)).isEmpty"
   ]
  },
  {
   "cell_type": "code",
   "execution_count": 578,
   "metadata": {
    "collapsed": false
   },
   "outputs": [
    {
     "data": {
      "text/plain": [
       "defined \u001b[32mobject \u001b[36mMainConnectionTransform\u001b[0m"
      ]
     },
     "metadata": {},
     "output_type": "display_data"
    }
   ],
   "source": [
    "object MainConnectionTransform extends RewriteRule {\n",
    "  override def transform(n: Node): Seq[Node] = n match {\n",
    "    case sesst @ Elem(_, \"SESSTRANSFORMATIONINST\", _, _, _*) if {val attrs = sesst.attributes.asAttrMap\n",
    "                                                              !attrs(\"TRANSFORMATIONTYPE\").contains(\"Target\") &&\n",
    "                                                                (!procsNamesE.contains(attrs(\"TRANSFORMATIONNAME\").split('.')(0).split('_').drop(1).reduceOption((x,y)=>x+'_'+y)) ||\n",
    "                                                                 !attrs(\"TRANSFORMATIONNAME\").split('.')(0).split('_').drop(1).reduceOption((x,y)=>x+'_'+y).isEmpty)\n",
    "                                                                 } => RuleSesstEdit(sesst)\n",
    "    case sesse @ Elem(_, \"SESSIONEXTENSION\", _, _, _*) if {val attrs = sesse.attributes.asAttrMap\n",
    "                                                          !attrs(\"TRANSFORMATIONTYPE\").contains(\"Target\") &&\n",
    "                                                           (!procsNamesE.contains(attrs(\"SINSTANCENAME\").split('.')(0).split('_').drop(1).reduceOption((x,y)=>x+'_'+y)) ||\n",
    "                                                           !attrs(\"SINSTANCENAME\").split('.')(0).split('_').drop(1).reduceOption((x,y)=>x+'_'+y).isEmpty)\n",
    "                                                          } => RuleSesseEditAttrs(sesse)\n",
    "    case other => other\n",
    "  }\n",
    "}"
   ]
  },
  {
   "cell_type": "code",
   "execution_count": 469,
   "metadata": {
    "collapsed": false
   },
   "outputs": [
    {
     "data": {
      "text/plain": [
       "defined \u001b[32mobject \u001b[36mMainConnectionTransform\u001b[0m"
      ]
     },
     "metadata": {},
     "output_type": "display_data"
    }
   ],
   "source": [
    "object MainConnectionTransform extends RewriteRule {\n",
    "  override def transform(n: Node): Seq[Node] = n match {\n",
    "    case sesst @ Elem(_, \"SESSTRANSFORMATIONINST\", _, _, _*) if {val attrs = sesst.attributes.asAttrMap\n",
    "                                                              !attrs(\"TRANSFORMATIONTYPE\").contains(\"Target\") ||\n",
    "                                                                procsNamesE.intersect((attrs(\"TRANSFORMATIONNAME\").split('.')(0).split('_').drop(1).reduceOption((x,y)=>x+'_'+y)).getOrElse(\"null\")).isEmpty} => RuleSesstEdit(sesst)\n",
    "    case sesse @ Elem(_, \"SESSIONEXTENSION\", _, _, _*) if {val attrs = sesse.attributes.asAttrMap\n",
    "                                                          !attrs(\"TRANSFORMATIONTYPE\").contains(\"Target\") ||\n",
    "                                                           procsNamesE.intersect((attrs(\"SINSTANCENAME\").split('.')(0).split('_').drop(1).reduceOption((x,y)=>x+'_'+y)).getOrElse(\"null\")).isEmpty} => RuleSesseEditAttrs(sesse)\n",
    "    case other => other\n",
    "  }\n",
    "}"
   ]
  },
  {
   "cell_type": "code",
   "execution_count": 527,
   "metadata": {
    "collapsed": false
   },
   "outputs": [
    {
     "data": {
      "text/plain": [
       "defined \u001b[32mobject \u001b[36mMainConnectionTransform\u001b[0m"
      ]
     },
     "metadata": {},
     "output_type": "display_data"
    }
   ],
   "source": [
    "object MainConnectionTransform extends RewriteRule {\n",
    "  override def transform(n: Node): Seq[Node] = n match {\n",
    "    case sesst @ Elem(_, \"SESSTRANSFORMATIONINST\", _, _, _*) if {val attrs = sesst.attributes.asAttrMap\n",
    "                                                              (!attrs(\"TRANSFORMATIONTYPE\").contains(\"Target\") &&\n",
    "                                                                !procsNamesE.contains(attrs(\"TRANSFORMATIONNAME\").split('.')(0).split('_').drop(1).reduceOption((x,y)=>x+'_'+y)))\n",
    "                                                                } => RuleSesstEdit(sesst)\n",
    "    case sesse @ Elem(_, \"SESSIONEXTENSION\", _, _, _*) if {val attrs = sesse.attributes.asAttrMap\n",
    "                                                          (!attrs(\"TRANSFORMATIONTYPE\").contains(\"Target\") &&\n",
    "                                                           !procsNamesE.contains(attrs(\"SINSTANCENAME\").split('.')(0).split('_').drop(1).reduceOption((x,y)=>x+'_'+y)))\n",
    "                                                          } => RuleSesseEditAttrs(sesse)\n",
    "    case other => other\n",
    "  }\n",
    "}"
   ]
  },
  {
   "cell_type": "code",
   "execution_count": 618,
   "metadata": {
    "collapsed": false
   },
   "outputs": [
    {
     "data": {
      "text/plain": [
       "defined \u001b[32mobject \u001b[36mMainConnectionTransform\u001b[0m"
      ]
     },
     "metadata": {},
     "output_type": "display_data"
    }
   ],
   "source": [
    "object MainConnectionTransform extends RewriteRule {\n",
    "  override def transform(n: Node): Seq[Node] = n match {\n",
    "    case sesst @ Elem(_, \"SESSTRANSFORMATIONINST\", _, _, _*) if {val attrs = sesst.attributes.asAttrMap\n",
    "                                                                 !attrs(\"TRANSFORMATIONTYPE\").contains(\"Target\") &&\n",
    "                                                              !procsNamesE.contains((attrs(\"TRANSFORMATIONNAME\").split('.')(0).split('_').drop(1).reduceOption((x,y)=>x+'_'+y)).getOrElse(\"null\"))\n",
    "                                                                } => RuleSesstEdit(sesst)\n",
    "    case sesse @ Elem(_, \"SESSIONEXTENSION\", _, _, _*) if {val attrs = sesse.attributes.asAttrMap\n",
    "                                                           !attrs(\"TRANSFORMATIONTYPE\").contains(\"Target\") &&\n",
    "                                                         !procsNamesE.contains((attrs(\"SINSTANCENAME\").split('.')(0).split('_').drop(1).reduceOption((x,y)=>x+'_'+y)).getOrElse(\"null\"))\n",
    "                                                          } => RuleSesseEditAttrs(sesse)\n",
    "    case other => other\n",
    "  }\n",
    "}"
   ]
  },
  {
   "cell_type": "code",
   "execution_count": 616,
   "metadata": {
    "collapsed": false
   },
   "outputs": [
    {
     "data": {
      "text/plain": [
       "defined \u001b[32mobject \u001b[36mMainConnectionTransform\u001b[0m"
      ]
     },
     "metadata": {},
     "output_type": "display_data"
    }
   ],
   "source": [
    "object MainConnectionTransform extends RewriteRule {\n",
    "  override def transform(n: Node): Seq[Node] = n match {\n",
    "    case sesst @ Elem(_, \"SESSTRANSFORMATIONINST\", _, _, _*) if {val attrs = sesst.attributes.asAttrMap\n",
    "                                                              !attrs(\"TRANSFORMATIONTYPE\").contains(\"Target\")\n",
    "                                                                } => RuleSesstEdit(sesst)\n",
    "    case sesse @ Elem(_, \"SESSIONEXTENSION\", _, _, _*) if {val attrs = sesse.attributes.asAttrMap\n",
    "                                                         !attrs(\"TRANSFORMATIONTYPE\").contains(\"Target\")\n",
    "                                                          } => RuleSesseEditAttrs(sesse)\n",
    "    case other => other\n",
    "  }\n",
    "}"
   ]
  },
  {
   "cell_type": "code",
   "execution_count": 617,
   "metadata": {
    "collapsed": false
   },
   "outputs": [
    {
     "data": {
      "text/plain": [
       "\u001b[36mtempstr\u001b[0m: \u001b[32mString\u001b[0m = \u001b[32m\"fdf\"\u001b[0m"
      ]
     },
     "metadata": {},
     "output_type": "display_data"
    }
   ],
   "source": [
    "val tempstr = \"fdf\""
   ]
  },
  {
   "cell_type": "code",
   "execution_count": 556,
   "metadata": {
    "collapsed": false
   },
   "outputs": [
    {
     "name": "stdout",
     "output_type": "stream",
     "text": [
      "fdf\n"
     ]
    },
    {
     "data": {
      "text/plain": [
       "\u001b[36mres489\u001b[0m: \u001b[32mAny\u001b[0m = ()"
      ]
     },
     "metadata": {},
     "output_type": "display_data"
    }
   ],
   "source": [
    "tempstr match {\n",
    "    case s @ \"fdf\" if {val r = \"f\"\n",
    "                       s.contains(r)\n",
    "                      } => println(s)\n",
    "    case other => other\n",
    "}"
   ]
  },
  {
   "cell_type": "code",
   "execution_count": 619,
   "metadata": {
    "collapsed": false
   },
   "outputs": [
    {
     "data": {
      "text/plain": [
       "defined \u001b[32mobject \u001b[36mRuleMainConnectionTransoform\u001b[0m"
      ]
     },
     "metadata": {},
     "output_type": "display_data"
    }
   ],
   "source": [
    "object RuleMainConnectionTransoform extends RuleTransformer(MainConnectionTransform)"
   ]
  },
  {
   "cell_type": "code",
   "execution_count": 620,
   "metadata": {
    "collapsed": false
   },
   "outputs": [
    {
     "data": {
      "text/plain": [
       "\u001b[36mnewXml\u001b[0m: \u001b[32mNode\u001b[0m = \u001b[33mElem\u001b[0m(\n",
       "  <POWERMART REPOSITORY_VERSION=\"182.91\" CREATION_DATE=\"05/02/2016 16:58:35\">\n",
       "<REPOSITORY DATABASETYPE=\"Oracle\" CODEPAGE=\"MS1251\" VERSION=\"182\" NAME=\"RS_TST\">\n",
       "<FOLDER UUID=\"d318e01d-c840-4918-a8c9-969f0504dfc1\" PERMISSIONS=\"rwx---r--\" DESCRIPTION=\"\" SHARED=\"NOTSHARED\" OWNER=\"Administrator\" GROUP=\"\" NAME=\"EDW_PREDDS_001\">\n",
       "    <TASK VERSIONNUMBER=\"1\" TYPE=\"Command\" REUSABLE=\"YES\" NAME=\"cmd_ETLFW_START_JOB\" DESCRIPTION=\"Команда для запуска процесса управления Джобами PREDDS\">\n",
       "        <ATTRIBUTE VALUE=\"YES\" NAME=\"Fail task if any command fails\"/>\n",
       "        <ATTRIBUTE VALUE=\"Restart task\" NAME=\"Recovery Strategy\"/>\n",
       "        <VALUEPAIR VALUE=\" python /home/etl/etlfw/startjob.py  $PMFolderName $PMWorkflowName $PMRootDir/ParamFiles/EDW_PREDDS_001.$PMWorkflowName.prm $PMWorkflowRunId $PMIntegrationServiceName\" REVERSEASSIGNMENT=\"NO\" NAME=\"ETLFW Start Job wf_STG_CDC_002_ACNT_CONTRACT\" EXECORDER=\"1\"/>\n",
       "    </TASK>\n",
       "    <TASK VERSIONNUMBER=\"1\" TYPE=\"Command\" REUSABLE=\"YES\" NAME=\"cmd_ETLFW_FINISH_JOB\" DESCRIPTION=\"Команда для завершения процесса управления Джобами PREDDS\">\n",
       "\u001b[33m...\u001b[0m"
      ]
     },
     "metadata": {},
     "output_type": "display_data"
    }
   ],
   "source": [
    "val newXml = RuleMainConnectionTransoform(xml)"
   ]
  },
  {
   "cell_type": "code",
   "execution_count": 621,
   "metadata": {
    "collapsed": false
   },
   "outputs": [
    {
     "data": {
      "text/plain": [
       "\u001b[36mres554\u001b[0m: \u001b[32mNode\u001b[0m = \u001b[33mElem\u001b[0m(\n",
       "  <POWERMART REPOSITORY_VERSION=\"182.91\" CREATION_DATE=\"05/02/2016 16:58:35\">\n",
       "<REPOSITORY DATABASETYPE=\"Oracle\" CODEPAGE=\"MS1251\" VERSION=\"182\" NAME=\"RS_TST\">\n",
       "<FOLDER UUID=\"d318e01d-c840-4918-a8c9-969f0504dfc1\" PERMISSIONS=\"rwx---r--\" DESCRIPTION=\"\" SHARED=\"NOTSHARED\" OWNER=\"Administrator\" GROUP=\"\" NAME=\"EDW_PREDDS_001\">\n",
       "    <TASK VERSIONNUMBER=\"1\" TYPE=\"Command\" REUSABLE=\"YES\" NAME=\"cmd_ETLFW_START_JOB\" DESCRIPTION=\"Команда для запуска процесса управления Джобами PREDDS\">\n",
       "        <ATTRIBUTE VALUE=\"YES\" NAME=\"Fail task if any command fails\"/>\n",
       "        <ATTRIBUTE VALUE=\"Restart task\" NAME=\"Recovery Strategy\"/>\n",
       "        <VALUEPAIR VALUE=\" python /home/etl/etlfw/startjob.py  $PMFolderName $PMWorkflowName $PMRootDir/ParamFiles/EDW_PREDDS_001.$PMWorkflowName.prm $PMWorkflowRunId $PMIntegrationServiceName\" REVERSEASSIGNMENT=\"NO\" NAME=\"ETLFW Start Job wf_STG_CDC_002_ACNT_CONTRACT\" EXECORDER=\"1\"/>\n",
       "    </TASK>\n",
       "    <TASK VERSIONNUMBER=\"1\" TYPE=\"Command\" REUSABLE=\"YES\" NAME=\"cmd_ETLFW_FINISH_JOB\" DESCRIPTION=\"Команда для завершения процесса управления Джобами PREDDS\">\n",
       "\u001b[33m...\u001b[0m"
      ]
     },
     "metadata": {},
     "output_type": "display_data"
    }
   ],
   "source": [
    "newXml"
   ]
  },
  {
   "cell_type": "code",
   "execution_count": 622,
   "metadata": {
    "collapsed": false
   },
   "outputs": [
    {
     "data": {
      "text/plain": []
     },
     "metadata": {},
     "output_type": "display_data"
    }
   ],
   "source": [
    "scala.xml.XML.save(\"testxml.xml\", newXml, \"UTF-8\", true)"
   ]
  },
  {
   "cell_type": "code",
   "execution_count": 494,
   "metadata": {
    "collapsed": false
   },
   "outputs": [
    {
     "data": {
      "text/plain": [
       "\u001b[36mfile\u001b[0m: \u001b[32mFile\u001b[0m = test_com.XML"
      ]
     },
     "metadata": {},
     "output_type": "display_data"
    }
   ],
   "source": [
    "val file = new File(\"test_com.XML\")"
   ]
  },
  {
   "cell_type": "code",
   "execution_count": 495,
   "metadata": {
    "collapsed": false,
    "scrolled": true
   },
   "outputs": [
    {
     "data": {
      "text/plain": [
       "\u001b[36mbw\u001b[0m: \u001b[32mBufferedWriter\u001b[0m = java.io.BufferedWriter@1ce935d5"
      ]
     },
     "metadata": {},
     "output_type": "display_data"
    }
   ],
   "source": [
    "val bw = new BufferedWriter(new FileWriter(file))"
   ]
  },
  {
   "cell_type": "code",
   "execution_count": 496,
   "metadata": {
    "collapsed": false
   },
   "outputs": [
    {
     "data": {
      "text/plain": [
       "\u001b[36mres439_0\u001b[0m: \u001b[32mList\u001b[0m[\u001b[32mUnit\u001b[0m] = \u001b[33mList\u001b[0m(())"
      ]
     },
     "metadata": {},
     "output_type": "display_data"
    }
   ],
   "source": [
    "newXml.toList.map(st => bw.write(st + \"\\n\"))\n",
    "bw.close()"
   ]
  },
  {
   "cell_type": "code",
   "execution_count": 497,
   "metadata": {
    "collapsed": false
   },
   "outputs": [
    {
     "data": {
      "text/plain": [
       "\u001b[36mpw\u001b[0m: \u001b[32mPrintWriter\u001b[0m = java.io.PrintWriter@29424842"
      ]
     },
     "metadata": {},
     "output_type": "display_data"
    }
   ],
   "source": [
    "val pw = new PrintWriter(new File(\"test.xml\"))\n",
    "pw.write(newXml.toString)\n",
    "pw.close"
   ]
  },
  {
   "cell_type": "code",
   "execution_count": 686,
   "metadata": {
    "collapsed": false
   },
   "outputs": [
    {
     "data": {
      "text/plain": [
       "\u001b[36mddd\u001b[0m: \u001b[32mdtd\u001b[0m.\u001b[32mDocType\u001b[0m = \u001b[33mDocType\u001b[0m(\u001b[32m\"POWERMART\"\u001b[0m, SYSTEM \"powrmart.dtd\", \u001b[33mList\u001b[0m())"
      ]
     },
     "metadata": {},
     "output_type": "display_data"
    }
   ],
   "source": [
    "val ddd = new scala.xml.dtd.DocType(\"POWERMART\", scala.xml.dtd.SystemID(\"powrmart.dtd\"), Nil)"
   ]
  },
  {
   "cell_type": "code",
   "execution_count": 687,
   "metadata": {
    "collapsed": false
   },
   "outputs": [
    {
     "data": {
      "text/plain": [
       "\u001b[36mres580\u001b[0m: \u001b[32mString\u001b[0m = \u001b[32m\"\"\"\n",
       "<!DOCTYPE POWERMART SYSTEM \"powrmart.dtd\">\n",
       "\"\"\"\u001b[0m"
      ]
     },
     "metadata": {},
     "output_type": "display_data"
    }
   ],
   "source": [
    "ddd.toString"
   ]
  },
  {
   "cell_type": "code",
   "execution_count": 688,
   "metadata": {
    "collapsed": false
   },
   "outputs": [
    {
     "data": {
      "text/plain": []
     },
     "metadata": {},
     "output_type": "display_data"
    }
   ],
   "source": [
    "scala.xml.XML.save(\"testxmld.xml\", newXml, \"UTF-8\", true,ddd)"
   ]
  },
  {
   "cell_type": "code",
   "execution_count": 689,
   "metadata": {
    "collapsed": false
   },
   "outputs": [
    {
     "data": {
      "text/plain": []
     },
     "metadata": {},
     "output_type": "display_data"
    }
   ],
   "source": [
    "scala.xml.XML.save(\"testxmld.xml\", newXml, \"windows-1251\", true,ddd)"
   ]
  },
  {
   "cell_type": "code",
   "execution_count": 43,
   "metadata": {
    "collapsed": false
   },
   "outputs": [
    {
     "data": {
      "text/plain": [
       "\u001b[36mprocs\u001b[0m: \u001b[32mcollection\u001b[0m.\u001b[32mimmutable\u001b[0m.\u001b[32mSeq\u001b[0m[(\u001b[32mNode\u001b[0m, \u001b[32mNode\u001b[0m)] = \u001b[33mList\u001b[0m(\n",
       "  \u001b[33m\u001b[0m(\n",
       "    \u001b[33mText\u001b[0m(mp_IDMAP_ORPHAN_XREF_ESTATE_TYPE.ODS_INS_IDMAP_ORPH_FNC),\n",
       "    \u001b[33mText\u001b[0m(Stored Procedure)\n",
       "  ),\n",
       "  \u001b[33m\u001b[0m(\u001b[33mText\u001b[0m(mp_IDMAP_ORPHAN_ESTATE_RK.ODS_INS_IDMAP_ORPH_FNC), \u001b[33mText\u001b[0m(Stored Procedure)),\n",
       "  \u001b[33m\u001b[0m(\n",
       "    \u001b[33mText\u001b[0m(mp_IDMAP_ORPHAN_COUNTRP_NAT_PERS_RK.ODS_INS_IDMAP_ORPH_FNC),\n",
       "    \u001b[33mText\u001b[0m(Stored Procedure)\n",
       "  )\n",
       ")"
      ]
     },
     "metadata": {},
     "output_type": "display_data"
    }
   ],
   "source": [
    "val procs = ((xml \\\\ \"SESSTRANSFORMATIONINST\" \\\\ \"@TRANSFORMATIONNAME\") zip (xml \\\\ \"SESSTRANSFORMATIONINST\" \\\\ \"@TRANSFORMATIONTYPE\")).filter(_._2.text.contains(\"Stored\"))"
   ]
  },
  {
   "cell_type": "code",
   "execution_count": 75,
   "metadata": {
    "collapsed": false
   },
   "outputs": [
    {
     "data": {
      "text/plain": [
       "\u001b[36mprocs\u001b[0m: \u001b[32mcollection\u001b[0m.\u001b[32mimmutable\u001b[0m.\u001b[32mSeq\u001b[0m[(\u001b[32mNode\u001b[0m, \u001b[32mNode\u001b[0m)] = \u001b[33mList\u001b[0m(\n",
       "  \u001b[33m\u001b[0m(\n",
       "    \u001b[33mText\u001b[0m(mp_xREFMAP_ESTATE_OBTAIN_TYPE.LKP_IDMAP_XREF_ESTATE_OBTAIN_TYPE),\n",
       "    \u001b[33mText\u001b[0m(Lookup Procedure)\n",
       "  ),\n",
       "  \u001b[33m\u001b[0m(\n",
       "    \u001b[33mText\u001b[0m(mp_xREFMAP_ESTATE_OBTAIN_TYPE.LKP_XREFMAP_ESTATE_OBTAIN_TYPE),\n",
       "    \u001b[33mText\u001b[0m(Lookup Procedure)\n",
       "  ),\n",
       "  \u001b[33m\u001b[0m(\n",
       "    \u001b[33mText\u001b[0m(mp_IDMAP_ORPHAN_XREF_ESTATE_TYPE.LKP_IDMAP_XREF_ESTATE_TYPE),\n",
       "    \u001b[33mText\u001b[0m(Lookup Procedure)\n",
       "  ),\n",
       "  \u001b[33m\u001b[0m(\u001b[33mText\u001b[0m(mp_IDMAP_ORPHAN_ESTATE_RK.LKP_IDMAP_COUNTERPARTY), \u001b[33mText\u001b[0m(Lookup Procedure)),\n",
       "\u001b[33m...\u001b[0m"
      ]
     },
     "metadata": {},
     "output_type": "display_data"
    }
   ],
   "source": [
    "val procs = ((xml \\\\ \"SESSTRANSFORMATIONINST\" \\\\ \"@TRANSFORMATIONNAME\") zip (xml \\\\ \"SESSTRANSFORMATIONINST\" \\\\ \"@TRANSFORMATIONTYPE\")).filter(_._2.text.contains(\"Lookup\"))"
   ]
  },
  {
   "cell_type": "code",
   "execution_count": 60,
   "metadata": {
    "collapsed": false
   },
   "outputs": [
    {
     "data": {
      "text/plain": [
       "\u001b[36mchld\u001b[0m: \u001b[32mString\u001b[0m = \u001b[32m\"EDW_xREFMAP_PROD\"\u001b[0m"
      ]
     },
     "metadata": {},
     "output_type": "display_data"
    }
   ],
   "source": [
    "val chld = \"EDW_\"+\"mp_xREFMAP_ESTATE_OBTAIN_TYPE.LKP_XREFMAP_ESTATE_OBTAIN_TYPE\".split('.')(0).split('_')(1)+\"_PROD\""
   ]
  },
  {
   "cell_type": "code",
   "execution_count": 64,
   "metadata": {
    "collapsed": false
   },
   "outputs": [
    {
     "data": {
      "text/plain": [
       "\u001b[36mres59\u001b[0m: \u001b[32mString\u001b[0m = \u001b[32m\"EDW_XREFMAP_PROD\"\u001b[0m"
      ]
     },
     "metadata": {},
     "output_type": "display_data"
    }
   ],
   "source": [
    "chld.toUpperCase"
   ]
  },
  {
   "cell_type": "code",
   "execution_count": 62,
   "metadata": {
    "collapsed": false
   },
   "outputs": [
    {
     "data": {
      "text/plain": [
       "\u001b[36mres57\u001b[0m: \u001b[32mElem\u001b[0m = \u001b[33mElem\u001b[0m(<ATTRIBUTE NAME=\"Connection Information\" VALUE=\"EDW_xREFMAP_PROD\"/>)"
      ]
     },
     "metadata": {},
     "output_type": "display_data"
    }
   ],
   "source": [
    "<ATTRIBUTE NAME=\"Connection Information\" VALUE={chld}/>"
   ]
  },
  {
   "cell_type": "code",
   "execution_count": 59,
   "metadata": {
    "collapsed": false
   },
   "outputs": [
    {
     "ename": "",
     "evalue": "",
     "output_type": "error",
     "traceback": [
      "\u001b[31m<console>:1: in XML literal: whitespace expected\r",
      "<ATTRIBUTE NAME=\"Connection Information\" VALUE=\"EDW_\"+\"mp_xREFMAP_ESTATE_OBTAIN_TYPE.LKP_XREFMAP_ESTATE_OBTAIN_TYPE\".split('.')(0).split('_')(1) +\"_PROD\"/>\r",
      "                                                     ^\u001b[0m",
      "\u001b[31m<console>:1: in XML literal: '>' expected instead of '\"'\r",
      "<ATTRIBUTE NAME=\"Connection Information\" VALUE=\"EDW_\"+\"mp_xREFMAP_ESTATE_OBTAIN_TYPE.LKP_XREFMAP_ESTATE_OBTAIN_TYPE\".split('.')(0).split('_')(1) +\"_PROD\"/>\r",
      "                                                      ^\u001b[0m",
      "\u001b[31m<console>:1: input ended while parsing XML\r",
      "<ATTRIBUTE NAME=\"Connection Information\" VALUE=\"EDW_\"+\"mp_xREFMAP_ESTATE_OBTAIN_TYPE.LKP_XREFMAP_ESTATE_OBTAIN_TYPE\".split('.')(0).split('_')(1) +\"_PROD\"/>\r",
      "                                                                                                                                                           ^\u001b[0m"
     ]
    }
   ],
   "source": [
    "<ATTRIBUTE NAME=\"Connection Information\" VALUE=\"EDW_\"+\"mp_xREFMAP_ESTATE_OBTAIN_TYPE.LKP_XREFMAP_ESTATE_OBTAIN_TYPE\".split('.')(0).split('_')(1) +\"_PROD\"/>"
   ]
  },
  {
   "cell_type": "code",
   "execution_count": 74,
   "metadata": {
    "collapsed": false
   },
   "outputs": [
    {
     "data": {
      "text/plain": [
       "\u001b[36mprocsStored\u001b[0m: \u001b[32mcollection\u001b[0m.\u001b[32mimmutable\u001b[0m.\u001b[32mSeq\u001b[0m[(\u001b[32mNode\u001b[0m, \u001b[32mNode\u001b[0m)] = \u001b[33mList\u001b[0m(\n",
       "  \u001b[33m\u001b[0m(\n",
       "    \u001b[33mText\u001b[0m(mp_IDMAP_ORPHAN_XREF_ESTATE_TYPE.ODS_INS_IDMAP_ORPH_FNC),\n",
       "    \u001b[33mText\u001b[0m(Stored Procedure)\n",
       "  ),\n",
       "  \u001b[33m\u001b[0m(\u001b[33mText\u001b[0m(mp_IDMAP_ORPHAN_ESTATE_RK.ODS_INS_IDMAP_ORPH_FNC), \u001b[33mText\u001b[0m(Stored Procedure)),\n",
       "  \u001b[33m\u001b[0m(\n",
       "    \u001b[33mText\u001b[0m(mp_IDMAP_ORPHAN_COUNTRP_NAT_PERS_RK.ODS_INS_IDMAP_ORPH_FNC),\n",
       "    \u001b[33mText\u001b[0m(Stored Procedure)\n",
       "  )\n",
       ")"
      ]
     },
     "metadata": {},
     "output_type": "display_data"
    }
   ],
   "source": [
    "val procsStored = ((xml \\\\ \"SESSTRANSFORMATIONINST\" \\\\ \"@TRANSFORMATIONNAME\") zip (xml \\\\ \"SESSTRANSFORMATIONINST\" \\\\ \"@TRANSFORMATIONTYPE\")).filter(_._2.text.contains(\"Stored\"))"
   ]
  },
  {
   "cell_type": "code",
   "execution_count": 76,
   "metadata": {
    "collapsed": false
   },
   "outputs": [
    {
     "data": {
      "text/plain": [
       "\u001b[36mprocsNames\u001b[0m: \u001b[32mcollection\u001b[0m.\u001b[32mimmutable\u001b[0m.\u001b[32mSeq\u001b[0m[\u001b[32mNode\u001b[0m] = \u001b[33mList\u001b[0m(\n",
       "  mp_xREFMAP_ESTATE_OBTAIN_TYPE.LKP_IDMAP_XREF_ESTATE_OBTAIN_TYPE,\n",
       "  mp_xREFMAP_ESTATE_OBTAIN_TYPE.LKP_XREFMAP_ESTATE_OBTAIN_TYPE,\n",
       "  mp_IDMAP_ORPHAN_XREF_ESTATE_TYPE.LKP_IDMAP_XREF_ESTATE_TYPE,\n",
       "  mp_IDMAP_ORPHAN_ESTATE_RK.LKP_IDMAP_COUNTERPARTY,\n",
       "  mp_IDMAP_ORPHAN_COUNTRP_NAT_PERS_RK.LKP_IDMAP_COUNTERPARTY\n",
       ")"
      ]
     },
     "metadata": {},
     "output_type": "display_data"
    }
   ],
   "source": [
    "val procsNames = procs map (_._1)"
   ]
  },
  {
   "cell_type": "code",
   "execution_count": 81,
   "metadata": {
    "collapsed": false
   },
   "outputs": [
    {
     "data": {
      "text/plain": [
       "\u001b[36mprocsStoredNames\u001b[0m: \u001b[32mcollection\u001b[0m.\u001b[32mimmutable\u001b[0m.\u001b[32mSeq\u001b[0m[\u001b[32mNode\u001b[0m] = \u001b[33mList\u001b[0m(\n",
       "  mp_IDMAP_ORPHAN_XREF_ESTATE_TYPE.ODS_INS_IDMAP_ORPH_FNC,\n",
       "  mp_IDMAP_ORPHAN_ESTATE_RK.ODS_INS_IDMAP_ORPH_FNC,\n",
       "  mp_IDMAP_ORPHAN_COUNTRP_NAT_PERS_RK.ODS_INS_IDMAP_ORPH_FNC\n",
       ")"
      ]
     },
     "metadata": {},
     "output_type": "display_data"
    }
   ],
   "source": [
    "val procsStoredNames = procsStored map (_._1)"
   ]
  },
  {
   "cell_type": "code",
   "execution_count": 84,
   "metadata": {
    "collapsed": false
   },
   "outputs": [
    {
     "data": {
      "text/plain": [
       "\u001b[36mres77\u001b[0m: \u001b[32mcollection\u001b[0m.\u001b[32mimmutable\u001b[0m.\u001b[32mSeq\u001b[0m[\u001b[32mString\u001b[0m] = \u001b[33mList\u001b[0m(\n",
       "  \u001b[32m\"mp_IDMAP_ORPHAN_XREF_ESTATE_TYPE\"\u001b[0m,\n",
       "  \u001b[32m\"mp_IDMAP_ORPHAN_ESTATE_RK\"\u001b[0m,\n",
       "  \u001b[32m\"mp_IDMAP_ORPHAN_COUNTRP_NAT_PERS_RK\"\u001b[0m\n",
       ")"
      ]
     },
     "metadata": {},
     "output_type": "display_data"
    }
   ],
   "source": [
    "procsNames.map(_.text.split('.')(0)).intersect(procsStoredNames.map(_.text.split('.')(0)))"
   ]
  },
  {
   "cell_type": "code",
   "execution_count": 95,
   "metadata": {
    "collapsed": false
   },
   "outputs": [
    {
     "data": {
      "text/plain": [
       "\u001b[36mres83\u001b[0m: \u001b[32mcollection\u001b[0m.\u001b[32mimmutable\u001b[0m.\u001b[32mSeq\u001b[0m[\u001b[32mString\u001b[0m] = \u001b[33mList\u001b[0m(\u001b[32m\"IDMAP.XREF_ESTATE_TYPE\"\u001b[0m, \u001b[32m\"IDMAP.COUNTERPARTY\"\u001b[0m)"
      ]
     },
     "metadata": {},
     "output_type": "display_data"
    }
   ],
   "source": [
    "procsNames.filter(x => procsStoredNames.map(_.text.split('.')(0)).contains(x.text.split('.')(0))).map(_.text.split('.')(1).split('_').drop(1).reduce((x,y)=>x+'_'+y)).distinct.map(_.replaceFirst(\"_\",\".\"))"
   ]
  },
  {
   "cell_type": "code",
   "execution_count": 83,
   "metadata": {
    "collapsed": false
   },
   "outputs": [
    {
     "data": {
      "text/plain": [
       "\u001b[36mres76\u001b[0m: \u001b[32mcollection\u001b[0m.\u001b[32mimmutable\u001b[0m.\u001b[32mSeq\u001b[0m[\u001b[32mString\u001b[0m] = \u001b[33mList\u001b[0m(\n",
       "  \u001b[32m\"LKP_IDMAP_XREF_ESTATE_OBTAIN_TYPE\"\u001b[0m,\n",
       "  \u001b[32m\"LKP_XREFMAP_ESTATE_OBTAIN_TYPE\"\u001b[0m,\n",
       "  \u001b[32m\"LKP_IDMAP_XREF_ESTATE_TYPE\"\u001b[0m,\n",
       "  \u001b[32m\"LKP_IDMAP_COUNTERPARTY\"\u001b[0m,\n",
       "  \u001b[32m\"LKP_IDMAP_COUNTERPARTY\"\u001b[0m\n",
       ")"
      ]
     },
     "metadata": {},
     "output_type": "display_data"
    }
   ],
   "source": [
    "procsNames.map(_.text.split('.')(1))"
   ]
  },
  {
   "cell_type": "code",
   "execution_count": 68,
   "metadata": {
    "collapsed": false
   },
   "outputs": [
    {
     "data": {
      "text/plain": [
       "\u001b[36mprocsNamesE\u001b[0m: \u001b[32mcollection\u001b[0m.\u001b[32mimmutable\u001b[0m.\u001b[32mSeq\u001b[0m[\u001b[32mString\u001b[0m] = \u001b[33mList\u001b[0m(\u001b[32m\"IDMAP\"\u001b[0m, \u001b[32m\"XREFMAP\"\u001b[0m, \u001b[32m\"IDMAP\"\u001b[0m, \u001b[32m\"IDMAP\"\u001b[0m, \u001b[32m\"IDMAP\"\u001b[0m)"
      ]
     },
     "metadata": {},
     "output_type": "display_data"
    }
   ],
   "source": [
    "val procsNamesE = procsNames.map(_.text.split('.')(1).split('_')(1))"
   ]
  },
  {
   "cell_type": "code",
   "execution_count": 72,
   "metadata": {
    "collapsed": false
   },
   "outputs": [
    {
     "data": {
      "text/plain": [
       "\u001b[36mres67\u001b[0m: \u001b[32mcollection\u001b[0m.\u001b[32mimmutable\u001b[0m.\u001b[32mSeq\u001b[0m[\u001b[32mString\u001b[0m] = \u001b[33mList\u001b[0m(\n",
       "  \u001b[32m\"IDMAP_XREF_ESTATE_OBTAIN_TYPE\"\u001b[0m,\n",
       "  \u001b[32m\"XREFMAP_ESTATE_OBTAIN_TYPE\"\u001b[0m,\n",
       "  \u001b[32m\"IDMAP_XREF_ESTATE_TYPE\"\u001b[0m,\n",
       "  \u001b[32m\"IDMAP_COUNTERPARTY\"\u001b[0m,\n",
       "  \u001b[32m\"IDMAP_COUNTERPARTY\"\u001b[0m\n",
       ")"
      ]
     },
     "metadata": {},
     "output_type": "display_data"
    }
   ],
   "source": [
    "procsNames.map(_.text.split('.')(1).split('_').drop(1).reduce((x,y)=>x+'_'+y))"
   ]
  },
  {
   "cell_type": "code",
   "execution_count": 48,
   "metadata": {
    "collapsed": false
   },
   "outputs": [
    {
     "data": {
      "text/plain": [
       "\u001b[36mres44\u001b[0m: \u001b[32mcollection\u001b[0m.\u001b[32mimmutable\u001b[0m.\u001b[32mSeq\u001b[0m[\u001b[32mString\u001b[0m] = \u001b[33mList\u001b[0m(\u001b[32m\"INS_IDMAP_ORPH_FNC\"\u001b[0m, \u001b[32m\"INS_IDMAP_ORPH_FNC\"\u001b[0m, \u001b[32m\"INS_IDMAP_ORPH_FNC\"\u001b[0m)"
      ]
     },
     "metadata": {},
     "output_type": "display_data"
    }
   ],
   "source": [
    "procsNames.map(_.text.split('.')(1).split('_').drop(1).reduce((x,y)=>x+'_'+y))"
   ]
  },
  {
   "cell_type": "code",
   "execution_count": null,
   "metadata": {
    "collapsed": true
   },
   "outputs": [],
   "source": [
    "((xml \\\\ \"SESSTRANSFORMATIONINST\" \\\\ \"@TRANSFORMATIONNAME\") zip (xml \\\\ \"SESSTRANSFORMATIONINST\" \\\\ \"@TRANSFORMATIONTYPE\")).filter(_._2.text.contains(\"Stored\"))"
   ]
  },
  {
   "cell_type": "code",
   "execution_count": 577,
   "metadata": {
    "collapsed": false
   },
   "outputs": [
    {
     "data": {
      "text/plain": [
       "\u001b[36ma\u001b[0m: \u001b[32mString\u001b[0m = \u001b[32m\"1536\"\u001b[0m"
      ]
     },
     "metadata": {},
     "output_type": "display_data"
    }
   ],
   "source": [
    "val a = \"1536\";"
   ]
  },
  {
   "cell_type": "code",
   "execution_count": 216,
   "metadata": {
    "collapsed": false
   },
   "outputs": [
    {
     "data": {
      "text/plain": [
       "\u001b[36mres203\u001b[0m: \u001b[32mAny\u001b[0m = OTHER"
      ]
     },
     "metadata": {},
     "output_type": "display_data"
    }
   ],
   "source": [
    "a match {\n",
    "    case my @ s if s.contains(\"d\") || s.contains(\"fs\") => s + \"___100500\"\n",
    "    case str @ \"3\" => 1\n",
    "    case other => \"OTHER\"\n",
    "}"
   ]
  },
  {
   "cell_type": "code",
   "execution_count": 25,
   "metadata": {
    "collapsed": false
   },
   "outputs": [
    {
     "data": {
      "text/plain": [
       "\u001b[36mtst\u001b[0m: \u001b[32mcollection\u001b[0m.\u001b[32mimmutable\u001b[0m.\u001b[32mSeq\u001b[0m[((\u001b[32mNode\u001b[0m, \u001b[32mNode\u001b[0m), \u001b[32mNode\u001b[0m)] = \u001b[33mList\u001b[0m(\n",
       "  \u001b[33m\u001b[0m(\u001b[33m\u001b[0m(\u001b[33mText\u001b[0m(COUNTERP_NPERS_ESTATE), \u001b[33mText\u001b[0m(Target Definition)), \u001b[33mText\u001b[0m(EDW_PREDDS)),\n",
       "  \u001b[33m\u001b[0m(\u001b[33m\u001b[0m(\u001b[33mText\u001b[0m(HYPO_FORMS), \u001b[33mText\u001b[0m(Source Definition)), \u001b[33mText\u001b[0m(EDW_ETL)),\n",
       "  \u001b[33m\u001b[0m(\u001b[33m\u001b[0m(\u001b[33mText\u001b[0m(SQ_HYPO_FORMS), \u001b[33mText\u001b[0m(Source Qualifier)), \u001b[33mText\u001b[0m(EDW_ETL)),\n",
       "  \u001b[33m\u001b[0m(\u001b[33m\u001b[0m(\u001b[33mText\u001b[0m(SCORING_FORMS), \u001b[33mText\u001b[0m(Source Definition)), \u001b[33mText\u001b[0m(EDW_IDMAP)),\n",
       "  \u001b[33m\u001b[0m(\u001b[33m\u001b[0m(\u001b[33mText\u001b[0m(SQ_SCORING_FORMS), \u001b[33mText\u001b[0m(Source Qualifier)), \u001b[33mText\u001b[0m(EDW_XREFMAP)),\n",
       "  \u001b[33m\u001b[0m(\n",
       "    \u001b[33m\u001b[0m(\n",
       "      \u001b[33mText\u001b[0m(mp_xREFMAP_ESTATE_OBTAIN_TYPE.LKP_IDMAP_XREF_ESTATE_OBTAIN_TYPE),\n",
       "      \u001b[33mText\u001b[0m(Lookup Procedure)\n",
       "    ),\n",
       "    \u001b[33mText\u001b[0m(EDW_IDMAP)\n",
       "  ),\n",
       "  \u001b[33m\u001b[0m(\n",
       "    \u001b[33m\u001b[0m(\n",
       "      \u001b[33mText\u001b[0m(mp_xREFMAP_ESTATE_OBTAIN_TYPE.LKP_XREFMAP_ESTATE_OBTAIN_TYPE),\n",
       "      \u001b[33mText\u001b[0m(Lookup Procedure)\n",
       "    ),\n",
       "    \u001b[33mText\u001b[0m(EDW_IDMAP)\n",
       "  ),\n",
       "\u001b[33m...\u001b[0m"
      ]
     },
     "metadata": {},
     "output_type": "display_data"
    }
   ],
   "source": [
    "val tst = xml \\\\ \"SESSIONEXTENSION\" \\\\ \"@SINSTANCENAME\" zip xml \\\\ \"SESSIONEXTENSION\" \\\\ \"@TRANSFORMATIONTYPE\" zip xml \\\\ \"SESSIONEXTENSION\" \\\\ \"@CONNECTIONNAME\""
   ]
  },
  {
   "cell_type": "code",
   "execution_count": 26,
   "metadata": {
    "collapsed": false
   },
   "outputs": [
    {
     "data": {
      "text/plain": [
       "defined \u001b[32mfunction \u001b[36mflat\u001b[0m"
      ]
     },
     "metadata": {},
     "output_type": "display_data"
    }
   ],
   "source": [
    "def flat[A,B,C](t: ((A,B),C)) = (t._1._1.toString, t._1._2.toString, t._2.toString)"
   ]
  },
  {
   "cell_type": "code",
   "execution_count": 27,
   "metadata": {
    "collapsed": false
   },
   "outputs": [
    {
     "data": {
      "text/plain": [
       "\u001b[36mtstflat\u001b[0m: \u001b[32mcollection\u001b[0m.\u001b[32mimmutable\u001b[0m.\u001b[32mSeq\u001b[0m[(\u001b[32mString\u001b[0m, \u001b[32mString\u001b[0m, \u001b[32mString\u001b[0m)] = \u001b[33mList\u001b[0m(\n",
       "  \u001b[33m\u001b[0m(\u001b[32m\"COUNTERP_NPERS_ESTATE\"\u001b[0m, \u001b[32m\"Target Definition\"\u001b[0m, \u001b[32m\"EDW_PREDDS\"\u001b[0m),\n",
       "  \u001b[33m\u001b[0m(\u001b[32m\"HYPO_FORMS\"\u001b[0m, \u001b[32m\"Source Definition\"\u001b[0m, \u001b[32m\"EDW_ETL\"\u001b[0m),\n",
       "  \u001b[33m\u001b[0m(\u001b[32m\"SQ_HYPO_FORMS\"\u001b[0m, \u001b[32m\"Source Qualifier\"\u001b[0m, \u001b[32m\"EDW_ETL\"\u001b[0m),\n",
       "  \u001b[33m\u001b[0m(\u001b[32m\"SCORING_FORMS\"\u001b[0m, \u001b[32m\"Source Definition\"\u001b[0m, \u001b[32m\"EDW_IDMAP\"\u001b[0m),\n",
       "  \u001b[33m\u001b[0m(\u001b[32m\"SQ_SCORING_FORMS\"\u001b[0m, \u001b[32m\"Source Qualifier\"\u001b[0m, \u001b[32m\"EDW_XREFMAP\"\u001b[0m),\n",
       "  \u001b[33m\u001b[0m(\n",
       "    \u001b[32m\"mp_xREFMAP_ESTATE_OBTAIN_TYPE.LKP_IDMAP_XREF_ESTATE_OBTAIN_TYPE\"\u001b[0m,\n",
       "    \u001b[32m\"Lookup Procedure\"\u001b[0m,\n",
       "    \u001b[32m\"EDW_IDMAP\"\u001b[0m\n",
       "  ),\n",
       "  \u001b[33m\u001b[0m(\n",
       "    \u001b[32m\"mp_xREFMAP_ESTATE_OBTAIN_TYPE.LKP_XREFMAP_ESTATE_OBTAIN_TYPE\"\u001b[0m,\n",
       "    \u001b[32m\"Lookup Procedure\"\u001b[0m,\n",
       "    \u001b[32m\"EDW_IDMAP\"\u001b[0m\n",
       "  ),\n",
       "  \u001b[33m\u001b[0m(\n",
       "    \u001b[32m\"mp_IDMAP_ORPHAN_XREF_ESTATE_TYPE.LKP_IDMAP_XREF_ESTATE_TYPE\"\u001b[0m,\n",
       "    \u001b[32m\"Lookup Procedure\"\u001b[0m,\n",
       "    \u001b[32m\"EDW_IDMAP\"\u001b[0m\n",
       "\u001b[33m...\u001b[0m"
      ]
     },
     "metadata": {},
     "output_type": "display_data"
    }
   ],
   "source": [
    "val tstflat = tst map flat"
   ]
  },
  {
   "cell_type": "code",
   "execution_count": 28,
   "metadata": {
    "collapsed": false
   },
   "outputs": [
    {
     "data": {
      "text/plain": [
       "\u001b[36mtst0\u001b[0m: (\u001b[32mString\u001b[0m, \u001b[32mString\u001b[0m, \u001b[32mString\u001b[0m) = \u001b[33m\u001b[0m(\u001b[32m\"COUNTERP_NPERS_ESTATE\"\u001b[0m, \u001b[32m\"Target Definition\"\u001b[0m, \u001b[32m\"EDW_PREDDS\"\u001b[0m)"
      ]
     },
     "metadata": {},
     "output_type": "display_data"
    }
   ],
   "source": [
    "val tst0 = tstflat(0)"
   ]
  },
  {
   "cell_type": "code",
   "execution_count": 29,
   "metadata": {
    "collapsed": false
   },
   "outputs": [
    {
     "data": {
      "text/plain": [
       "\u001b[36mres28\u001b[0m: \u001b[32mString\u001b[0m = \u001b[32m\"COUNTERP_NPERS_ESTATE\"\u001b[0m"
      ]
     },
     "metadata": {},
     "output_type": "display_data"
    }
   ],
   "source": [
    "tst0._1"
   ]
  },
  {
   "cell_type": "code",
   "execution_count": 30,
   "metadata": {
    "collapsed": false
   },
   "outputs": [
    {
     "data": {
      "text/plain": [
       "\u001b[36mres29\u001b[0m: \u001b[32mString\u001b[0m = \u001b[32m\"EDW_PREDDS\"\u001b[0m"
      ]
     },
     "metadata": {},
     "output_type": "display_data"
    }
   ],
   "source": [
    "tst0 match {\n",
    "    case prod @ s if s._1.contains(\"d\") || s._1.contains(\"fs\") => s._3 + \"_PROD\"\n",
    "    case dont_touch_it @ s if s._2.contains(\"Target\") => s._3\n",
    "    case other => \"OTHER\"\n",
    "}"
   ]
  },
  {
   "cell_type": "code",
   "execution_count": 31,
   "metadata": {
    "collapsed": false
   },
   "outputs": [
    {
     "data": {
      "text/plain": [
       "\u001b[36mtmp\u001b[0m: \u001b[32mString\u001b[0m = \u001b[32m\"gdgdf\"\u001b[0m"
      ]
     },
     "metadata": {},
     "output_type": "display_data"
    }
   ],
   "source": [
    "val tmp = \"gdgdf\""
   ]
  },
  {
   "cell_type": "code",
   "execution_count": 32,
   "metadata": {
    "collapsed": false
   },
   "outputs": [
    {
     "name": "stdout",
     "output_type": "stream",
     "text": [
      "(COUNTERP_NPERS_ESTATE,Target Definition,EDW_PREDDS)\n",
      "(HYPO_FORMS,Source Definition,EDW_ETL_PROD)\n",
      "(SQ_HYPO_FORMS,Source Qualifier,EDW_ETL_PROD)\n",
      "(SCORING_FORMS,Source Definition,EDW_IDMAP_PROD)\n",
      "(SQ_SCORING_FORMS,Source Qualifier,EDW_XREFMAP_PROD)\n",
      "(mp_xREFMAP_ESTATE_OBTAIN_TYPE.LKP_IDMAP_XREF_ESTATE_OBTAIN_TYPE,Lookup Procedure,EDW_IDMAP_PROD)\n",
      "(mp_xREFMAP_ESTATE_OBTAIN_TYPE.LKP_XREFMAP_ESTATE_OBTAIN_TYPE,Lookup Procedure,EDW_IDMAP_PROD)\n",
      "(mp_IDMAP_ORPHAN_XREF_ESTATE_TYPE.LKP_IDMAP_XREF_ESTATE_TYPE,Lookup Procedure,EDW_IDMAP_PROD)\n",
      "(mp_IDMAP_ORPHAN_ESTATE_RK.LKP_IDMAP_COUNTERPARTY,Lookup Procedure,EDW_ETL)\n",
      "(mp_IDMAP_ORPHAN_COUNTRP_NAT_PERS_RK.LKP_IDMAP_COUNTERPARTY,Lookup Procedure,EDW_ETL)\n"
     ]
    },
    {
     "data": {
      "text/plain": []
     },
     "metadata": {},
     "output_type": "display_data"
    }
   ],
   "source": [
    "tstflat.foreach(_ match {\n",
    "    case dont_touch_it @ s if s._2.contains(\"Target\") || ((s._1.contains(\"COUNTERPARTY\") || s._1.contains(\"EMPLOYEE\") || s._1.contains(\"QUEST\") || s._1.contains(\"AGREEM\")) && s._1.contains(\"IDMAP\") && !s._1.contains(\"REF\")) || (s._3.contains(\"TDS\") && !s._1.contains(\"SQ\")) => println(s._1, s._2, s._3)\n",
    "    case prod @ s => println(s._1, s._2, s._3 + \"_PROD\")\n",
    "})"
   ]
  },
  {
   "cell_type": "code",
   "execution_count": null,
   "metadata": {
    "collapsed": true
   },
   "outputs": [],
   "source": [
    "object t1 extends RewriteRule {\n",
    "  override def transform(n: Node): Seq[Node] = n match {\n",
    "    case Elem(prefix, \"version\", attribs, scope, _*)  =>\n",
    "      Elem(prefix, \"version\", attribs, scope, Text(\"jh882\"))\n",
    "    case other => other\n",
    "  }\n",
    "}"
   ]
  },
  {
   "cell_type": "code",
   "execution_count": null,
   "metadata": {
    "collapsed": true
   },
   "outputs": [],
   "source": [
    "object rt1 extends RuleTransformer(t1)"
   ]
  },
  {
   "cell_type": "code",
   "execution_count": null,
   "metadata": {
    "collapsed": true
   },
   "outputs": [],
   "source": [
    "object t3 extends RewriteRule {\n",
    "  override def transform(n: Node): Seq[Node] = n match {\n",
    "    case Elem(prefix, \"name\", attribs, scope, _*)  =>\n",
    "      Elem(prefix, \"name\", attribs, scope, Text(\"MMM\"))\n",
    "    case other => other\n",
    "  }\n",
    "}"
   ]
  },
  {
   "cell_type": "code",
   "execution_count": null,
   "metadata": {
    "collapsed": true
   },
   "outputs": [],
   "source": [
    "object rt3 extends RuleTransformer(t3)"
   ]
  },
  {
   "cell_type": "code",
   "execution_count": null,
   "metadata": {
    "collapsed": true
   },
   "outputs": [],
   "source": [
    "object t2 extends RewriteRule {\n",
    "  override def transform(n: Node): Seq[Node] = n match {\n",
    "    case an @ Elem(_, \"subnode\", _, _, _*) => rt1(an)\n",
    "    case sn @ Elem(_, \"contents\", _, _, _*) => rt3(sn)\n",
    "    case other => other\n",
    "  }\n",
    "}"
   ]
  },
  {
   "cell_type": "code",
   "execution_count": null,
   "metadata": {
    "collapsed": true
   },
   "outputs": [],
   "source": [
    "object rt2 extends RuleTransformer(t2)"
   ]
  },
  {
   "cell_type": "code",
   "execution_count": null,
   "metadata": {
    "collapsed": true
   },
   "outputs": [],
   "source": [
    "rt2(InputXml)"
   ]
  },
  {
   "cell_type": "code",
   "execution_count": 360,
   "metadata": {
    "collapsed": false
   },
   "outputs": [
    {
     "data": {
      "text/plain": [
       "\u001b[36mres316\u001b[0m: \u001b[32mNode\u001b[0m = \u001b[33mElem\u001b[0m(\n",
       "  <contents>\n",
       "        <version>1</version>\n",
       "        <name>KKK</name>\n",
       "    </contents>\n",
       ")"
      ]
     },
     "metadata": {},
     "output_type": "display_data"
    }
   ],
   "source": [
    "InputXml.child(3)"
   ]
  },
  {
   "cell_type": "code",
   "execution_count": 354,
   "metadata": {
    "collapsed": false
   },
   "outputs": [
    {
     "name": "stdout",
     "output_type": "stream",
     "text": [
      "fds\n"
     ]
    },
    {
     "data": {
      "text/plain": []
     },
     "metadata": {},
     "output_type": "display_data"
    }
   ],
   "source": [
    "InputXml.child(3) match {\n",
    "    case Elem(_, \"contents\", _, _, _*) => println(\"fds\")\n",
    "    case other => println(\"111\")\n",
    "}"
   ]
  },
  {
   "cell_type": "code",
   "execution_count": 379,
   "metadata": {
    "collapsed": false
   },
   "outputs": [
    {
     "name": "stdout",
     "output_type": "stream",
     "text": [
      "111\r\n"
     ]
    },
    {
     "data": {
      "text/plain": []
     },
     "metadata": {},
     "output_type": "display_data"
    }
   ],
   "source": [
    "InputXml.child(3) match {\n",
    "    case <contents>{v}</contents> if v.toString contains \"version\" => println(v.text)\n",
    "    case other => println(\"111\")\n",
    "}"
   ]
  },
  {
   "cell_type": "code",
   "execution_count": 380,
   "metadata": {
    "collapsed": false
   },
   "outputs": [
    {
     "data": {
      "text/plain": [
       "\u001b[36mres335\u001b[0m: \u001b[32mString\u001b[0m = \u001b[32m\"\"\"\n",
       "<contents>\n",
       "        <version>1</version>\n",
       "        <name>KKK</name>\n",
       "    </contents>\n",
       "\"\"\"\u001b[0m"
      ]
     },
     "metadata": {},
     "output_type": "display_data"
    }
   ],
   "source": [
    "InputXml.child(3).toString"
   ]
  },
  {
   "cell_type": "code",
   "execution_count": 417,
   "metadata": {
    "collapsed": false
   },
   "outputs": [
    {
     "data": {
      "text/plain": [
       "\u001b[36mxmltstnew\u001b[0m: \u001b[32mElem\u001b[0m = \u001b[33mElem\u001b[0m(\n",
       "  <dependency>\n",
       "<params>\n",
       "<groupId>foo</groupId>\n",
       "<artifactId>bar</artifactId>\n",
       "<version name=\"1\" prefix=\"5\"></version>\n",
       "</params>\n",
       "</dependency>\n",
       ")"
      ]
     },
     "metadata": {},
     "output_type": "display_data"
    }
   ],
   "source": [
    "val xmltstnew = <dependency>\n",
    "<params>\n",
    "<groupId>foo</groupId>\n",
    "<artifactId>bar</artifactId>\n",
    "<version name=\"1\" prefix=\"5\"></version>\n",
    "</params>\n",
    "</dependency>"
   ]
  },
  {
   "cell_type": "code",
   "execution_count": 418,
   "metadata": {
    "collapsed": false
   },
   "outputs": [
    {
     "data": {
      "text/plain": [
       "\u001b[36mres370\u001b[0m: \u001b[32mSeq\u001b[0m[\u001b[32mNode\u001b[0m] = \u001b[33mElem\u001b[0m(\n",
       "  <dependency>\n",
       "<params>\n",
       "<groupId>foo</groupId>\n",
       "<artifactId>bar</artifactId>\n",
       "<version name=\"1\" prefix=\"5\"></version>\n",
       "</params>\n",
       "</dependency>\n",
       ")"
      ]
     },
     "metadata": {},
     "output_type": "display_data"
    }
   ],
   "source": [
    "new scala.xml.transform.RewriteRule {\n",
    "  override def transform(n: Node): Seq[Node] = n match {\n",
    "    case <version>{v}</version> if v.text contains \"SNAPSHOT\" => <version>{v.text.split(\"-\")(0)}</version>\n",
    "    case elem: Elem => elem copy (child = elem.child flatMap (this transform))\n",
    "    case other => other\n",
    "  }\n",
    "} transform xmltstnew"
   ]
  },
  {
   "cell_type": "code",
   "execution_count": 419,
   "metadata": {
    "collapsed": false
   },
   "outputs": [
    {
     "data": {
      "text/plain": [
       "defined \u001b[32mobject \u001b[36mtrans1\u001b[0m"
      ]
     },
     "metadata": {},
     "output_type": "display_data"
    }
   ],
   "source": [
    "object trans1 extends RewriteRule {\n",
    "  override def transform(n: Node): Seq[Node] = n match {\n",
    "    case <version>{v}</version> if v.text contains \"SNAPSHOT\" => <version>{\"ololo\"}</version>\n",
    "    case other => other\n",
    "  }\n",
    "}"
   ]
  },
  {
   "cell_type": "code",
   "execution_count": 420,
   "metadata": {
    "collapsed": false
   },
   "outputs": [
    {
     "data": {
      "text/plain": [
       "defined \u001b[32mobject \u001b[36mruletrans1\u001b[0m"
      ]
     },
     "metadata": {},
     "output_type": "display_data"
    }
   ],
   "source": [
    "object ruletrans1 extends RuleTransformer(trans1)"
   ]
  },
  {
   "cell_type": "code",
   "execution_count": 421,
   "metadata": {
    "collapsed": false
   },
   "outputs": [
    {
     "data": {
      "text/plain": [
       "\u001b[36mres373\u001b[0m: \u001b[32mNode\u001b[0m = \u001b[33mElem\u001b[0m(\n",
       "  <dependency>\n",
       "<params>\n",
       "<groupId>foo</groupId>\n",
       "<artifactId>bar</artifactId>\n",
       "<version name=\"1\" prefix=\"5\"></version>\n",
       "</params>\n",
       "</dependency>\n",
       ")"
      ]
     },
     "metadata": {},
     "output_type": "display_data"
    }
   ],
   "source": [
    "ruletrans1(xmltstnew)"
   ]
  },
  {
   "cell_type": "code",
   "execution_count": 453,
   "metadata": {
    "collapsed": false
   },
   "outputs": [
    {
     "data": {
      "text/plain": [
       "\u001b[36mres400\u001b[0m: \u001b[32mOption\u001b[0m[\u001b[32mSeq\u001b[0m[\u001b[32mNode\u001b[0m]] = Some(5)"
      ]
     },
     "metadata": {},
     "output_type": "display_data"
    }
   ],
   "source": [
    "xmltstnew.child(1).child(5).attribute(\"prefix\")"
   ]
  },
  {
   "cell_type": "code",
   "execution_count": 5,
   "metadata": {
    "collapsed": false
   },
   "outputs": [
    {
     "data": {
      "text/plain": [
       "\u001b[36mxml1\u001b[0m: \u001b[32mElem\u001b[0m = \u001b[33mElem\u001b[0m(<a><b attr1=\"100\" attr2=\"50\"></b></a>)"
      ]
     },
     "metadata": {},
     "output_type": "display_data"
    }
   ],
   "source": [
    "val xml1 = <a><b attr1=\"100\" attr2=\"50\"></b></a>"
   ]
  },
  {
   "cell_type": "code",
   "execution_count": 6,
   "metadata": {
    "collapsed": false
   },
   "outputs": [
    {
     "data": {
      "text/plain": [
       "\u001b[36mrule1\u001b[0m: \u001b[32mRewriteRule\u001b[0m = <function1>"
      ]
     },
     "metadata": {},
     "output_type": "display_data"
    }
   ],
   "source": [
    "val rule1 = new RewriteRule {\n",
    "  override def transform(n: Node) = n match {\n",
    "    case e @ <b>{_*}</b> => e.asInstanceOf[Elem] % \n",
    "      Attribute(null, \"attr1\", \"200\", \n",
    "      Attribute(null, \"attr2\", \"100\", Null))\n",
    "    case _ => n \n",
    "  }\n",
    "}"
   ]
  },
  {
   "cell_type": "code",
   "execution_count": 484,
   "metadata": {
    "collapsed": false
   },
   "outputs": [
    {
     "data": {
      "text/plain": [
       "\u001b[36mres483\u001b[0m: \u001b[32mAttribute\u001b[0m = \u001b[33mUnprefixedAttribute\u001b[0m( attr1=\"200\" attr2=\"100\",  attr2=\"100\")"
      ]
     },
     "metadata": {},
     "output_type": "display_data"
    }
   ],
   "source": [
    "Attribute(null, \"attr1\", \"200\", Attribute(null, \"attr2\", \"100\", Null))"
   ]
  },
  {
   "cell_type": "code",
   "execution_count": 7,
   "metadata": {
    "collapsed": false
   },
   "outputs": [
    {
     "data": {
      "text/plain": [
       "\u001b[36mxml2\u001b[0m: \u001b[32mSeq\u001b[0m[\u001b[32mNode\u001b[0m] = \u001b[33mElem\u001b[0m(<a><b attr2=\"100\" attr1=\"200\"></b></a>)"
      ]
     },
     "metadata": {},
     "output_type": "display_data"
    }
   ],
   "source": [
    "val xml2 = new RuleTransformer(rule1).transform(xml1)"
   ]
  },
  {
   "cell_type": "code",
   "execution_count": 30,
   "metadata": {
    "collapsed": false
   },
   "outputs": [
    {
     "data": {
      "text/plain": [
       "\u001b[36mres19\u001b[0m: \u001b[32mString\u001b[0m = \u001b[32m\"Some(50)\"\u001b[0m"
      ]
     },
     "metadata": {},
     "output_type": "display_data"
    }
   ],
   "source": [
    "xml1.child(0).attribute(\"attr2\").toString"
   ]
  },
  {
   "cell_type": "code",
   "execution_count": 17,
   "metadata": {
    "collapsed": false
   },
   "outputs": [
    {
     "data": {
      "text/plain": [
       "\u001b[36mres12\u001b[0m: \u001b[32mOption\u001b[0m[\u001b[32mSeq\u001b[0m[\u001b[32mNode\u001b[0m]] = Some(100)"
      ]
     },
     "metadata": {},
     "output_type": "display_data"
    }
   ],
   "source": []
  },
  {
   "cell_type": "code",
   "execution_count": 30,
   "metadata": {
    "collapsed": false
   },
   "outputs": [
    {
     "ename": "",
     "evalue": "",
     "output_type": "error",
     "traceback": [
      "SyntaxError: found \"e.attribute(\\\"attr1\\\")\", expected \"(\" in",
      "    case e @ <b>{_*}</b> => if e.attribute(\"attr1\").toString.contains(\"50\") e.asInstanceOf[Elem] % ",
      "                               ^"
     ]
    }
   ],
   "source": [
    "val rule1 = new RewriteRule {\n",
    "  override def transform(n: Node) = n match {\n",
    "    case e @ <b>{_*}</b> => if e.attribute(\"attr1\").toString.contains(\"50\") e.asInstanceOf[Elem] % \n",
    "      Attribute(null, \"attr1\", \"200\", \n",
    "      Attribute(null, \"attr2\", \"100\", Null))\n",
    "    case _ => n \n",
    "  }\n",
    "}"
   ]
  },
  {
   "cell_type": "code",
   "execution_count": 287,
   "metadata": {
    "collapsed": false
   },
   "outputs": [
    {
     "data": {
      "text/plain": [
       "defined \u001b[32mclass \u001b[36mGenAttr\u001b[0m"
      ]
     },
     "metadata": {},
     "output_type": "display_data"
    }
   ],
   "source": [
    "case class GenAttr(pre: Option[String], \n",
    "                   key: String, \n",
    "                   value: Seq[Node], \n",
    "                   next: MetaData) {\n",
    "  def toMetaData = Attribute(pre, key, value, next)\n",
    "}"
   ]
  },
  {
   "cell_type": "code",
   "execution_count": 288,
   "metadata": {
    "collapsed": false
   },
   "outputs": [
    {
     "data": {
      "text/plain": [
       "defined \u001b[32mfunction \u001b[36mdecomposeMetaData\u001b[0m"
      ]
     },
     "metadata": {},
     "output_type": "display_data"
    }
   ],
   "source": [
    "def decomposeMetaData(m: MetaData): Option[GenAttr] = m match {\n",
    "  case Null => None\n",
    "  case PrefixedAttribute(pre, key, value, next) => \n",
    "    Some(GenAttr(Some(pre), key, value, next))\n",
    "  case UnprefixedAttribute(key, value, next) => \n",
    "    Some(GenAttr(None, key, value, next))\n",
    "}"
   ]
  },
  {
   "cell_type": "code",
   "execution_count": 289,
   "metadata": {
    "collapsed": false
   },
   "outputs": [
    {
     "data": {
      "text/plain": [
       "defined \u001b[32mfunction \u001b[36munchainMetaData\u001b[0m"
      ]
     },
     "metadata": {},
     "output_type": "display_data"
    }
   ],
   "source": [
    "def unchainMetaData(m: MetaData): Iterable[GenAttr] = \n",
    "  m.flatMap(decomposeMetaData).toList.reverse"
   ]
  },
  {
   "cell_type": "code",
   "execution_count": 290,
   "metadata": {
    "collapsed": false
   },
   "outputs": [
    {
     "data": {
      "text/plain": [
       "\u001b[36mattribs\u001b[0m: \u001b[32mSet\u001b[0m[\u001b[32mString\u001b[0m] = \u001b[33mSet\u001b[0m(\u001b[32m\"attr1\"\u001b[0m, \u001b[32m\"attr2\"\u001b[0m)"
      ]
     },
     "metadata": {},
     "output_type": "display_data"
    }
   ],
   "source": [
    "val attribs = Set(\"attr1\", \"attr2\")"
   ]
  },
  {
   "cell_type": "code",
   "execution_count": 291,
   "metadata": {
    "collapsed": false
   },
   "outputs": [
    {
     "data": {
      "text/plain": [
       "defined \u001b[32mfunction \u001b[36mdoubleValues\u001b[0m"
      ]
     },
     "metadata": {},
     "output_type": "display_data"
    }
   ],
   "source": [
    "def doubleValues(l: Iterable[GenAttr]) = l map {\n",
    "  case g @ GenAttr(_, _, Text(v), _) if v matches \"\\\\d+\" => \n",
    "    g.copy(value = Text(v.toInt * 2 toString))\n",
    "  case other => other\n",
    "}"
   ]
  },
  {
   "cell_type": "code",
   "execution_count": 292,
   "metadata": {
    "collapsed": false
   },
   "outputs": [
    {
     "data": {
      "text/plain": [
       "defined \u001b[32mfunction \u001b[36mchainMetaData\u001b[0m"
      ]
     },
     "metadata": {},
     "output_type": "display_data"
    }
   ],
   "source": [
    "def chainMetaData(l: Iterable[GenAttr]): MetaData = l match {\n",
    "  case Nil => Null\n",
    "  case head :: tail => head.copy(next = chainMetaData(tail)).toMetaData\n",
    "}"
   ]
  },
  {
   "cell_type": "code",
   "execution_count": 293,
   "metadata": {
    "collapsed": false
   },
   "outputs": [
    {
     "data": {
      "text/plain": [
       "defined \u001b[32mfunction \u001b[36mmapMetaData\u001b[0m"
      ]
     },
     "metadata": {},
     "output_type": "display_data"
    }
   ],
   "source": [
    "def mapMetaData(m: MetaData)(f: GenAttr => GenAttr): MetaData = \n",
    "  chainMetaData(unchainMetaData(m).map(f))"
   ]
  },
  {
   "cell_type": "code",
   "execution_count": 294,
   "metadata": {
    "collapsed": false
   },
   "outputs": [
    {
     "data": {
      "text/plain": [
       "\u001b[36mrr\u001b[0m: \u001b[32mRewriteRule\u001b[0m = <function1>"
      ]
     },
     "metadata": {},
     "output_type": "display_data"
    }
   ],
   "source": [
    "val rr = new RewriteRule {\n",
    "  override def transform(n: Node): Seq[Node] = (n match {\n",
    "    case e: Elem =>\n",
    "      e.copy(attributes = mapMetaData(e.attributes) {\n",
    "        case g @ GenAttr(_, key, Text(v), _) if attribs contains key =>\n",
    "          g.copy(value = Text(v.toInt * 2 toString))\n",
    "        case other => other\n",
    "      })\n",
    "    case other => other\n",
    "  }).toSeq\n",
    "}"
   ]
  },
  {
   "cell_type": "code",
   "execution_count": 295,
   "metadata": {
    "collapsed": false
   },
   "outputs": [
    {
     "data": {
      "text/plain": [
       "\u001b[36mrt\u001b[0m: \u001b[32mRuleTransformer\u001b[0m = <function1>"
      ]
     },
     "metadata": {},
     "output_type": "display_data"
    }
   ],
   "source": [
    "val rt = new RuleTransformer(rr)"
   ]
  },
  {
   "cell_type": "code",
   "execution_count": 296,
   "metadata": {
    "collapsed": false
   },
   "outputs": [
    {
     "data": {
      "text/plain": [
       "\u001b[36melem\u001b[0m: \u001b[32mElem\u001b[0m = \u001b[33mElem\u001b[0m(<b attr1=\"100\" attr2=\"50\"/>)"
      ]
     },
     "metadata": {},
     "output_type": "display_data"
    }
   ],
   "source": [
    "val elem = <b attr1 = \"100\" attr2 = \"50\"/>"
   ]
  },
  {
   "cell_type": "code",
   "execution_count": 458,
   "metadata": {
    "collapsed": false
   },
   "outputs": [
    {
     "data": {
      "text/plain": [
       "defined \u001b[32mfunction \u001b[36maddGoodCopyToAttribute\u001b[0m"
      ]
     },
     "metadata": {},
     "output_type": "display_data"
    }
   ],
   "source": [
    "implicit def addGoodCopyToAttribute(attr: Attribute) = new {\n",
    "  def goodcopy(key: String = attr.key, value: Any = attr.value): Attribute =\n",
    "    Attribute(attr.pre, key, Text(value.toString), attr.next)\n",
    "}"
   ]
  },
  {
   "cell_type": "code",
   "execution_count": 459,
   "metadata": {
    "collapsed": false
   },
   "outputs": [
    {
     "data": {
      "text/plain": [
       "defined \u001b[32mfunction \u001b[36miterableToMetaData\u001b[0m"
      ]
     },
     "metadata": {},
     "output_type": "display_data"
    }
   ],
   "source": [
    "implicit def iterableToMetaData(items: Iterable[MetaData]): MetaData = {\n",
    "  items match {\n",
    "    case Nil => Null\n",
    "    case head :: tail => head.copy(next=iterableToMetaData(tail))\n",
    "  }\n",
    "}"
   ]
  },
  {
   "cell_type": "code",
   "execution_count": 460,
   "metadata": {
    "collapsed": false
   },
   "outputs": [
    {
     "data": {
      "text/plain": [
       "\u001b[36mres459\u001b[0m: \u001b[32mElem\u001b[0m = \u001b[33mElem\u001b[0m(<b attr1=\"200\" attr2=\"-50\"/>)"
      ]
     },
     "metadata": {},
     "output_type": "display_data"
    }
   ],
   "source": [
    "elem.copy(attributes=\n",
    "   for (attr <- elem.attributes) yield attr match {\n",
    "     case attr @ Attribute(\"attr1\", _, _) =>\n",
    "       attr.goodcopy(value=attr.value.text.toInt * 2)\n",
    "     case attr @ Attribute(\"attr2\", _, _) =>\n",
    "       attr.goodcopy(value=attr.value.text.toInt * -1)\n",
    "     case other => other\n",
    "   }\n",
    " )"
   ]
  },
  {
   "cell_type": "code",
   "execution_count": 47,
   "metadata": {
    "collapsed": false
   },
   "outputs": [
    {
     "data": {
      "text/plain": [
       "\u001b[36mres34\u001b[0m: \u001b[32mElem\u001b[0m = \u001b[33mElem\u001b[0m(<b attr1=\"200\" attr2=\"-50\"/>)"
      ]
     },
     "metadata": {},
     "output_type": "display_data"
    }
   ],
   "source": [
    "elem.copy(attributes=\n",
    "   for (attr <- elem.attributes) yield attr match {\n",
    "     case attr@Attribute(\"attr1\", _, _) =>\n",
    "       attr.goodcopy(value=attr.value.text.toInt * 2)\n",
    "     case attr@Attribute(\"attr2\", _, _) =>\n",
    "       attr.goodcopy(value=attr.value.text.toInt * -1)\n",
    "     case other => other\n",
    "   }\n",
    " )"
   ]
  },
  {
   "cell_type": "code",
   "execution_count": 50,
   "metadata": {
    "collapsed": false
   },
   "outputs": [
    {
     "data": {
      "text/plain": [
       "\u001b[36mxml\u001b[0m: \u001b[32mElem\u001b[0m = \u001b[33mElem\u001b[0m(\n",
       "  <POWERMART REPOSITORY_VERSION=\"182.91\" CREATION_DATE=\"04/27/2016 11:58:38\">\n",
       "<REPOSITORY DATABASETYPE=\"Oracle\" CODEPAGE=\"MS1251\" VERSION=\"182\" NAME=\"RS_TST\">\n",
       "<FOLDER UUID=\"d318e01d-c840-4918-a8c9-969f0504dfc1\" PERMISSIONS=\"rwx---r--\" DESCRIPTION=\"\" SHARED=\"NOTSHARED\" OWNER=\"Administrator\" GROUP=\"\" NAME=\"EDW_PREDDS_001\">\n",
       "    <TASK VERSIONNUMBER=\"1\" TYPE=\"Command\" REUSABLE=\"YES\" NAME=\"cmd_ETLFW_START_JOB\" DESCRIPTION=\"Команда для запуска процесса управления Джобами PREDDS\">\n",
       "        <ATTRIBUTE VALUE=\"YES\" NAME=\"Fail task if any command fails\"/>\n",
       "        <ATTRIBUTE VALUE=\"Restart task\" NAME=\"Recovery Strategy\"/>\n",
       "        <VALUEPAIR VALUE=\" python /home/etl/etlfw/startjob.py  $PMFolderName $PMWorkflowName $PMRootDir/ParamFiles/EDW_PREDDS_001.$PMWorkflowName.prm $PMWorkflowRunId $PMIntegrationServiceName\" REVERSEASSIGNMENT=\"NO\" NAME=\"ETLFW Start Job wf_STG_CDC_002_ACNT_CONTRACT\" EXECORDER=\"1\"/>\n",
       "    </TASK>\n",
       "    <TASK VERSIONNUMBER=\"1\" TYPE=\"Command\" REUSABLE=\"YES\" NAME=\"cmd_ETLFW_FINISH_JOB\" DESCRIPTION=\"Команда для завершения процесса управления Джобами PREDDS\">\n",
       "\u001b[33m...\u001b[0m"
      ]
     },
     "metadata": {},
     "output_type": "display_data"
    }
   ],
   "source": [
    "val xml = scala.xml.XML.loadFile(\"C:\\\\Users\\\\Andrey.Zheltov\\\\Downloads\\\\wf_PREDDS_001_APP_ADD_ATTR_com.XML\")"
   ]
  },
  {
   "cell_type": "code",
   "execution_count": 51,
   "metadata": {
    "collapsed": false
   },
   "outputs": [
    {
     "data": {
      "text/plain": [
       "\u001b[36mres38\u001b[0m: \u001b[32mElem\u001b[0m = \u001b[33mElem\u001b[0m(\n",
       "  <POWERMART REPOSITORY_VERSION=\"182.91\" CREATION_DATE=\"04/27/2016 11:58:38\">\n",
       "<REPOSITORY DATABASETYPE=\"Oracle\" CODEPAGE=\"MS1251\" VERSION=\"182\" NAME=\"RS_TST\">\n",
       "<FOLDER UUID=\"d318e01d-c840-4918-a8c9-969f0504dfc1\" PERMISSIONS=\"rwx---r--\" DESCRIPTION=\"\" SHARED=\"NOTSHARED\" OWNER=\"Administrator\" GROUP=\"\" NAME=\"EDW_PREDDS_001\">\n",
       "    <TASK VERSIONNUMBER=\"1\" TYPE=\"Command\" REUSABLE=\"YES\" NAME=\"cmd_ETLFW_START_JOB\" DESCRIPTION=\"Команда для запуска процесса управления Джобами PREDDS\">\n",
       "        <ATTRIBUTE VALUE=\"YES\" NAME=\"Fail task if any command fails\"/>\n",
       "        <ATTRIBUTE VALUE=\"Restart task\" NAME=\"Recovery Strategy\"/>\n",
       "        <VALUEPAIR VALUE=\" python /home/etl/etlfw/startjob.py  $PMFolderName $PMWorkflowName $PMRootDir/ParamFiles/EDW_PREDDS_001.$PMWorkflowName.prm $PMWorkflowRunId $PMIntegrationServiceName\" REVERSEASSIGNMENT=\"NO\" NAME=\"ETLFW Start Job wf_STG_CDC_002_ACNT_CONTRACT\" EXECORDER=\"1\"/>\n",
       "    </TASK>\n",
       "    <TASK VERSIONNUMBER=\"1\" TYPE=\"Command\" REUSABLE=\"YES\" NAME=\"cmd_ETLFW_FINISH_JOB\" DESCRIPTION=\"Команда для завершения процесса управления Джобами PREDDS\">\n",
       "\u001b[33m...\u001b[0m"
      ]
     },
     "metadata": {},
     "output_type": "display_data"
    }
   ],
   "source": [
    "xml.copy(attributes=\n",
    "   for (attr <- xml.attributes) yield attr match {\n",
    "     case attr@Attribute(\"attr1\", _, _) =>\n",
    "       attr.goodcopy(value=attr.value.text.toInt * 2)\n",
    "     case attr@Attribute(\"attr2\", _, _) =>\n",
    "       attr.goodcopy(value=attr.value.text.toInt * -1)\n",
    "     case other => other\n",
    "   }\n",
    " )"
   ]
  },
  {
   "cell_type": "code",
   "execution_count": 52,
   "metadata": {
    "collapsed": false
   },
   "outputs": [
    {
     "data": {
      "text/plain": [
       "\u001b[36mres39\u001b[0m: \u001b[32mElem\u001b[0m = \u001b[33mElem\u001b[0m(\n",
       "  <POWERMART REPOSITORY_VERSION=\"182.91\" CREATION_DATE=\"04/27/2016 11:58:38\">\n",
       "<REPOSITORY DATABASETYPE=\"Oracle\" CODEPAGE=\"MS1251\" VERSION=\"182\" NAME=\"RS_TST\">\n",
       "<FOLDER UUID=\"d318e01d-c840-4918-a8c9-969f0504dfc1\" PERMISSIONS=\"rwx---r--\" DESCRIPTION=\"\" SHARED=\"NOTSHARED\" OWNER=\"Administrator\" GROUP=\"\" NAME=\"EDW_PREDDS_001\">\n",
       "    <TASK VERSIONNUMBER=\"1\" TYPE=\"Command\" REUSABLE=\"YES\" NAME=\"cmd_ETLFW_START_JOB\" DESCRIPTION=\"Команда для запуска процесса управления Джобами PREDDS\">\n",
       "        <ATTRIBUTE VALUE=\"YES\" NAME=\"Fail task if any command fails\"/>\n",
       "        <ATTRIBUTE VALUE=\"Restart task\" NAME=\"Recovery Strategy\"/>\n",
       "        <VALUEPAIR VALUE=\" python /home/etl/etlfw/startjob.py  $PMFolderName $PMWorkflowName $PMRootDir/ParamFiles/EDW_PREDDS_001.$PMWorkflowName.prm $PMWorkflowRunId $PMIntegrationServiceName\" REVERSEASSIGNMENT=\"NO\" NAME=\"ETLFW Start Job wf_STG_CDC_002_ACNT_CONTRACT\" EXECORDER=\"1\"/>\n",
       "    </TASK>\n",
       "    <TASK VERSIONNUMBER=\"1\" TYPE=\"Command\" REUSABLE=\"YES\" NAME=\"cmd_ETLFW_FINISH_JOB\" DESCRIPTION=\"Команда для завершения процесса управления Джобами PREDDS\">\n",
       "\u001b[33m...\u001b[0m"
      ]
     },
     "metadata": {},
     "output_type": "display_data"
    }
   ],
   "source": [
    "xml"
   ]
  },
  {
   "cell_type": "code",
   "execution_count": 33,
   "metadata": {
    "collapsed": false
   },
   "outputs": [
    {
     "data": {
      "text/plain": [
       "\u001b[36melem\u001b[0m: \u001b[32mElem\u001b[0m = \u001b[33mElem\u001b[0m(<a><b attr1=\"100\" attr2=\"50\"/><c attr1=\"300\" attr2=\"900\"/></a>)"
      ]
     },
     "metadata": {},
     "output_type": "display_data"
    }
   ],
   "source": [
    "val elem = <a><b attr1 = \"100\" attr2 = \"50\"/><c attr1 = \"300\" attr2 = \"900\" /></a>"
   ]
  },
  {
   "cell_type": "code",
   "execution_count": 34,
   "metadata": {
    "collapsed": false
   },
   "outputs": [
    {
     "data": {
      "text/plain": [
       "\u001b[36mres33\u001b[0m: \u001b[32mElem\u001b[0m = \u001b[33mElem\u001b[0m(<a><b attr1=\"100\" attr2=\"50\"/><c attr1=\"300\" attr2=\"900\"/></a>)"
      ]
     },
     "metadata": {},
     "output_type": "display_data"
    }
   ],
   "source": [
    "elem"
   ]
  },
  {
   "cell_type": "code",
   "execution_count": 37,
   "metadata": {
    "collapsed": false
   },
   "outputs": [
    {
     "data": {
      "text/plain": [
       "\u001b[36mres36\u001b[0m: \u001b[32mSeq\u001b[0m[\u001b[32mNode\u001b[0m] = \u001b[33mArrayBuffer\u001b[0m(<b attr1=\"100\" attr2=\"50\"/>, <c attr1=\"300\" attr2=\"900\"/>)"
      ]
     },
     "metadata": {},
     "output_type": "display_data"
    }
   ],
   "source": [
    "elem.child"
   ]
  },
  {
   "cell_type": "code",
   "execution_count": 389,
   "metadata": {
    "collapsed": false
   },
   "outputs": [
    {
     "data": {
      "text/plain": [
       "\u001b[36mres388\u001b[0m: \u001b[32mNode\u001b[0m = \u001b[33mElem\u001b[0m(\n",
       "  <SESSTRANSFORMATIONINST TRANSFORMATIONTYPE=\"Lookup Procedure\" TRANSFORMATIONNAME=\"mp_xREFMAP_ESTATE_OBTAIN_TYPE.LKP_IDMAP_XREF_ESTATE_OBTAIN_TYPE\" STAGE=\"2\" SINSTANCENAME=\"mp_xREFMAP_ESTATE_OBTAIN_TYPE.LKP_IDMAP_XREF_ESTATE_OBTAIN_TYPE\" PIPELINE=\"3\" ISREPARTITIONPOINT=\"NO\">\n",
       "                <PARTITION NAME=\"Partition #1\" DESCRIPTION=\"\"/>\n",
       "                <ATTRIBUTE VALUE=\"Relational:EDW_IDMAP\" NAME=\"Connection Information\"/>\n",
       "            </SESSTRANSFORMATIONINST>\n",
       ")"
      ]
     },
     "metadata": {},
     "output_type": "display_data"
    }
   ],
   "source": [
    "xml.child(1).child(1).child(7).child(5).child(37)"
   ]
  },
  {
   "cell_type": "code",
   "execution_count": 185,
   "metadata": {
    "collapsed": false
   },
   "outputs": [
    {
     "data": {
      "text/plain": [
       "\u001b[36mres184\u001b[0m: \u001b[32mElem\u001b[0m = \u001b[33mElem\u001b[0m(\n",
       "  <POWERMART CREATION_DATE=\"05/02/2016 16:58:35\" REPOSITORY_VERSION=\"182.91\">\n",
       "<REPOSITORY DATABASETYPE=\"Oracle\" CODEPAGE=\"MS1251\" VERSION=\"182\" NAME=\"RS_TST\">\n",
       "<FOLDER UUID=\"d318e01d-c840-4918-a8c9-969f0504dfc1\" PERMISSIONS=\"rwx---r--\" DESCRIPTION=\"\" SHARED=\"NOTSHARED\" OWNER=\"Administrator\" GROUP=\"\" NAME=\"EDW_PREDDS_001\">\n",
       "    <TASK VERSIONNUMBER=\"1\" TYPE=\"Command\" REUSABLE=\"YES\" NAME=\"cmd_ETLFW_START_JOB\" DESCRIPTION=\"РљРѕРјР°РЅРґР° РґР»СЏ Р·Р°РїСѓСЃРєР° РїСЂРѕС†РµСЃСЃР° СѓРїСЂР°РІР»РµРЅРёСЏ Р”Р¶РѕР±Р°РјРё PREDDS\">\n",
       "        <ATTRIBUTE VALUE=\"YES\" NAME=\"Fail task if any command fails\"/>\n",
       "        <ATTRIBUTE VALUE=\"Restart task\" NAME=\"Recovery Strategy\"/>\n",
       "        <VALUEPAIR VALUE=\" python /home/etl/etlfw/startjob.py  $PMFolderName $PMWorkflowName $PMRootDir/ParamFiles/EDW_PREDDS_001.$PMWorkflowName.prm $PMWorkflowRunId $PMIntegrationServiceName\" REVERSEASSIGNMENT=\"NO\" NAME=\"ETLFW Start Job wf_STG_CDC_002_ACNT_CONTRACT\" EXECORDER=\"1\"/>\n",
       "    </TASK>\n",
       "    <TASK VERSIONNUMBER=\"1\" TYPE=\"Command\" REUSABLE=\"YES\" NAME=\"cmd_ETLFW_FINISH_JOB\" DESCRIPTION=\"РљРѕРјР°РЅРґР° РґР»СЏ Р·Р°РІРµСЂС€РµРЅРёСЏ РїСЂРѕС†РµСЃСЃР° СѓРїСЂР°РІР»РµРЅРёСЏ Р”Р¶РѕР±Р°РјРё PREDDS\">\n",
       "        <ATTRIBUTE VALUE=\"YES\" NAME=\"Fail task if any command fails\"/>\n",
       "\u001b[33m...\u001b[0m"
      ]
     },
     "metadata": {},
     "output_type": "display_data"
    }
   ],
   "source": [
    "xml % xml.attributes"
   ]
  },
  {
   "cell_type": "code",
   "execution_count": 186,
   "metadata": {
    "collapsed": false
   },
   "outputs": [
    {
     "data": {
      "text/plain": [
       "\u001b[36mres185\u001b[0m: \u001b[32mMetaData\u001b[0m = \u001b[33mUnprefixedAttribute\u001b[0m(\n",
       "   REPOSITORY_VERSION=\"182.91\" CREATION_DATE=\"05/02/2016 16:58:35\",\n",
       "   CREATION_DATE=\"05/02/2016 16:58:35\"\n",
       ")"
      ]
     },
     "metadata": {},
     "output_type": "display_data"
    }
   ],
   "source": [
    "xml.attributes"
   ]
  },
  {
   "cell_type": "code",
   "execution_count": 192,
   "metadata": {
    "collapsed": false
   },
   "outputs": [
    {
     "data": {
      "text/plain": [
       "\u001b[36mres191\u001b[0m: \u001b[32mElem\u001b[0m = \u001b[33mElem\u001b[0m(\n",
       "  <fds REPOSITORY_VERSION=\"182.91\" CREATION_DATE=\"05/02/2016 16:58:35\">\n",
       "<REPOSITORY DATABASETYPE=\"Oracle\" CODEPAGE=\"MS1251\" VERSION=\"182\" NAME=\"RS_TST\">\n",
       "<FOLDER UUID=\"d318e01d-c840-4918-a8c9-969f0504dfc1\" PERMISSIONS=\"rwx---r--\" DESCRIPTION=\"\" SHARED=\"NOTSHARED\" OWNER=\"Administrator\" GROUP=\"\" NAME=\"EDW_PREDDS_001\">\n",
       "    <TASK VERSIONNUMBER=\"1\" TYPE=\"Command\" REUSABLE=\"YES\" NAME=\"cmd_ETLFW_START_JOB\" DESCRIPTION=\"РљРѕРјР°РЅРґР° РґР»СЏ Р·Р°РїСѓСЃРєР° РїСЂРѕС†РµСЃСЃР° СѓРїСЂР°РІР»РµРЅРёСЏ Р”Р¶РѕР±Р°РјРё PREDDS\">\n",
       "        <ATTRIBUTE VALUE=\"YES\" NAME=\"Fail task if any command fails\"/>\n",
       "        <ATTRIBUTE VALUE=\"Restart task\" NAME=\"Recovery Strategy\"/>\n",
       "        <VALUEPAIR VALUE=\" python /home/etl/etlfw/startjob.py  $PMFolderName $PMWorkflowName $PMRootDir/ParamFiles/EDW_PREDDS_001.$PMWorkflowName.prm $PMWorkflowRunId $PMIntegrationServiceName\" REVERSEASSIGNMENT=\"NO\" NAME=\"ETLFW Start Job wf_STG_CDC_002_ACNT_CONTRACT\" EXECORDER=\"1\"/>\n",
       "    </TASK>\n",
       "    <TASK VERSIONNUMBER=\"1\" TYPE=\"Command\" REUSABLE=\"YES\" NAME=\"cmd_ETLFW_FINISH_JOB\" DESCRIPTION=\"РљРѕРјР°РЅРґР° РґР»СЏ Р·Р°РІРµСЂС€РµРЅРёСЏ РїСЂРѕС†РµСЃСЃР° СѓРїСЂР°РІР»РµРЅРёСЏ Р”Р¶РѕР±Р°РјРё PREDDS\">\n",
       "        <ATTRIBUTE VALUE=\"YES\" NAME=\"Fail task if any command fails\"/>\n",
       "\u001b[33m...\u001b[0m"
      ]
     },
     "metadata": {},
     "output_type": "display_data"
    }
   ],
   "source": [
    "xml.copy(label = \"fds\")"
   ]
  },
  {
   "cell_type": "code",
   "execution_count": 193,
   "metadata": {
    "collapsed": false
   },
   "outputs": [
    {
     "data": {
      "text/plain": [
       "\u001b[36mres192\u001b[0m: \u001b[32mElem\u001b[0m = \u001b[33mElem\u001b[0m(\n",
       "  <POWERMART REPOSITORY_VERSION=\"182.91\" CREATION_DATE=\"05/02/2016 16:58:35\">\n",
       "<REPOSITORY DATABASETYPE=\"Oracle\" CODEPAGE=\"MS1251\" VERSION=\"182\" NAME=\"RS_TST\">\n",
       "<FOLDER UUID=\"d318e01d-c840-4918-a8c9-969f0504dfc1\" PERMISSIONS=\"rwx---r--\" DESCRIPTION=\"\" SHARED=\"NOTSHARED\" OWNER=\"Administrator\" GROUP=\"\" NAME=\"EDW_PREDDS_001\">\n",
       "    <TASK VERSIONNUMBER=\"1\" TYPE=\"Command\" REUSABLE=\"YES\" NAME=\"cmd_ETLFW_START_JOB\" DESCRIPTION=\"РљРѕРјР°РЅРґР° РґР»СЏ Р·Р°РїСѓСЃРєР° РїСЂРѕС†РµСЃСЃР° СѓРїСЂР°РІР»РµРЅРёСЏ Р”Р¶РѕР±Р°РјРё PREDDS\">\n",
       "        <ATTRIBUTE VALUE=\"YES\" NAME=\"Fail task if any command fails\"/>\n",
       "        <ATTRIBUTE VALUE=\"Restart task\" NAME=\"Recovery Strategy\"/>\n",
       "        <VALUEPAIR VALUE=\" python /home/etl/etlfw/startjob.py  $PMFolderName $PMWorkflowName $PMRootDir/ParamFiles/EDW_PREDDS_001.$PMWorkflowName.prm $PMWorkflowRunId $PMIntegrationServiceName\" REVERSEASSIGNMENT=\"NO\" NAME=\"ETLFW Start Job wf_STG_CDC_002_ACNT_CONTRACT\" EXECORDER=\"1\"/>\n",
       "    </TASK>\n",
       "    <TASK VERSIONNUMBER=\"1\" TYPE=\"Command\" REUSABLE=\"YES\" NAME=\"cmd_ETLFW_FINISH_JOB\" DESCRIPTION=\"РљРѕРјР°РЅРґР° РґР»СЏ Р·Р°РІРµСЂС€РµРЅРёСЏ РїСЂРѕС†РµСЃСЃР° СѓРїСЂР°РІР»РµРЅРёСЏ Р”Р¶РѕР±Р°РјРё PREDDS\">\n",
       "        <ATTRIBUTE VALUE=\"YES\" NAME=\"Fail task if any command fails\"/>\n",
       "\u001b[33m...\u001b[0m"
      ]
     },
     "metadata": {},
     "output_type": "display_data"
    }
   ],
   "source": [
    "xml"
   ]
  },
  {
   "cell_type": "code",
   "execution_count": 360,
   "metadata": {
    "collapsed": false
   },
   "outputs": [
    {
     "data": {
      "text/plain": [
       "\u001b[36mres359\u001b[0m: \u001b[32mSeq\u001b[0m[\u001b[32mNode\u001b[0m] = \u001b[33mList\u001b[0m(\n",
       "  \n",
       "                ,\n",
       "  <CONNECTIONREFERENCE VARIABLE=\"\" CONNECTIONTYPE=\"Relational\" CONNECTIONSUBTYPE=\"Oracle\" CONNECTIONNUMBER=\"1\" CONNECTIONNAME=\"EDW_ETL\" CNXREFNAME=\"DB Connection\"/>,\n",
       "  \n",
       "            \n",
       ")"
      ]
     },
     "metadata": {},
     "output_type": "display_data"
    }
   ],
   "source": [
    "(xml \\\\ \"SESSIONEXTENSION\")(4).child"
   ]
  },
  {
   "cell_type": "code",
   "execution_count": 361,
   "metadata": {
    "collapsed": false
   },
   "outputs": [
    {
     "data": {
      "text/plain": [
       "defined \u001b[32mclass \u001b[36mGenAttr\u001b[0m"
      ]
     },
     "metadata": {},
     "output_type": "display_data"
    }
   ],
   "source": [
    "case class GenAttr(pre: Option[String], \n",
    "                   key: String, \n",
    "                   value: Seq[Node], \n",
    "                   next: MetaData) {\n",
    "  def toMetaData = Attribute(pre, key, value, next)\n",
    "}"
   ]
  },
  {
   "cell_type": "code",
   "execution_count": 362,
   "metadata": {
    "collapsed": false
   },
   "outputs": [
    {
     "data": {
      "text/plain": [
       "defined \u001b[32mfunction \u001b[36mdecomposeMetaData\u001b[0m"
      ]
     },
     "metadata": {},
     "output_type": "display_data"
    }
   ],
   "source": [
    "def decomposeMetaData(m: MetaData): Option[GenAttr] = m match {\n",
    "  case Null => None\n",
    "  case PrefixedAttribute(pre, key, value, next) => \n",
    "    Some(GenAttr(Some(pre), key, value, next))\n",
    "  case UnprefixedAttribute(key, value, next) => \n",
    "    Some(GenAttr(None, key, value, next))\n",
    "}"
   ]
  },
  {
   "cell_type": "code",
   "execution_count": 199,
   "metadata": {
    "collapsed": false
   },
   "outputs": [
    {
     "data": {
      "text/plain": [
       "defined \u001b[32mfunction \u001b[36munchainMetaData\u001b[0m"
      ]
     },
     "metadata": {},
     "output_type": "display_data"
    }
   ],
   "source": [
    "def unchainMetaData(m: MetaData): Iterable[GenAttr] = \n",
    "  m.flatMap (decomposeMetaData).toList.reverse"
   ]
  },
  {
   "cell_type": "code",
   "execution_count": 200,
   "metadata": {
    "collapsed": false
   },
   "outputs": [
    {
     "data": {
      "text/plain": [
       "defined \u001b[32mfunction \u001b[36mchainMetaData\u001b[0m"
      ]
     },
     "metadata": {},
     "output_type": "display_data"
    }
   ],
   "source": [
    "def chainMetaData(l: Iterable[GenAttr]): MetaData = l match {\n",
    "  case Nil => Null\n",
    "  case head :: tail => head.copy(next = chainMetaData(tail)).toMetaData\n",
    "}"
   ]
  },
  {
   "cell_type": "code",
   "execution_count": 201,
   "metadata": {
    "collapsed": false
   },
   "outputs": [
    {
     "data": {
      "text/plain": [
       "defined \u001b[32mfunction \u001b[36mmapMetaData\u001b[0m"
      ]
     },
     "metadata": {},
     "output_type": "display_data"
    }
   ],
   "source": [
    "def mapMetaData(m: MetaData)(f: GenAttr => GenAttr): MetaData = \n",
    "  chainMetaData(unchainMetaData(m).map(f))"
   ]
  },
  {
   "cell_type": "code",
   "execution_count": 202,
   "metadata": {
    "collapsed": false
   },
   "outputs": [
    {
     "data": {
      "text/plain": [
       "\u001b[36mres184\u001b[0m: \u001b[32mIterable\u001b[0m[\u001b[32mGenAttr\u001b[0m] = \u001b[33mList\u001b[0m(\n",
       "  \u001b[33mGenAttr\u001b[0m(None, \u001b[32m\"CREATION_DATE\"\u001b[0m, \u001b[33mText\u001b[0m(05/02/2016 16:58:35), \u001b[33mNull\u001b[0m()),\n",
       "  \u001b[33mGenAttr\u001b[0m(\n",
       "    None,\n",
       "    \u001b[32m\"REPOSITORY_VERSION\"\u001b[0m,\n",
       "    \u001b[33mText\u001b[0m(182.91),\n",
       "    \u001b[33mUnprefixedAttribute\u001b[0m( CREATION_DATE=\"05/02/2016 16:58:35\")\n",
       "  )\n",
       ")"
      ]
     },
     "metadata": {},
     "output_type": "display_data"
    }
   ],
   "source": [
    "unchainMetaData(xml.attributes)"
   ]
  },
  {
   "cell_type": "code",
   "execution_count": 203,
   "metadata": {
    "collapsed": false
   },
   "outputs": [
    {
     "data": {
      "text/plain": [
       "\u001b[36mres185\u001b[0m: \u001b[32mOption\u001b[0m[\u001b[32mGenAttr\u001b[0m] = Some(GenAttr(None,REPOSITORY_VERSION,182.91, CREATION_DATE=\"05/02/2016 16:58:35\"))"
      ]
     },
     "metadata": {},
     "output_type": "display_data"
    }
   ],
   "source": [
    "decomposeMetaData(xml.attributes)"
   ]
  },
  {
   "cell_type": "code",
   "execution_count": 204,
   "metadata": {
    "collapsed": false
   },
   "outputs": [
    {
     "data": {
      "text/plain": [
       "\u001b[36mres186\u001b[0m: \u001b[32mMetaData\u001b[0m = \u001b[33mUnprefixedAttribute\u001b[0m(\n",
       "   CREATION_DATE=\"05/02/2016 16:58:35\" REPOSITORY_VERSION=\"182.91\",\n",
       "   REPOSITORY_VERSION=\"182.91\"\n",
       ")"
      ]
     },
     "metadata": {},
     "output_type": "display_data"
    }
   ],
   "source": [
    "chainMetaData(unchainMetaData(xml.attributes))"
   ]
  },
  {
   "cell_type": "code",
   "execution_count": 205,
   "metadata": {
    "collapsed": false
   },
   "outputs": [
    {
     "data": {
      "text/plain": [
       "\u001b[36mres187\u001b[0m: \u001b[32mMetaData\u001b[0m = \u001b[33mUnprefixedAttribute\u001b[0m(\n",
       "   CREATION_DATE=\"05/02/2016 16:58:35\" REPOSITORY_VERSION=\"365.82\",\n",
       "   REPOSITORY_VERSION=\"365.82\"\n",
       ")"
      ]
     },
     "metadata": {},
     "output_type": "display_data"
    }
   ],
   "source": [
    "mapMetaData(xml.attributes) {\n",
    "        case g @ GenAttr(_, key, Text(v), _) if Set(\"REPOSITORY_VERSION\",\"attr2\") contains key =>\n",
    "          g.copy(value = Text(v.toDouble * 2 toString))\n",
    "        case other => other\n",
    "      }"
   ]
  },
  {
   "cell_type": "code",
   "execution_count": 206,
   "metadata": {
    "collapsed": false
   },
   "outputs": [
    {
     "data": {
      "text/plain": [
       "\u001b[36mres188\u001b[0m: \u001b[32mString\u001b[0m = \u001b[32m\"SESSTRANSFORMATIONINST\"\u001b[0m"
      ]
     },
     "metadata": {},
     "output_type": "display_data"
    }
   ],
   "source": [
    "xml.child(1).child(1).child(7).child(5).child(37).label"
   ]
  },
  {
   "cell_type": "code",
   "execution_count": 207,
   "metadata": {
    "collapsed": false
   },
   "outputs": [
    {
     "data": {
      "text/plain": [
       "\u001b[36mres189\u001b[0m: \u001b[32mString\u001b[0m = \u001b[32m\"TRANSFORMATIONTYPE\"\u001b[0m"
      ]
     },
     "metadata": {},
     "output_type": "display_data"
    }
   ],
   "source": [
    "xml.child(1).child(1).child(7).child(5).child(37).attributes.key"
   ]
  },
  {
   "cell_type": "code",
   "execution_count": 208,
   "metadata": {
    "collapsed": false
   },
   "outputs": [
    {
     "data": {
      "text/plain": [
       "\u001b[36mres190\u001b[0m: \u001b[32mMetaData\u001b[0m = \u001b[33mUnprefixedAttribute\u001b[0m(\n",
       "   ISREPARTITIONPOINT=\"NO\" PIPELINE=\"3\" SINSTANCENAME=\"mp_xREFMAP_ESTATE_OBTAIN_TYPE.LKP_IDMAP_XREF_ESTATE_OBTAIN_TYPE\" STAGE=\"2\" TRANSFORMATIONNAME=\"mp_xREFMAP_ESTATE_OBTAIN_TYPE.LKP_IDMAP_XREF_ESTATE_OBTAIN_TYPE\" TRANSFORMATIONTYPE=\"Lookup Procedure\",\n",
       "   PIPELINE=\"3\" SINSTANCENAME=\"mp_xREFMAP_ESTATE_OBTAIN_TYPE.LKP_IDMAP_XREF_ESTATE_OBTAIN_TYPE\" STAGE=\"2\" TRANSFORMATIONNAME=\"mp_xREFMAP_ESTATE_OBTAIN_TYPE.LKP_IDMAP_XREF_ESTATE_OBTAIN_TYPE\" TRANSFORMATIONTYPE=\"Lookup Procedure\",\n",
       "   SINSTANCENAME=\"mp_xREFMAP_ESTATE_OBTAIN_TYPE.LKP_IDMAP_XREF_ESTATE_OBTAIN_TYPE\" STAGE=\"2\" TRANSFORMATIONNAME=\"mp_xREFMAP_ESTATE_OBTAIN_TYPE.LKP_IDMAP_XREF_ESTATE_OBTAIN_TYPE\" TRANSFORMATIONTYPE=\"Lookup Procedure\",\n",
       "   STAGE=\"2\" TRANSFORMATIONNAME=\"mp_xREFMAP_ESTATE_OBTAIN_TYPE.LKP_IDMAP_XREF_ESTATE_OBTAIN_TYPE\" TRANSFORMATIONTYPE=\"Lookup Procedure\",\n",
       "   TRANSFORMATIONNAME=\"mp_xREFMAP_ESTATE_OBTAIN_TYPE.LKP_IDMAP_XREF_ESTATE_OBTAIN_TYPE\" TRANSFORMATIONTYPE=\"Lookup Procedure\",\n",
       "   TRANSFORMATIONTYPE=\"Lookup Procedure\"\n",
       "\u001b[33m...\u001b[0m"
      ]
     },
     "metadata": {},
     "output_type": "display_data"
    }
   ],
   "source": [
    "mapMetaData(xml.child(1).child(1).child(7).child(5).child(37).attributes) {\n",
    "        case g @ GenAttr(_, key, Text(v), _) if Set(\"REPOSITORY_VERSION\",\"attr2\") contains key =>\n",
    "          g.copy(value = Text(v.toDouble * 2 toString))\n",
    "        case other => other\n",
    "      }"
   ]
  },
  {
   "cell_type": "code",
   "execution_count": 393,
   "metadata": {
    "collapsed": false
   },
   "outputs": [
    {
     "data": {
      "text/plain": [
       "\u001b[36mres392\u001b[0m: \u001b[32mMetaData\u001b[0m = \u001b[33mUnprefixedAttribute\u001b[0m(\n",
       "   TRANSFORMATIONTYPE=\"Lookup Procedure\" TRANSFORMATIONNAME=\"mp_xREFMAP_ESTATE_OBTAIN_TYPE.LKP_IDMAP_XREF_ESTATE_OBTAIN_TYPE\" STAGE=\"2\" SINSTANCENAME=\"mp_xREFMAP_ESTATE_OBTAIN_TYPE.LKP_IDMAP_XREF_ESTATE_OBTAIN_TYPE\" PIPELINE=\"3\" ISREPARTITIONPOINT=\"NO\",\n",
       "   TRANSFORMATIONNAME=\"mp_xREFMAP_ESTATE_OBTAIN_TYPE.LKP_IDMAP_XREF_ESTATE_OBTAIN_TYPE\" STAGE=\"2\" SINSTANCENAME=\"mp_xREFMAP_ESTATE_OBTAIN_TYPE.LKP_IDMAP_XREF_ESTATE_OBTAIN_TYPE\" PIPELINE=\"3\" ISREPARTITIONPOINT=\"NO\",\n",
       "   STAGE=\"2\" SINSTANCENAME=\"mp_xREFMAP_ESTATE_OBTAIN_TYPE.LKP_IDMAP_XREF_ESTATE_OBTAIN_TYPE\" PIPELINE=\"3\" ISREPARTITIONPOINT=\"NO\",\n",
       "   SINSTANCENAME=\"mp_xREFMAP_ESTATE_OBTAIN_TYPE.LKP_IDMAP_XREF_ESTATE_OBTAIN_TYPE\" PIPELINE=\"3\" ISREPARTITIONPOINT=\"NO\",\n",
       "   PIPELINE=\"3\" ISREPARTITIONPOINT=\"NO\",\n",
       "   ISREPARTITIONPOINT=\"NO\"\n",
       ")"
      ]
     },
     "metadata": {},
     "output_type": "display_data"
    }
   ],
   "source": [
    "mapMetaData(xml.child(1).child(1).child(7).child(5).child(37).attributes) {\n",
    "        case g @ GenAttr(_, key, Text(v), _) if Set(\"REPOSITORY_VERSION\",\"attr2\") contains key =>\n",
    "          g.copy(value = Text(v.toDouble * 2 toString))\n",
    "        case other => other\n",
    "      }"
   ]
  },
  {
   "cell_type": "code",
   "execution_count": 419,
   "metadata": {
    "collapsed": false
   },
   "outputs": [
    {
     "data": {
      "text/plain": [
       "\u001b[36mres418\u001b[0m: \u001b[32mNode\u001b[0m = \u001b[33mElem\u001b[0m(\n",
       "  <SESSIONEXTENSION TYPE=\"WRITER\" TRANSFORMATIONTYPE=\"Target Definition\" SUBTYPE=\"Relational Writer\" SINSTANCENAME=\"COUNTERP_NPERS_ESTATE\" NAME=\"Relational Writer\">\n",
       "                <CONNECTIONREFERENCE VARIABLE=\"\" CONNECTIONTYPE=\"Relational\" CONNECTIONSUBTYPE=\"Oracle\" CONNECTIONNUMBER=\"1\" CONNECTIONNAME=\"EDW_PREDDS\" CNXREFNAME=\"DB Connection\"/>\n",
       "                <ATTRIBUTE VALUE=\"Bulk\" NAME=\"Target load type\"/>\n",
       "                <ATTRIBUTE VALUE=\"YES\" NAME=\"Insert\"/>\n",
       "                <ATTRIBUTE VALUE=\"YES\" NAME=\"Update as Update\"/>\n",
       "                <ATTRIBUTE VALUE=\"NO\" NAME=\"Update as Insert\"/>\n",
       "                <ATTRIBUTE VALUE=\"NO\" NAME=\"Update else Insert\"/>\n",
       "                <ATTRIBUTE VALUE=\"YES\" NAME=\"Delete\"/>\n",
       "                <ATTRIBUTE VALUE=\"NO\" NAME=\"Truncate target table option\"/>\n",
       "                <ATTRIBUTE VALUE=\"$PMBadFileDir\\\" NAME=\"Reject file directory\"/>\n",
       "                <ATTRIBUTE VALUE=\"counterp_npers_estate1.bad\" NAME=\"Reject filename\"/>\n",
       "            </SESSIONEXTENSION>\n",
       ")"
      ]
     },
     "metadata": {},
     "output_type": "display_data"
    }
   ],
   "source": [
    "xml.child(1).child(1).child(7).child(5).child(69)"
   ]
  },
  {
   "cell_type": "code",
   "execution_count": 396,
   "metadata": {
    "collapsed": false
   },
   "outputs": [
    {
     "data": {
      "text/plain": [
       "\u001b[36mres395\u001b[0m: \u001b[32mMap\u001b[0m[\u001b[32mString\u001b[0m, \u001b[32mString\u001b[0m] = \u001b[33mMap\u001b[0m(\n",
       "  \u001b[32m\"TRANSFORMATIONNAME\"\u001b[0m -> \u001b[32m\"mp_xREFMAP_ESTATE_OBTAIN_TYPE.LKP_IDMAP_XREF_ESTATE_OBTAIN_TYPE\"\u001b[0m,\n",
       "  \u001b[32m\"PIPELINE\"\u001b[0m -> \u001b[32m\"3\"\u001b[0m,\n",
       "  \u001b[32m\"SINSTANCENAME\"\u001b[0m -> \u001b[32m\"mp_xREFMAP_ESTATE_OBTAIN_TYPE.LKP_IDMAP_XREF_ESTATE_OBTAIN_TYPE\"\u001b[0m,\n",
       "  \u001b[32m\"TRANSFORMATIONTYPE\"\u001b[0m -> \u001b[32m\"Lookup Procedure\"\u001b[0m,\n",
       "  \u001b[32m\"ISREPARTITIONPOINT\"\u001b[0m -> \u001b[32m\"NO\"\u001b[0m,\n",
       "  \u001b[32m\"STAGE\"\u001b[0m -> \u001b[32m\"2\"\u001b[0m\n",
       ")"
      ]
     },
     "metadata": {},
     "output_type": "display_data"
    }
   ],
   "source": [
    "xml.child(1).child(1).child(7).child(5).child(37).attributes.asAttrMap"
   ]
  },
  {
   "cell_type": "code",
   "execution_count": 421,
   "metadata": {
    "collapsed": false
   },
   "outputs": [
    {
     "data": {
      "text/plain": [
       "\u001b[36mres420\u001b[0m: \u001b[32mString\u001b[0m = \u001b[32m\"COUNTERP_NPERS_ESTATE\"\u001b[0m"
      ]
     },
     "metadata": {},
     "output_type": "display_data"
    }
   ],
   "source": [
    "xml.child(1).child(1).child(7).child(5).child(69).attributes.asAttrMap(\"SINSTANCENAME\")"
   ]
  },
  {
   "cell_type": "code",
   "execution_count": 422,
   "metadata": {
    "collapsed": false
   },
   "outputs": [
    {
     "data": {
      "text/plain": [
       "\u001b[36mres421\u001b[0m: \u001b[32mString\u001b[0m = \u001b[32m\"Target Definition\"\u001b[0m"
      ]
     },
     "metadata": {},
     "output_type": "display_data"
    }
   ],
   "source": [
    "xml.child(1).child(1).child(7).child(5).child(69).attributes.asAttrMap(\"TRANSFORMATIONTYPE\")"
   ]
  },
  {
   "cell_type": "code",
   "execution_count": 423,
   "metadata": {
    "collapsed": false
   },
   "outputs": [
    {
     "data": {
      "text/plain": [
       "\u001b[36mres422\u001b[0m: \u001b[32mNodeSeq\u001b[0m = \u001b[33mNodeSeq\u001b[0m()"
      ]
     },
     "metadata": {},
     "output_type": "display_data"
    }
   ],
   "source": [
    "xml.child(1).child(1).child(7).child(5).child(69) \\\\ \"@CONNETCTIONNAME\""
   ]
  },
  {
   "cell_type": "code",
   "execution_count": 427,
   "metadata": {
    "collapsed": false
   },
   "outputs": [
    {
     "data": {
      "text/plain": [
       "\u001b[36mres426\u001b[0m: \u001b[32mMetaData\u001b[0m = \u001b[33mUnprefixedAttribute\u001b[0m(\n",
       "   VARIABLE=\"\" CONNECTIONTYPE=\"Relational\" CONNECTIONSUBTYPE=\"Oracle\" CONNECTIONNUMBER=\"1\" CONNECTIONNAME=\"EDW_PREDDS\" CNXREFNAME=\"DB Connection\",\n",
       "   CONNECTIONTYPE=\"Relational\" CONNECTIONSUBTYPE=\"Oracle\" CONNECTIONNUMBER=\"1\" CONNECTIONNAME=\"EDW_PREDDS\" CNXREFNAME=\"DB Connection\",\n",
       "   CONNECTIONSUBTYPE=\"Oracle\" CONNECTIONNUMBER=\"1\" CONNECTIONNAME=\"EDW_PREDDS\" CNXREFNAME=\"DB Connection\",\n",
       "   CONNECTIONNUMBER=\"1\" CONNECTIONNAME=\"EDW_PREDDS\" CNXREFNAME=\"DB Connection\",\n",
       "   CONNECTIONNAME=\"EDW_PREDDS\" CNXREFNAME=\"DB Connection\",\n",
       "   CNXREFNAME=\"DB Connection\"\n",
       ")"
      ]
     },
     "metadata": {},
     "output_type": "display_data"
    }
   ],
   "source": [
    "xml.child(1).child(1).child(7).child(5).child(69).child(1).attributes"
   ]
  },
  {
   "cell_type": "code",
   "execution_count": 431,
   "metadata": {
    "collapsed": false
   },
   "outputs": [
    {
     "data": {
      "text/plain": [
       "\u001b[36mres430\u001b[0m: \u001b[32mString\u001b[0m = null"
      ]
     },
     "metadata": {},
     "output_type": "display_data"
    }
   ],
   "source": [
    "xml.child(1).child(1).child(7).child(5).child(69).child(1).prefix"
   ]
  },
  {
   "cell_type": "code",
   "execution_count": 432,
   "metadata": {
    "collapsed": false
   },
   "outputs": [
    {
     "data": {
      "text/plain": [
       "\u001b[36mres431\u001b[0m: \u001b[32mString\u001b[0m = \u001b[32m\"CONNECTIONREFERENCE\"\u001b[0m"
      ]
     },
     "metadata": {},
     "output_type": "display_data"
    }
   ],
   "source": [
    "xml.child(1).child(1).child(7).child(5).child(69).child(1).label"
   ]
  },
  {
   "cell_type": "code",
   "execution_count": 433,
   "metadata": {
    "collapsed": false,
    "scrolled": true
   },
   "outputs": [
    {
     "data": {
      "text/plain": [
       "\u001b[36mres432\u001b[0m: \u001b[32mMetaData\u001b[0m = \u001b[33mUnprefixedAttribute\u001b[0m(\n",
       "   VARIABLE=\"\" CONNECTIONTYPE=\"Relational\" CONNECTIONSUBTYPE=\"Oracle\" CONNECTIONNUMBER=\"1\" CONNECTIONNAME=\"EDW_PREDDS\" CNXREFNAME=\"DB Connection\",\n",
       "   CONNECTIONTYPE=\"Relational\" CONNECTIONSUBTYPE=\"Oracle\" CONNECTIONNUMBER=\"1\" CONNECTIONNAME=\"EDW_PREDDS\" CNXREFNAME=\"DB Connection\",\n",
       "   CONNECTIONSUBTYPE=\"Oracle\" CONNECTIONNUMBER=\"1\" CONNECTIONNAME=\"EDW_PREDDS\" CNXREFNAME=\"DB Connection\",\n",
       "   CONNECTIONNUMBER=\"1\" CONNECTIONNAME=\"EDW_PREDDS\" CNXREFNAME=\"DB Connection\",\n",
       "   CONNECTIONNAME=\"EDW_PREDDS\" CNXREFNAME=\"DB Connection\",\n",
       "   CNXREFNAME=\"DB Connection\"\n",
       ")"
      ]
     },
     "metadata": {},
     "output_type": "display_data"
    }
   ],
   "source": [
    "xml.child(1).child(1).child(7).child(5).child(69).child(1).attributes"
   ]
  },
  {
   "cell_type": "code",
   "execution_count": 434,
   "metadata": {
    "collapsed": false
   },
   "outputs": [
    {
     "data": {
      "text/plain": [
       "\u001b[36mres433\u001b[0m: \u001b[32mNamespaceBinding\u001b[0m = "
      ]
     },
     "metadata": {},
     "output_type": "display_data"
    }
   ],
   "source": [
    "xml.child(1).child(1).child(7).child(5).child(69).child(1).scope"
   ]
  },
  {
   "cell_type": "code",
   "execution_count": 434,
   "metadata": {
    "collapsed": false
   },
   "outputs": [
    {
     "ename": "",
     "evalue": "",
     "output_type": "error",
     "traceback": [
      "\u001b[31mMain.scala:25: value minimizeEmpty is not a member of scala.xml.Node",
      "xml.child(1).child(1).child(7).child(5).child(69).child(1).minimizeEmpty",
      "                                                           ^\u001b[0m"
     ]
    }
   ],
   "source": [
    "xml.child(1).child(1).child(7).child(5).child(69).child(1)"
   ]
  },
  {
   "cell_type": "code",
   "execution_count": 449,
   "metadata": {
    "collapsed": false
   },
   "outputs": [
    {
     "ename": "",
     "evalue": "",
     "output_type": "error",
     "traceback": [
      "\u001b[31m<console>:1: ')' expected but identifier found.",
      "new Elem(prefix: String, label: String, attributes1: MetaData, scope: NamespaceBinding, minimizeEmpty: Boolean, child: Node*)",
      "                                                                                                                           ^\u001b[0m"
     ]
    }
   ],
   "source": [
    "new Elem(prefix: String, label: String, attributes1: MetaData, scope: NamespaceBinding, minimizeEmpty: Boolean, child: Node*) "
   ]
  },
  {
   "cell_type": "code",
   "execution_count": 456,
   "metadata": {
    "collapsed": true
   },
   "outputs": [
    {
     "ename": "",
     "evalue": "",
     "output_type": "error",
     "traceback": [
      "java.lang.reflect.InvocationTargetException",
      "  sun.reflect.NativeMethodAccessorImpl.invoke0(Native Method)",
      "  sun.reflect.NativeMethodAccessorImpl.invoke(NativeMethodAccessorImpl.java:62)",
      "  sun.reflect.DelegatingMethodAccessorImpl.invoke(DelegatingMethodAccessorImpl.java:43)",
      "  java.lang.reflect.Method.invoke(Method.java:498)",
      "  ammonite.Interpreter$$anonfun$evaluate$1$$anonfun$apply$9.apply(Interpreter.scala:325)",
      "  ammonite.Interpreter$.evaluating(Interpreter.scala:291)",
      "  ammonite.Interpreter$$anonfun$evaluate$1.apply(Interpreter.scala:325)",
      "  ammonite.Interpreter$$anonfun$evaluate$1.apply(Interpreter.scala:324)",
      "  ammonite.InterpreterAction$$anon$1.apply(Interpreter.scala:57)",
      "  ammonite.InterpreterAction$$anonfun$flatMap$1.apply(Interpreter.scala:44)",
      "  ammonite.InterpreterAction$$anonfun$flatMap$1.apply(Interpreter.scala:43)",
      "  ammonite.InterpreterAction$$anon$1.apply(Interpreter.scala:57)",
      "  ammonite.Interpreter$$anon$5$$anonfun$flatMap$5.apply(Interpreter.scala:303)",
      "  ammonite.Interpreter$$anon$5$$anonfun$flatMap$5.apply(Interpreter.scala:302)",
      "  ammonite.InterpreterAction$$anon$1.apply(Interpreter.scala:57)",
      "  ammonite.InterpreterAction$$anonfun$flatMap$1$$anonfun$apply$3.apply(Interpreter.scala:44)",
      "  ammonite.InterpreterAction$$anonfun$flatMap$1$$anonfun$apply$3.apply(Interpreter.scala:44)",
      "  scala.util.Either$RightProjection.flatMap(Either.scala:522)",
      "  ammonite.InterpreterAction$$anonfun$flatMap$1.apply(Interpreter.scala:44)",
      "  ammonite.InterpreterAction$$anonfun$flatMap$1.apply(Interpreter.scala:43)",
      "  ammonite.InterpreterAction$$anon$1.apply(Interpreter.scala:57)",
      "  ammonite.InterpreterAction$$anonfun$flatMap$1$$anonfun$apply$3.apply(Interpreter.scala:44)",
      "  ammonite.InterpreterAction$$anonfun$flatMap$1$$anonfun$apply$3.apply(Interpreter.scala:44)",
      "  scala.util.Either$RightProjection.flatMap(Either.scala:522)",
      "  ammonite.InterpreterAction$$anonfun$flatMap$1.apply(Interpreter.scala:44)",
      "  ammonite.InterpreterAction$$anonfun$flatMap$1.apply(Interpreter.scala:43)",
      "  ammonite.InterpreterAction$$anon$1.apply(Interpreter.scala:57)",
      "  ammonite.InterpreterAction$$anonfun$flatMap$1$$anonfun$apply$3.apply(Interpreter.scala:44)",
      "  ammonite.InterpreterAction$$anonfun$flatMap$1$$anonfun$apply$3.apply(Interpreter.scala:44)",
      "  scala.util.Either$RightProjection.flatMap(Either.scala:522)",
      "  ammonite.InterpreterAction$$anonfun$flatMap$1.apply(Interpreter.scala:44)",
      "  ammonite.InterpreterAction$$anonfun$flatMap$1.apply(Interpreter.scala:43)",
      "  ammonite.InterpreterAction$$anon$1.apply(Interpreter.scala:57)",
      "  ammonite.InterpreterAction$$anonfun$flatMap$1$$anonfun$apply$3.apply(Interpreter.scala:44)",
      "  ammonite.InterpreterAction$$anonfun$flatMap$1$$anonfun$apply$3.apply(Interpreter.scala:44)",
      "  scala.util.Either$RightProjection.flatMap(Either.scala:522)",
      "  ammonite.InterpreterAction$$anonfun$flatMap$1.apply(Interpreter.scala:44)",
      "  ammonite.InterpreterAction$$anonfun$flatMap$1.apply(Interpreter.scala:43)",
      "  ammonite.InterpreterAction$$anon$1.apply(Interpreter.scala:57)",
      "  ammonite.InterpreterAction$$anonfun$flatMap$1$$anonfun$apply$3.apply(Interpreter.scala:44)",
      "  ammonite.InterpreterAction$$anonfun$flatMap$1$$anonfun$apply$3.apply(Interpreter.scala:44)",
      "  scala.util.Either$RightProjection.flatMap(Either.scala:522)",
      "  ammonite.InterpreterAction$$anonfun$flatMap$1.apply(Interpreter.scala:44)",
      "  ammonite.InterpreterAction$$anonfun$flatMap$1.apply(Interpreter.scala:43)",
      "  ammonite.InterpreterAction$$anon$1.apply(Interpreter.scala:57)",
      "  ammonite.InterpreterAction$$anonfun$flatMap$1$$anonfun$apply$3.apply(Interpreter.scala:44)",
      "  ammonite.InterpreterAction$$anonfun$flatMap$1$$anonfun$apply$3.apply(Interpreter.scala:44)",
      "  scala.util.Either$RightProjection.flatMap(Either.scala:522)",
      "  ammonite.InterpreterAction$$anonfun$flatMap$1.apply(Interpreter.scala:44)",
      "  ammonite.InterpreterAction$$anonfun$flatMap$1.apply(Interpreter.scala:43)",
      "  ammonite.InterpreterAction$$anon$1.apply(Interpreter.scala:57)",
      "  ammonite.InterpreterAction$$anonfun$flatMap$1$$anonfun$apply$3.apply(Interpreter.scala:44)",
      "  ammonite.InterpreterAction$$anonfun$flatMap$1$$anonfun$apply$3.apply(Interpreter.scala:44)",
      "  scala.util.Either$RightProjection.flatMap(Either.scala:522)",
      "  ammonite.InterpreterAction$$anonfun$flatMap$1.apply(Interpreter.scala:44)",
      "  ammonite.InterpreterAction$$anonfun$flatMap$1.apply(Interpreter.scala:43)",
      "  ammonite.InterpreterAction$$anon$1.apply(Interpreter.scala:57)",
      "  ammonite.Interpreter$$anon$4$$anonfun$flatMap$4.apply(Interpreter.scala:246)",
      "  ammonite.Interpreter$$anon$4$$anonfun$flatMap$4.apply(Interpreter.scala:240)",
      "  ammonite.InterpreterAction$$anon$1.apply(Interpreter.scala:57)",
      "  ammonite.Interpreter$$anon$3$$anonfun$flatMap$3$$anonfun$apply$7.apply(Interpreter.scala:232)",
      "  ammonite.Interpreter$$anon$3$$anonfun$flatMap$3$$anonfun$apply$7.apply(Interpreter.scala:232)",
      "  ammonite.util.Capture$$anonfun$ammonite$util$Capture$$withErr$1.apply(Capture.scala:46)",
      "  scala.util.DynamicVariable.withValue(DynamicVariable.scala:58)",
      "  scala.Console$.withErr(Console.scala:80)",
      "  ammonite.util.Capture$.ammonite$util$Capture$$withErr(Capture.scala:42)",
      "  ammonite.util.Capture$$anonfun$3.apply(Capture.scala:59)",
      "  ammonite.util.Capture$$anonfun$withOut$1.apply(Capture.scala:37)",
      "  scala.util.DynamicVariable.withValue(DynamicVariable.scala:58)",
      "  scala.Console$.withOut(Console.scala:53)",
      "  ammonite.util.Capture$.withOut(Capture.scala:33)",
      "  ammonite.util.Capture$.withOutAndErr(Capture.scala:59)",
      "  ammonite.util.Capture$.apply(Capture.scala:106)",
      "  ammonite.Interpreter$$anon$3$$anonfun$flatMap$3.apply(Interpreter.scala:232)",
      "  ammonite.Interpreter$$anon$3$$anonfun$flatMap$3.apply(Interpreter.scala:231)",
      "  ammonite.InterpreterAction$$anon$1.apply(Interpreter.scala:57)",
      "  ammonite.InterpreterAction$$anonfun$flatMap$1$$anonfun$apply$3.apply(Interpreter.scala:44)",
      "  ammonite.InterpreterAction$$anonfun$flatMap$1$$anonfun$apply$3.apply(Interpreter.scala:44)",
      "  scala.util.Either$RightProjection.flatMap(Either.scala:522)",
      "  ammonite.InterpreterAction$$anonfun$flatMap$1.apply(Interpreter.scala:44)",
      "  ammonite.InterpreterAction$$anonfun$flatMap$1.apply(Interpreter.scala:43)",
      "  ammonite.InterpreterAction$$anon$1.apply(Interpreter.scala:57)",
      "  ammonite.Interpreter$$anon$2$$anonfun$flatMap$2.apply(Interpreter.scala:205)",
      "  ammonite.Interpreter$$anon$2$$anonfun$flatMap$2.apply(Interpreter.scala:204)",
      "  ammonite.InterpreterAction$$anon$1.apply(Interpreter.scala:57)",
      "  ammonite.InterpreterAction$$anonfun$flatMap$1.apply(Interpreter.scala:44)",
      "  ammonite.InterpreterAction$$anonfun$flatMap$1.apply(Interpreter.scala:43)",
      "  ammonite.InterpreterAction$$anon$1.apply(Interpreter.scala:57)",
      "  ammonite.InterpreterAction$$anonfun$flatMap$1$$anonfun$apply$3.apply(Interpreter.scala:44)",
      "  ammonite.InterpreterAction$$anonfun$flatMap$1$$anonfun$apply$3.apply(Interpreter.scala:44)",
      "  scala.util.Either$RightProjection.flatMap(Either.scala:522)",
      "  ammonite.InterpreterAction$$anonfun$flatMap$1.apply(Interpreter.scala:44)",
      "  ammonite.InterpreterAction$$anonfun$flatMap$1.apply(Interpreter.scala:43)",
      "  ammonite.InterpreterAction$$anon$1.apply(Interpreter.scala:57)",
      "  jupyter.scala.ScalaInterpreter$$anon$2.interpret(ScalaInterpreter.scala:218)",
      "  jupyter.kernel.interpreter.InterpreterHandler$$anonfun$execute$1$$anonfun$apply$6.apply(InterpreterHandler.scala:118)",
      "  jupyter.kernel.interpreter.InterpreterHandler$$anonfun$execute$1$$anonfun$apply$6.apply(InterpreterHandler.scala:100)",
      "  jupyter.kernel.interpreter.InterpreterHandler$$anonfun$jupyter$kernel$interpreter$InterpreterHandler$$publishing$1$$anonfun$2.apply(InterpreterHandler.scala:68)",
      "  jupyter.kernel.interpreter.InterpreterHandler$$anonfun$jupyter$kernel$interpreter$InterpreterHandler$$publishing$1$$anonfun$2.apply(InterpreterHandler.scala:68)",
      "  scalaz.concurrent.Task$.Try(Task.scala:386)",
      "  scalaz.concurrent.Task$$anonfun$unsafeStart$1.apply(Task.scala:295)",
      "  scalaz.concurrent.Task$$anonfun$unsafeStart$1.apply(Task.scala:295)",
      "  scalaz.concurrent.Future$$anonfun$apply$15$$anon$4.call(Future.scala:380)",
      "  scalaz.concurrent.Future$$anonfun$apply$15$$anon$4.call(Future.scala:380)",
      "  java.util.concurrent.FutureTask.run(FutureTask.java:266)",
      "  java.util.concurrent.ThreadPoolExecutor.runWorker(ThreadPoolExecutor.java:1142)",
      "  java.util.concurrent.ThreadPoolExecutor$Worker.run(ThreadPoolExecutor.java:617)",
      "  java.lang.Thread.run(Thread.java:745)",
      "java.lang.NullPointerException",
      "  scala.xml.Utility$.isAtomAndNotText(Utility.scala:36)",
      "  scala.xml.Utility$$anonfun$sequenceToXML$1.apply(Utility.scala:256)",
      "  scala.xml.Utility$$anonfun$sequenceToXML$1.apply(Utility.scala:256)",
      "  scala.collection.IndexedSeqOptimized$class.prefixLengthImpl(IndexedSeqOptimized.scala:38)",
      "  scala.collection.IndexedSeqOptimized$class.forall(IndexedSeqOptimized.scala:43)",
      "  scala.collection.mutable.WrappedArray.forall(WrappedArray.scala:35)",
      "  scala.xml.Utility$.sequenceToXML(Utility.scala:256)",
      "  scala.xml.Utility$.serialize(Utility.scala:237)",
      "  scala.xml.Node.buildString(Node.scala:165)",
      "  scala.xml.Node.toString(Node.scala:170)",
      "  pprint.PPrinter$$anonfun$Literal$1.apply(PPrint.scala:125)",
      "  pprint.PPrinter$$anonfun$Literal$1.apply(PPrint.scala:125)",
      "  pprint.PPrinter$$anon$4.render0(PPrint.scala:116)",
      "  pprint.PPrinter$class.render(PPrint.scala:102)",
      "  pprint.PPrinter$$anon$4.render(PPrint.scala:113)",
      "  pprint.Internals$$anonfun$collectionRepr$1$$anonfun$cFunc$1$1$$anonfun$apply$9.apply(PPrint.scala:292)",
      "  pprint.Internals$$anonfun$collectionRepr$1$$anonfun$cFunc$1$1$$anonfun$apply$9.apply(PPrint.scala:292)",
      "  scala.collection.Iterator$$anon$11.next(Iterator.scala:409)",
      "  scala.collection.Iterator$$anon$12.nextCur(Iterator.scala:434)",
      "  scala.collection.Iterator$$anon$12.hasNext(Iterator.scala:440)",
      "  scala.collection.Iterator$class.toStream(Iterator.scala:1322)",
      "  scala.collection.AbstractIterator.toStream(Iterator.scala:1336)",
      "  pprint.Internals$.handleChunks(PPrint.scala:325)",
      "  pprint.Internals$$anonfun$collectionRepr$1.apply(PPrint.scala:296)",
      "  pprint.Internals$$anonfun$collectionRepr$1.apply(PPrint.scala:291)",
      "  pprint.PPrinter$$anon$4.render0(PPrint.scala:116)",
      "  pprint.PPrinter$class.render(PPrint.scala:102)",
      "  pprint.PPrinter$$anon$4.render(PPrint.scala:113)",
      "  pprint.PPrint$$anon$3.render(PPrint.scala:62)",
      "  jupyter.scala.APIImpl.printValue(APIImpl.scala:96)",
      "  cmd455$Main$.$main(Main.scala:1056)",
      "  cmd455$Main.$main(Main.scala)",
      "  sun.reflect.NativeMethodAccessorImpl.invoke0(Native Method)",
      "  sun.reflect.NativeMethodAccessorImpl.invoke(NativeMethodAccessorImpl.java:62)",
      "  sun.reflect.DelegatingMethodAccessorImpl.invoke(DelegatingMethodAccessorImpl.java:43)",
      "  java.lang.reflect.Method.invoke(Method.java:498)",
      "  ammonite.Interpreter$$anonfun$evaluate$1$$anonfun$apply$9.apply(Interpreter.scala:325)",
      "  ammonite.Interpreter$.evaluating(Interpreter.scala:291)",
      "  ammonite.Interpreter$$anonfun$evaluate$1.apply(Interpreter.scala:325)",
      "  ammonite.Interpreter$$anonfun$evaluate$1.apply(Interpreter.scala:324)",
      "  ammonite.InterpreterAction$$anon$1.apply(Interpreter.scala:57)",
      "  ammonite.InterpreterAction$$anonfun$flatMap$1.apply(Interpreter.scala:44)",
      "  ammonite.InterpreterAction$$anonfun$flatMap$1.apply(Interpreter.scala:43)",
      "  ammonite.InterpreterAction$$anon$1.apply(Interpreter.scala:57)",
      "  ammonite.Interpreter$$anon$5$$anonfun$flatMap$5.apply(Interpreter.scala:303)",
      "  ammonite.Interpreter$$anon$5$$anonfun$flatMap$5.apply(Interpreter.scala:302)",
      "  ammonite.InterpreterAction$$anon$1.apply(Interpreter.scala:57)",
      "  ammonite.InterpreterAction$$anonfun$flatMap$1$$anonfun$apply$3.apply(Interpreter.scala:44)",
      "  ammonite.InterpreterAction$$anonfun$flatMap$1$$anonfun$apply$3.apply(Interpreter.scala:44)",
      "  scala.util.Either$RightProjection.flatMap(Either.scala:522)",
      "  ammonite.InterpreterAction$$anonfun$flatMap$1.apply(Interpreter.scala:44)",
      "  ammonite.InterpreterAction$$anonfun$flatMap$1.apply(Interpreter.scala:43)",
      "  ammonite.InterpreterAction$$anon$1.apply(Interpreter.scala:57)",
      "  ammonite.InterpreterAction$$anonfun$flatMap$1$$anonfun$apply$3.apply(Interpreter.scala:44)",
      "  ammonite.InterpreterAction$$anonfun$flatMap$1$$anonfun$apply$3.apply(Interpreter.scala:44)",
      "  scala.util.Either$RightProjection.flatMap(Either.scala:522)",
      "  ammonite.InterpreterAction$$anonfun$flatMap$1.apply(Interpreter.scala:44)",
      "  ammonite.InterpreterAction$$anonfun$flatMap$1.apply(Interpreter.scala:43)",
      "  ammonite.InterpreterAction$$anon$1.apply(Interpreter.scala:57)",
      "  ammonite.InterpreterAction$$anonfun$flatMap$1$$anonfun$apply$3.apply(Interpreter.scala:44)",
      "  ammonite.InterpreterAction$$anonfun$flatMap$1$$anonfun$apply$3.apply(Interpreter.scala:44)",
      "  scala.util.Either$RightProjection.flatMap(Either.scala:522)",
      "  ammonite.InterpreterAction$$anonfun$flatMap$1.apply(Interpreter.scala:44)",
      "  ammonite.InterpreterAction$$anonfun$flatMap$1.apply(Interpreter.scala:43)",
      "  ammonite.InterpreterAction$$anon$1.apply(Interpreter.scala:57)",
      "  ammonite.InterpreterAction$$anonfun$flatMap$1$$anonfun$apply$3.apply(Interpreter.scala:44)",
      "  ammonite.InterpreterAction$$anonfun$flatMap$1$$anonfun$apply$3.apply(Interpreter.scala:44)",
      "  scala.util.Either$RightProjection.flatMap(Either.scala:522)",
      "  ammonite.InterpreterAction$$anonfun$flatMap$1.apply(Interpreter.scala:44)",
      "  ammonite.InterpreterAction$$anonfun$flatMap$1.apply(Interpreter.scala:43)",
      "  ammonite.InterpreterAction$$anon$1.apply(Interpreter.scala:57)",
      "  ammonite.InterpreterAction$$anonfun$flatMap$1$$anonfun$apply$3.apply(Interpreter.scala:44)",
      "  ammonite.InterpreterAction$$anonfun$flatMap$1$$anonfun$apply$3.apply(Interpreter.scala:44)",
      "  scala.util.Either$RightProjection.flatMap(Either.scala:522)",
      "  ammonite.InterpreterAction$$anonfun$flatMap$1.apply(Interpreter.scala:44)",
      "  ammonite.InterpreterAction$$anonfun$flatMap$1.apply(Interpreter.scala:43)",
      "  ammonite.InterpreterAction$$anon$1.apply(Interpreter.scala:57)",
      "  ammonite.InterpreterAction$$anonfun$flatMap$1$$anonfun$apply$3.apply(Interpreter.scala:44)",
      "  ammonite.InterpreterAction$$anonfun$flatMap$1$$anonfun$apply$3.apply(Interpreter.scala:44)",
      "  scala.util.Either$RightProjection.flatMap(Either.scala:522)",
      "  ammonite.InterpreterAction$$anonfun$flatMap$1.apply(Interpreter.scala:44)",
      "  ammonite.InterpreterAction$$anonfun$flatMap$1.apply(Interpreter.scala:43)",
      "  ammonite.InterpreterAction$$anon$1.apply(Interpreter.scala:57)",
      "  ammonite.InterpreterAction$$anonfun$flatMap$1$$anonfun$apply$3.apply(Interpreter.scala:44)",
      "  ammonite.InterpreterAction$$anonfun$flatMap$1$$anonfun$apply$3.apply(Interpreter.scala:44)",
      "  scala.util.Either$RightProjection.flatMap(Either.scala:522)",
      "  ammonite.InterpreterAction$$anonfun$flatMap$1.apply(Interpreter.scala:44)",
      "  ammonite.InterpreterAction$$anonfun$flatMap$1.apply(Interpreter.scala:43)",
      "  ammonite.InterpreterAction$$anon$1.apply(Interpreter.scala:57)",
      "  ammonite.Interpreter$$anon$4$$anonfun$flatMap$4.apply(Interpreter.scala:246)",
      "  ammonite.Interpreter$$anon$4$$anonfun$flatMap$4.apply(Interpreter.scala:240)",
      "  ammonite.InterpreterAction$$anon$1.apply(Interpreter.scala:57)",
      "  ammonite.Interpreter$$anon$3$$anonfun$flatMap$3$$anonfun$apply$7.apply(Interpreter.scala:232)",
      "  ammonite.Interpreter$$anon$3$$anonfun$flatMap$3$$anonfun$apply$7.apply(Interpreter.scala:232)",
      "  ammonite.util.Capture$$anonfun$ammonite$util$Capture$$withErr$1.apply(Capture.scala:46)",
      "  scala.util.DynamicVariable.withValue(DynamicVariable.scala:58)",
      "  scala.Console$.withErr(Console.scala:80)",
      "  ammonite.util.Capture$.ammonite$util$Capture$$withErr(Capture.scala:42)",
      "  ammonite.util.Capture$$anonfun$3.apply(Capture.scala:59)",
      "  ammonite.util.Capture$$anonfun$withOut$1.apply(Capture.scala:37)",
      "  scala.util.DynamicVariable.withValue(DynamicVariable.scala:58)",
      "  scala.Console$.withOut(Console.scala:53)",
      "  ammonite.util.Capture$.withOut(Capture.scala:33)",
      "  ammonite.util.Capture$.withOutAndErr(Capture.scala:59)",
      "  ammonite.util.Capture$.apply(Capture.scala:106)",
      "  ammonite.Interpreter$$anon$3$$anonfun$flatMap$3.apply(Interpreter.scala:232)",
      "  ammonite.Interpreter$$anon$3$$anonfun$flatMap$3.apply(Interpreter.scala:231)",
      "  ammonite.InterpreterAction$$anon$1.apply(Interpreter.scala:57)",
      "  ammonite.InterpreterAction$$anonfun$flatMap$1$$anonfun$apply$3.apply(Interpreter.scala:44)",
      "  ammonite.InterpreterAction$$anonfun$flatMap$1$$anonfun$apply$3.apply(Interpreter.scala:44)",
      "  scala.util.Either$RightProjection.flatMap(Either.scala:522)",
      "  ammonite.InterpreterAction$$anonfun$flatMap$1.apply(Interpreter.scala:44)",
      "  ammonite.InterpreterAction$$anonfun$flatMap$1.apply(Interpreter.scala:43)",
      "  ammonite.InterpreterAction$$anon$1.apply(Interpreter.scala:57)",
      "  ammonite.Interpreter$$anon$2$$anonfun$flatMap$2.apply(Interpreter.scala:205)",
      "  ammonite.Interpreter$$anon$2$$anonfun$flatMap$2.apply(Interpreter.scala:204)",
      "  ammonite.InterpreterAction$$anon$1.apply(Interpreter.scala:57)",
      "  ammonite.InterpreterAction$$anonfun$flatMap$1.apply(Interpreter.scala:44)",
      "  ammonite.InterpreterAction$$anonfun$flatMap$1.apply(Interpreter.scala:43)",
      "  ammonite.InterpreterAction$$anon$1.apply(Interpreter.scala:57)",
      "  ammonite.InterpreterAction$$anonfun$flatMap$1$$anonfun$apply$3.apply(Interpreter.scala:44)",
      "  ammonite.InterpreterAction$$anonfun$flatMap$1$$anonfun$apply$3.apply(Interpreter.scala:44)",
      "  scala.util.Either$RightProjection.flatMap(Either.scala:522)",
      "  ammonite.InterpreterAction$$anonfun$flatMap$1.apply(Interpreter.scala:44)",
      "  ammonite.InterpreterAction$$anonfun$flatMap$1.apply(Interpreter.scala:43)",
      "  ammonite.InterpreterAction$$anon$1.apply(Interpreter.scala:57)",
      "  jupyter.scala.ScalaInterpreter$$anon$2.interpret(ScalaInterpreter.scala:218)",
      "  jupyter.kernel.interpreter.InterpreterHandler$$anonfun$execute$1$$anonfun$apply$6.apply(InterpreterHandler.scala:118)",
      "  jupyter.kernel.interpreter.InterpreterHandler$$anonfun$execute$1$$anonfun$apply$6.apply(InterpreterHandler.scala:100)",
      "  jupyter.kernel.interpreter.InterpreterHandler$$anonfun$jupyter$kernel$interpreter$InterpreterHandler$$publishing$1$$anonfun$2.apply(InterpreterHandler.scala:68)",
      "  jupyter.kernel.interpreter.InterpreterHandler$$anonfun$jupyter$kernel$interpreter$InterpreterHandler$$publishing$1$$anonfun$2.apply(InterpreterHandler.scala:68)",
      "  scalaz.concurrent.Task$.Try(Task.scala:386)",
      "  scalaz.concurrent.Task$$anonfun$unsafeStart$1.apply(Task.scala:295)",
      "  scalaz.concurrent.Task$$anonfun$unsafeStart$1.apply(Task.scala:295)",
      "  scalaz.concurrent.Future$$anonfun$apply$15$$anon$4.call(Future.scala:380)",
      "  scalaz.concurrent.Future$$anonfun$apply$15$$anon$4.call(Future.scala:380)",
      "  java.util.concurrent.FutureTask.run(FutureTask.java:266)",
      "  java.util.concurrent.ThreadPoolExecutor.runWorker(ThreadPoolExecutor.java:1142)",
      "  java.util.concurrent.ThreadPoolExecutor$Worker.run(ThreadPoolExecutor.java:617)",
      "  java.lang.Thread.run(Thread.java:745)"
     ]
    }
   ],
   "source": [
    "new Elem(prefix=null, label=\"CONNECTIONREFERENCE\", attributes=res441, scope=scala.xml.TopScope, child=null)"
   ]
  },
  {
   "cell_type": "code",
   "execution_count": 442,
   "metadata": {
    "collapsed": false
   },
   "outputs": [
    {
     "data": {
      "text/plain": [
       "\u001b[36mres441\u001b[0m: \u001b[32mUnprefixedAttribute\u001b[0m = \u001b[33mUnprefixedAttribute\u001b[0m(\n",
       "   VARIABLE=\"\" CONNECTIONTYPE=\"Relational\",\n",
       "   CONNECTIONTYPE=\"Relational\"\n",
       ")"
      ]
     },
     "metadata": {},
     "output_type": "display_data"
    }
   ],
   "source": [
    "new UnprefixedAttribute(\"VARIABLE\",\"\", new UnprefixedAttribute(\"CONNECTIONTYPE\",\"Relational\", Null))"
   ]
  },
  {
   "cell_type": "code",
   "execution_count": 451,
   "metadata": {
    "collapsed": false
   },
   "outputs": [
    {
     "data": {
      "text/plain": [
       "\u001b[36mres450\u001b[0m: \u001b[32mNamespaceBinding\u001b[0m =  xmlns=\"\""
      ]
     },
     "metadata": {},
     "output_type": "display_data"
    }
   ],
   "source": [
    "new NamespaceBinding(null, null, null)"
   ]
  },
  {
   "cell_type": "code",
   "execution_count": 638,
   "metadata": {
    "collapsed": false
   },
   "outputs": [
    {
     "data": {
      "text/plain": [
       "\u001b[36mres637\u001b[0m: \u001b[32mSeq\u001b[0m[\u001b[32mNode\u001b[0m] = \u001b[33mList\u001b[0m()"
      ]
     },
     "metadata": {},
     "output_type": "display_data"
    }
   ],
   "source": [
    "xml.child(1).child(1).child(7).child(5).child(69).child(1).child"
   ]
  },
  {
   "cell_type": "code",
   "execution_count": 1,
   "metadata": {
    "collapsed": false
   },
   "outputs": [
    {
     "data": {
      "text/plain": [
       "\u001b[36ml\u001b[0m: \u001b[32mList\u001b[0m[\u001b[32mInt\u001b[0m] = \u001b[33mList\u001b[0m(\n",
       "  \u001b[32m1\u001b[0m,\n",
       "  \u001b[32m2\u001b[0m,\n",
       "  \u001b[32m3\u001b[0m,\n",
       "  \u001b[32m4\u001b[0m,\n",
       "  \u001b[32m5\u001b[0m,\n",
       "  \u001b[32m6\u001b[0m,\n",
       "  \u001b[32m7\u001b[0m,\n",
       "  \u001b[32m8\u001b[0m,\n",
       "  \u001b[32m9\u001b[0m,\n",
       "  \u001b[32m10\u001b[0m\n",
       ")"
      ]
     },
     "metadata": {},
     "output_type": "display_data"
    }
   ],
   "source": [
    "val l = List(1,2,3,4,5,6,7,8,9,10)"
   ]
  },
  {
   "cell_type": "code",
   "execution_count": 13,
   "metadata": {
    "collapsed": false,
    "scrolled": true
   },
   "outputs": [
    {
     "data": {
      "text/plain": [
       "\u001b[36mres4\u001b[0m: \u001b[32mList\u001b[0m[\u001b[32mInt\u001b[0m] = \u001b[33mList\u001b[0m(\u001b[32m2\u001b[0m, \u001b[32m4\u001b[0m, \u001b[32m6\u001b[0m, \u001b[32m8\u001b[0m, \u001b[32m10\u001b[0m)"
      ]
     },
     "metadata": {},
     "output_type": "display_data"
    }
   ],
   "source": [
    "l filter (_%2 != 1)"
   ]
  },
  {
   "cell_type": "code",
   "execution_count": 14,
   "metadata": {
    "collapsed": false
   },
   "outputs": [
    {
     "data": {
      "text/plain": [
       "\u001b[36mres5\u001b[0m: \u001b[32mList\u001b[0m[\u001b[32mInt\u001b[0m] = \u001b[33mList\u001b[0m(\n",
       "  \u001b[32m1\u001b[0m,\n",
       "  \u001b[32m0\u001b[0m,\n",
       "  \u001b[32m1\u001b[0m,\n",
       "  \u001b[32m0\u001b[0m,\n",
       "  \u001b[32m1\u001b[0m,\n",
       "  \u001b[32m0\u001b[0m,\n",
       "  \u001b[32m1\u001b[0m,\n",
       "  \u001b[32m0\u001b[0m,\n",
       "  \u001b[32m1\u001b[0m,\n",
       "  \u001b[32m0\u001b[0m\n",
       ")"
      ]
     },
     "metadata": {},
     "output_type": "display_data"
    }
   ],
   "source": [
    "l map (_ % 2)"
   ]
  },
  {
   "cell_type": "code",
   "execution_count": 1,
   "metadata": {
    "collapsed": false
   },
   "outputs": [
    {
     "data": {
      "text/plain": [
       "\u001b[32mimport \u001b[36mscala.xml._\u001b[0m\n",
       "\u001b[32mimport \u001b[36mscala.xml.transform._\u001b[0m\n",
       "\u001b[32mimport \u001b[36mscala.xml.Elem\u001b[0m\n",
       "\u001b[32mimport \u001b[36mscala.xml.factory.XMLLoader\u001b[0m\n",
       "\u001b[32mimport \u001b[36mjava.io._\u001b[0m"
      ]
     },
     "metadata": {},
     "output_type": "display_data"
    }
   ],
   "source": [
    "import scala.xml._\n",
    "import scala.xml.transform._\n",
    "import scala.xml.Elem\n",
    "import scala.xml.factory.XMLLoader\n",
    "import java.io._"
   ]
  },
  {
   "cell_type": "code",
   "execution_count": 5,
   "metadata": {
    "collapsed": false
   },
   "outputs": [
    {
     "data": {
      "text/plain": [
       "\u001b[36mf\u001b[0m: \u001b[32mjavax\u001b[0m.\u001b[32mxml\u001b[0m.\u001b[32mparsers\u001b[0m.\u001b[32mSAXParserFactory\u001b[0m = com.sun.org.apache.xerces.internal.jaxp.SAXParserFactoryImpl@5cf5e454"
      ]
     },
     "metadata": {},
     "output_type": "display_data"
    }
   ],
   "source": [
    "val f = javax.xml.parsers.SAXParserFactory.newInstance()"
   ]
  },
  {
   "cell_type": "code",
   "execution_count": 6,
   "metadata": {
    "collapsed": false
   },
   "outputs": [
    {
     "data": {
      "text/plain": []
     },
     "metadata": {},
     "output_type": "display_data"
    }
   ],
   "source": [
    "f.setFeature(\"http://apache.org/xml/features/nonvalidating/load-external-dtd\", false)"
   ]
  },
  {
   "cell_type": "code",
   "execution_count": 7,
   "metadata": {
    "collapsed": false
   },
   "outputs": [
    {
     "data": {
      "text/plain": [
       "\u001b[36mp\u001b[0m: \u001b[32mSAXParser\u001b[0m = com.sun.org.apache.xerces.internal.jaxp.SAXParserImpl@527ec423"
      ]
     },
     "metadata": {},
     "output_type": "display_data"
    }
   ],
   "source": [
    "val p = f.newSAXParser()"
   ]
  },
  {
   "cell_type": "code",
   "execution_count": null,
   "metadata": {
    "collapsed": true
   },
   "outputs": [],
   "source": [
    "val xml = scala.xml.XML.withSAXParser(p).load(\"\")    "
   ]
  },
  {
   "cell_type": "code",
   "execution_count": 9,
   "metadata": {
    "collapsed": false
   },
   "outputs": [
    {
     "data": {
      "text/plain": [
       "\u001b[36mxml\u001b[0m: \u001b[32mElem\u001b[0m = \u001b[33mElem\u001b[0m(\n",
       "  <POWERMART REPOSITORY_VERSION=\"182.91\" CREATION_DATE=\"05/25/2016 02:04:27\"><REPOSITORY DATABASETYPE=\"Oracle\" CODEPAGE=\"MS1251\" VERSION=\"182\" NAME=\"RS_DEV\"><FOLDER UUID=\"3e7d60e6-bf49-4526-99eb-ce21a42c6fa4\" PERMISSIONS=\"rwx---r--\" DESCRIPTION=\"\" SHARED=\"NOTSHARED\" OWNER=\"Administrator\" GROUP=\"\" NAME=\"DM_SAS_MA\"><MAPPING VERSIONNUMBER=\"1\" OBJECTVERSION=\"1\" NAME=\"m_PREDM_CNTRP_REL\" ISVALID=\"YES\" DESCRIPTION=\"\"><TRANSFORMATION VERSIONNUMBER=\"1\" TYPE=\"Source Qualifier\" REUSABLE=\"NO\" OBJECTVERSION=\"1\" NAME=\"SQ_CA_CLIENT_INFORMATION\" DESCRIPTION=\"\"><TRANSFORMFIELD SCALE=\"0\" PRECISION=\"50\" PORTTYPE=\"INPUT/OUTPUT\" PICTURETEXT=\"\" NAME=\"EID\" DESCRIPTION=\"\" DEFAULTVALUE=\"\" DATATYPE=\"string\"/><TRANSFORMFIELD SCALE=\"0\" PRECISION=\"15\" PORTTYPE=\"INPUT/OUTPUT\" PICTURETEXT=\"\" NAME=\"CNTRP_RK\" DESCRIPTION=\"\" DEFAULTVALUE=\"\" DATATYPE=\"double\"/><TRANSFORMFIELD SCALE=\"0\" PRECISION=\"30\" PORTTYPE=\"INPUT/OUTPUT\" PICTURETEXT=\"\" NAME=\"CNTRP_CCD\" DESCRIPTION=\"\" DEFAULTVALUE=\"\" DATATYPE=\"string\"/><TRANSFORMFIELD SCALE=\"0\" PRECISION=\"30\" PORTTYPE=\"INPUT/OUTPUT\" PICTURETEXT=\"\" NAME=\"PREV_EID\" DESCRIPTION=\"\" DEFAULTVALUE=\"\" DATATYPE=\"string\"/><TRANSFORMFIELD SCALE=\"9\" PRECISION=\"29\" PORTTYPE=\"INPUT/OUTPUT\" PICTURETEXT=\"\" NAME=\"EFFECTIVE_FROM_DT\" DESCRIPTION=\"\" DEFAULTVALUE=\"\" DATATYPE=\"date/time\"/><TABLEATTRIBUTE VALUE=\"with\r\n",
       "\u001b[33m...\u001b[0m"
      ]
     },
     "metadata": {},
     "output_type": "display_data"
    }
   ],
   "source": [
    "val xml = scala.xml.XML.load(\"tst.xml\")"
   ]
  },
  {
   "cell_type": "code",
   "execution_count": 153,
   "metadata": {
    "collapsed": false
   },
   "outputs": [
    {
     "data": {
      "text/plain": [
       "\u001b[36min\u001b[0m: \u001b[32mSeq\u001b[0m[\u001b[32mNode\u001b[0m] = \u001b[33mList\u001b[0m(\n",
       "  <TRANSFORMATION VERSIONNUMBER=\"1\" TYPE=\"Source Qualifier\" REUSABLE=\"NO\" OBJECTVERSION=\"1\" NAME=\"SQ_CA_CLIENT_INFORMATION\" DESCRIPTION=\"\"><TRANSFORMFIELD SCALE=\"0\" PRECISION=\"50\" PORTTYPE=\"INPUT/OUTPUT\" PICTURETEXT=\"\" NAME=\"EID\" DESCRIPTION=\"\" DEFAULTVALUE=\"\" DATATYPE=\"string\"/><TRANSFORMFIELD SCALE=\"0\" PRECISION=\"15\" PORTTYPE=\"INPUT/OUTPUT\" PICTURETEXT=\"\" NAME=\"CNTRP_RK\" DESCRIPTION=\"\" DEFAULTVALUE=\"\" DATATYPE=\"double\"/><TRANSFORMFIELD SCALE=\"0\" PRECISION=\"30\" PORTTYPE=\"INPUT/OUTPUT\" PICTURETEXT=\"\" NAME=\"CNTRP_CCD\" DESCRIPTION=\"\" DEFAULTVALUE=\"\" DATATYPE=\"string\"/><TRANSFORMFIELD SCALE=\"0\" PRECISION=\"30\" PORTTYPE=\"INPUT/OUTPUT\" PICTURETEXT=\"\" NAME=\"PREV_EID\" DESCRIPTION=\"\" DEFAULTVALUE=\"\" DATATYPE=\"string\"/><TRANSFORMFIELD SCALE=\"9\" PRECISION=\"29\" PORTTYPE=\"INPUT/OUTPUT\" PICTURETEXT=\"\" NAME=\"EFFECTIVE_FROM_DT\" DESCRIPTION=\"\" DEFAULTVALUE=\"\" DATATYPE=\"date/time\"/><TABLEATTRIBUTE VALUE=\"with\r\n",
       "  nat_pers as\r\n",
       "  (\r\n",
       "    select\r\n",
       "      /*+parallel(8)*/\r\n",
       "\u001b[33m...\u001b[0m"
      ]
     },
     "metadata": {},
     "output_type": "display_data"
    }
   ],
   "source": [
    "val in = (xml \\\\ \"MAPPING\")(0).child"
   ]
  },
  {
   "cell_type": "code",
   "execution_count": 212,
   "metadata": {
    "collapsed": false
   },
   "outputs": [
    {
     "data": {
      "text/plain": [
       "\u001b[36mres172\u001b[0m: \u001b[32mString\u001b[0m = \u001b[32m\"MAPPING\"\u001b[0m"
      ]
     },
     "metadata": {},
     "output_type": "display_data"
    }
   ],
   "source": [
    "(xml \\\\ \"MAPPING\")(0).label.toString"
   ]
  },
  {
   "cell_type": "code",
   "execution_count": 236,
   "metadata": {
    "collapsed": false
   },
   "outputs": [
    {
     "data": {
      "text/plain": [
       "\u001b[36mres191\u001b[0m: \u001b[32mElem\u001b[0m = \u001b[33mElem\u001b[0m(\n",
       "  <MAPPING DESCRIPTION=\"\" ISVALID=\"YES\" NAME=\"m_PREDM_CNTRP_REL\" OBJECTVERSION=\"1\" VERSIONNUMBER=\"1\"/>\n",
       ")"
      ]
     },
     "metadata": {},
     "output_type": "display_data"
    }
   ],
   "source": [
    "scala.xml.XML.loadString(\"<MAPPING\" + (xml \\\\ \"MAPPING\")(0).attributes.toString + \"></MAPPING>\")"
   ]
  },
  {
   "cell_type": "code",
   "execution_count": null,
   "metadata": {
    "collapsed": true
   },
   "outputs": [],
   "source": [
    "scala.xml.XML."
   ]
  },
  {
   "cell_type": "code",
   "execution_count": 224,
   "metadata": {
    "collapsed": false
   },
   "outputs": [
    {
     "ename": "",
     "evalue": "",
     "output_type": "error",
     "traceback": [
      "\u001b[31m<console>:1: in XML literal: '>' expected instead of '('\r",
      "<MAPPING (xml \\\\ \"MAPPING\")(0).attributes.toString> </MAPPING>\r",
      "         ^\u001b[0m"
     ]
    }
   ],
   "source": [
    "<MAPPING (xml \\\\ \"MAPPING\")(0).attributes.toString> </MAPPING>"
   ]
  },
  {
   "cell_type": "code",
   "execution_count": 125,
   "metadata": {
    "collapsed": false
   },
   "outputs": [
    {
     "data": {
      "text/plain": [
       "\u001b[36minds\u001b[0m: \u001b[32mSeq\u001b[0m[(\u001b[32mNode\u001b[0m, \u001b[32mInt\u001b[0m)] = \u001b[33mList\u001b[0m(\n",
       "  \u001b[33m\u001b[0m(\n",
       "    \u001b[33mElem\u001b[0m(\n",
       "      <TRANSFORMATION VERSIONNUMBER=\"1\" TYPE=\"Source Qualifier\" REUSABLE=\"NO\" OBJECTVERSION=\"1\" NAME=\"SQ_CA_CLIENT_INFORMATION\" DESCRIPTION=\"\"><TRANSFORMFIELD SCALE=\"0\" PRECISION=\"50\" PORTTYPE=\"INPUT/OUTPUT\" PICTURETEXT=\"\" NAME=\"EID\" DESCRIPTION=\"\" DEFAULTVALUE=\"\" DATATYPE=\"string\"/><TRANSFORMFIELD SCALE=\"0\" PRECISION=\"15\" PORTTYPE=\"INPUT/OUTPUT\" PICTURETEXT=\"\" NAME=\"CNTRP_RK\" DESCRIPTION=\"\" DEFAULTVALUE=\"\" DATATYPE=\"double\"/><TRANSFORMFIELD SCALE=\"0\" PRECISION=\"30\" PORTTYPE=\"INPUT/OUTPUT\" PICTURETEXT=\"\" NAME=\"CNTRP_CCD\" DESCRIPTION=\"\" DEFAULTVALUE=\"\" DATATYPE=\"string\"/><TRANSFORMFIELD SCALE=\"0\" PRECISION=\"30\" PORTTYPE=\"INPUT/OUTPUT\" PICTURETEXT=\"\" NAME=\"PREV_EID\" DESCRIPTION=\"\" DEFAULTVALUE=\"\" DATATYPE=\"string\"/><TRANSFORMFIELD SCALE=\"9\" PRECISION=\"29\" PORTTYPE=\"INPUT/OUTPUT\" PICTURETEXT=\"\" NAME=\"EFFECTIVE_FROM_DT\" DESCRIPTION=\"\" DEFAULTVALUE=\"\" DATATYPE=\"date/time\"/><TABLEATTRIBUTE VALUE=\"with\r\n",
       "  nat_pers as\r\n",
       "  (\r\n",
       "\u001b[33m...\u001b[0m"
      ]
     },
     "metadata": {},
     "output_type": "display_data"
    }
   ],
   "source": [
    "val inds = (xml \\\\ \"MAPPING\")(0).child.zipWithIndex"
   ]
  },
  {
   "cell_type": "code",
   "execution_count": 168,
   "metadata": {
    "collapsed": false
   },
   "outputs": [
    {
     "data": {
      "text/plain": [
       "\u001b[36mres137\u001b[0m: \u001b[32mSeq\u001b[0m[\u001b[32mNode\u001b[0m] = \u001b[33mList\u001b[0m(\n",
       "  <TRANSFORMATION VERSIONNUMBER=\"1\" TYPE=\"Source Qualifier\" REUSABLE=\"NO\" OBJECTVERSION=\"1\" NAME=\"SQ_CA_CLIENT_INFORMATION\" DESCRIPTION=\"\"><TRANSFORMFIELD SCALE=\"0\" PRECISION=\"50\" PORTTYPE=\"INPUT/OUTPUT\" PICTURETEXT=\"\" NAME=\"EID\" DESCRIPTION=\"\" DEFAULTVALUE=\"\" DATATYPE=\"string\"/><TRANSFORMFIELD SCALE=\"0\" PRECISION=\"15\" PORTTYPE=\"INPUT/OUTPUT\" PICTURETEXT=\"\" NAME=\"CNTRP_RK\" DESCRIPTION=\"\" DEFAULTVALUE=\"\" DATATYPE=\"double\"/><TRANSFORMFIELD SCALE=\"0\" PRECISION=\"30\" PORTTYPE=\"INPUT/OUTPUT\" PICTURETEXT=\"\" NAME=\"CNTRP_CCD\" DESCRIPTION=\"\" DEFAULTVALUE=\"\" DATATYPE=\"string\"/><TRANSFORMFIELD SCALE=\"0\" PRECISION=\"30\" PORTTYPE=\"INPUT/OUTPUT\" PICTURETEXT=\"\" NAME=\"PREV_EID\" DESCRIPTION=\"\" DEFAULTVALUE=\"\" DATATYPE=\"string\"/><TRANSFORMFIELD SCALE=\"9\" PRECISION=\"29\" PORTTYPE=\"INPUT/OUTPUT\" PICTURETEXT=\"\" NAME=\"EFFECTIVE_FROM_DT\" DESCRIPTION=\"\" DEFAULTVALUE=\"\" DATATYPE=\"date/time\"/><TABLEATTRIBUTE VALUE=\"with\r\n",
       "  nat_pers as\r\n",
       "  (\r\n",
       "    select\r\n",
       "      /*+parallel(8)*/\r\n",
       "\u001b[33m...\u001b[0m"
      ]
     },
     "metadata": {},
     "output_type": "display_data"
    }
   ],
   "source": [
    "in.take(in.size-1) ++ <MAPPINGVARIABLE DATATYPE =\"integer\" DEFAULTVALUE =\"\" DESCRIPTION =\"\" ISEXPRESSIONVARIABLE =\"NO\" ISPARAM =\"YES\" NAME =\"$$spDwhJobID\" PRECISION =\"10\" SCALE =\"0\" USERDEFINED =\"YES\"/> ++ in(in.size-1)"
   ]
  },
  {
   "cell_type": "code",
   "execution_count": 177,
   "metadata": {
    "collapsed": false
   },
   "outputs": [
    {
     "data": {
      "text/plain": [
       "\u001b[36mtrans\u001b[0m: \u001b[32mSeq\u001b[0m[\u001b[32mNode\u001b[0m] = \u001b[33mList\u001b[0m(\n",
       "  <TRANSFORMFIELD SCALE=\"0\" PRECISION=\"15\" PORTTYPE=\"INPUT/OUTPUT\" PICTURETEXT=\"\" NAME=\"EID\" EXPRESSIONTYPE=\"GENERAL\" EXPRESSION=\"EID\" DESCRIPTION=\"\" DEFAULTVALUE=\"\" DATATYPE=\"double\"/>,\n",
       "  <TRANSFORMFIELD SCALE=\"0\" PRECISION=\"15\" PORTTYPE=\"INPUT/OUTPUT\" PICTURETEXT=\"\" NAME=\"CNTRP_RK\" EXPRESSIONTYPE=\"GENERAL\" EXPRESSION=\"CNTRP_RK\" DESCRIPTION=\"\" DEFAULTVALUE=\"\" DATATYPE=\"double\"/>,\n",
       "  <TRANSFORMFIELD SCALE=\"0\" PRECISION=\"30\" PORTTYPE=\"INPUT/OUTPUT\" PICTURETEXT=\"\" NAME=\"CNTRP_CCD\" EXPRESSIONTYPE=\"GENERAL\" EXPRESSION=\"CNTRP_CCD\" DESCRIPTION=\"\" DEFAULTVALUE=\"\" DATATYPE=\"string\"/>,\n",
       "  <TRANSFORMFIELD SCALE=\"0\" PRECISION=\"15\" PORTTYPE=\"INPUT/OUTPUT\" PICTURETEXT=\"\" NAME=\"PREV_EID\" EXPRESSIONTYPE=\"GENERAL\" EXPRESSION=\"PREV_EID\" DESCRIPTION=\"\" DEFAULTVALUE=\"\" DATATYPE=\"double\"/>,\n",
       "  <TRANSFORMFIELD SCALE=\"9\" PRECISION=\"29\" PORTTYPE=\"INPUT/OUTPUT\" PICTURETEXT=\"\" NAME=\"EFFECTIVE_FROM_DT\" EXPRESSIONTYPE=\"GENERAL\" EXPRESSION=\"EFFECTIVE_FROM_DT\" DESCRIPTION=\"\" DEFAULTVALUE=\"\" DATATYPE=\"date/time\"/>,\n",
       "  <TABLEATTRIBUTE VALUE=\"Normal\" NAME=\"Tracing Level\"/>,\n",
       "  <METADATAEXTENSION VENDORNAME=\"INFORMATICA\" VALUE=\"\" NAME=\"Author\" MAXLENGTH=\"256\" ISSHAREWRITE=\"NO\" ISSHAREREAD=\"NO\" ISREUSABLE=\"YES\" ISCLIENTVISIBLE=\"YES\" ISCLIENTEDITABLE=\"YES\" DOMAINNAME=\"User D\u001b[33m...\u001b[0m"
      ]
     },
     "metadata": {},
     "output_type": "display_data"
    }
   ],
   "source": [
    "val trans = (xml \\\\ \"TRANSFORMATION\")(1).child"
   ]
  },
  {
   "cell_type": "code",
   "execution_count": 195,
   "metadata": {
    "collapsed": false
   },
   "outputs": [
    {
     "data": {
      "text/plain": [
       "\u001b[36mres157\u001b[0m: \u001b[32mSeq\u001b[0m[\u001b[32mNode\u001b[0m] = \u001b[33mList\u001b[0m(\n",
       "  <TRANSFORMFIELD SCALE=\"0\" PRECISION=\"15\" PORTTYPE=\"INPUT/OUTPUT\" PICTURETEXT=\"\" NAME=\"EID\" EXPRESSIONTYPE=\"GENERAL\" EXPRESSION=\"EID\" DESCRIPTION=\"\" DEFAULTVALUE=\"\" DATATYPE=\"double\"/>,\n",
       "  <TRANSFORMFIELD SCALE=\"0\" PRECISION=\"15\" PORTTYPE=\"INPUT/OUTPUT\" PICTURETEXT=\"\" NAME=\"CNTRP_RK\" EXPRESSIONTYPE=\"GENERAL\" EXPRESSION=\"CNTRP_RK\" DESCRIPTION=\"\" DEFAULTVALUE=\"\" DATATYPE=\"double\"/>,\n",
       "  <TRANSFORMFIELD SCALE=\"0\" PRECISION=\"30\" PORTTYPE=\"INPUT/OUTPUT\" PICTURETEXT=\"\" NAME=\"CNTRP_CCD\" EXPRESSIONTYPE=\"GENERAL\" EXPRESSION=\"CNTRP_CCD\" DESCRIPTION=\"\" DEFAULTVALUE=\"\" DATATYPE=\"string\"/>,\n",
       "  <TRANSFORMFIELD SCALE=\"0\" PRECISION=\"15\" PORTTYPE=\"INPUT/OUTPUT\" PICTURETEXT=\"\" NAME=\"PREV_EID\" EXPRESSIONTYPE=\"GENERAL\" EXPRESSION=\"PREV_EID\" DESCRIPTION=\"\" DEFAULTVALUE=\"\" DATATYPE=\"double\"/>,\n",
       "  <TRANSFORMFIELD SCALE=\"9\" PRECISION=\"29\" PORTTYPE=\"INPUT/OUTPUT\" PICTURETEXT=\"\" NAME=\"EFFECTIVE_FROM_DT\" EXPRESSIONTYPE=\"GENERAL\" EXPRESSION=\"EFFECTIVE_FROM_DT\" DESCRIPTION=\"\" DEFAULTVALUE=\"\" DATATYPE=\"date/time\"/>\n",
       ")"
      ]
     },
     "metadata": {},
     "output_type": "display_data"
    }
   ],
   "source": [
    "trans.filter(_.label == \"TRANSFORMFIELD\")"
   ]
  },
  {
   "cell_type": "code",
   "execution_count": 248,
   "metadata": {
    "collapsed": false
   },
   "outputs": [
    {
     "data": {
      "text/plain": [
       "defined \u001b[32mobject \u001b[36mMainConnectionTransform\u001b[0m"
      ]
     },
     "metadata": {},
     "output_type": "display_data"
    }
   ],
   "source": [
    "object MainConnectionTransform extends RewriteRule {\n",
    "      override def transform(n: Node): Seq[Node] = n match {\n",
    "        case map @ <MAPPING>{therms @ _*}</MAPPING> => {\n",
    "            val ccd = \"\\\"\" + 100 + \"\\\"\"\n",
    "            scala.xml.XML.loadString(\"<MAPPING \" + map.attributes.toString + \">\" + \n",
    "            therms.take(therms.size-1).map(_.toString).reduce((x,y) => x+y) +\n",
    "                   <MAPPINGVARIABLE DATATYPE =\"string\" DEFAULTVALUE ={ ccd } DESCRIPTION =\"\" ISEXPRESSIONVARIABLE =\"NO\" ISPARAM =\"YES\" NAME =\"$$mpSourceSystemCCD\" PRECISION =\"3\" SCALE =\"0\" USERDEFINED =\"YES\"/>.toString + \n",
    "                   <MAPPINGVARIABLE DATATYPE =\"integer\" DEFAULTVALUE =\"\" DESCRIPTION =\"\" ISEXPRESSIONVARIABLE =\"NO\" ISPARAM =\"YES\" NAME =\"$$spDwhJobID\" PRECISION =\"10\" SCALE =\"0\" USERDEFINED =\"YES\"/>.toString +\n",
    "                   <MAPPINGVARIABLE DATATYPE =\"date/time\" DEFAULTVALUE =\"\" DESCRIPTION =\"\" ISEXPRESSIONVARIABLE =\"NO\" ISPARAM =\"YES\" NAME =\"$$mpEffectiveFrom\" PRECISION =\"29\" SCALE =\"9\" USERDEFINED =\"YES\"/>.toString +\n",
    "                   <MAPPINGVARIABLE DATATYPE =\"date/time\" DEFAULTVALUE =\"\" DESCRIPTION =\"\" ISEXPRESSIONVARIABLE =\"NO\" ISPARAM =\"YES\" NAME =\"$$mpEffectiveTo\" PRECISION =\"29\" SCALE =\"9\" USERDEFINED =\"YES\"/>.toString +\n",
    "                   therms(therms.size-1).map(_.toString).reduce((x,y) => x+y) +\n",
    "                                     \"</MAPPING>\")\n",
    "        }\n",
    "        case trn @ <TRANSFORMATION>{trans @ _*}</TRANSFORMATION> if {\n",
    "            val attrs = trn.attributes.asAttrMap\n",
    "            attrs(\"NAME\").toLowerCase.contains(\"fields\")\n",
    "          } => {\n",
    "            scala.xml.XML.loadString(\"<TRANSFORMATION \" + trn.attributes.toString + \">\" +\n",
    "            trans.filter(_.label == \"TRANSFORMFIELD\").map(_.toString).reduce((x,y)=>x+y) +\n",
    "              <TRANSFORMFIELD DATATYPE =\"string\" DEFAULTVALUE =\"\" DESCRIPTION =\"\" EXPRESSION =\"$$mpSourceSystemCCD\" EXPRESSIONTYPE =\"GENERAL\" NAME =\"SOURCE_SYSTEM_CCD\" PICTURETEXT =\"\" PORTTYPE =\"OUTPUT\" PRECISION =\"3\" SCALE =\"0\"/>.toString +\n",
    "            <TRANSFORMFIELD DATATYPE =\"date/time\" DEFAULTVALUE =\"\" DESCRIPTION =\"\" EXPRESSION =\"SYSTIMESTAMP()\" EXPRESSIONTYPE =\"GENERAL\" NAME =\"PROCESSED_DTTM\" PICTURETEXT =\"\" PORTTYPE =\"OUTPUT\" PRECISION =\"29\" SCALE =\"9\"/>.toString +\n",
    "            <TRANSFORMFIELD DATATYPE =\"string\" DEFAULTVALUE =\"\" DESCRIPTION =\"\" EXPRESSION =\"&apos;N&apos;\" EXPRESSIONTYPE =\"GENERAL\" NAME =\"DELETED_FLAG\" PICTURETEXT =\"\" PORTTYPE =\"OUTPUT\" PRECISION =\"1\" SCALE =\"0\"/>.toString +\n",
    "            <TRANSFORMFIELD DATATYPE =\"double\" DEFAULTVALUE =\"\" DESCRIPTION =\"\" EXPRESSION =\"$$spDWHJobID\" EXPRESSIONTYPE =\"GENERAL\" NAME =\"DWH_JOB_ID\" PICTURETEXT =\"\" PORTTYPE =\"OUTPUT\" PRECISION =\"15\" SCALE =\"0\"/>.toString +\n",
    "            trans.filter(_.label != \"TRANSFORMFIELD\").map(_.toString).reduce((x,y)=> x+y) +\n",
    "                \"</TRANSFORMATION>\")\n",
    "                \n",
    "        }\n",
    "        case other => other\n",
    "      }\n",
    "    }"
   ]
  },
  {
   "cell_type": "code",
   "execution_count": 249,
   "metadata": {
    "collapsed": false
   },
   "outputs": [
    {
     "data": {
      "text/plain": [
       "defined \u001b[32mobject \u001b[36mRuleMainConnectionTransoform\u001b[0m"
      ]
     },
     "metadata": {},
     "output_type": "display_data"
    }
   ],
   "source": [
    "object RuleMainConnectionTransoform extends RuleTransformer(MainConnectionTransform)"
   ]
  },
  {
   "cell_type": "code",
   "execution_count": 250,
   "metadata": {
    "collapsed": false
   },
   "outputs": [
    {
     "data": {
      "text/plain": [
       "\u001b[36mnewXml\u001b[0m: \u001b[32mNode\u001b[0m = \u001b[33mElem\u001b[0m(\n",
       "  <POWERMART REPOSITORY_VERSION=\"182.91\" CREATION_DATE=\"05/25/2016 02:04:27\"><REPOSITORY DATABASETYPE=\"Oracle\" CODEPAGE=\"MS1251\" VERSION=\"182\" NAME=\"RS_DEV\"><FOLDER UUID=\"3e7d60e6-bf49-4526-99eb-ce21a42c6fa4\" PERMISSIONS=\"rwx---r--\" DESCRIPTION=\"\" SHARED=\"NOTSHARED\" OWNER=\"Administrator\" GROUP=\"\" NAME=\"DM_SAS_MA\"><MAPPING DESCRIPTION=\"\" ISVALID=\"YES\" NAME=\"m_PREDM_CNTRP_REL\" OBJECTVERSION=\"1\" VERSIONNUMBER=\"1\"><TRANSFORMATION DESCRIPTION=\"\" NAME=\"SQ_CA_CLIENT_INFORMATION\" OBJECTVERSION=\"1\" REUSABLE=\"NO\" TYPE=\"Source Qualifier\" VERSIONNUMBER=\"1\"><TRANSFORMFIELD DATATYPE=\"string\" DEFAULTVALUE=\"\" DESCRIPTION=\"\" NAME=\"EID\" PICTURETEXT=\"\" PORTTYPE=\"INPUT/OUTPUT\" PRECISION=\"50\" SCALE=\"0\"/><TRANSFORMFIELD DATATYPE=\"double\" DEFAULTVALUE=\"\" DESCRIPTION=\"\" NAME=\"CNTRP_RK\" PICTURETEXT=\"\" PORTTYPE=\"INPUT/OUTPUT\" PRECISION=\"15\" SCALE=\"0\"/><TRANSFORMFIELD DATATYPE=\"string\" DEFAULTVALUE=\"\" DESCRIPTION=\"\" NAME=\"CNTRP_CCD\" PICTURETEXT=\"\" PORTTYPE=\"INPUT/OUTPUT\" PRECISION=\"30\" SCALE=\"0\"/><TRANSFORMFIELD DATATYPE=\"string\" DEFAULTVALUE=\"\" DESCRIPTION=\"\" NAME=\"PREV_EID\" PICTURETEXT=\"\" PORTTYPE=\"INPUT/OUTPUT\" PRECISION=\"30\" SCALE=\"0\"/><TRANSFORMFIELD DATATYPE=\"date/time\" DEFAULTVALUE=\"\" DESCRIPTION=\"\" NAME=\"EFFECTIVE_FROM_DT\" PICTURETEXT=\"\" PORTTYPE=\"INPUT/OUTPUT\" PRECISION=\"29\" SCALE=\"9\"/><TABLEATTRIBUTE NAME=\"Sql Query\" VALUE=\"with   nat_pers as   (     select       /*+parallel(8)*/       distinct\u001b[33m...\u001b[0m"
      ]
     },
     "metadata": {},
     "output_type": "display_data"
    }
   ],
   "source": [
    "val newXml = RuleMainConnectionTransoform(xml)"
   ]
  },
  {
   "cell_type": "code",
   "execution_count": 251,
   "metadata": {
    "collapsed": false
   },
   "outputs": [
    {
     "data": {
      "text/plain": [
       "\u001b[36mddd\u001b[0m: \u001b[32mdtd\u001b[0m.\u001b[32mDocType\u001b[0m = \u001b[33mDocType\u001b[0m(\u001b[32m\"POWERMART\"\u001b[0m, SYSTEM \"powrmart.dtd\", \u001b[33mList\u001b[0m())"
      ]
     },
     "metadata": {},
     "output_type": "display_data"
    }
   ],
   "source": [
    "val ddd = new scala.xml.dtd.DocType(\"POWERMART\",\n",
    "                                        scala.xml.dtd.SystemID(\"powrmart.dtd\"),\n",
    "                                        Nil)"
   ]
  },
  {
   "cell_type": "code",
   "execution_count": 252,
   "metadata": {
    "collapsed": false
   },
   "outputs": [
    {
     "data": {
      "text/plain": []
     },
     "metadata": {},
     "output_type": "display_data"
    }
   ],
   "source": [
    "scala.xml.XML.save(\"testxmld.xml\", newXml, \"windows-1251\", true, ddd)"
   ]
  },
  {
   "cell_type": "code",
   "execution_count": 3,
   "metadata": {
    "collapsed": false
   },
   "outputs": [
    {
     "data": {
      "text/plain": [
       "\u001b[36mxml_old\u001b[0m: \u001b[32mElem\u001b[0m = \u001b[33mElem\u001b[0m(\n",
       "  <POWERMART REPOSITORY_VERSION=\"182.91\" CREATION_DATE=\"06/03/2016 16:25:20\"><REPOSITORY DATABASETYPE=\"Oracle\" CODEPAGE=\"MS1251\" VERSION=\"182\" NAME=\"RS_DEV\"><FOLDER UUID=\"f17af4c4-39ea-4631-8ad5-c3f783b7b25e\" PERMISSIONS=\"rwx---r--\" DESCRIPTION=\"\" SHARED=\"NOTSHARED\" OWNER=\"Administrator\" GROUP=\"\" NAME=\"~zheltov\"><SOURCE VERSIONNUMBER=\"1\" OWNERNAME=\"ODS_001\" OBJECTVERSION=\"1\" NAME=\"SCORING_FORMS\" DESCRIPTION=\"\" DBDNAME=\"ods_001\" DATABASETYPE=\"Oracle\" BUSINESSNAME=\"\"><SOURCEFIELD USAGE_FLAGS=\"\" SCALE=\"0\" PRECISION=\"15\" PICTURETEXT=\"\" PHYSICALOFFSET=\"0\" PHYSICALLENGTH=\"15\" OFFSET=\"0\" OCCURS=\"0\" NULLABLE=\"NULL\" NAME=\"REFERENCE\" LEVEL=\"0\" LENGTH=\"24\" KEYTYPE=\"NOT A KEY\" HIDDEN=\"NO\" FIELDTYPE=\"ELEMITEM\" FIELDPROPERTY=\"0\" FIELDNUMBER=\"1\" DESCRIPTION=\"\" DATATYPE=\"number\" BUSINESSNAME=\"\"/><SOURCEFIELD USAGE_FLAGS=\"\" SCALE=\"0\" PRECISION=\"15\" PICTURETEXT=\"\" PHYSICALOFFSET=\"15\" PHYSICALLENGTH=\"15\" OFFSET=\"24\" OCCURS=\"0\" NULLABLE=\"NULL\" NAME=\"BRANCH\" LEVEL=\"0\" LENGTH=\"24\" KEYTYPE=\"NOT A KEY\" HIDDEN=\"NO\" FIELDTYPE=\"ELEMITEM\" FIELDPROPERTY=\"0\" FIELDNUMBER=\"2\" DESCRIPTION=\"\" DATATYPE=\"number\" BUSINESSNAME=\"\"/><SOURCEFIELD USAGE_FLAGS=\"\" SCALE=\"0\" PRECISION=\"15\" PICTURETEXT=\"\" PHYSICALOFFSET=\"30\" PHYSICALLENGTH=\"15\" OFFSET=\"48\" OCCURS=\"0\" NULLABLE=\"NULL\" NAME=\"REFER_CLIENT\" LEVEL=\"0\" LENGTH=\"24\" KEYTYPE=\"NOT A KEY\" HIDDEN=\"NO\" FIELDTYPE=\"ELEMITEM\" FIELDPROPERTY=\"0\" FIELDNUMBER=\"3\" DESCRIPTION=\"\u001b[33m...\u001b[0m"
      ]
     },
     "metadata": {},
     "output_type": "display_data"
    }
   ],
   "source": [
    "val xml_old = scala.xml.XML.load(\"m_PREDDS_001_COUNTERPARTY_DOCUMENT_old.XML\")"
   ]
  },
  {
   "cell_type": "code",
   "execution_count": 2,
   "metadata": {
    "collapsed": false
   },
   "outputs": [
    {
     "data": {
      "text/plain": [
       "\u001b[36mxml_mat\u001b[0m: \u001b[32mElem\u001b[0m = \u001b[33mElem\u001b[0m(\n",
       "  <POWERMART REPOSITORY_VERSION=\"182.91\" CREATION_DATE=\"06/03/2016 16:25:51\"><REPOSITORY DATABASETYPE=\"Oracle\" CODEPAGE=\"MS1251\" VERSION=\"182\" NAME=\"RS_PRD\"><FOLDER UUID=\"d318e01d-c840-4918-a8c9-969f0504dfc1\" PERMISSIONS=\"rwx---r--\" DESCRIPTION=\"\" SHARED=\"NOTSHARED\" OWNER=\"Administrator\" GROUP=\"\" NAME=\"EDW_PREDDS_001\"><EXPRMACRO VERSIONNUMBER=\"1\" RETURNTYPE=\"N/A\" PROTOTYPE=\"\" OBJECTVERSION=\"1\" NAME=\"UDF_CHECK_DATE\" MACROTYPE=\"Public\" EXPRESSION=\"IIF(ISNULL(in_DATE),\r\n",
       "\r\n",
       "  IIF(in_FLAG = '-', $$EDWLowerInfDate,\r\n",
       "    IIF(in_FLAG = '+', $$EDWUpperInfDate,\r\n",
       "      in_DATE)),  \r\n",
       "\r\n",
       "  DECODE($$mpSourceSystemCCD,\r\n",
       "    '001',\r\n",
       "    IIF(in_DATE &lt; $$EDWLowerInfDate, $$EDWLowerInfDate,\r\n",
       "      IIF(in_DATE &gt; $$EDWUpperInfDate, $$EDWUpperInfDate,\r\n",
       "\u001b[33m...\u001b[0m"
      ]
     },
     "metadata": {},
     "output_type": "display_data"
    }
   ],
   "source": [
    "val xml_mat = scala.xml.XML.load(\"m_PREDDS_001_COUNTERPARTY_DOCUMENT_new(materialized).XML\")"
   ]
  },
  {
   "cell_type": "code",
   "execution_count": 10,
   "metadata": {
    "collapsed": false
   },
   "outputs": [
    {
     "data": {
      "text/plain": [
       "\u001b[36mres8\u001b[0m: \u001b[32mNodeSeq\u001b[0m = \u001b[33mNodeSeq\u001b[0m(\n",
       "  <CONNECTOR TOINSTANCETYPE=\"Target Definition\" TOINSTANCE=\"COUNTERPARTY_DOCUMENT\" TOFIELD=\"COUNTERPARTY_DOCUMENT_TYPE_RK\" FROMINSTANCETYPE=\"Expression\" FROMINSTANCE=\"EXP_TARGET\" FROMFIELD=\"COUNTERPARTY_DOCUMENT_TYPE_RK\"/>,\n",
       "  <CONNECTOR TOINSTANCETYPE=\"Target Definition\" TOINSTANCE=\"COUNTERPARTY_DOCUMENT\" TOFIELD=\"DOCUMENT_SERIES_NUMBER\" FROMINSTANCETYPE=\"Expression\" FROMINSTANCE=\"EXP_TARGET\" FROMFIELD=\"DOCUMENT_SERIES_NUMBER\"/>,\n",
       "  <CONNECTOR TOINSTANCETYPE=\"Target Definition\" TOINSTANCE=\"COUNTERPARTY_DOCUMENT\" TOFIELD=\"DOCUMENT_SERIES\" FROMINSTANCETYPE=\"Expression\" FROMINSTANCE=\"EXP_TARGET\" FROMFIELD=\"DOCUMENT_SERIES\"/>,\n",
       "  <CONNECTOR TOINSTANCETYPE=\"Target Definition\" TOINSTANCE=\"COUNTERPARTY_DOCUMENT\" TOFIELD=\"DOCUMENT_NUMBER\" FROMINSTANCETYPE=\"Expression\" FROMINSTANCE=\"EXP_TARGET\" FROMFIELD=\"DOCUMENT_NUMBER\"/>,\n",
       "  <CONNECTOR TOINSTANCETYPE=\"Target Definition\" TOINSTANCE=\"COUNTERPARTY_DOCUMENT\" TOFIELD=\"ISSUE_PLACE_DATE\" FROMINSTANCETYPE=\"Expression\" FROMINSTANCE=\"EXP_TARGET\" FROMFIELD=\"ISSUE_PLACE_DATE\"/>,\n",
       "  <CONNECTOR TOINSTANCETYPE=\"Target Definition\" TOINSTANCE=\"COUNTERPARTY_DOCUMENT\" TOFIELD=\"ISSUE_PLACE\" FROMINSTANCETYPE=\"Expression\" FROMINSTANCE=\"EXP_TARGET\" FROMFIELD=\"ISSUE_PLACE\"/>,\n",
       "\u001b[33m...\u001b[0m"
      ]
     },
     "metadata": {},
     "output_type": "display_data"
    }
   ],
   "source": [
    "(xml_old \\\\ \"CONNECTOR\")"
   ]
  },
  {
   "cell_type": "code",
   "execution_count": 24,
   "metadata": {
    "collapsed": false
   },
   "outputs": [
    {
     "data": {
      "text/plain": [
       "\u001b[36mfields_old\u001b[0m: \u001b[32mcollection\u001b[0m.\u001b[32mimmutable\u001b[0m.\u001b[32mSeq\u001b[0m[(((\u001b[32mNode\u001b[0m, \u001b[32mNode\u001b[0m), \u001b[32mNode\u001b[0m), \u001b[32mNode\u001b[0m)] = \u001b[33mList\u001b[0m(\n",
       "  \u001b[33m\u001b[0m(\n",
       "    \u001b[33m\u001b[0m(\n",
       "      \u001b[33m\u001b[0m(\u001b[33mText\u001b[0m(COUNTERPARTY_DOCUMENT_TYPE_RK), \u001b[33mText\u001b[0m(EXP_TARGET)),\n",
       "      \u001b[33mText\u001b[0m(COUNTERPARTY_DOCUMENT_TYPE_RK)\n",
       "    ),\n",
       "    \u001b[33mText\u001b[0m(COUNTERPARTY_DOCUMENT)\n",
       "  ),\n",
       "  \u001b[33m\u001b[0m(\n",
       "    \u001b[33m\u001b[0m(\n",
       "      \u001b[33m\u001b[0m(\u001b[33mText\u001b[0m(DOCUMENT_SERIES_NUMBER), \u001b[33mText\u001b[0m(EXP_TARGET)),\n",
       "      \u001b[33mText\u001b[0m(DOCUMENT_SERIES_NUMBER)\n",
       "    ),\n",
       "    \u001b[33mText\u001b[0m(COUNTERPARTY_DOCUMENT)\n",
       "  ),\n",
       "\u001b[33m...\u001b[0m"
      ]
     },
     "metadata": {},
     "output_type": "display_data"
    }
   ],
   "source": [
    "val fields_old = (xml_old \\\\ \"CONNECTOR\" \\\\ \"@FROMFIELD\")\n",
    "  .zip(xml_old \\\\ \"CONNECTOR\" \\\\ \"@FROMINSTANCE\")\n",
    "  .zip(xml_old \\\\ \"CONNECTOR\" \\\\ \"@TOFIELD\")\n",
    "  .zip(xml_old \\\\ \"CONNECTOR\" \\\\ \"@TOINSTANCE\")"
   ]
  },
  {
   "cell_type": "code",
   "execution_count": 29,
   "metadata": {
    "collapsed": false
   },
   "outputs": [
    {
     "data": {
      "text/plain": [
       "\u001b[36mfields_mat\u001b[0m: \u001b[32mcollection\u001b[0m.\u001b[32mimmutable\u001b[0m.\u001b[32mSeq\u001b[0m[(((\u001b[32mNode\u001b[0m, \u001b[32mNode\u001b[0m), \u001b[32mNode\u001b[0m), \u001b[32mNode\u001b[0m)] = \u001b[33mList\u001b[0m(\n",
       "  \u001b[33m\u001b[0m(\n",
       "    \u001b[33m\u001b[0m(\n",
       "      \u001b[33m\u001b[0m(\u001b[33mText\u001b[0m(COUNTERPARTY_DOCUMENT_TYPE_RK), \u001b[33mText\u001b[0m(EXP_TARGET)),\n",
       "      \u001b[33mText\u001b[0m(COUNTERPARTY_DOCUMENT_TYPE_RK)\n",
       "    ),\n",
       "    \u001b[33mText\u001b[0m(COUNTERPARTY_DOCUMENT)\n",
       "  ),\n",
       "  \u001b[33m\u001b[0m(\n",
       "    \u001b[33m\u001b[0m(\n",
       "      \u001b[33m\u001b[0m(\u001b[33mText\u001b[0m(DOCUMENT_SERIES_NUMBER), \u001b[33mText\u001b[0m(EXP_TARGET)),\n",
       "      \u001b[33mText\u001b[0m(DOCUMENT_SERIES_NUMBER)\n",
       "    ),\n",
       "    \u001b[33mText\u001b[0m(COUNTERPARTY_DOCUMENT)\n",
       "  ),\n",
       "\u001b[33m...\u001b[0m"
      ]
     },
     "metadata": {},
     "output_type": "display_data"
    }
   ],
   "source": [
    "val fields_mat = (xml_mat \\\\ \"CONNECTOR\" \\\\ \"@FROMFIELD\")\n",
    "  .zip(xml_mat \\\\ \"CONNECTOR\" \\\\ \"@FROMINSTANCE\")\n",
    "  .zip(xml_mat \\\\ \"CONNECTOR\" \\\\ \"@TOFIELD\")\n",
    "  .zip(xml_mat \\\\ \"CONNECTOR\" \\\\ \"@TOINSTANCE\")"
   ]
  },
  {
   "cell_type": "code",
   "execution_count": 27,
   "metadata": {
    "collapsed": false
   },
   "outputs": [
    {
     "data": {
      "text/plain": [
       "defined \u001b[32mfunction \u001b[36mbigflat\u001b[0m"
      ]
     },
     "metadata": {},
     "output_type": "display_data"
    }
   ],
   "source": [
    "def bigflat[A,B,C,D](t: (((A,B),C),D)) = (t._1._1._1.toString, t._1._1._2.toString, t._1._2.toString, t._2.toString)"
   ]
  },
  {
   "cell_type": "code",
   "execution_count": 28,
   "metadata": {
    "collapsed": false
   },
   "outputs": [
    {
     "data": {
      "text/plain": [
       "\u001b[36mres18\u001b[0m: \u001b[32mcollection\u001b[0m.\u001b[32mimmutable\u001b[0m.\u001b[32mSeq\u001b[0m[(\u001b[32mString\u001b[0m, \u001b[32mString\u001b[0m, \u001b[32mString\u001b[0m, \u001b[32mString\u001b[0m)] = \u001b[33mList\u001b[0m(\n",
       "  \u001b[33m\u001b[0m(\n",
       "    \u001b[32m\"COUNTERPARTY_DOCUMENT_TYPE_RK\"\u001b[0m,\n",
       "    \u001b[32m\"EXP_TARGET\"\u001b[0m,\n",
       "    \u001b[32m\"COUNTERPARTY_DOCUMENT_TYPE_RK\"\u001b[0m,\n",
       "    \u001b[32m\"COUNTERPARTY_DOCUMENT\"\u001b[0m\n",
       "  ),\n",
       "  \u001b[33m\u001b[0m(\n",
       "    \u001b[32m\"DOCUMENT_SERIES_NUMBER\"\u001b[0m,\n",
       "    \u001b[32m\"EXP_TARGET\"\u001b[0m,\n",
       "    \u001b[32m\"DOCUMENT_SERIES_NUMBER\"\u001b[0m,\n",
       "    \u001b[32m\"COUNTERPARTY_DOCUMENT\"\u001b[0m\n",
       "  ),\n",
       "  \u001b[33m\u001b[0m(\n",
       "    \u001b[32m\"DOCUMENT_SERIES\"\u001b[0m,\n",
       "\u001b[33m...\u001b[0m"
      ]
     },
     "metadata": {},
     "output_type": "display_data"
    }
   ],
   "source": [
    "fields map bigflat"
   ]
  },
  {
   "cell_type": "code",
   "execution_count": 50,
   "metadata": {
    "collapsed": false
   },
   "outputs": [
    {
     "data": {
      "text/plain": [
       "\u001b[36mtmp\u001b[0m: \u001b[32mcollection\u001b[0m.\u001b[32mimmutable\u001b[0m.\u001b[32mSeq\u001b[0m[(\u001b[32mString\u001b[0m, \u001b[32mString\u001b[0m, \u001b[32mString\u001b[0m, \u001b[32mString\u001b[0m)] = \u001b[33mList\u001b[0m(\n",
       "  \u001b[33m\u001b[0m(\n",
       "    \u001b[32m\"COUNTERPARTY_DOCUMENT_TYPE_RK\"\u001b[0m,\n",
       "    \u001b[32m\"EXP_TARGET\"\u001b[0m,\n",
       "    \u001b[32m\"COUNTERPARTY_DOCUMENT_TYPE_RK\"\u001b[0m,\n",
       "    \u001b[32m\"COUNTERPARTY_DOCUMENT\"\u001b[0m\n",
       "  ),\n",
       "  \u001b[33m\u001b[0m(\n",
       "    \u001b[32m\"DOCUMENT_SERIES_NUMBER\"\u001b[0m,\n",
       "    \u001b[32m\"EXP_TARGET\"\u001b[0m,\n",
       "    \u001b[32m\"DOCUMENT_SERIES_NUMBER\"\u001b[0m,\n",
       "    \u001b[32m\"COUNTERPARTY_DOCUMENT\"\u001b[0m\n",
       "  ),\n",
       "  \u001b[33m\u001b[0m(\n",
       "    \u001b[32m\"DOCUMENT_SERIES\"\u001b[0m,\n",
       "\u001b[33m...\u001b[0m"
      ]
     },
     "metadata": {},
     "output_type": "display_data"
    }
   ],
   "source": [
    "val tmp = fields_old map bigflat"
   ]
  },
  {
   "cell_type": "code",
   "execution_count": 53,
   "metadata": {
    "collapsed": false
   },
   "outputs": [
    {
     "data": {
      "text/plain": [
       "\u001b[36mres35\u001b[0m: \u001b[32mString\u001b[0m = \u001b[32m\"COUNTERPARTY_DOCUMENT_TYPE_RK\"\u001b[0m"
      ]
     },
     "metadata": {},
     "output_type": "display_data"
    }
   ],
   "source": [
    "tmp(0)._1"
   ]
  },
  {
   "cell_type": "code",
   "execution_count": 65,
   "metadata": {
    "collapsed": false
   },
   "outputs": [
    {
     "ename": "",
     "evalue": "",
     "output_type": "error",
     "traceback": [
      "Compilation Failed",
      "\u001b[31mMain.scala:273: missing parameter type for expanded function ((x$3) => x$3._1)\r",
      "(fields_old map bigflat).sortBy(_._1).filter(Array((fields_mat map bigflat).sortBy(_._1)).contains(_._1))\r",
      "                                                                                                   ^\u001b[0m",
      "\u001b[31mMain.scala:273: type mismatch;",
      " found   : Boolean",
      " required: ((String, String, String, String)) => Boolean\r",
      "(fields_old map bigflat).sortBy(_._1).filter(Array((fields_mat map bigflat).sortBy(_._1)).contains(_._1))\r",
      "                                                                                                  ^\u001b[0m"
     ]
    }
   ],
   "source": [
    "(fields_old map bigflat).sortBy(_._1).filter(Array((fields_mat map bigflat).sortBy(_._1)).contains(_._1))"
   ]
  },
  {
   "cell_type": "code",
   "execution_count": 70,
   "metadata": {
    "collapsed": false
   },
   "outputs": [
    {
     "data": {
      "text/plain": [
       "\u001b[36mres46\u001b[0m: \u001b[32mBoolean\u001b[0m = false"
      ]
     },
     "metadata": {},
     "output_type": "display_data"
    }
   ],
   "source": [
    "(fields_mat map bigflat).sortBy(_._1).containsSlice()"
   ]
  },
  {
   "cell_type": "code",
   "execution_count": 89,
   "metadata": {
    "collapsed": false
   },
   "outputs": [
    {
     "data": {
      "text/plain": [
       "\u001b[36mtmp\u001b[0m: \u001b[32mcollection\u001b[0m.\u001b[32mimmutable\u001b[0m.\u001b[32mSeq\u001b[0m[(\u001b[32mString\u001b[0m, \u001b[32mString\u001b[0m, \u001b[32mString\u001b[0m, \u001b[32mString\u001b[0m)] = \u001b[33mList\u001b[0m(\n",
       "  \u001b[33m\u001b[0m(\u001b[32m\"BRANCH\"\u001b[0m, \u001b[32m\"SQ_CA_GET_HFORMS\"\u001b[0m, \u001b[32m\"BRANCH\"\u001b[0m, \u001b[32m\"EXP_SRC_HFORMS\"\u001b[0m),\n",
       "  \u001b[33m\u001b[0m(\u001b[32m\"BRANCH\"\u001b[0m, \u001b[32m\"SQ_CA_GET_SFORMS\"\u001b[0m, \u001b[32m\"BRANCH\"\u001b[0m, \u001b[32m\"EXP_SRC_SFORMS\"\u001b[0m),\n",
       "  \u001b[33m\u001b[0m(\u001b[32m\"BRANCH\"\u001b[0m, \u001b[32m\"CA_GET_HFORMS\"\u001b[0m, \u001b[32m\"BRANCH\"\u001b[0m, \u001b[32m\"SQ_CA_GET_HFORMS\"\u001b[0m),\n",
       "  \u001b[33m\u001b[0m(\u001b[32m\"BRANCH\"\u001b[0m, \u001b[32m\"CA_GET_SFORMS\"\u001b[0m, \u001b[32m\"BRANCH\"\u001b[0m, \u001b[32m\"SQ_CA_GET_SFORMS\"\u001b[0m),\n",
       "  \u001b[33m\u001b[0m(\n",
       "    \u001b[32m\"COUNTERPARTY_DOCUMENT_TYPE_RK\"\u001b[0m,\n",
       "    \u001b[32m\"EXP_TARGET\"\u001b[0m,\n",
       "    \u001b[32m\"COUNTERPARTY_DOCUMENT_TYPE_RK\"\u001b[0m,\n",
       "    \u001b[32m\"COUNTERPARTY_DOCUMENT\"\u001b[0m\n",
       "  ),\n",
       "\u001b[33m...\u001b[0m"
      ]
     },
     "metadata": {},
     "output_type": "display_data"
    }
   ],
   "source": [
    "val tmp = (fields_mat map bigflat).sortBy(_._1).filter(y=>fields_old.map(bigflat(_)).sortBy(_._1).map(x=>x._1).contains(y._1))"
   ]
  },
  {
   "cell_type": "code",
   "execution_count": 91,
   "metadata": {
    "collapsed": false
   },
   "outputs": [
    {
     "data": {
      "text/plain": [
       "\u001b[36mres61\u001b[0m: \u001b[32mcollection\u001b[0m.\u001b[32mimmutable\u001b[0m.\u001b[32mSeq\u001b[0m[(\u001b[32mString\u001b[0m, \u001b[32mString\u001b[0m, \u001b[32mString\u001b[0m, \u001b[32mString\u001b[0m)] = \u001b[33mList\u001b[0m(\n",
       "  \u001b[33m\u001b[0m(\n",
       "    \u001b[32m\"ACADEMIC_YEAR\"\u001b[0m,\n",
       "    \u001b[32m\"SCORING_FORMS\"\u001b[0m,\n",
       "    \u001b[32m\"ACADEMIC_YEAR\"\u001b[0m,\n",
       "    \u001b[32m\"SQ_SCORING_FORMS\"\u001b[0m\n",
       "  ),\n",
       "  \u001b[33m\u001b[0m(\n",
       "    \u001b[32m\"ACCEPT_DICISION\"\u001b[0m,\n",
       "    \u001b[32m\"SCORING_FORMS\"\u001b[0m,\n",
       "    \u001b[32m\"ACCEPT_DICISION\"\u001b[0m,\n",
       "    \u001b[32m\"SQ_SCORING_FORMS\"\u001b[0m\n",
       "  ),\n",
       "  \u001b[33m\u001b[0m(\u001b[32m\"AC_BRAND\"\u001b[0m, \u001b[32m\"SCORING_FORMS\"\u001b[0m, \u001b[32m\"AC_BRAND\"\u001b[0m, \u001b[32m\"SQ_SCORING_FORMS\"\u001b[0m),\n",
       "\u001b[33m...\u001b[0m"
      ]
     },
     "metadata": {},
     "output_type": "display_data"
    }
   ],
   "source": [
    "fields_old.map(bigflat(_)).sortBy(_._1)"
   ]
  },
  {
   "cell_type": "code",
   "execution_count": 92,
   "metadata": {
    "collapsed": false
   },
   "outputs": [
    {
     "data": {
      "text/plain": [
       "\u001b[36mtmp2\u001b[0m: \u001b[32mcollection\u001b[0m.\u001b[32mimmutable\u001b[0m.\u001b[32mSeq\u001b[0m[(\u001b[32mString\u001b[0m, \u001b[32mString\u001b[0m, \u001b[32mString\u001b[0m, \u001b[32mString\u001b[0m)] = \u001b[33mList\u001b[0m(\n",
       "  \u001b[33m\u001b[0m(\u001b[32m\"BRANCH\"\u001b[0m, \u001b[32m\"SQ_HYPO_FORMS\"\u001b[0m, \u001b[32m\"BRANCH\"\u001b[0m, \u001b[32m\"EXP_SRC_HFORMS\"\u001b[0m),\n",
       "  \u001b[33m\u001b[0m(\u001b[32m\"BRANCH\"\u001b[0m, \u001b[32m\"HYPO_FORMS\"\u001b[0m, \u001b[32m\"BRANCH\"\u001b[0m, \u001b[32m\"SQ_HYPO_FORMS\"\u001b[0m),\n",
       "  \u001b[33m\u001b[0m(\u001b[32m\"BRANCH\"\u001b[0m, \u001b[32m\"SCORING_FORMS\"\u001b[0m, \u001b[32m\"BRANCH\"\u001b[0m, \u001b[32m\"SQ_SCORING_FORMS\"\u001b[0m),\n",
       "  \u001b[33m\u001b[0m(\u001b[32m\"BRANCH\"\u001b[0m, \u001b[32m\"SQ_SCORING_FORMS\"\u001b[0m, \u001b[32m\"BRANCH\"\u001b[0m, \u001b[32m\"EXP_SRC_SFORMS\"\u001b[0m),\n",
       "  \u001b[33m\u001b[0m(\n",
       "    \u001b[32m\"COUNTERPARTY_DOCUMENT_TYPE_RK\"\u001b[0m,\n",
       "    \u001b[32m\"EXP_TARGET\"\u001b[0m,\n",
       "    \u001b[32m\"COUNTERPARTY_DOCUMENT_TYPE_RK\"\u001b[0m,\n",
       "    \u001b[32m\"COUNTERPARTY_DOCUMENT\"\u001b[0m\n",
       "  ),\n",
       "  \u001b[33m\u001b[0m(\n",
       "\u001b[33m...\u001b[0m"
      ]
     },
     "metadata": {},
     "output_type": "display_data"
    }
   ],
   "source": [
    "val tmp2 = (fields_old map bigflat).sortBy(_._1).filter(y=>fields_mat.map(bigflat(_)).sortBy(_._1).map(x=>x._1).contains(y._1))"
   ]
  },
  {
   "cell_type": "code",
   "execution_count": 105,
   "metadata": {
    "collapsed": false
   },
   "outputs": [
    {
     "data": {
      "text/plain": [
       "\u001b[32mimport \u001b[36mscala.collection.immutable.TreeMap\u001b[0m"
      ]
     },
     "metadata": {},
     "output_type": "display_data"
    }
   ],
   "source": [
    "import scala.collection.immutable.TreeMap"
   ]
  },
  {
   "cell_type": "code",
   "execution_count": 112,
   "metadata": {
    "collapsed": false,
    "scrolled": false
   },
   "outputs": [
    {
     "data": {
      "text/plain": [
       "\u001b[36mres76\u001b[0m: \u001b[32mammonite\u001b[0m.\u001b[32mpprint\u001b[0m.\u001b[32mShow\u001b[0m[\u001b[32mTreeMap\u001b[0m[\u001b[32mString\u001b[0m, \u001b[32mcollection\u001b[0m.\u001b[32mimmutable\u001b[0m.\u001b[32mSeq\u001b[0m[(\u001b[32mString\u001b[0m, \u001b[32mString\u001b[0m, \u001b[32mString\u001b[0m, \u001b[32mString\u001b[0m)]]] = \u001b[33mMap\u001b[0m(\n",
       "  \u001b[32m\"COUNTERPARTY_DOCUMENT\"\u001b[0m -> \u001b[33mList\u001b[0m(\n",
       "    \u001b[33m\u001b[0m(\n",
       "      \u001b[32m\"COUNTERPARTY_DOCUMENT_TYPE_RK\"\u001b[0m,\n",
       "      \u001b[32m\"EXP_TARGET\"\u001b[0m,\n",
       "      \u001b[32m\"COUNTERPARTY_DOCUMENT_TYPE_RK\"\u001b[0m,\n",
       "      \u001b[32m\"COUNTERPARTY_DOCUMENT\"\u001b[0m\n",
       "    ),\n",
       "    \u001b[33m\u001b[0m(\n",
       "      \u001b[32m\"DELETED_FLAG\"\u001b[0m,\n",
       "      \u001b[32m\"EXP_TARGET\"\u001b[0m,\n",
       "      \u001b[32m\"DELETED_FLAG\"\u001b[0m,\n",
       "      \u001b[32m\"COUNTERPARTY_DOCUMENT\"\u001b[0m\n",
       "    ),\n",
       "    \u001b[33m\u001b[0m(\n",
       "      \u001b[32m\"DOCUMENT_NUMBER\"\u001b[0m,\n",
       "      \u001b[32m\"EXP_TARGET\"\u001b[0m,\n",
       "      \u001b[32m\"DOCUMENT_NUMBER\"\u001b[0m,\n",
       "      \u001b[32m\"COUNTERPARTY_DOCUMENT\"\u001b[0m\n",
       "    ),\n",
       "    \u001b[33m\u001b[0m(\n",
       "      \u001b[32m\"DOCUMENT_SERIES\"\u001b[0m,\n",
       "      \u001b[32m\"EXP_TARGET\"\u001b[0m,\n",
       "      \u001b[32m\"DOCUMENT_SERIES\"\u001b[0m,\n",
       "      \u001b[32m\"COUNTERPARTY_DOCUMENT\"\u001b[0m\n",
       "    ),\n",
       "    \u001b[33m\u001b[0m(\n",
       "      \u001b[32m\"DOCUMENT_SERIES_NUMBER\"\u001b[0m,\n",
       "      \u001b[32m\"EXP_TARGET\"\u001b[0m,\n",
       "      \u001b[32m\"DOCUMENT_SERIES_NUMBER\"\u001b[0m,\n",
       "      \u001b[32m\"COUNTERPARTY_DOCUMENT\"\u001b[0m\n",
       "    ),\n",
       "    \u001b[33m\u001b[0m(\n",
       "      \u001b[32m\"DWH_JOB_ID\"\u001b[0m,\n",
       "      \u001b[32m\"EXP_TARGET\"\u001b[0m,\n",
       "      \u001b[32m\"DWH_JOB_ID\"\u001b[0m,\n",
       "      \u001b[32m\"COUNTERPARTY_DOCUMENT\"\u001b[0m\n",
       "    ),\n",
       "    \u001b[33m\u001b[0m(\n",
       "      \u001b[32m\"EXPIRY_DT\"\u001b[0m,\n",
       "      \u001b[32m\"EXP_TARGET\"\u001b[0m,\n",
       "      \u001b[32m\"EXPIRY_DT\"\u001b[0m,\n",
       "      \u001b[32m\"COUNTERPARTY_DOCUMENT\"\u001b[0m\n",
       "    ),\n",
       "    \u001b[33m\u001b[0m(\n",
       "      \u001b[32m\"ISSUE_DT\"\u001b[0m,\n",
       "      \u001b[32m\"EXP_TARGET\"\u001b[0m,\n",
       "      \u001b[32m\"ISSUE_DT\"\u001b[0m,\n",
       "      \u001b[32m\"COUNTERPARTY_DOCUMENT\"\u001b[0m\n",
       "    ),\n",
       "    \u001b[33m\u001b[0m(\n",
       "      \u001b[32m\"ISSUE_PLACE\"\u001b[0m,\n",
       "      \u001b[32m\"EXP_TARGET\"\u001b[0m,\n",
       "      \u001b[32m\"ISSUE_PLACE\"\u001b[0m,\n",
       "      \u001b[32m\"COUNTERPARTY_DOCUMENT\"\u001b[0m\n",
       "    ),\n",
       "    \u001b[33m\u001b[0m(\n",
       "      \u001b[32m\"ISSUE_PLACE_CODE\"\u001b[0m,\n",
       "      \u001b[32m\"EXP_TARGET\"\u001b[0m,\n",
       "      \u001b[32m\"ISSUE_PLACE_CODE\"\u001b[0m,\n",
       "      \u001b[32m\"COUNTERPARTY_DOCUMENT\"\u001b[0m\n",
       "    ),\n",
       "    \u001b[33m\u001b[0m(\n",
       "      \u001b[32m\"ISSUE_PLACE_DATE\"\u001b[0m,\n",
       "      \u001b[32m\"EXP_TARGET\"\u001b[0m,\n",
       "      \u001b[32m\"ISSUE_PLACE_DATE\"\u001b[0m,\n",
       "      \u001b[32m\"COUNTERPARTY_DOCUMENT\"\u001b[0m\n",
       "    ),\n",
       "    \u001b[33m\u001b[0m(\n",
       "      \u001b[32m\"PROCESSED_DTTM\"\u001b[0m,\n",
       "      \u001b[32m\"EXP_TARGET\"\u001b[0m,\n",
       "      \u001b[32m\"PROCESSED_DTTM\"\u001b[0m,\n",
       "      \u001b[32m\"COUNTERPARTY_DOCUMENT\"\u001b[0m\n",
       "    ),\n",
       "    \u001b[33m\u001b[0m(\n",
       "      \u001b[32m\"RK\"\u001b[0m,\n",
       "      \u001b[32m\"mp_IDMAP_ORPHAN_COUNTERPARTY_RK\"\u001b[0m,\n",
       "      \u001b[32m\"COUNTERPARTY_RK\"\u001b[0m,\n",
       "      \u001b[32m\"COUNTERPARTY_DOCUMENT\"\u001b[0m\n",
       "    ),\n",
       "    \u001b[33m\u001b[0m(\n",
       "      \u001b[32m\"SOURCE_SYSTEM_CCD\"\u001b[0m,\n",
       "      \u001b[32m\"EXP_TARGET\"\u001b[0m,\n",
       "      \u001b[32m\"SOURCE_SYSTEM_CCD\"\u001b[0m,\n",
       "      \u001b[32m\"COUNTERPARTY_DOCUMENT\"\u001b[0m\n",
       "    )\n",
       "  ),\n",
       "  \u001b[32m\"EXP_CHECK_DATE_HFORMS\"\u001b[0m -> \u001b[33mList\u001b[0m(\n",
       "    \u001b[33m\u001b[0m(\n",
       "      \u001b[32m\"DRIVELIC_DATE\"\u001b[0m,\n",
       "      \u001b[32m\"FIL_HFORMS\"\u001b[0m,\n",
       "      \u001b[32m\"in_DRIVELIC_DATE\"\u001b[0m,\n",
       "      \u001b[32m\"EXP_CHECK_DATE_HFORMS\"\u001b[0m\n",
       "    ),\n",
       "    \u001b[33m\u001b[0m(\n",
       "      \u001b[32m\"PASSPORT_DATE\"\u001b[0m,\n",
       "      \u001b[32m\"FIL_HFORMS\"\u001b[0m,\n",
       "      \u001b[32m\"in_PASSPORT_DATE\"\u001b[0m,\n",
       "      \u001b[32m\"EXP_CHECK_DATE_HFORMS\"\u001b[0m\n",
       "    )\n",
       "  ),\n",
       "  \u001b[32m\"EXP_CHECK_DATE_SFORMS\"\u001b[0m -> \u001b[33mList\u001b[0m(\n",
       "    \u001b[33m\u001b[0m(\n",
       "      \u001b[32m\"DRIVELIC_DATE\"\u001b[0m,\n",
       "      \u001b[32m\"FIL_SFORMS\"\u001b[0m,\n",
       "      \u001b[32m\"DRIVELIC_DATE\"\u001b[0m,\n",
       "      \u001b[32m\"EXP_CHECK_DATE_SFORMS\"\u001b[0m\n",
       "    ),\n",
       "    \u001b[33m\u001b[0m(\n",
       "      \u001b[32m\"OLD_PASSPORT_DATE\"\u001b[0m,\n",
       "      \u001b[32m\"FIL_SFORMS\"\u001b[0m,\n",
       "      \u001b[32m\"OLD_PASSPORT_DATE\"\u001b[0m,\n",
       "      \u001b[32m\"EXP_CHECK_DATE_SFORMS\"\u001b[0m\n",
       "    ),\n",
       "    \u001b[33m\u001b[0m(\n",
       "      \u001b[32m\"PASSPORT_DATE\"\u001b[0m,\n",
       "      \u001b[32m\"FIL_SFORMS\"\u001b[0m,\n",
       "      \u001b[32m\"PASSPORT_DATE\"\u001b[0m,\n",
       "      \u001b[32m\"EXP_CHECK_DATE_SFORMS\"\u001b[0m\n",
       "    ),\n",
       "    \u001b[33m\u001b[0m(\n",
       "      \u001b[32m\"SOLDIER_DATE\"\u001b[0m,\n",
       "      \u001b[32m\"FIL_SFORMS\"\u001b[0m,\n",
       "      \u001b[32m\"SOLDIER_DATE\"\u001b[0m,\n",
       "      \u001b[32m\"EXP_CHECK_DATE_SFORMS\"\u001b[0m\n",
       "    ),\n",
       "    \u001b[33m\u001b[0m(\n",
       "      \u001b[32m\"ZAGRAN_DATE\"\u001b[0m,\n",
       "      \u001b[32m\"FIL_SFORMS\"\u001b[0m,\n",
       "      \u001b[32m\"ZAGRAN_DATE\"\u001b[0m,\n",
       "      \u001b[32m\"EXP_CHECK_DATE_SFORMS\"\u001b[0m\n",
       "    )\n",
       "  ),\n",
       "  \u001b[32m\"EXP_DOCUMENT_TYPE\"\u001b[0m -> \u001b[33mList\u001b[0m(\n",
       "    \u001b[33m\u001b[0m(\n",
       "      \u001b[32m\"DOC_TYPE_DRIVE_LIC\"\u001b[0m,\n",
       "      \u001b[32m\"FIL_SFORMS\"\u001b[0m,\n",
       "      \u001b[32m\"DOC_TYPE_DRIVE_LIC\"\u001b[0m,\n",
       "      \u001b[32m\"EXP_DOCUMENT_TYPE\"\u001b[0m\n",
       "    ),\n",
       "    \u001b[33m\u001b[0m(\n",
       "      \u001b[32m\"DOC_TYPE_MILITARY_ID\"\u001b[0m,\n",
       "      \u001b[32m\"FIL_SFORMS\"\u001b[0m,\n",
       "      \u001b[32m\"DOC_TYPE_MILITARY_ID\"\u001b[0m,\n",
       "      \u001b[32m\"EXP_DOCUMENT_TYPE\"\u001b[0m\n",
       "    ),\n",
       "    \u001b[33m\u001b[0m(\n",
       "      \u001b[32m\"DOC_TYPE_OLD_PASS\"\u001b[0m,\n",
       "      \u001b[32m\"FIL_SFORMS\"\u001b[0m,\n",
       "      \u001b[32m\"DOC_TYPE_OLD_PASS\"\u001b[0m,\n",
       "      \u001b[32m\"EXP_DOCUMENT_TYPE\"\u001b[0m\n",
       "    ),\n",
       "    \u001b[33m\u001b[0m(\n",
       "      \u001b[32m\"DOC_TYPE_PASS\"\u001b[0m,\n",
       "      \u001b[32m\"FIL_SFORMS\"\u001b[0m,\n",
       "      \u001b[32m\"DOC_TYPE_PASS\"\u001b[0m,\n",
       "      \u001b[32m\"EXP_DOCUMENT_TYPE\"\u001b[0m\n",
       "    ),\n",
       "    \u001b[33m\u001b[0m(\n",
       "      \u001b[32m\"DOC_TYPE_PENSFOND\"\u001b[0m,\n",
       "      \u001b[32m\"FIL_SFORMS\"\u001b[0m,\n",
       "      \u001b[32m\"DOC_TYPE_PENSFOND\"\u001b[0m,\n",
       "      \u001b[32m\"EXP_DOCUMENT_TYPE\"\u001b[0m\n",
       "    ),\n",
       "    \u001b[33m\u001b[0m(\n",
       "      \u001b[32m\"DOC_TYPE_SEC_DOC_TYPE\"\u001b[0m,\n",
       "      \u001b[32m\"FIL_SFORMS\"\u001b[0m,\n",
       "      \u001b[32m\"DOC_TYPE_SEC_DOC_TYPE\"\u001b[0m,\n",
       "      \u001b[32m\"EXP_DOCUMENT_TYPE\"\u001b[0m\n",
       "    ),\n",
       "    \u001b[33m\u001b[0m(\n",
       "      \u001b[32m\"DOC_TYPE_WORKBOOK\"\u001b[0m,\n",
       "      \u001b[32m\"FIL_SFORMS\"\u001b[0m,\n",
       "      \u001b[32m\"DOC_TYPE_WORKBOOK\"\u001b[0m,\n",
       "      \u001b[32m\"EXP_DOCUMENT_TYPE\"\u001b[0m\n",
       "    ),\n",
       "    \u001b[33m\u001b[0m(\n",
       "      \u001b[32m\"DOC_TYPE_ZAGRAN\"\u001b[0m,\n",
       "      \u001b[32m\"FIL_SFORMS\"\u001b[0m,\n",
       "      \u001b[32m\"DOC_TYPE_ZAGRAN\"\u001b[0m,\n",
       "      \u001b[32m\"EXP_DOCUMENT_TYPE\"\u001b[0m\n",
       "    )\n",
       "  ),\n",
       "  \u001b[32m\"EXP_NORM_HFORMS\"\u001b[0m -> \u001b[33mList\u001b[0m(\n",
       "    \u001b[33m\u001b[0m(\n",
       "      \u001b[32m\"DOCUMENT_SER_NUM\"\u001b[0m,\n",
       "      \u001b[32m\"FIL_NULL_HFORMS\"\u001b[0m,\n",
       "      \u001b[32m\"DOCUMENT_SER_NUM\"\u001b[0m,\n",
       "      \u001b[32m\"EXP_NORM_HFORMS\"\u001b[0m\n",
       "    ),\n",
       "    \u001b[33m\u001b[0m(\n",
       "      \u001b[32m\"DOCUMENT_TYPE\"\u001b[0m,\n",
       "      \u001b[32m\"FIL_NULL_HFORMS\"\u001b[0m,\n",
       "      \u001b[32m\"DOCUMENT_TYPE\"\u001b[0m,\n",
       "      \u001b[32m\"EXP_NORM_HFORMS\"\u001b[0m\n",
       "    ),\n",
       "    \u001b[33m\u001b[0m(\n",
       "      \u001b[32m\"ISSUE_DT\"\u001b[0m,\n",
       "      \u001b[32m\"FIL_NULL_HFORMS\"\u001b[0m,\n",
       "      \u001b[32m\"ISSUE_DT\"\u001b[0m,\n",
       "      \u001b[32m\"EXP_NORM_HFORMS\"\u001b[0m\n",
       "    ),\n",
       "    \u001b[33m\u001b[0m(\n",
       "      \u001b[32m\"ISSUE_PLACE\"\u001b[0m,\n",
       "      \u001b[32m\"FIL_NULL_HFORMS\"\u001b[0m,\n",
       "      \u001b[32m\"ISSUE_PLACE\"\u001b[0m,\n",
       "      \u001b[32m\"EXP_NORM_HFORMS\"\u001b[0m\n",
       "    ),\n",
       "    \u001b[33m\u001b[0m(\n",
       "      \u001b[32m\"ISSUE_PLACE_CODE\"\u001b[0m,\n",
       "      \u001b[32m\"FIL_NULL_HFORMS\"\u001b[0m,\n",
       "      \u001b[32m\"ISSUE_PLACE_CODE\"\u001b[0m,\n",
       "      \u001b[32m\"EXP_NORM_HFORMS\"\u001b[0m\n",
       "    ),\n",
       "    \u001b[33m\u001b[0m(\u001b[32m\"NK_CCD\"\u001b[0m, \u001b[32m\"FIL_NULL_HFORMS\"\u001b[0m, \u001b[32m\"NK_CCD\"\u001b[0m, \u001b[32m\"EXP_NORM_HFORMS\"\u001b[0m)\n",
       "  ),\n",
       "  \u001b[32m\"EXP_NRM_HFORMS\"\u001b[0m -> \u001b[33mList\u001b[0m(\n",
       "    \u001b[33m\u001b[0m(\n",
       "      \u001b[32m\"DOCUMENT_SER_NUM\"\u001b[0m,\n",
       "      \u001b[32m\"NRM_HFORMS\"\u001b[0m,\n",
       "      \u001b[32m\"DOCUMENT_SER_NUM\"\u001b[0m,\n",
       "      \u001b[32m\"EXP_NRM_HFORMS\"\u001b[0m\n",
       "    ),\n",
       "    \u001b[33m\u001b[0m(\n",
       "      \u001b[32m\"DOCUMENT_TYPE\"\u001b[0m,\n",
       "      \u001b[32m\"NRM_HFORMS\"\u001b[0m,\n",
       "      \u001b[32m\"DOCUMENT_TYPE\"\u001b[0m,\n",
       "      \u001b[32m\"EXP_NRM_HFORMS\"\u001b[0m\n",
       "    ),\n",
       "    \u001b[33m\u001b[0m(\n",
       "      \u001b[32m\"GCID_DOCUMENT_SER_NUM\"\u001b[0m,\n",
       "      \u001b[32m\"NRM_HFORMS\"\u001b[0m,\n",
       "      \u001b[32m\"GCID_DOCUMENT_SER_NUM\"\u001b[0m,\n",
       "      \u001b[32m\"EXP_NRM_HFORMS\"\u001b[0m\n",
       "    ),\n",
       "    \u001b[33m\u001b[0m(\n",
       "      \u001b[32m\"GCID_DOCUMENT_TYPE\"\u001b[0m,\n",
       "      \u001b[32m\"NRM_HFORMS\"\u001b[0m,\n",
       "      \u001b[32m\"GCID_DOCUMENT_TYPE\"\u001b[0m,\n",
       "      \u001b[32m\"EXP_NRM_HFORMS\"\u001b[0m\n",
       "    ),\n",
       "    \u001b[33m\u001b[0m(\n",
       "      \u001b[32m\"GCID_ISSUE_DT\"\u001b[0m,\n",
       "      \u001b[32m\"NRM_HFORMS\"\u001b[0m,\n",
       "      \u001b[32m\"GCID_ISSUE_DT\"\u001b[0m,\n",
       "      \u001b[32m\"EXP_NRM_HFORMS\"\u001b[0m\n",
       "    ),\n",
       "    \u001b[33m\u001b[0m(\n",
       "      \u001b[32m\"GCID_ISSUE_PLACE\"\u001b[0m,\n",
       "      \u001b[32m\"NRM_HFORMS\"\u001b[0m,\n",
       "      \u001b[32m\"GCID_ISSUE_PLACE\"\u001b[0m,\n",
       "      \u001b[32m\"EXP_NRM_HFORMS\"\u001b[0m\n",
       "    ),\n",
       "    \u001b[33m\u001b[0m(\n",
       "      \u001b[32m\"GCID_ISSUE_PLACE_CODE\"\u001b[0m,\n",
       "      \u001b[32m\"NRM_HFORMS\"\u001b[0m,\n",
       "      \u001b[32m\"GCID_ISSUE_PLACE_CODE\"\u001b[0m,\n",
       "      \u001b[32m\"EXP_NRM_HFORMS\"\u001b[0m\n",
       "    ),\n",
       "    \u001b[33m\u001b[0m(\n",
       "      \u001b[32m\"GK_DOCUMENT_TYPE\"\u001b[0m,\n",
       "      \u001b[32m\"NRM_HFORMS\"\u001b[0m,\n",
       "      \u001b[32m\"GK_DOCUMENT_TYPE\"\u001b[0m,\n",
       "      \u001b[32m\"EXP_NRM_HFORMS\"\u001b[0m\n",
       "    ),\n",
       "    \u001b[33m\u001b[0m(\u001b[32m\"ISSUE_DT\"\u001b[0m, \u001b[32m\"NRM_HFORMS\"\u001b[0m, \u001b[32m\"ISSUE_DT\"\u001b[0m, \u001b[32m\"EXP_NRM_HFORMS\"\u001b[0m),\n",
       "    \u001b[33m\u001b[0m(\n",
       "      \u001b[32m\"ISSUE_PLACE\"\u001b[0m,\n",
       "      \u001b[32m\"NRM_HFORMS\"\u001b[0m,\n",
       "      \u001b[32m\"ISSUE_PLACE\"\u001b[0m,\n",
       "      \u001b[32m\"EXP_NRM_HFORMS\"\u001b[0m\n",
       "    ),\n",
       "    \u001b[33m\u001b[0m(\n",
       "      \u001b[32m\"ISSUE_PLACE_CODE\"\u001b[0m,\n",
       "      \u001b[32m\"NRM_HFORMS\"\u001b[0m,\n",
       "      \u001b[32m\"ISSUE_PLACE_CODE\"\u001b[0m,\n",
       "      \u001b[32m\"EXP_NRM_HFORMS\"\u001b[0m\n",
       "    ),\n",
       "    \u001b[33m\u001b[0m(\u001b[32m\"NK_CCD\"\u001b[0m, \u001b[32m\"NRM_HFORMS\"\u001b[0m, \u001b[32m\"NK_CCD\"\u001b[0m, \u001b[32m\"EXP_NRM_HFORMS\"\u001b[0m)\n",
       "  ),\n",
       "  \u001b[32m\"EXP_NRM_NOT_NULL_SFORMS\"\u001b[0m -> \u001b[33mList\u001b[0m(\n",
       "    \u001b[33m\u001b[0m(\n",
       "      \u001b[32m\"DOCUMENT_NUMBER\"\u001b[0m,\n",
       "      \u001b[32m\"NRM_SFORMS\"\u001b[0m,\n",
       "      \u001b[32m\"DOCUMENT_NUMBER\"\u001b[0m,\n",
       "      \u001b[32m\"EXP_NRM_NOT_NULL_SFORMS\"\u001b[0m\n",
       "    ),\n",
       "    \u001b[33m\u001b[0m(\n",
       "      \u001b[32m\"DOCUMENT_SERIES\"\u001b[0m,\n",
       "      \u001b[32m\"NRM_SFORMS\"\u001b[0m,\n",
       "      \u001b[32m\"DOCUMENT_SERIES\"\u001b[0m,\n",
       "      \u001b[32m\"EXP_NRM_NOT_NULL_SFORMS\"\u001b[0m\n",
       "    ),\n",
       "    \u001b[33m\u001b[0m(\n",
       "      \u001b[32m\"DOCUMENT_SER_NUM\"\u001b[0m,\n",
       "      \u001b[32m\"NRM_SFORMS\"\u001b[0m,\n",
       "      \u001b[32m\"DOCUMENT_SER_NUM\"\u001b[0m,\n",
       "      \u001b[32m\"EXP_NRM_NOT_NULL_SFORMS\"\u001b[0m\n",
       "    ),\n",
       "    \u001b[33m\u001b[0m(\n",
       "      \u001b[32m\"DOCUMENT_TYPE_RK\"\u001b[0m,\n",
       "      \u001b[32m\"NRM_SFORMS\"\u001b[0m,\n",
       "      \u001b[32m\"DOCUMENT_TYPE_RK\"\u001b[0m,\n",
       "      \u001b[32m\"EXP_NRM_NOT_NULL_SFORMS\"\u001b[0m\n",
       "    ),\n",
       "    \u001b[33m\u001b[0m(\n",
       "      \u001b[32m\"GCID_DOCUMENT_NUMBER\"\u001b[0m,\n",
       "      \u001b[32m\"NRM_SFORMS\"\u001b[0m,\n",
       "      \u001b[32m\"GCID_DOCUMENT_NUMBER\"\u001b[0m,\n",
       "      \u001b[32m\"EXP_NRM_NOT_NULL_SFORMS\"\u001b[0m\n",
       "    ),\n",
       "    \u001b[33m\u001b[0m(\n",
       "      \u001b[32m\"GCID_DOCUMENT_SERIES\"\u001b[0m,\n",
       "      \u001b[32m\"NRM_SFORMS\"\u001b[0m,\n",
       "      \u001b[32m\"GCID_DOCUMENT_SERIES\"\u001b[0m,\n",
       "      \u001b[32m\"EXP_NRM_NOT_NULL_SFORMS\"\u001b[0m\n",
       "    ),\n",
       "    \u001b[33m\u001b[0m(\n",
       "      \u001b[32m\"GCID_DOCUMENT_SER_NUM\"\u001b[0m,\n",
       "      \u001b[32m\"NRM_SFORMS\"\u001b[0m,\n",
       "      \u001b[32m\"GCID_DOCUMENT_SER_NUM\"\u001b[0m,\n",
       "      \u001b[32m\"EXP_NRM_NOT_NULL_SFORMS\"\u001b[0m\n",
       "    ),\n",
       "    \u001b[33m\u001b[0m(\n",
       "      \u001b[32m\"GCID_DOCUMENT_TYPE_RK\"\u001b[0m,\n",
       "      \u001b[32m\"NRM_SFORMS\"\u001b[0m,\n",
       "      \u001b[32m\"GCID_DOCUMENT_TYPE_RK\"\u001b[0m,\n",
       "      \u001b[32m\"EXP_NRM_NOT_NULL_SFORMS\"\u001b[0m\n",
       "    ),\n",
       "    \u001b[33m\u001b[0m(\n",
       "      \u001b[32m\"GCID_ISSUE_DT\"\u001b[0m,\n",
       "      \u001b[32m\"NRM_SFORMS\"\u001b[0m,\n",
       "      \u001b[32m\"GCID_ISSUE_DT\"\u001b[0m,\n",
       "      \u001b[32m\"EXP_NRM_NOT_NULL_SFORMS\"\u001b[0m\n",
       "    ),\n",
       "    \u001b[33m\u001b[0m(\n",
       "      \u001b[32m\"GCID_ISSUE_PLACE\"\u001b[0m,\n",
       "      \u001b[32m\"NRM_SFORMS\"\u001b[0m,\n",
       "      \u001b[32m\"GCID_ISSUE_PLACE\"\u001b[0m,\n",
       "      \u001b[32m\"EXP_NRM_NOT_NULL_SFORMS\"\u001b[0m\n",
       "    ),\n",
       "    \u001b[33m\u001b[0m(\n",
       "      \u001b[32m\"GCID_ISSUE_PLACE_CODE\"\u001b[0m,\n",
       "      \u001b[32m\"NRM_SFORMS\"\u001b[0m,\n",
       "      \u001b[32m\"GCID_ISSUE_PLACE_CODE\"\u001b[0m,\n",
       "      \u001b[32m\"EXP_NRM_NOT_NULL_SFORMS\"\u001b[0m\n",
       "    ),\n",
       "    \u001b[33m\u001b[0m(\n",
       "      \u001b[32m\"GK_DOCUMENT_TYPE_RK\"\u001b[0m,\n",
       "      \u001b[32m\"NRM_SFORMS\"\u001b[0m,\n",
       "      \u001b[32m\"GK_DOCUMENT_TYPE_RK\"\u001b[0m,\n",
       "      \u001b[32m\"EXP_NRM_NOT_NULL_SFORMS\"\u001b[0m\n",
       "    ),\n",
       "    \u001b[33m\u001b[0m(\n",
       "      \u001b[32m\"ISSUE_DT\"\u001b[0m,\n",
       "      \u001b[32m\"NRM_SFORMS\"\u001b[0m,\n",
       "      \u001b[32m\"ISSUE_DT\"\u001b[0m,\n",
       "      \u001b[32m\"EXP_NRM_NOT_NULL_SFORMS\"\u001b[0m\n",
       "    ),\n",
       "    \u001b[33m\u001b[0m(\n",
       "      \u001b[32m\"ISSUE_PLACE\"\u001b[0m,\n",
       "      \u001b[32m\"NRM_SFORMS\"\u001b[0m,\n",
       "      \u001b[32m\"ISSUE_PLACE\"\u001b[0m,\n",
       "      \u001b[32m\"EXP_NRM_NOT_NULL_SFORMS\"\u001b[0m\n",
       "    ),\n",
       "    \u001b[33m\u001b[0m(\n",
       "      \u001b[32m\"ISSUE_PLACE_CODE\"\u001b[0m,\n",
       "      \u001b[32m\"NRM_SFORMS\"\u001b[0m,\n",
       "      \u001b[32m\"ISSUE_PLACE_CODE\"\u001b[0m,\n",
       "      \u001b[32m\"EXP_NRM_NOT_NULL_SFORMS\"\u001b[0m\n",
       "    ),\n",
       "    \u001b[33m\u001b[0m(\n",
       "      \u001b[32m\"NK_CCD\"\u001b[0m,\n",
       "      \u001b[32m\"NRM_SFORMS\"\u001b[0m,\n",
       "      \u001b[32m\"NK_CCD\"\u001b[0m,\n",
       "      \u001b[32m\"EXP_NRM_NOT_NULL_SFORMS\"\u001b[0m\n",
       "    )\n",
       "  ),\n",
       "  \u001b[32m\"EXP_NRM_SFORMS\"\u001b[0m -> \u001b[33mList\u001b[0m(\n",
       "    \u001b[33m\u001b[0m(\n",
       "      \u001b[32m\"DOCUMENT_NUMBER\"\u001b[0m,\n",
       "      \u001b[32m\"FIL_NULL_SFORMS\"\u001b[0m,\n",
       "      \u001b[32m\"DOCUMENT_NUMBER\"\u001b[0m,\n",
       "      \u001b[32m\"EXP_NRM_SFORMS\"\u001b[0m\n",
       "    ),\n",
       "    \u001b[33m\u001b[0m(\n",
       "      \u001b[32m\"DOCUMENT_SERIES\"\u001b[0m,\n",
       "      \u001b[32m\"FIL_NULL_SFORMS\"\u001b[0m,\n",
       "      \u001b[32m\"DOCUMENT_SERIES\"\u001b[0m,\n",
       "      \u001b[32m\"EXP_NRM_SFORMS\"\u001b[0m\n",
       "    ),\n",
       "    \u001b[33m\u001b[0m(\n",
       "      \u001b[32m\"DOCUMENT_SER_NUM\"\u001b[0m,\n",
       "      \u001b[32m\"FIL_NULL_SFORMS\"\u001b[0m,\n",
       "      \u001b[32m\"DOCUMENT_SER_NUM\"\u001b[0m,\n",
       "      \u001b[32m\"EXP_NRM_SFORMS\"\u001b[0m\n",
       "    ),\n",
       "    \u001b[33m\u001b[0m(\n",
       "      \u001b[32m\"DOCUMENT_TYPE_RK\"\u001b[0m,\n",
       "      \u001b[32m\"FIL_NULL_SFORMS\"\u001b[0m,\n",
       "      \u001b[32m\"DOCUMENT_TYPE_RK\"\u001b[0m,\n",
       "      \u001b[32m\"EXP_NRM_SFORMS\"\u001b[0m\n",
       "    ),\n",
       "    \u001b[33m\u001b[0m(\n",
       "      \u001b[32m\"ISSUE_DT\"\u001b[0m,\n",
       "      \u001b[32m\"FIL_NULL_SFORMS\"\u001b[0m,\n",
       "      \u001b[32m\"ISSUE_DT\"\u001b[0m,\n",
       "      \u001b[32m\"EXP_NRM_SFORMS\"\u001b[0m\n",
       "    ),\n",
       "    \u001b[33m\u001b[0m(\n",
       "      \u001b[32m\"ISSUE_PLACE\"\u001b[0m,\n",
       "      \u001b[32m\"FIL_NULL_SFORMS\"\u001b[0m,\n",
       "      \u001b[32m\"ISSUE_PLACE\"\u001b[0m,\n",
       "      \u001b[32m\"EXP_NRM_SFORMS\"\u001b[0m\n",
       "    ),\n",
       "    \u001b[33m\u001b[0m(\n",
       "      \u001b[32m\"ISSUE_PLACE_CODE\"\u001b[0m,\n",
       "      \u001b[32m\"FIL_NULL_SFORMS\"\u001b[0m,\n",
       "      \u001b[32m\"ISSUE_PLACE_CODE\"\u001b[0m,\n",
       "      \u001b[32m\"EXP_NRM_SFORMS\"\u001b[0m\n",
       "    ),\n",
       "    \u001b[33m\u001b[0m(\u001b[32m\"NK_CCD\"\u001b[0m, \u001b[32m\"FIL_NULL_SFORMS\"\u001b[0m, \u001b[32m\"NK_CCD\"\u001b[0m, \u001b[32m\"EXP_NRM_SFORMS\"\u001b[0m)\n",
       "  ),\n",
       "  \u001b[32m\"EXP_RETURN_VAL\"\u001b[0m -> \u001b[33mList\u001b[0m(\n",
       "    \u001b[33m\u001b[0m(\n",
       "      \u001b[32m\"MASTER_NK_CCD\"\u001b[0m,\n",
       "      \u001b[32m\"LKP_xREFMAP_CNTRP_DOCUMENT_TYPE\"\u001b[0m,\n",
       "      \u001b[32m\"MASTER_NK_CCD\"\u001b[0m,\n",
       "      \u001b[32m\"EXP_RETURN_VAL\"\u001b[0m\n",
       "    ),\n",
       "    \u001b[33m\u001b[0m(\n",
       "      \u001b[32m\"MASTER_NK_CCD\"\u001b[0m,\n",
       "      \u001b[32m\"LKP_xREFMAP_CNTRP_DOCUMENT_TYPE\"\u001b[0m,\n",
       "      \u001b[32m\"NK\"\u001b[0m,\n",
       "      \u001b[32m\"EXP_RETURN_VAL\"\u001b[0m\n",
       "    ),\n",
       "    \u001b[33m\u001b[0m(\n",
       "      \u001b[32m\"MASTER_SYSTEM_CCD\"\u001b[0m,\n",
       "      \u001b[32m\"LKP_xREFMAP_CNTRP_DOCUMENT_TYPE\"\u001b[0m,\n",
       "      \u001b[32m\"MASTER_SYSTEM_CCD\"\u001b[0m,\n",
       "      \u001b[32m\"EXP_RETURN_VAL\"\u001b[0m\n",
       "    ),\n",
       "    \u001b[33m\u001b[0m(\n",
       "      \u001b[32m\"MASTER_SYSTEM_CCD\"\u001b[0m,\n",
       "      \u001b[32m\"LKP_xREFMAP_CNTRP_DOCUMENT_TYPE\"\u001b[0m,\n",
       "      \u001b[32m\"MASTER_SYSTEM_CCD\"\u001b[0m,\n",
       "      \u001b[32m\"EXP_RETURN_VAL\"\u001b[0m\n",
       "    ),\n",
       "    \u001b[33m\u001b[0m(\n",
       "      \u001b[32m\"RK\"\u001b[0m,\n",
       "      \u001b[32m\"LKP_IDMAP_XREF_CNTRP_DOCUMENT_TYPE\"\u001b[0m,\n",
       "      \u001b[32m\"RK\"\u001b[0m,\n",
       "      \u001b[32m\"EXP_RETURN_VAL\"\u001b[0m\n",
       "    ),\n",
       "    \u001b[33m\u001b[0m(\n",
       "      \u001b[32m\"in_MASTER_SYSTEM_CCD\"\u001b[0m,\n",
       "      \u001b[32m\"LKP_xREFMAP_CNTRP_DOCUMENT_TYPE\"\u001b[0m,\n",
       "      \u001b[32m\"in_MASTER_SYSTEM_CCD\"\u001b[0m,\n",
       "      \u001b[32m\"EXP_RETURN_VAL\"\u001b[0m\n",
       "    ),\n",
       "    \u001b[33m\u001b[0m(\n",
       "      \u001b[32m\"in_MASTER_SYSTEM_CCD\"\u001b[0m,\n",
       "      \u001b[32m\"LKP_xREFMAP_CNTRP_DOCUMENT_TYPE\"\u001b[0m,\n",
       "      \u001b[32m\"in_MASTER_SYSTEM_CCD\"\u001b[0m,\n",
       "      \u001b[32m\"EXP_RETURN_VAL\"\u001b[0m\n",
       "    ),\n",
       "    \u001b[33m\u001b[0m(\n",
       "      \u001b[32m\"in_SOURCE_NK_CCD\"\u001b[0m,\n",
       "      \u001b[32m\"LKP_xREFMAP_CNTRP_DOCUMENT_TYPE\"\u001b[0m,\n",
       "      \u001b[32m\"in_SOURCE_NK_CCD\"\u001b[0m,\n",
       "      \u001b[32m\"EXP_RETURN_VAL\"\u001b[0m\n",
       "    ),\n",
       "    \u001b[33m\u001b[0m(\n",
       "      \u001b[32m\"in_SOURCE_NK_CCD\"\u001b[0m,\n",
       "      \u001b[32m\"LKP_xREFMAP_CNTRP_DOCUMENT_TYPE\"\u001b[0m,\n",
       "      \u001b[32m\"in_SOURCE_NK_CCD\"\u001b[0m,\n",
       "      \u001b[32m\"EXP_RETURN_VAL\"\u001b[0m\n",
       "    ),\n",
       "    \u001b[33m\u001b[0m(\n",
       "      \u001b[32m\"in_SOURCE_SYSTEM_CCD\"\u001b[0m,\n",
       "      \u001b[32m\"LKP_xREFMAP_CNTRP_DOCUMENT_TYPE\"\u001b[0m,\n",
       "      \u001b[32m\"in_SOURCE_SYSTEM_CCD\"\u001b[0m,\n",
       "      \u001b[32m\"EXP_RETURN_VAL\"\u001b[0m\n",
       "    ),\n",
       "    \u001b[33m\u001b[0m(\n",
       "      \u001b[32m\"in_SOURCE_SYSTEM_CCD\"\u001b[0m,\n",
       "      \u001b[32m\"LKP_xREFMAP_CNTRP_DOCUMENT_TYPE\"\u001b[0m,\n",
       "      \u001b[32m\"in_SOURCE_SYSTEM_CCD\"\u001b[0m,\n",
       "      \u001b[32m\"EXP_RETURN_VAL\"\u001b[0m\n",
       "    )\n",
       "  ),\n",
       "  \u001b[32m\"EXP_SRC\"\u001b[0m -> \u001b[33mList\u001b[0m(\n",
       "    \u001b[33m\u001b[0m(\u001b[32m\"RK\"\u001b[0m, \u001b[32m\"LKP_IDMAP_COUNTERPARTY\"\u001b[0m, \u001b[32m\"RK\"\u001b[0m, \u001b[32m\"EXP_SRC\"\u001b[0m),\n",
       "    \u001b[33m\u001b[0m(\n",
       "      \u001b[32m\"in_NK_CCD\"\u001b[0m,\n",
       "      \u001b[32m\"LKP_IDMAP_COUNTERPARTY\"\u001b[0m,\n",
       "      \u001b[32m\"in_NK_CCD\"\u001b[0m,\n",
       "      \u001b[32m\"EXP_SRC\"\u001b[0m\n",
       "    ),\n",
       "    \u001b[33m\u001b[0m(\n",
       "      \u001b[32m\"in_SOURCE_SYSTEM_CCD\"\u001b[0m,\n",
       "      \u001b[32m\"LKP_IDMAP_COUNTERPARTY\"\u001b[0m,\n",
       "      \u001b[32m\"in_SOURCE_SYSTEM_CCD\"\u001b[0m,\n",
       "      \u001b[32m\"EXP_SRC\"\u001b[0m\n",
       "    )\n",
       "  ),\n",
       "  \u001b[32m\"EXP_SRC_HFORMS\"\u001b[0m -> \u001b[33mList\u001b[0m(\n",
       "    \u001b[33m\u001b[0m(\u001b[32m\"BRANCH\"\u001b[0m, \u001b[32m\"SQ_HYPO_FORMS\"\u001b[0m, \u001b[32m\"BRANCH\"\u001b[0m, \u001b[32m\"EXP_SRC_HFORMS\"\u001b[0m),\n",
       "    \u001b[33m\u001b[0m(\n",
       "      \u001b[32m\"DRIVELIC_DATE\"\u001b[0m,\n",
       "      \u001b[32m\"SQ_HYPO_FORMS\"\u001b[0m,\n",
       "      \u001b[32m\"DRIVELIC_DATE\"\u001b[0m,\n",
       "      \u001b[32m\"EXP_SRC_HFORMS\"\u001b[0m\n",
       "    ),\n",
       "    \u001b[33m\u001b[0m(\n",
       "      \u001b[32m\"DRIVELIC_NUMBER\"\u001b[0m,\n",
       "      \u001b[32m\"SQ_HYPO_FORMS\"\u001b[0m,\n",
       "      \u001b[32m\"DRIVELIC_NUMBER\"\u001b[0m,\n",
       "      \u001b[32m\"EXP_SRC_HFORMS\"\u001b[0m\n",
       "    ),\n",
       "    \u001b[33m\u001b[0m(\n",
       "      \u001b[32m\"PASSPORT_CODE\"\u001b[0m,\n",
       "      \u001b[32m\"SQ_HYPO_FORMS\"\u001b[0m,\n",
       "      \u001b[32m\"PASSPORT_CODE\"\u001b[0m,\n",
       "      \u001b[32m\"EXP_SRC_HFORMS\"\u001b[0m\n",
       "    ),\n",
       "    \u001b[33m\u001b[0m(\n",
       "      \u001b[32m\"PASSPORT_DATE\"\u001b[0m,\n",
       "      \u001b[32m\"SQ_HYPO_FORMS\"\u001b[0m,\n",
       "      \u001b[32m\"PASSPORT_DATE\"\u001b[0m,\n",
       "      \u001b[32m\"EXP_SRC_HFORMS\"\u001b[0m\n",
       "    ),\n",
       "    \u001b[33m\u001b[0m(\n",
       "      \u001b[32m\"PASSPORT_NUMBER\"\u001b[0m,\n",
       "      \u001b[32m\"SQ_HYPO_FORMS\"\u001b[0m,\n",
       "      \u001b[32m\"PASSPORT_NUMBER\"\u001b[0m,\n",
       "      \u001b[32m\"EXP_SRC_HFORMS\"\u001b[0m\n",
       "    ),\n",
       "    \u001b[33m\u001b[0m(\n",
       "      \u001b[32m\"PASSPORT_VIDAN\"\u001b[0m,\n",
       "      \u001b[32m\"SQ_HYPO_FORMS\"\u001b[0m,\n",
       "      \u001b[32m\"PASSPORT_VIDAN\"\u001b[0m,\n",
       "      \u001b[32m\"EXP_SRC_HFORMS\"\u001b[0m\n",
       "    ),\n",
       "    \u001b[33m\u001b[0m(\n",
       "      \u001b[32m\"REFERENCE\"\u001b[0m,\n",
       "      \u001b[32m\"SQ_HYPO_FORMS\"\u001b[0m,\n",
       "      \u001b[32m\"REFERENCE\"\u001b[0m,\n",
       "      \u001b[32m\"EXP_SRC_HFORMS\"\u001b[0m\n",
       "    )\n",
       "  ),\n",
       "  \u001b[32m\"EXP_SRC_NAME\"\u001b[0m -> \u001b[33mList\u001b[0m(\n",
       "    \u001b[33m\u001b[0m(\n",
       "      \u001b[32m\"RK\"\u001b[0m,\n",
       "      \u001b[32m\"LKP_IDMAP_xREF_CNTRP_DOC_TYPE\"\u001b[0m,\n",
       "      \u001b[32m\"RK\"\u001b[0m,\n",
       "      \u001b[32m\"EXP_SRC_NAME\"\u001b[0m\n",
       "    ),\n",
       "    \u001b[33m\u001b[0m(\n",
       "      \u001b[32m\"in_NK_CCD\"\u001b[0m,\n",
       "      \u001b[32m\"LKP_IDMAP_xREF_CNTRP_DOC_TYPE\"\u001b[0m,\n",
       "      \u001b[32m\"in_NK_CCD\"\u001b[0m,\n",
       "      \u001b[32m\"EXP_SRC_NAME\"\u001b[0m\n",
       "    ),\n",
       "    \u001b[33m\u001b[0m(\n",
       "      \u001b[32m\"in_SOURCE_SYSTEM_CODE\"\u001b[0m,\n",
       "      \u001b[32m\"LKP_IDMAP_xREF_CNTRP_DOC_TYPE\"\u001b[0m,\n",
       "      \u001b[32m\"in_SOURCE_SYSTEM_CCD\"\u001b[0m,\n",
       "      \u001b[32m\"EXP_SRC_NAME\"\u001b[0m\n",
       "    )\n",
       "  ),\n",
       "  \u001b[32m\"EXP_SRC_SFORMS\"\u001b[0m -> \u001b[33mList\u001b[0m(\n",
       "    \u001b[33m\u001b[0m(\u001b[32m\"BRANCH\"\u001b[0m, \u001b[32m\"SQ_SCORING_FORMS\"\u001b[0m, \u001b[32m\"BRANCH\"\u001b[0m, \u001b[32m\"EXP_SRC_SFORMS\"\u001b[0m),\n",
       "    \u001b[33m\u001b[0m(\n",
       "      \u001b[32m\"DRIVELIC_DATE\"\u001b[0m,\n",
       "      \u001b[32m\"SQ_SCORING_FORMS\"\u001b[0m,\n",
       "      \u001b[32m\"DRIVELIC_DATE\"\u001b[0m,\n",
       "      \u001b[32m\"EXP_SRC_SFORMS\"\u001b[0m\n",
       "    ),\n",
       "    \u001b[33m\u001b[0m(\n",
       "      \u001b[32m\"DRIVELIC_NUMBER\"\u001b[0m,\n",
       "      \u001b[32m\"SQ_SCORING_FORMS\"\u001b[0m,\n",
       "      \u001b[32m\"DRIVELIC_NUMBER\"\u001b[0m,\n",
       "      \u001b[32m\"EXP_SRC_SFORMS\"\u001b[0m\n",
       "    ),\n",
       "    \u001b[33m\u001b[0m(\n",
       "      \u001b[32m\"OLD_PASSPORT_DATE\"\u001b[0m,\n",
       "      \u001b[32m\"SQ_SCORING_FORMS\"\u001b[0m,\n",
       "      \u001b[32m\"OLD_PASSPORT_DATE\"\u001b[0m,\n",
       "      \u001b[32m\"EXP_SRC_SFORMS\"\u001b[0m\n",
       "    ),\n",
       "    \u001b[33m\u001b[0m(\n",
       "      \u001b[32m\"OLD_PASSPORT_NUMBER\"\u001b[0m,\n",
       "      \u001b[32m\"SQ_SCORING_FORMS\"\u001b[0m,\n",
       "      \u001b[32m\"OLD_PASSPORT_NUMBER\"\u001b[0m,\n",
       "      \u001b[32m\"EXP_SRC_SFORMS\"\u001b[0m\n",
       "    ),\n",
       "    \u001b[33m\u001b[0m(\n",
       "      \u001b[32m\"OLD_PASSPORT_SERIA\"\u001b[0m,\n",
       "      \u001b[32m\"SQ_SCORING_FORMS\"\u001b[0m,\n",
       "      \u001b[32m\"OLD_PASSPORT_SERIA\"\u001b[0m,\n",
       "      \u001b[32m\"EXP_SRC_SFORMS\"\u001b[0m\n",
       "    ),\n",
       "    \u001b[33m\u001b[0m(\n",
       "      \u001b[32m\"OLD_PASSPORT_VIDAN\"\u001b[0m,\n",
       "      \u001b[32m\"SQ_SCORING_FORMS\"\u001b[0m,\n",
       "      \u001b[32m\"OLD_PASSPORT_VIDAN\"\u001b[0m,\n",
       "      \u001b[32m\"EXP_SRC_SFORMS\"\u001b[0m\n",
       "    ),\n",
       "    \u001b[33m\u001b[0m(\n",
       "      \u001b[32m\"PASSPORT_CODE\"\u001b[0m,\n",
       "      \u001b[32m\"SQ_SCORING_FORMS\"\u001b[0m,\n",
       "      \u001b[32m\"PASSPORT_CODE\"\u001b[0m,\n",
       "      \u001b[32m\"EXP_SRC_SFORMS\"\u001b[0m\n",
       "    ),\n",
       "    \u001b[33m\u001b[0m(\n",
       "      \u001b[32m\"PASSPORT_DATE\"\u001b[0m,\n",
       "      \u001b[32m\"SQ_SCORING_FORMS\"\u001b[0m,\n",
       "      \u001b[32m\"PASSPORT_DATE\"\u001b[0m,\n",
       "      \u001b[32m\"EXP_SRC_SFORMS\"\u001b[0m\n",
       "    ),\n",
       "    \u001b[33m\u001b[0m(\n",
       "      \u001b[32m\"PASSPORT_NUMBER\"\u001b[0m,\n",
       "      \u001b[32m\"SQ_SCORING_FORMS\"\u001b[0m,\n",
       "      \u001b[32m\"PASSPORT_NUMBER\"\u001b[0m,\n",
       "      \u001b[32m\"EXP_SRC_SFORMS\"\u001b[0m\n",
       "    ),\n",
       "    \u001b[33m\u001b[0m(\n",
       "      \u001b[32m\"PASSPORT_VIDAN\"\u001b[0m,\n",
       "      \u001b[32m\"SQ_SCORING_FORMS\"\u001b[0m,\n",
       "      \u001b[32m\"PASSPORT_VIDAN\"\u001b[0m,\n",
       "      \u001b[32m\"EXP_SRC_SFORMS\"\u001b[0m\n",
       "    ),\n",
       "    \u001b[33m\u001b[0m(\n",
       "      \u001b[32m\"PENSFOND_NUMBER\"\u001b[0m,\n",
       "      \u001b[32m\"SQ_SCORING_FORMS\"\u001b[0m,\n",
       "      \u001b[32m\"PENSFOND_NUMBER\"\u001b[0m,\n",
       "      \u001b[32m\"EXP_SRC_SFORMS\"\u001b[0m\n",
       "    ),\n",
       "    \u001b[33m\u001b[0m(\n",
       "      \u001b[32m\"REFERENCE\"\u001b[0m,\n",
       "      \u001b[32m\"SQ_SCORING_FORMS\"\u001b[0m,\n",
       "      \u001b[32m\"REFERENCE\"\u001b[0m,\n",
       "      \u001b[32m\"EXP_SRC_SFORMS\"\u001b[0m\n",
       "    ),\n",
       "    \u001b[33m\u001b[0m(\n",
       "      \u001b[32m\"SECOND_DOC_TYPE\"\u001b[0m,\n",
       "      \u001b[32m\"SQ_SCORING_FORMS\"\u001b[0m,\n",
       "      \u001b[32m\"SECOND_DOC_TYPE\"\u001b[0m,\n",
       "      \u001b[32m\"EXP_SRC_SFORMS\"\u001b[0m\n",
       "    ),\n",
       "    \u001b[33m\u001b[0m(\n",
       "      \u001b[32m\"SOLDIER_DATE\"\u001b[0m,\n",
       "      \u001b[32m\"SQ_SCORING_FORMS\"\u001b[0m,\n",
       "      \u001b[32m\"SOLDIER_DATE\"\u001b[0m,\n",
       "      \u001b[32m\"EXP_SRC_SFORMS\"\u001b[0m\n",
       "    ),\n",
       "    \u001b[33m\u001b[0m(\n",
       "      \u001b[32m\"SOLDIER_NUMBER\"\u001b[0m,\n",
       "      \u001b[32m\"SQ_SCORING_FORMS\"\u001b[0m,\n",
       "      \u001b[32m\"SOLDIER_NUMBER\"\u001b[0m,\n",
       "      \u001b[32m\"EXP_SRC_SFORMS\"\u001b[0m\n",
       "    ),\n",
       "    \u001b[33m\u001b[0m(\n",
       "      \u001b[32m\"SOLDIER_VIDAN\"\u001b[0m,\n",
       "      \u001b[32m\"SQ_SCORING_FORMS\"\u001b[0m,\n",
       "      \u001b[32m\"SOLDIER_VIDAN\"\u001b[0m,\n",
       "      \u001b[32m\"EXP_SRC_SFORMS\"\u001b[0m\n",
       "    ),\n",
       "    \u001b[33m\u001b[0m(\n",
       "      \u001b[32m\"WORKBOOK_TYPE\"\u001b[0m,\n",
       "      \u001b[32m\"SQ_SCORING_FORMS\"\u001b[0m,\n",
       "      \u001b[32m\"WORKBOOK_TYPE\"\u001b[0m,\n",
       "      \u001b[32m\"EXP_SRC_SFORMS\"\u001b[0m\n",
       "    ),\n",
       "    \u001b[33m\u001b[0m(\n",
       "      \u001b[32m\"ZAGRAN_DATE\"\u001b[0m,\n",
       "      \u001b[32m\"SQ_SCORING_FORMS\"\u001b[0m,\n",
       "      \u001b[32m\"ZAGRAN_DATE\"\u001b[0m,\n",
       "      \u001b[32m\"EXP_SRC_SFORMS\"\u001b[0m\n",
       "    ),\n",
       "    \u001b[33m\u001b[0m(\n",
       "      \u001b[32m\"ZAGRAN_NUMBER\"\u001b[0m,\n",
       "      \u001b[32m\"SQ_SCORING_FORMS\"\u001b[0m,\n",
       "      \u001b[32m\"ZAGRAN_NUMBER\"\u001b[0m,\n",
       "      \u001b[32m\"EXP_SRC_SFORMS\"\u001b[0m\n",
       "    )\n",
       "  ),\n",
       "  \u001b[32m\"EXP_TARGET\"\u001b[0m -> \u001b[33mList\u001b[0m(\n",
       "    \u001b[33m\u001b[0m(\n",
       "      \u001b[32m\"COUNTERPARTY_DOCUMENT_TYPE_RK\"\u001b[0m,\n",
       "      \u001b[32m\"UNI_ALL_SOURCES\"\u001b[0m,\n",
       "      \u001b[32m\"COUNTERPARTY_DOCUMENT_TYPE_RK\"\u001b[0m,\n",
       "      \u001b[32m\"EXP_TARGET\"\u001b[0m\n",
       "    ),\n",
       "    \u001b[33m\u001b[0m(\n",
       "      \u001b[32m\"COUNTERPARTY_RK\"\u001b[0m,\n",
       "      \u001b[32m\"UNI_ALL_SOURCES\"\u001b[0m,\n",
       "      \u001b[32m\"COUNTERPARTY_RK\"\u001b[0m,\n",
       "      \u001b[32m\"EXP_TARGET\"\u001b[0m\n",
       "    ),\n",
       "    \u001b[33m\u001b[0m(\n",
       "      \u001b[32m\"DOCUMENT_NUMBER\"\u001b[0m,\n",
       "      \u001b[32m\"UNI_ALL_SOURCES\"\u001b[0m,\n",
       "      \u001b[32m\"DOCUMENT_NUMBER\"\u001b[0m,\n",
       "      \u001b[32m\"EXP_TARGET\"\u001b[0m\n",
       "    ),\n",
       "    \u001b[33m\u001b[0m(\n",
       "      \u001b[32m\"DOCUMENT_SERIES\"\u001b[0m,\n",
       "      \u001b[32m\"UNI_ALL_SOURCES\"\u001b[0m,\n",
       "      \u001b[32m\"DOCUMENT_SERIES\"\u001b[0m,\n",
       "      \u001b[32m\"EXP_TARGET\"\u001b[0m\n",
       "    ),\n",
       "    \u001b[33m\u001b[0m(\n",
       "      \u001b[32m\"DOCUMENT_SERIES_NUMBER\"\u001b[0m,\n",
       "      \u001b[32m\"UNI_ALL_SOURCES\"\u001b[0m,\n",
       "      \u001b[32m\"DOCUMENT_SERIES_NUMBER\"\u001b[0m,\n",
       "      \u001b[32m\"EXP_TARGET\"\u001b[0m\n",
       "    ),\n",
       "    \u001b[33m\u001b[0m(\u001b[32m\"ISSUE_DT\"\u001b[0m, \u001b[32m\"UNI_ALL_SOURCES\"\u001b[0m, \u001b[32m\"ISSUE_DT\"\u001b[0m, \u001b[32m\"EXP_TARGET\"\u001b[0m),\n",
       "    \u001b[33m\u001b[0m(\n",
       "      \u001b[32m\"ISSUE_PLACE\"\u001b[0m,\n",
       "      \u001b[32m\"UNI_ALL_SOURCES\"\u001b[0m,\n",
       "      \u001b[32m\"ISSUE_PLACE\"\u001b[0m,\n",
       "      \u001b[32m\"EXP_TARGET\"\u001b[0m\n",
       "    ),\n",
       "    \u001b[33m\u001b[0m(\n",
       "      \u001b[32m\"ISSUE_PLACE_CODE\"\u001b[0m,\n",
       "      \u001b[32m\"UNI_ALL_SOURCES\"\u001b[0m,\n",
       "      \u001b[32m\"ISSUE_PLACE_CODE\"\u001b[0m,\n",
       "      \u001b[32m\"EXP_TARGET\"\u001b[0m\n",
       "    )\n",
       "  ),\n",
       "  \u001b[32m\"FIL_HFORMS\"\u001b[0m -> \u001b[33mList\u001b[0m(\n",
       "    \u001b[33m\u001b[0m(\n",
       "      \u001b[32m\"DOC_TYPE_DRIVE_LIC\"\u001b[0m,\n",
       "      \u001b[32m\"EXP_SRC_HFORMS\"\u001b[0m,\n",
       "      \u001b[32m\"DOC_TYPE_DRIVE_LIC\"\u001b[0m,\n",
       "      \u001b[32m\"FIL_HFORMS\"\u001b[0m\n",
       "    ),\n",
       "    \u001b[33m\u001b[0m(\n",
       "      \u001b[32m\"DOC_TYPE_PASS\"\u001b[0m,\n",
       "      \u001b[32m\"EXP_SRC_HFORMS\"\u001b[0m,\n",
       "      \u001b[32m\"DOC_TYPE_PASS\"\u001b[0m,\n",
       "      \u001b[32m\"FIL_HFORMS\"\u001b[0m\n",
       "    ),\n",
       "    \u001b[33m\u001b[0m(\n",
       "      \u001b[32m\"DRIVELIC_DATE\"\u001b[0m,\n",
       "      \u001b[32m\"EXP_SRC_HFORMS\"\u001b[0m,\n",
       "      \u001b[32m\"DRIVELIC_DATE\"\u001b[0m,\n",
       "      \u001b[32m\"FIL_HFORMS\"\u001b[0m\n",
       "    ),\n",
       "    \u001b[33m\u001b[0m(\n",
       "      \u001b[32m\"DRIVELIC_NUMBER\"\u001b[0m,\n",
       "      \u001b[32m\"EXP_SRC_HFORMS\"\u001b[0m,\n",
       "      \u001b[32m\"DRIVELIC_NUMBER\"\u001b[0m,\n",
       "      \u001b[32m\"FIL_HFORMS\"\u001b[0m\n",
       "    ),\n",
       "    \u001b[33m\u001b[0m(\u001b[32m\"NK_CCD\"\u001b[0m, \u001b[32m\"EXP_SRC_HFORMS\"\u001b[0m, \u001b[32m\"NK_CCD\"\u001b[0m, \u001b[32m\"FIL_HFORMS\"\u001b[0m),\n",
       "    \u001b[33m\u001b[0m(\n",
       "      \u001b[32m\"PASSPORT_CODE\"\u001b[0m,\n",
       "      \u001b[32m\"EXP_SRC_HFORMS\"\u001b[0m,\n",
       "      \u001b[32m\"PASSPORT_CODE\"\u001b[0m,\n",
       "      \u001b[32m\"FIL_HFORMS\"\u001b[0m\n",
       "    ),\n",
       "    \u001b[33m\u001b[0m(\n",
       "      \u001b[32m\"PASSPORT_DATE\"\u001b[0m,\n",
       "      \u001b[32m\"EXP_SRC_HFORMS\"\u001b[0m,\n",
       "      \u001b[32m\"PASSPORT_DATE\"\u001b[0m,\n",
       "      \u001b[32m\"FIL_HFORMS\"\u001b[0m\n",
       "    ),\n",
       "    \u001b[33m\u001b[0m(\n",
       "      \u001b[32m\"PASSPORT_NUMBER\"\u001b[0m,\n",
       "      \u001b[32m\"EXP_SRC_HFORMS\"\u001b[0m,\n",
       "      \u001b[32m\"PASSPORT_NUMBER\"\u001b[0m,\n",
       "      \u001b[32m\"FIL_HFORMS\"\u001b[0m\n",
       "    ),\n",
       "    \u001b[33m\u001b[0m(\n",
       "      \u001b[32m\"PASSPORT_VIDAN\"\u001b[0m,\n",
       "      \u001b[32m\"EXP_SRC_HFORMS\"\u001b[0m,\n",
       "      \u001b[32m\"PASSPORT_VIDAN\"\u001b[0m,\n",
       "      \u001b[32m\"FIL_HFORMS\"\u001b[0m\n",
       "    )\n",
       "  ),\n",
       "  \u001b[32m\"FIL_NULL_HFORMS\"\u001b[0m -> \u001b[33mList\u001b[0m(\n",
       "    \u001b[33m\u001b[0m(\n",
       "      \u001b[32m\"DOCUMENT_SER_NUM\"\u001b[0m,\n",
       "      \u001b[32m\"EXP_NRM_HFORMS\"\u001b[0m,\n",
       "      \u001b[32m\"DOCUMENT_SER_NUM\"\u001b[0m,\n",
       "      \u001b[32m\"FIL_NULL_HFORMS\"\u001b[0m\n",
       "    ),\n",
       "    \u001b[33m\u001b[0m(\n",
       "      \u001b[32m\"DOCUMENT_TYPE\"\u001b[0m,\n",
       "      \u001b[32m\"EXP_NRM_HFORMS\"\u001b[0m,\n",
       "      \u001b[32m\"DOCUMENT_TYPE\"\u001b[0m,\n",
       "      \u001b[32m\"FIL_NULL_HFORMS\"\u001b[0m\n",
       "    ),\n",
       "    \u001b[33m\u001b[0m(\n",
       "      \u001b[32m\"ISSUE_DT\"\u001b[0m,\n",
       "      \u001b[32m\"EXP_NRM_HFORMS\"\u001b[0m,\n",
       "      \u001b[32m\"ISSUE_DT\"\u001b[0m,\n",
       "      \u001b[32m\"FIL_NULL_HFORMS\"\u001b[0m\n",
       "    ),\n",
       "    \u001b[33m\u001b[0m(\n",
       "      \u001b[32m\"ISSUE_PLACE\"\u001b[0m,\n",
       "      \u001b[32m\"EXP_NRM_HFORMS\"\u001b[0m,\n",
       "      \u001b[32m\"ISSUE_PLACE\"\u001b[0m,\n",
       "      \u001b[32m\"FIL_NULL_HFORMS\"\u001b[0m\n",
       "    ),\n",
       "    \u001b[33m\u001b[0m(\n",
       "      \u001b[32m\"ISSUE_PLACE_CODE\"\u001b[0m,\n",
       "      \u001b[32m\"EXP_NRM_HFORMS\"\u001b[0m,\n",
       "      \u001b[32m\"ISSUE_PLACE_CODE\"\u001b[0m,\n",
       "      \u001b[32m\"FIL_NULL_HFORMS\"\u001b[0m\n",
       "    ),\n",
       "    \u001b[33m\u001b[0m(\u001b[32m\"NK_CCD\"\u001b[0m, \u001b[32m\"EXP_NRM_HFORMS\"\u001b[0m, \u001b[32m\"NK_CCD\"\u001b[0m, \u001b[32m\"FIL_NULL_HFORMS\"\u001b[0m)\n",
       "  ),\n",
       "  \u001b[32m\"FIL_NULL_SFORMS\"\u001b[0m -> \u001b[33mList\u001b[0m(\n",
       "    \u001b[33m\u001b[0m(\n",
       "      \u001b[32m\"DOCUMENT_NUMBER\"\u001b[0m,\n",
       "      \u001b[32m\"EXP_NRM_NOT_NULL_SFORMS\"\u001b[0m,\n",
       "      \u001b[32m\"DOCUMENT_NUMBER\"\u001b[0m,\n",
       "      \u001b[32m\"FIL_NULL_SFORMS\"\u001b[0m\n",
       "    ),\n",
       "    \u001b[33m\u001b[0m(\n",
       "      \u001b[32m\"DOCUMENT_SERIES\"\u001b[0m,\n",
       "      \u001b[32m\"EXP_NRM_NOT_NULL_SFORMS\"\u001b[0m,\n",
       "      \u001b[32m\"DOCUMENT_SERIES\"\u001b[0m,\n",
       "      \u001b[32m\"FIL_NULL_SFORMS\"\u001b[0m\n",
       "    ),\n",
       "    \u001b[33m\u001b[0m(\n",
       "      \u001b[32m\"DOCUMENT_SER_NUM\"\u001b[0m,\n",
       "      \u001b[32m\"EXP_NRM_NOT_NULL_SFORMS\"\u001b[0m,\n",
       "      \u001b[32m\"DOCUMENT_SER_NUM\"\u001b[0m,\n",
       "      \u001b[32m\"FIL_NULL_SFORMS\"\u001b[0m\n",
       "    ),\n",
       "    \u001b[33m\u001b[0m(\n",
       "      \u001b[32m\"DOCUMENT_TYPE_RK\"\u001b[0m,\n",
       "      \u001b[32m\"EXP_NRM_NOT_NULL_SFORMS\"\u001b[0m,\n",
       "      \u001b[32m\"DOCUMENT_TYPE_RK\"\u001b[0m,\n",
       "      \u001b[32m\"FIL_NULL_SFORMS\"\u001b[0m\n",
       "    ),\n",
       "    \u001b[33m\u001b[0m(\n",
       "      \u001b[32m\"ISSUE_PLACE\"\u001b[0m,\n",
       "      \u001b[32m\"EXP_NRM_NOT_NULL_SFORMS\"\u001b[0m,\n",
       "      \u001b[32m\"ISSUE_PLACE\"\u001b[0m,\n",
       "      \u001b[32m\"FIL_NULL_SFORMS\"\u001b[0m\n",
       "    ),\n",
       "    \u001b[33m\u001b[0m(\n",
       "      \u001b[32m\"ISSUE_PLACE_CODE\"\u001b[0m,\n",
       "      \u001b[32m\"EXP_NRM_NOT_NULL_SFORMS\"\u001b[0m,\n",
       "      \u001b[32m\"ISSUE_PLACE_CODE\"\u001b[0m,\n",
       "      \u001b[32m\"FIL_NULL_SFORMS\"\u001b[0m\n",
       "    ),\n",
       "    \u001b[33m\u001b[0m(\n",
       "      \u001b[32m\"NK_CCD\"\u001b[0m,\n",
       "      \u001b[32m\"EXP_NRM_NOT_NULL_SFORMS\"\u001b[0m,\n",
       "      \u001b[32m\"NK_CCD\"\u001b[0m,\n",
       "      \u001b[32m\"FIL_NULL_SFORMS\"\u001b[0m\n",
       "    ),\n",
       "    \u001b[33m\u001b[0m(\n",
       "      \u001b[32m\"out_ISSUE_DATE\"\u001b[0m,\n",
       "      \u001b[32m\"EXP_NRM_NOT_NULL_SFORMS\"\u001b[0m,\n",
       "      \u001b[32m\"ISSUE_DT\"\u001b[0m,\n",
       "      \u001b[32m\"FIL_NULL_SFORMS\"\u001b[0m\n",
       "    )\n",
       "  ),\n",
       "  \u001b[32m\"FIL_SFORMS\"\u001b[0m -> \u001b[33mList\u001b[0m(\n",
       "    \u001b[33m\u001b[0m(\n",
       "      \u001b[32m\"DOC_TYPE_DRIVE_LIC\"\u001b[0m,\n",
       "      \u001b[32m\"EXP_SRC_SFORMS\"\u001b[0m,\n",
       "      \u001b[32m\"DOC_TYPE_DRIVE_LIC\"\u001b[0m,\n",
       "      \u001b[32m\"FIL_SFORMS\"\u001b[0m\n",
       "    ),\n",
       "    \u001b[33m\u001b[0m(\n",
       "      \u001b[32m\"DOC_TYPE_MILITARY_ID\"\u001b[0m,\n",
       "      \u001b[32m\"EXP_SRC_SFORMS\"\u001b[0m,\n",
       "      \u001b[32m\"DOC_TYPE_MILITARY_ID\"\u001b[0m,\n",
       "      \u001b[32m\"FIL_SFORMS\"\u001b[0m\n",
       "    ),\n",
       "    \u001b[33m\u001b[0m(\n",
       "      \u001b[32m\"DOC_TYPE_OLD_PASS\"\u001b[0m,\n",
       "      \u001b[32m\"EXP_SRC_SFORMS\"\u001b[0m,\n",
       "      \u001b[32m\"DOC_TYPE_OLD_PASS\"\u001b[0m,\n",
       "      \u001b[32m\"FIL_SFORMS\"\u001b[0m\n",
       "    ),\n",
       "    \u001b[33m\u001b[0m(\n",
       "      \u001b[32m\"DOC_TYPE_PASS\"\u001b[0m,\n",
       "      \u001b[32m\"EXP_SRC_SFORMS\"\u001b[0m,\n",
       "      \u001b[32m\"DOC_TYPE_PASS\"\u001b[0m,\n",
       "      \u001b[32m\"FIL_SFORMS\"\u001b[0m\n",
       "    ),\n",
       "    \u001b[33m\u001b[0m(\n",
       "      \u001b[32m\"DOC_TYPE_PENSFOND\"\u001b[0m,\n",
       "      \u001b[32m\"EXP_SRC_SFORMS\"\u001b[0m,\n",
       "      \u001b[32m\"DOC_TYPE_PENSFOND\"\u001b[0m,\n",
       "      \u001b[32m\"FIL_SFORMS\"\u001b[0m\n",
       "    ),\n",
       "    \u001b[33m\u001b[0m(\n",
       "      \u001b[32m\"DOC_TYPE_SEC_DOC_TYPE\"\u001b[0m,\n",
       "      \u001b[32m\"EXP_SRC_SFORMS\"\u001b[0m,\n",
       "      \u001b[32m\"DOC_TYPE_SEC_DOC_TYPE\"\u001b[0m,\n",
       "      \u001b[32m\"FIL_SFORMS\"\u001b[0m\n",
       "    ),\n",
       "    \u001b[33m\u001b[0m(\n",
       "      \u001b[32m\"DOC_TYPE_WORKBOOK\"\u001b[0m,\n",
       "      \u001b[32m\"EXP_SRC_SFORMS\"\u001b[0m,\n",
       "      \u001b[32m\"DOC_TYPE_WORKBOOK\"\u001b[0m,\n",
       "      \u001b[32m\"FIL_SFORMS\"\u001b[0m\n",
       "    ),\n",
       "    \u001b[33m\u001b[0m(\n",
       "      \u001b[32m\"DOC_TYPE_ZAGRAN\"\u001b[0m,\n",
       "      \u001b[32m\"EXP_SRC_SFORMS\"\u001b[0m,\n",
       "      \u001b[32m\"DOC_TYPE_ZAGRAN\"\u001b[0m,\n",
       "      \u001b[32m\"FIL_SFORMS\"\u001b[0m\n",
       "    ),\n",
       "    \u001b[33m\u001b[0m(\n",
       "      \u001b[32m\"DRIVELIC_DATE\"\u001b[0m,\n",
       "      \u001b[32m\"EXP_SRC_SFORMS\"\u001b[0m,\n",
       "      \u001b[32m\"DRIVELIC_DATE\"\u001b[0m,\n",
       "      \u001b[32m\"FIL_SFORMS\"\u001b[0m\n",
       "    ),\n",
       "    \u001b[33m\u001b[0m(\n",
       "      \u001b[32m\"DRIVELIC_NUMBER\"\u001b[0m,\n",
       "      \u001b[32m\"EXP_SRC_SFORMS\"\u001b[0m,\n",
       "      \u001b[32m\"DRIVELIC_NUMBER\"\u001b[0m,\n",
       "      \u001b[32m\"FIL_SFORMS\"\u001b[0m\n",
       "    ),\n",
       "    \u001b[33m\u001b[0m(\n",
       "      \u001b[32m\"NK\"\u001b[0m,\n",
       "      \u001b[32m\"mp_xREFMAP_CNTRP_DOC_TYPE_SEC_DOC_SF_FILTR\"\u001b[0m,\n",
       "      \u001b[32m\"NK_SEC_DOC\"\u001b[0m,\n",
       "      \u001b[32m\"FIL_SFORMS\"\u001b[0m\n",
       "    ),\n",
       "    \u001b[33m\u001b[0m(\n",
       "      \u001b[32m\"NK\"\u001b[0m,\n",
       "      \u001b[32m\"mp_xREFMAP_CNTRP_DOC_TYPE_WORKBOOK_SF_FILTR\"\u001b[0m,\n",
       "      \u001b[32m\"NK_WORKBOOK\"\u001b[0m,\n",
       "      \u001b[32m\"FIL_SFORMS\"\u001b[0m\n",
       "    ),\n",
       "    \u001b[33m\u001b[0m(\u001b[32m\"NK_CCD\"\u001b[0m, \u001b[32m\"EXP_SRC_SFORMS\"\u001b[0m, \u001b[32m\"NK_CCD\"\u001b[0m, \u001b[32m\"FIL_SFORMS\"\u001b[0m),\n",
       "    \u001b[33m\u001b[0m(\n",
       "      \u001b[32m\"OLD_PASSPORT_DATE\"\u001b[0m,\n",
       "      \u001b[32m\"EXP_SRC_SFORMS\"\u001b[0m,\n",
       "      \u001b[32m\"OLD_PASSPORT_DATE\"\u001b[0m,\n",
       "      \u001b[32m\"FIL_SFORMS\"\u001b[0m\n",
       "    ),\n",
       "    \u001b[33m\u001b[0m(\n",
       "      \u001b[32m\"OLD_PASSPORT_NUMBER\"\u001b[0m,\n",
       "      \u001b[32m\"EXP_SRC_SFORMS\"\u001b[0m,\n",
       "      \u001b[32m\"OLD_PASSPORT_NUMBER\"\u001b[0m,\n",
       "      \u001b[32m\"FIL_SFORMS\"\u001b[0m\n",
       "    ),\n",
       "    \u001b[33m\u001b[0m(\n",
       "      \u001b[32m\"OLD_PASSPORT_SERIA\"\u001b[0m,\n",
       "      \u001b[32m\"EXP_SRC_SFORMS\"\u001b[0m,\n",
       "      \u001b[32m\"OLD_PASSPORT_SERIA\"\u001b[0m,\n",
       "      \u001b[32m\"FIL_SFORMS\"\u001b[0m\n",
       "    ),\n",
       "    \u001b[33m\u001b[0m(\n",
       "      \u001b[32m\"OLD_PASSPORT_VIDAN\"\u001b[0m,\n",
       "      \u001b[32m\"EXP_SRC_SFORMS\"\u001b[0m,\n",
       "      \u001b[32m\"OLD_PASSPORT_VIDAN\"\u001b[0m,\n",
       "      \u001b[32m\"FIL_SFORMS\"\u001b[0m\n",
       "    ),\n",
       "    \u001b[33m\u001b[0m(\n",
       "      \u001b[32m\"OLD_PASS_NUM_NULL\"\u001b[0m,\n",
       "      \u001b[32m\"EXP_SRC_SFORMS\"\u001b[0m,\n",
       "      \u001b[32m\"OLD_PASS_NUM_NULL\"\u001b[0m,\n",
       "      \u001b[32m\"FIL_SFORMS\"\u001b[0m\n",
       "    ),\n",
       "    \u001b[33m\u001b[0m(\n",
       "      \u001b[32m\"OLD_PASS_SERIA_NULL\"\u001b[0m,\n",
       "      \u001b[32m\"EXP_SRC_SFORMS\"\u001b[0m,\n",
       "      \u001b[32m\"OLD_PASS_SERIA_NULL\"\u001b[0m,\n",
       "      \u001b[32m\"FIL_SFORMS\"\u001b[0m\n",
       "    ),\n",
       "    \u001b[33m\u001b[0m(\n",
       "      \u001b[32m\"PASSPORT_CODE\"\u001b[0m,\n",
       "      \u001b[32m\"EXP_SRC_SFORMS\"\u001b[0m,\n",
       "      \u001b[32m\"PASSPORT_CODE\"\u001b[0m,\n",
       "      \u001b[32m\"FIL_SFORMS\"\u001b[0m\n",
       "    ),\n",
       "    \u001b[33m\u001b[0m(\n",
       "      \u001b[32m\"PASSPORT_DATE\"\u001b[0m,\n",
       "      \u001b[32m\"EXP_SRC_SFORMS\"\u001b[0m,\n",
       "      \u001b[32m\"PASSPORT_DATE\"\u001b[0m,\n",
       "      \u001b[32m\"FIL_SFORMS\"\u001b[0m\n",
       "    ),\n",
       "    \u001b[33m\u001b[0m(\n",
       "      \u001b[32m\"PASSPORT_NUMBER\"\u001b[0m,\n",
       "      \u001b[32m\"EXP_SRC_SFORMS\"\u001b[0m,\n",
       "      \u001b[32m\"PASSPORT_NUMBER\"\u001b[0m,\n",
       "      \u001b[32m\"FIL_SFORMS\"\u001b[0m\n",
       "    ),\n",
       "    \u001b[33m\u001b[0m(\n",
       "      \u001b[32m\"PASSPORT_VIDAN\"\u001b[0m,\n",
       "      \u001b[32m\"EXP_SRC_SFORMS\"\u001b[0m,\n",
       "      \u001b[32m\"PASSPORT_VIDAN\"\u001b[0m,\n",
       "      \u001b[32m\"FIL_SFORMS\"\u001b[0m\n",
       "    ),\n",
       "    \u001b[33m\u001b[0m(\n",
       "      \u001b[32m\"PENSFOND_NUMBER\"\u001b[0m,\n",
       "      \u001b[32m\"EXP_SRC_SFORMS\"\u001b[0m,\n",
       "      \u001b[32m\"PENSFOND_NUMBER\"\u001b[0m,\n",
       "      \u001b[32m\"FIL_SFORMS\"\u001b[0m\n",
       "    ),\n",
       "    \u001b[33m\u001b[0m(\n",
       "      \u001b[32m\"SOLDIER_DATE\"\u001b[0m,\n",
       "      \u001b[32m\"EXP_SRC_SFORMS\"\u001b[0m,\n",
       "      \u001b[32m\"SOLDIER_DATE\"\u001b[0m,\n",
       "      \u001b[32m\"FIL_SFORMS\"\u001b[0m\n",
       "    ),\n",
       "    \u001b[33m\u001b[0m(\n",
       "      \u001b[32m\"SOLDIER_NUMBER\"\u001b[0m,\n",
       "      \u001b[32m\"EXP_SRC_SFORMS\"\u001b[0m,\n",
       "      \u001b[32m\"SOLDIER_NUMBER\"\u001b[0m,\n",
       "      \u001b[32m\"FIL_SFORMS\"\u001b[0m\n",
       "    ),\n",
       "    \u001b[33m\u001b[0m(\n",
       "      \u001b[32m\"SOLDIER_VIDAN\"\u001b[0m,\n",
       "      \u001b[32m\"EXP_SRC_SFORMS\"\u001b[0m,\n",
       "      \u001b[32m\"SOLDIER_VIDAN\"\u001b[0m,\n",
       "      \u001b[32m\"FIL_SFORMS\"\u001b[0m\n",
       "    ),\n",
       "    \u001b[33m\u001b[0m(\n",
       "      \u001b[32m\"ZAGRAN_DATE\"\u001b[0m,\n",
       "      \u001b[32m\"EXP_SRC_SFORMS\"\u001b[0m,\n",
       "      \u001b[32m\"ZAGRAN_DATE\"\u001b[0m,\n",
       "      \u001b[32m\"FIL_SFORMS\"\u001b[0m\n",
       "    ),\n",
       "    \u001b[33m\u001b[0m(\n",
       "      \u001b[32m\"ZAGRAN_NUMBER\"\u001b[0m,\n",
       "      \u001b[32m\"EXP_SRC_SFORMS\"\u001b[0m,\n",
       "      \u001b[32m\"ZAGRAN_NUMBER\"\u001b[0m,\n",
       "      \u001b[32m\"FIL_SFORMS\"\u001b[0m\n",
       "    )\n",
       "  ),\n",
       "  \u001b[32m\"LKP_IDMAP_COUNTERPARTY\"\u001b[0m -> \u001b[33mList\u001b[0m(\n",
       "    \u001b[33m\u001b[0m(\n",
       "      \u001b[32m\"in_NK_CCD\"\u001b[0m,\n",
       "      \u001b[32m\"INPUT\"\u001b[0m,\n",
       "      \u001b[32m\"in_NK_CCD\"\u001b[0m,\n",
       "      \u001b[32m\"LKP_IDMAP_COUNTERPARTY\"\u001b[0m\n",
       "    ),\n",
       "    \u001b[33m\u001b[0m(\n",
       "      \u001b[32m\"in_SOURCE_SYSTEM_CODE\"\u001b[0m,\n",
       "      \u001b[32m\"INPUT\"\u001b[0m,\n",
       "      \u001b[32m\"in_SOURCE_SYSTEM_CCD\"\u001b[0m,\n",
       "      \u001b[32m\"LKP_IDMAP_COUNTERPARTY\"\u001b[0m\n",
       "    )\n",
       "  ),\n",
       "  \u001b[32m\"LKP_IDMAP_XREF_CNTRP_DOCUMENT_TYPE\"\u001b[0m -> \u001b[33mList\u001b[0m(\n",
       "    \u001b[33m\u001b[0m(\n",
       "      \u001b[32m\"MASTER_NK_CCD\"\u001b[0m,\n",
       "      \u001b[32m\"LKP_xREFMAP_CNTRP_DOCUMENT_TYPE\"\u001b[0m,\n",
       "      \u001b[32m\"in_NK_CCD\"\u001b[0m,\n",
       "      \u001b[32m\"LKP_IDMAP_XREF_CNTRP_DOCUMENT_TYPE\"\u001b[0m\n",
       "    ),\n",
       "    \u001b[33m\u001b[0m(\n",
       "      \u001b[32m\"MASTER_SYSTEM_CCD\"\u001b[0m,\n",
       "      \u001b[32m\"LKP_xREFMAP_CNTRP_DOCUMENT_TYPE\"\u001b[0m,\n",
       "      \u001b[32m\"in_SOURCE_SYSTEM_CCD\"\u001b[0m,\n",
       "      \u001b[32m\"LKP_IDMAP_XREF_CNTRP_DOCUMENT_TYPE\"\u001b[0m\n",
       "    )\n",
       "  ),\n",
       "  \u001b[32m\"LKP_IDMAP_xREF_CNTRP_DOC_TYPE\"\u001b[0m -> \u001b[33mList\u001b[0m(\n",
       "    \u001b[33m\u001b[0m(\n",
       "      \u001b[32m\"in_NK_CCD\"\u001b[0m,\n",
       "      \u001b[32m\"INPUT\"\u001b[0m,\n",
       "      \u001b[32m\"in_NK_CCD\"\u001b[0m,\n",
       "      \u001b[32m\"LKP_IDMAP_xREF_CNTRP_DOC_TYPE\"\u001b[0m\n",
       "    ),\n",
       "    \u001b[33m\u001b[0m(\n",
       "      \u001b[32m\"in_SOURCE_SYSTEM_CODE\"\u001b[0m,\n",
       "      \u001b[32m\"INPUT\"\u001b[0m,\n",
       "      \u001b[32m\"in_SOURCE_SYSTEM_CODE\"\u001b[0m,\n",
       "      \u001b[32m\"LKP_IDMAP_xREF_CNTRP_DOC_TYPE\"\u001b[0m\n",
       "    )\n",
       "  ),\n",
       "  \u001b[32m\"LKP_xREFMAP_CNTRP_DOCUMENT_TYPE\"\u001b[0m -> \u001b[33mList\u001b[0m(\n",
       "    \u001b[33m\u001b[0m(\n",
       "      \u001b[32m\"MASTER_SYSTEM_CCD\"\u001b[0m,\n",
       "      \u001b[32m\"INPUT\"\u001b[0m,\n",
       "      \u001b[32m\"in_MASTER_SYSTEM_CCD\"\u001b[0m,\n",
       "      \u001b[32m\"LKP_xREFMAP_CNTRP_DOCUMENT_TYPE\"\u001b[0m\n",
       "    ),\n",
       "    \u001b[33m\u001b[0m(\n",
       "      \u001b[32m\"MASTER_SYSTEM_CCD\"\u001b[0m,\n",
       "      \u001b[32m\"INPUT\"\u001b[0m,\n",
       "      \u001b[32m\"in_MASTER_SYSTEM_CCD\"\u001b[0m,\n",
       "      \u001b[32m\"LKP_xREFMAP_CNTRP_DOCUMENT_TYPE\"\u001b[0m\n",
       "    ),\n",
       "    \u001b[33m\u001b[0m(\n",
       "      \u001b[32m\"SOURCE_NK_CCD\"\u001b[0m,\n",
       "      \u001b[32m\"INPUT\"\u001b[0m,\n",
       "      \u001b[32m\"in_SOURCE_NK_CCD\"\u001b[0m,\n",
       "      \u001b[32m\"LKP_xREFMAP_CNTRP_DOCUMENT_TYPE\"\u001b[0m\n",
       "    ),\n",
       "    \u001b[33m\u001b[0m(\n",
       "      \u001b[32m\"SOURCE_NK_CCD\"\u001b[0m,\n",
       "      \u001b[32m\"INPUT\"\u001b[0m,\n",
       "      \u001b[32m\"in_SOURCE_NK_CCD\"\u001b[0m,\n",
       "      \u001b[32m\"LKP_xREFMAP_CNTRP_DOCUMENT_TYPE\"\u001b[0m\n",
       "    ),\n",
       "    \u001b[33m\u001b[0m(\n",
       "      \u001b[32m\"SOURCE_SYSTEM_CCD\"\u001b[0m,\n",
       "      \u001b[32m\"INPUT\"\u001b[0m,\n",
       "      \u001b[32m\"in_SOURCE_SYSTEM_CCD\"\u001b[0m,\n",
       "      \u001b[32m\"LKP_xREFMAP_CNTRP_DOCUMENT_TYPE\"\u001b[0m\n",
       "    ),\n",
       "    \u001b[33m\u001b[0m(\n",
       "      \u001b[32m\"SOURCE_SYSTEM_CCD\"\u001b[0m,\n",
       "      \u001b[32m\"INPUT\"\u001b[0m,\n",
       "      \u001b[32m\"in_SOURCE_SYSTEM_CCD\"\u001b[0m,\n",
       "      \u001b[32m\"LKP_xREFMAP_CNTRP_DOCUMENT_TYPE\"\u001b[0m\n",
       "    )\n",
       "  ),\n",
       "  \u001b[32m\"NRM_HFORMS\"\u001b[0m -> \u001b[33mList\u001b[0m(\n",
       "    \u001b[33m\u001b[0m(\n",
       "      \u001b[32m\"DOC_TYPE_DRIVE_LIC\"\u001b[0m,\n",
       "      \u001b[32m\"FIL_HFORMS\"\u001b[0m,\n",
       "      \u001b[32m\"DOCUMENT_TYPE_in2\"\u001b[0m,\n",
       "      \u001b[32m\"NRM_HFORMS\"\u001b[0m\n",
       "    ),\n",
       "    \u001b[33m\u001b[0m(\n",
       "      \u001b[32m\"DOC_TYPE_PASS\"\u001b[0m,\n",
       "      \u001b[32m\"FIL_HFORMS\"\u001b[0m,\n",
       "      \u001b[32m\"DOCUMENT_TYPE_in1\"\u001b[0m,\n",
       "      \u001b[32m\"NRM_HFORMS\"\u001b[0m\n",
       "    ),\n",
       "    \u001b[33m\u001b[0m(\n",
       "      \u001b[32m\"DRIVELIC_NUMBER\"\u001b[0m,\n",
       "      \u001b[32m\"FIL_HFORMS\"\u001b[0m,\n",
       "      \u001b[32m\"DOCUMENT_SER_NUM_in2\"\u001b[0m,\n",
       "      \u001b[32m\"NRM_HFORMS\"\u001b[0m\n",
       "    ),\n",
       "    \u001b[33m\u001b[0m(\u001b[32m\"NK_CCD\"\u001b[0m, \u001b[32m\"FIL_HFORMS\"\u001b[0m, \u001b[32m\"NK_CCD_in\"\u001b[0m, \u001b[32m\"NRM_HFORMS\"\u001b[0m),\n",
       "    \u001b[33m\u001b[0m(\n",
       "      \u001b[32m\"PASSPORT_CODE\"\u001b[0m,\n",
       "      \u001b[32m\"FIL_HFORMS\"\u001b[0m,\n",
       "      \u001b[32m\"ISSUE_PLACE_CODE_in1\"\u001b[0m,\n",
       "      \u001b[32m\"NRM_HFORMS\"\u001b[0m\n",
       "    ),\n",
       "    \u001b[33m\u001b[0m(\n",
       "      \u001b[32m\"PASSPORT_NUMBER\"\u001b[0m,\n",
       "      \u001b[32m\"FIL_HFORMS\"\u001b[0m,\n",
       "      \u001b[32m\"DOCUMENT_SER_NUM_in1\"\u001b[0m,\n",
       "      \u001b[32m\"NRM_HFORMS\"\u001b[0m\n",
       "    ),\n",
       "    \u001b[33m\u001b[0m(\n",
       "      \u001b[32m\"PASSPORT_VIDAN\"\u001b[0m,\n",
       "      \u001b[32m\"FIL_HFORMS\"\u001b[0m,\n",
       "      \u001b[32m\"ISSUE_PLACE_in1\"\u001b[0m,\n",
       "      \u001b[32m\"NRM_HFORMS\"\u001b[0m\n",
       "    ),\n",
       "    \u001b[33m\u001b[0m(\n",
       "      \u001b[32m\"out_DRIVELIC_DATE\"\u001b[0m,\n",
       "      \u001b[32m\"EXP_CHECK_DATE_HFORMS\"\u001b[0m,\n",
       "      \u001b[32m\"ISSUE_DT_in2\"\u001b[0m,\n",
       "      \u001b[32m\"NRM_HFORMS\"\u001b[0m\n",
       "    ),\n",
       "    \u001b[33m\u001b[0m(\n",
       "      \u001b[32m\"out_PASS_DATE\"\u001b[0m,\n",
       "      \u001b[32m\"EXP_CHECK_DATE_HFORMS\"\u001b[0m,\n",
       "      \u001b[32m\"ISSUE_DT_in1\"\u001b[0m,\n",
       "      \u001b[32m\"NRM_HFORMS\"\u001b[0m\n",
       "    )\n",
       "  ),\n",
       "  \u001b[32m\"NRM_SFORMS\"\u001b[0m -> \u001b[33mList\u001b[0m(\n",
       "    \u001b[33m\u001b[0m(\n",
       "      \u001b[32m\"DRIVELIC_NUMBER\"\u001b[0m,\n",
       "      \u001b[32m\"FIL_SFORMS\"\u001b[0m,\n",
       "      \u001b[32m\"DOCUMENT_SER_NUM_in2\"\u001b[0m,\n",
       "      \u001b[32m\"NRM_SFORMS\"\u001b[0m\n",
       "    ),\n",
       "    \u001b[33m\u001b[0m(\u001b[32m\"NK_CCD\"\u001b[0m, \u001b[32m\"FIL_SFORMS\"\u001b[0m, \u001b[32m\"NK_CCD_in\"\u001b[0m, \u001b[32m\"NRM_SFORMS\"\u001b[0m),\n",
       "    \u001b[33m\u001b[0m(\n",
       "      \u001b[32m\"OLD_PASSPORT_NUMBER\"\u001b[0m,\n",
       "      \u001b[32m\"FIL_SFORMS\"\u001b[0m,\n",
       "      \u001b[32m\"DOCUMENT_NUMBER_in4\"\u001b[0m,\n",
       "      \u001b[32m\"NRM_SFORMS\"\u001b[0m\n",
       "    ),\n",
       "    \u001b[33m\u001b[0m(\n",
       "      \u001b[32m\"OLD_PASSPORT_SERIA\"\u001b[0m,\n",
       "      \u001b[32m\"FIL_SFORMS\"\u001b[0m,\n",
       "      \u001b[32m\"DOCUMENT_SERIES_in4\"\u001b[0m,\n",
       "      \u001b[32m\"NRM_SFORMS\"\u001b[0m\n",
       "    ),\n",
       "    \u001b[33m\u001b[0m(\n",
       "      \u001b[32m\"OLD_PASSPORT_VIDAN\"\u001b[0m,\n",
       "      \u001b[32m\"FIL_SFORMS\"\u001b[0m,\n",
       "      \u001b[32m\"ISSUE_PLACE_in4\"\u001b[0m,\n",
       "      \u001b[32m\"NRM_SFORMS\"\u001b[0m\n",
       "    ),\n",
       "    \u001b[33m\u001b[0m(\n",
       "      \u001b[32m\"OLD_PASS_NUM_NULL\"\u001b[0m,\n",
       "      \u001b[32m\"FIL_SFORMS\"\u001b[0m,\n",
       "      \u001b[32m\"DOCUMENT_NUMBER_in1\"\u001b[0m,\n",
       "      \u001b[32m\"NRM_SFORMS\"\u001b[0m\n",
       "    ),\n",
       "    \u001b[33m\u001b[0m(\n",
       "      \u001b[32m\"OLD_PASS_SERIA_NULL\"\u001b[0m,\n",
       "      \u001b[32m\"FIL_SFORMS\"\u001b[0m,\n",
       "      \u001b[32m\"DOCUMENT_SERIES_in1\"\u001b[0m,\n",
       "      \u001b[32m\"NRM_SFORMS\"\u001b[0m\n",
       "    ),\n",
       "    \u001b[33m\u001b[0m(\n",
       "      \u001b[32m\"PASSPORT_CODE\"\u001b[0m,\n",
       "      \u001b[32m\"FIL_SFORMS\"\u001b[0m,\n",
       "      \u001b[32m\"ISSUE_PLACE_CODE_in1\"\u001b[0m,\n",
       "      \u001b[32m\"NRM_SFORMS\"\u001b[0m\n",
       "    ),\n",
       "    \u001b[33m\u001b[0m(\n",
       "      \u001b[32m\"PASSPORT_NUMBER\"\u001b[0m,\n",
       "      \u001b[32m\"FIL_SFORMS\"\u001b[0m,\n",
       "      \u001b[32m\"DOCUMENT_SER_NUM_in1\"\u001b[0m,\n",
       "      \u001b[32m\"NRM_SFORMS\"\u001b[0m\n",
       "    ),\n",
       "    \u001b[33m\u001b[0m(\n",
       "      \u001b[32m\"PASSPORT_VIDAN\"\u001b[0m,\n",
       "      \u001b[32m\"FIL_SFORMS\"\u001b[0m,\n",
       "      \u001b[32m\"ISSUE_PLACE_in1\"\u001b[0m,\n",
       "      \u001b[32m\"NRM_SFORMS\"\u001b[0m\n",
       "    ),\n",
       "    \u001b[33m\u001b[0m(\n",
       "      \u001b[32m\"PENSFOND_NUMBER\"\u001b[0m,\n",
       "      \u001b[32m\"FIL_SFORMS\"\u001b[0m,\n",
       "      \u001b[32m\"DOCUMENT_SER_NUM_in5\"\u001b[0m,\n",
       "      \u001b[32m\"NRM_SFORMS\"\u001b[0m\n",
       "    ),\n",
       "    \u001b[33m\u001b[0m(\n",
       "      \u001b[32m\"RK\"\u001b[0m,\n",
       "      \u001b[32m\"mp_xREFMAP_CNTRP_DOCUMENT_TYPE_WORKBOOK_SFORMS\"\u001b[0m,\n",
       "      \u001b[32m\"DOCUMENT_TYPE_RK_in6\"\u001b[0m,\n",
       "      \u001b[32m\"NRM_SFORMS\"\u001b[0m\n",
       "    ),\n",
       "    \u001b[33m\u001b[0m(\n",
       "      \u001b[32m\"RK\"\u001b[0m,\n",
       "      \u001b[32m\"mp_IDMAP_ORPHAN_xREF_CNTRP_DOC_TYPE_PENSFOND_SFORMS\"\u001b[0m,\n",
       "      \u001b[32m\"DOCUMENT_TYPE_RK_in5\"\u001b[0m,\n",
       "      \u001b[32m\"NRM_SFORMS\"\u001b[0m\n",
       "    ),\n",
       "    \u001b[33m\u001b[0m(\n",
       "      \u001b[32m\"RK\"\u001b[0m,\n",
       "      \u001b[32m\"mp_IDMAP_ORPHAN_xREF_CNTRP_DOC_TYPE_MILITARY_SFORMS\"\u001b[0m,\n",
       "      \u001b[32m\"DOCUMENT_TYPE_RK_in8\"\u001b[0m,\n",
       "      \u001b[32m\"NRM_SFORMS\"\u001b[0m\n",
       "    ),\n",
       "    \u001b[33m\u001b[0m(\n",
       "      \u001b[32m\"RK\"\u001b[0m,\n",
       "      \u001b[32m\"mp_IDMAP_ORPHAN_xREF_CNTRP_DOC_TYPE_OLD_PASS_SFORMS\"\u001b[0m,\n",
       "      \u001b[32m\"DOCUMENT_TYPE_RK_in4\"\u001b[0m,\n",
       "      \u001b[32m\"NRM_SFORMS\"\u001b[0m\n",
       "    ),\n",
       "    \u001b[33m\u001b[0m(\n",
       "      \u001b[32m\"RK\"\u001b[0m,\n",
       "      \u001b[32m\"mp_IDMAP_ORPHAN_xREF_CNTRP_DOC_TYPE_ZAGR_SFORMS\"\u001b[0m,\n",
       "      \u001b[32m\"DOCUMENT_TYPE_RK_in3\"\u001b[0m,\n",
       "      \u001b[32m\"NRM_SFORMS\"\u001b[0m\n",
       "    ),\n",
       "    \u001b[33m\u001b[0m(\n",
       "      \u001b[32m\"RK\"\u001b[0m,\n",
       "      \u001b[32m\"mp_IDMAP_ORPHAN_xREF_CNTRP_DOC_TYPE_DRIVE_LIC_SFORMS\"\u001b[0m,\n",
       "      \u001b[32m\"DOCUMENT_TYPE_RK_in2\"\u001b[0m,\n",
       "      \u001b[32m\"NRM_SFORMS\"\u001b[0m\n",
       "    ),\n",
       "    \u001b[33m\u001b[0m(\n",
       "      \u001b[32m\"RK\"\u001b[0m,\n",
       "      \u001b[32m\"mp_IDMAP_ORPHAN_xREF_CNTRP_DOC_TYPE_PASS_SFORMS\"\u001b[0m,\n",
       "      \u001b[32m\"DOCUMENT_TYPE_RK_in1\"\u001b[0m,\n",
       "      \u001b[32m\"NRM_SFORMS\"\u001b[0m\n",
       "    ),\n",
       "    \u001b[33m\u001b[0m(\n",
       "      \u001b[32m\"RK\"\u001b[0m,\n",
       "      \u001b[32m\"mp_xREFMAP_CNTRP_DOCUMENT_TYPE_SEC_DOC_SFORMS\"\u001b[0m,\n",
       "      \u001b[32m\"DOCUMENT_TYPE_RK_in7\"\u001b[0m,\n",
       "      \u001b[32m\"NRM_SFORMS\"\u001b[0m\n",
       "    ),\n",
       "    \u001b[33m\u001b[0m(\n",
       "      \u001b[32m\"SOLDIER_NUMBER\"\u001b[0m,\n",
       "      \u001b[32m\"FIL_SFORMS\"\u001b[0m,\n",
       "      \u001b[32m\"DOCUMENT_SER_NUM_in8\"\u001b[0m,\n",
       "      \u001b[32m\"NRM_SFORMS\"\u001b[0m\n",
       "    ),\n",
       "    \u001b[33m\u001b[0m(\n",
       "      \u001b[32m\"SOLDIER_VIDAN\"\u001b[0m,\n",
       "      \u001b[32m\"FIL_SFORMS\"\u001b[0m,\n",
       "      \u001b[32m\"ISSUE_PLACE_in8\"\u001b[0m,\n",
       "      \u001b[32m\"NRM_SFORMS\"\u001b[0m\n",
       "    ),\n",
       "    \u001b[33m\u001b[0m(\n",
       "      \u001b[32m\"ZAGRAN_NUMBER\"\u001b[0m,\n",
       "      \u001b[32m\"FIL_SFORMS\"\u001b[0m,\n",
       "      \u001b[32m\"DOCUMENT_SER_NUM_in3\"\u001b[0m,\n",
       "      \u001b[32m\"NRM_SFORMS\"\u001b[0m\n",
       "    ),\n",
       "    \u001b[33m\u001b[0m(\n",
       "      \u001b[32m\"out_DRIVELIC_DATE\"\u001b[0m,\n",
       "      \u001b[32m\"EXP_CHECK_DATE_SFORMS\"\u001b[0m,\n",
       "      \u001b[32m\"ISSUE_DT_in2\"\u001b[0m,\n",
       "      \u001b[32m\"NRM_SFORMS\"\u001b[0m\n",
       "    ),\n",
       "    \u001b[33m\u001b[0m(\n",
       "      \u001b[32m\"out_OLD_PASSPORT_DATE\"\u001b[0m,\n",
       "      \u001b[32m\"EXP_CHECK_DATE_SFORMS\"\u001b[0m,\n",
       "      \u001b[32m\"ISSUE_DT_in4\"\u001b[0m,\n",
       "      \u001b[32m\"NRM_SFORMS\"\u001b[0m\n",
       "    ),\n",
       "    \u001b[33m\u001b[0m(\n",
       "      \u001b[32m\"out_PASSPORT_DATE\"\u001b[0m,\n",
       "      \u001b[32m\"EXP_CHECK_DATE_SFORMS\"\u001b[0m,\n",
       "      \u001b[32m\"ISSUE_DT_in1\"\u001b[0m,\n",
       "      \u001b[32m\"NRM_SFORMS\"\u001b[0m\n",
       "    ),\n",
       "    \u001b[33m\u001b[0m(\n",
       "      \u001b[32m\"out_SOLDIER_DATE\"\u001b[0m,\n",
       "      \u001b[32m\"EXP_CHECK_DATE_SFORMS\"\u001b[0m,\n",
       "      \u001b[32m\"ISSUE_DT_in8\"\u001b[0m,\n",
       "      \u001b[32m\"NRM_SFORMS\"\u001b[0m\n",
       "    ),\n",
       "    \u001b[33m\u001b[0m(\n",
       "      \u001b[32m\"out_ZAGRAN_DATE\"\u001b[0m,\n",
       "      \u001b[32m\"EXP_CHECK_DATE_SFORMS\"\u001b[0m,\n",
       "      \u001b[32m\"ISSUE_DT_in3\"\u001b[0m,\n",
       "      \u001b[32m\"NRM_SFORMS\"\u001b[0m\n",
       "    )\n",
       "  ),\n",
       "  \u001b[32m\"OUTPUT\"\u001b[0m -> \u001b[33mList\u001b[0m(\n",
       "    \u001b[33m\u001b[0m(\u001b[32m\"MASTER_NK_CCD\"\u001b[0m, \u001b[32m\"EXP_RETURN_VAL\"\u001b[0m, \u001b[32m\"NK_CCD\"\u001b[0m, \u001b[32m\"OUTPUT\"\u001b[0m),\n",
       "    \u001b[33m\u001b[0m(\u001b[32m\"NK_DQ_ERROR\"\u001b[0m, \u001b[32m\"EXP_RETURN_VAL\"\u001b[0m, \u001b[32m\"NK_DQ_ERROR\"\u001b[0m, \u001b[32m\"OUTPUT\"\u001b[0m),\n",
       "    \u001b[33m\u001b[0m(\u001b[32m\"RK\"\u001b[0m, \u001b[32m\"EXP_SRC_NAME\"\u001b[0m, \u001b[32m\"RK_LKP\"\u001b[0m, \u001b[32m\"OUTPUT\"\u001b[0m),\n",
       "    \u001b[33m\u001b[0m(\u001b[32m\"out_NK\"\u001b[0m, \u001b[32m\"EXP_RETURN_VAL\"\u001b[0m, \u001b[32m\"NK\"\u001b[0m, \u001b[32m\"OUTPUT\"\u001b[0m),\n",
       "    \u001b[33m\u001b[0m(\u001b[32m\"out_RK\"\u001b[0m, \u001b[32m\"EXP_SRC_NAME\"\u001b[0m, \u001b[32m\"RK\"\u001b[0m, \u001b[32m\"OUTPUT\"\u001b[0m),\n",
       "    \u001b[33m\u001b[0m(\u001b[32m\"out_RK\"\u001b[0m, \u001b[32m\"EXP_RETURN_VAL\"\u001b[0m, \u001b[32m\"RK\"\u001b[0m, \u001b[32m\"OUTPUT\"\u001b[0m),\n",
       "    \u001b[33m\u001b[0m(\u001b[32m\"out_RK\"\u001b[0m, \u001b[32m\"EXP_SRC\"\u001b[0m, \u001b[32m\"RK\"\u001b[0m, \u001b[32m\"OUTPUT\"\u001b[0m),\n",
       "    \u001b[33m\u001b[0m(\u001b[32m\"out_RK_LKP\"\u001b[0m, \u001b[32m\"EXP_SRC\"\u001b[0m, \u001b[32m\"RK_LKP\"\u001b[0m, \u001b[32m\"OUTPUT\"\u001b[0m)\n",
       "  ),\n",
       "  \u001b[32m\"OUTPUT_BAD\"\u001b[0m -> \u001b[33mList\u001b[0m(\n",
       "    \u001b[33m\u001b[0m(\n",
       "      \u001b[32m\"MASTER_NK_CCD\"\u001b[0m,\n",
       "      \u001b[32m\"EXP_RETURN_VAL\"\u001b[0m,\n",
       "      \u001b[32m\"MASTER_NK_CCD\"\u001b[0m,\n",
       "      \u001b[32m\"OUTPUT_BAD\"\u001b[0m\n",
       "    ),\n",
       "    \u001b[33m\u001b[0m(\n",
       "      \u001b[32m\"MASTER_NK_CCD\"\u001b[0m,\n",
       "      \u001b[32m\"EXP_RETURN_VAL\"\u001b[0m,\n",
       "      \u001b[32m\"MASTER_NK_CCD\"\u001b[0m,\n",
       "      \u001b[32m\"OUTPUT_BAD\"\u001b[0m\n",
       "    ),\n",
       "    \u001b[33m\u001b[0m(\n",
       "      \u001b[32m\"MASTER_SYSTEM_CCD\"\u001b[0m,\n",
       "      \u001b[32m\"EXP_RETURN_VAL\"\u001b[0m,\n",
       "      \u001b[32m\"LKP_MASTER_SYSTEM_CCD\"\u001b[0m,\n",
       "      \u001b[32m\"OUTPUT_BAD\"\u001b[0m\n",
       "    ),\n",
       "    \u001b[33m\u001b[0m(\n",
       "      \u001b[32m\"MASTER_SYSTEM_CCD\"\u001b[0m,\n",
       "      \u001b[32m\"EXP_RETURN_VAL\"\u001b[0m,\n",
       "      \u001b[32m\"lkp_MASTER_SYSTEM_CCD\"\u001b[0m,\n",
       "      \u001b[32m\"OUTPUT_BAD\"\u001b[0m\n",
       "    ),\n",
       "    \u001b[33m\u001b[0m(\u001b[32m\"TABLE_NAME\"\u001b[0m, \u001b[32m\"EXP_RETURN_VAL\"\u001b[0m, \u001b[32m\"TABLE_NAME\"\u001b[0m, \u001b[32m\"OUTPUT_BAD\"\u001b[0m),\n",
       "    \u001b[33m\u001b[0m(\n",
       "      \u001b[32m\"in_MASTER_SYSTEM_CCD\"\u001b[0m,\n",
       "      \u001b[32m\"EXP_RETURN_VAL\"\u001b[0m,\n",
       "      \u001b[32m\"MASTER_SYSTEM_CCD\"\u001b[0m,\n",
       "      \u001b[32m\"OUTPUT_BAD\"\u001b[0m\n",
       "    ),\n",
       "    \u001b[33m\u001b[0m(\n",
       "      \u001b[32m\"in_MASTER_SYSTEM_CCD\"\u001b[0m,\n",
       "      \u001b[32m\"EXP_RETURN_VAL\"\u001b[0m,\n",
       "      \u001b[32m\"MASTER_SYSTEM_CCD\"\u001b[0m,\n",
       "      \u001b[32m\"OUTPUT_BAD\"\u001b[0m\n",
       "    ),\n",
       "    \u001b[33m\u001b[0m(\n",
       "      \u001b[32m\"in_SOURCE_NK_CCD\"\u001b[0m,\n",
       "      \u001b[32m\"EXP_RETURN_VAL\"\u001b[0m,\n",
       "      \u001b[32m\"SOURCE_NK_CCD\"\u001b[0m,\n",
       "      \u001b[32m\"OUTPUT_BAD\"\u001b[0m\n",
       "    ),\n",
       "    \u001b[33m\u001b[0m(\n",
       "      \u001b[32m\"in_SOURCE_NK_CCD\"\u001b[0m,\n",
       "      \u001b[32m\"EXP_RETURN_VAL\"\u001b[0m,\n",
       "      \u001b[32m\"SOURCE_NK_CCD\"\u001b[0m,\n",
       "      \u001b[32m\"OUTPUT_BAD\"\u001b[0m\n",
       "    ),\n",
       "    \u001b[33m\u001b[0m(\n",
       "      \u001b[32m\"in_SOURCE_SYSTEM_CCD\"\u001b[0m,\n",
       "      \u001b[32m\"EXP_RETURN_VAL\"\u001b[0m,\n",
       "      \u001b[32m\"SOURCE_SYSTEM_CCD\"\u001b[0m,\n",
       "      \u001b[32m\"OUTPUT_BAD\"\u001b[0m\n",
       "    ),\n",
       "    \u001b[33m\u001b[0m(\n",
       "      \u001b[32m\"in_SOURCE_SYSTEM_CCD\"\u001b[0m,\n",
       "      \u001b[32m\"EXP_RETURN_VAL\"\u001b[0m,\n",
       "      \u001b[32m\"SOURCE_SYSTEM_CCD\"\u001b[0m,\n",
       "      \u001b[32m\"OUTPUT_BAD\"\u001b[0m\n",
       "    ),\n",
       "    \u001b[33m\u001b[0m(\n",
       "      \u001b[32m\"out_TABLE_NAME\"\u001b[0m,\n",
       "      \u001b[32m\"EXP_RETURN_VAL\"\u001b[0m,\n",
       "      \u001b[32m\"TABLE_NAME\"\u001b[0m,\n",
       "      \u001b[32m\"OUTPUT_BAD\"\u001b[0m\n",
       "    )\n",
       "  ),\n",
       "  \u001b[32m\"SQ_HYPO_FORMS\"\u001b[0m -> \u001b[33mList\u001b[0m(\n",
       "    \u001b[33m\u001b[0m(\u001b[32m\"BRANCH\"\u001b[0m, \u001b[32m\"HYPO_FORMS\"\u001b[0m, \u001b[32m\"BRANCH\"\u001b[0m, \u001b[32m\"SQ_HYPO_FORMS\"\u001b[0m),\n",
       "    \u001b[33m\u001b[0m(\n",
       "      \u001b[32m\"DRIVELIC_DATE\"\u001b[0m,\n",
       "      \u001b[32m\"HYPO_FORMS\"\u001b[0m,\n",
       "      \u001b[32m\"DRIVELIC_DATE\"\u001b[0m,\n",
       "      \u001b[32m\"SQ_HYPO_FORMS\"\u001b[0m\n",
       "    ),\n",
       "    \u001b[33m\u001b[0m(\n",
       "      \u001b[32m\"DRIVELIC_NUMBER\"\u001b[0m,\n",
       "      \u001b[32m\"HYPO_FORMS\"\u001b[0m,\n",
       "      \u001b[32m\"DRIVELIC_NUMBER\"\u001b[0m,\n",
       "      \u001b[32m\"SQ_HYPO_FORMS\"\u001b[0m\n",
       "    ),\n",
       "    \u001b[33m\u001b[0m(\u001b[32m\"DWH_JOB_ID\"\u001b[0m, \u001b[32m\"HYPO_FORMS\"\u001b[0m, \u001b[32m\"DWH_JOB_ID\"\u001b[0m, \u001b[32m\"SQ_HYPO_FORMS\"\u001b[0m),\n",
       "    \u001b[33m\u001b[0m(\n",
       "      \u001b[32m\"PASSPORT_CODE\"\u001b[0m,\n",
       "      \u001b[32m\"HYPO_FORMS\"\u001b[0m,\n",
       "      \u001b[32m\"PASSPORT_CODE\"\u001b[0m,\n",
       "      \u001b[32m\"SQ_HYPO_FORMS\"\u001b[0m\n",
       "    ),\n",
       "    \u001b[33m\u001b[0m(\n",
       "      \u001b[32m\"PASSPORT_DATE\"\u001b[0m,\n",
       "      \u001b[32m\"HYPO_FORMS\"\u001b[0m,\n",
       "      \u001b[32m\"PASSPORT_DATE\"\u001b[0m,\n",
       "      \u001b[32m\"SQ_HYPO_FORMS\"\u001b[0m\n",
       "    ),\n",
       "    \u001b[33m\u001b[0m(\n",
       "      \u001b[32m\"PASSPORT_NUMBER\"\u001b[0m,\n",
       "      \u001b[32m\"HYPO_FORMS\"\u001b[0m,\n",
       "      \u001b[32m\"PASSPORT_NUMBER\"\u001b[0m,\n",
       "      \u001b[32m\"SQ_HYPO_FORMS\"\u001b[0m\n",
       "    ),\n",
       "    \u001b[33m\u001b[0m(\n",
       "      \u001b[32m\"PASSPORT_VIDAN\"\u001b[0m,\n",
       "      \u001b[32m\"HYPO_FORMS\"\u001b[0m,\n",
       "      \u001b[32m\"PASSPORT_VIDAN\"\u001b[0m,\n",
       "      \u001b[32m\"SQ_HYPO_FORMS\"\u001b[0m\n",
       "    ),\n",
       "    \u001b[33m\u001b[0m(\n",
       "      \u001b[32m\"PROCESSED_DTTM\"\u001b[0m,\n",
       "      \u001b[32m\"HYPO_FORMS\"\u001b[0m,\n",
       "      \u001b[32m\"PROCESSED_DTTM\"\u001b[0m,\n",
       "      \u001b[32m\"SQ_HYPO_FORMS\"\u001b[0m\n",
       "    ),\n",
       "    \u001b[33m\u001b[0m(\u001b[32m\"REFERENCE\"\u001b[0m, \u001b[32m\"HYPO_FORMS\"\u001b[0m, \u001b[32m\"REFERENCE\"\u001b[0m, \u001b[32m\"SQ_HYPO_FORMS\"\u001b[0m)\n",
       "  ),\n",
       "  \u001b[32m\"SQ_SCORING_FORMS\"\u001b[0m -> \u001b[33mList\u001b[0m(\n",
       "    \u001b[33m\u001b[0m(\u001b[32m\"BRANCH\"\u001b[0m, \u001b[32m\"SCORING_FORMS\"\u001b[0m, \u001b[32m\"BRANCH\"\u001b[0m, \u001b[32m\"SQ_SCORING_FORMS\"\u001b[0m),\n",
       "    \u001b[33m\u001b[0m(\n",
       "      \u001b[32m\"DRIVELIC_DATE\"\u001b[0m,\n",
       "      \u001b[32m\"SCORING_FORMS\"\u001b[0m,\n",
       "      \u001b[32m\"DRIVELIC_DATE\"\u001b[0m,\n",
       "      \u001b[32m\"SQ_SCORING_FORMS\"\u001b[0m\n",
       "    ),\n",
       "    \u001b[33m\u001b[0m(\n",
       "      \u001b[32m\"DRIVELIC_NUMBER\"\u001b[0m,\n",
       "      \u001b[32m\"SCORING_FORMS\"\u001b[0m,\n",
       "      \u001b[32m\"DRIVELIC_NUMBER\"\u001b[0m,\n",
       "      \u001b[32m\"SQ_SCORING_FORMS\"\u001b[0m\n",
       "    ),\n",
       "    \u001b[33m\u001b[0m(\n",
       "      \u001b[32m\"DWH_JOB_ID\"\u001b[0m,\n",
       "      \u001b[32m\"SCORING_FORMS\"\u001b[0m,\n",
       "      \u001b[32m\"DWH_JOB_ID\"\u001b[0m,\n",
       "      \u001b[32m\"SQ_SCORING_FORMS\"\u001b[0m\n",
       "    ),\n",
       "    \u001b[33m\u001b[0m(\n",
       "      \u001b[32m\"OLD_PASSPORT_DATE\"\u001b[0m,\n",
       "      \u001b[32m\"SCORING_FORMS\"\u001b[0m,\n",
       "      \u001b[32m\"OLD_PASSPORT_DATE\"\u001b[0m,\n",
       "      \u001b[32m\"SQ_SCORING_FORMS\"\u001b[0m\n",
       "    ),\n",
       "    \u001b[33m\u001b[0m(\n",
       "      \u001b[32m\"OLD_PASSPORT_NUMBER\"\u001b[0m,\n",
       "      \u001b[32m\"SCORING_FORMS\"\u001b[0m,\n",
       "      \u001b[32m\"OLD_PASSPORT_NUMBER\"\u001b[0m,\n",
       "      \u001b[32m\"SQ_SCORING_FORMS\"\u001b[0m\n",
       "    ),\n",
       "    \u001b[33m\u001b[0m(\n",
       "      \u001b[32m\"OLD_PASSPORT_SERIA\"\u001b[0m,\n",
       "      \u001b[32m\"SCORING_FORMS\"\u001b[0m,\n",
       "      \u001b[32m\"OLD_PASSPORT_SERIA\"\u001b[0m,\n",
       "      \u001b[32m\"SQ_SCORING_FORMS\"\u001b[0m\n",
       "    ),\n",
       "    \u001b[33m\u001b[0m(\n",
       "      \u001b[32m\"OLD_PASSPORT_VIDAN\"\u001b[0m,\n",
       "      \u001b[32m\"SCORING_FORMS\"\u001b[0m,\n",
       "      \u001b[32m\"OLD_PASSPORT_VIDAN\"\u001b[0m,\n",
       "      \u001b[32m\"SQ_SCORING_FORMS\"\u001b[0m\n",
       "    ),\n",
       "    \u001b[33m\u001b[0m(\n",
       "      \u001b[32m\"PASSPORT_CODE\"\u001b[0m,\n",
       "      \u001b[32m\"SCORING_FORMS\"\u001b[0m,\n",
       "      \u001b[32m\"PASSPORT_CODE\"\u001b[0m,\n",
       "      \u001b[32m\"SQ_SCORING_FORMS\"\u001b[0m\n",
       "    ),\n",
       "    \u001b[33m\u001b[0m(\n",
       "      \u001b[32m\"PASSPORT_DATE\"\u001b[0m,\n",
       "      \u001b[32m\"SCORING_FORMS\"\u001b[0m,\n",
       "      \u001b[32m\"PASSPORT_DATE\"\u001b[0m,\n",
       "      \u001b[32m\"SQ_SCORING_FORMS\"\u001b[0m\n",
       "    ),\n",
       "    \u001b[33m\u001b[0m(\n",
       "      \u001b[32m\"PASSPORT_NUMBER\"\u001b[0m,\n",
       "      \u001b[32m\"SCORING_FORMS\"\u001b[0m,\n",
       "      \u001b[32m\"PASSPORT_NUMBER\"\u001b[0m,\n",
       "      \u001b[32m\"SQ_SCORING_FORMS\"\u001b[0m\n",
       "    ),\n",
       "    \u001b[33m\u001b[0m(\n",
       "      \u001b[32m\"PASSPORT_VIDAN\"\u001b[0m,\n",
       "      \u001b[32m\"SCORING_FORMS\"\u001b[0m,\n",
       "      \u001b[32m\"PASSPORT_VIDAN\"\u001b[0m,\n",
       "      \u001b[32m\"SQ_SCORING_FORMS\"\u001b[0m\n",
       "    ),\n",
       "    \u001b[33m\u001b[0m(\n",
       "      \u001b[32m\"PENSFOND_NUMBER\"\u001b[0m,\n",
       "      \u001b[32m\"SCORING_FORMS\"\u001b[0m,\n",
       "      \u001b[32m\"PENSFOND_NUMBER\"\u001b[0m,\n",
       "      \u001b[32m\"SQ_SCORING_FORMS\"\u001b[0m\n",
       "    ),\n",
       "    \u001b[33m\u001b[0m(\n",
       "      \u001b[32m\"PROCESSED_DTTM\"\u001b[0m,\n",
       "      \u001b[32m\"SCORING_FORMS\"\u001b[0m,\n",
       "      \u001b[32m\"PROCESSED_DTTM\"\u001b[0m,\n",
       "      \u001b[32m\"SQ_SCORING_FORMS\"\u001b[0m\n",
       "    ),\n",
       "    \u001b[33m\u001b[0m(\n",
       "      \u001b[32m\"REFERENCE\"\u001b[0m,\n",
       "      \u001b[32m\"SCORING_FORMS\"\u001b[0m,\n",
       "      \u001b[32m\"REFERENCE\"\u001b[0m,\n",
       "      \u001b[32m\"SQ_SCORING_FORMS\"\u001b[0m\n",
       "    ),\n",
       "    \u001b[33m\u001b[0m(\n",
       "      \u001b[32m\"SECOND_DOC_TYPE\"\u001b[0m,\n",
       "      \u001b[32m\"SCORING_FORMS\"\u001b[0m,\n",
       "      \u001b[32m\"SECOND_DOC_TYPE\"\u001b[0m,\n",
       "      \u001b[32m\"SQ_SCORING_FORMS\"\u001b[0m\n",
       "    ),\n",
       "    \u001b[33m\u001b[0m(\n",
       "      \u001b[32m\"SOLDIER_DATE\"\u001b[0m,\n",
       "      \u001b[32m\"SCORING_FORMS\"\u001b[0m,\n",
       "      \u001b[32m\"SOLDIER_DATE\"\u001b[0m,\n",
       "      \u001b[32m\"SQ_SCORING_FORMS\"\u001b[0m\n",
       "    ),\n",
       "    \u001b[33m\u001b[0m(\n",
       "      \u001b[32m\"SOLDIER_NUMBER\"\u001b[0m,\n",
       "      \u001b[32m\"SCORING_FORMS\"\u001b[0m,\n",
       "      \u001b[32m\"SOLDIER_NUMBER\"\u001b[0m,\n",
       "      \u001b[32m\"SQ_SCORING_FORMS\"\u001b[0m\n",
       "    ),\n",
       "    \u001b[33m\u001b[0m(\n",
       "      \u001b[32m\"SOLDIER_VIDAN\"\u001b[0m,\n",
       "      \u001b[32m\"SCORING_FORMS\"\u001b[0m,\n",
       "      \u001b[32m\"SOLDIER_VIDAN\"\u001b[0m,\n",
       "      \u001b[32m\"SQ_SCORING_FORMS\"\u001b[0m\n",
       "    ),\n",
       "    \u001b[33m\u001b[0m(\n",
       "      \u001b[32m\"WORKBOOK_TYPE\"\u001b[0m,\n",
       "      \u001b[32m\"SCORING_FORMS\"\u001b[0m,\n",
       "      \u001b[32m\"WORKBOOK_TYPE\"\u001b[0m,\n",
       "      \u001b[32m\"SQ_SCORING_FORMS\"\u001b[0m\n",
       "    ),\n",
       "    \u001b[33m\u001b[0m(\n",
       "      \u001b[32m\"ZAGRAN_DATE\"\u001b[0m,\n",
       "      \u001b[32m\"SCORING_FORMS\"\u001b[0m,\n",
       "      \u001b[32m\"ZAGRAN_DATE\"\u001b[0m,\n",
       "      \u001b[32m\"SQ_SCORING_FORMS\"\u001b[0m\n",
       "    ),\n",
       "    \u001b[33m\u001b[0m(\n",
       "      \u001b[32m\"ZAGRAN_NUMBER\"\u001b[0m,\n",
       "      \u001b[32m\"SCORING_FORMS\"\u001b[0m,\n",
       "      \u001b[32m\"ZAGRAN_NUMBER\"\u001b[0m,\n",
       "      \u001b[32m\"SQ_SCORING_FORMS\"\u001b[0m\n",
       "    )\n",
       "  ),\n",
       "  \u001b[32m\"UNI_ALL_SOURCES\"\u001b[0m -> \u001b[33mList\u001b[0m(\n",
       "    \u001b[33m\u001b[0m(\n",
       "      \u001b[32m\"DOCUMENT_NUMBER\"\u001b[0m,\n",
       "      \u001b[32m\"EXP_NRM_SFORMS\"\u001b[0m,\n",
       "      \u001b[32m\"DOCUMENT_NUMBER2\"\u001b[0m,\n",
       "      \u001b[32m\"UNI_ALL_SOURCES\"\u001b[0m\n",
       "    ),\n",
       "    \u001b[33m\u001b[0m(\n",
       "      \u001b[32m\"DOCUMENT_SERIES\"\u001b[0m,\n",
       "      \u001b[32m\"EXP_NRM_SFORMS\"\u001b[0m,\n",
       "      \u001b[32m\"DOCUMENT_SERIES2\"\u001b[0m,\n",
       "      \u001b[32m\"UNI_ALL_SOURCES\"\u001b[0m\n",
       "    ),\n",
       "    \u001b[33m\u001b[0m(\n",
       "      \u001b[32m\"DOCUMENT_SER_NUM\"\u001b[0m,\n",
       "      \u001b[32m\"EXP_NORM_HFORMS\"\u001b[0m,\n",
       "      \u001b[32m\"DOCUMENT_SERIES_NUMBER1\"\u001b[0m,\n",
       "      \u001b[32m\"UNI_ALL_SOURCES\"\u001b[0m\n",
       "    ),\n",
       "    \u001b[33m\u001b[0m(\n",
       "      \u001b[32m\"DOCUMENT_SER_NUM\"\u001b[0m,\n",
       "      \u001b[32m\"EXP_NRM_SFORMS\"\u001b[0m,\n",
       "      \u001b[32m\"DOCUMENT_SERIES_NUMBER2\"\u001b[0m,\n",
       "      \u001b[32m\"UNI_ALL_SOURCES\"\u001b[0m\n",
       "    ),\n",
       "    \u001b[33m\u001b[0m(\n",
       "      \u001b[32m\"DOCUMENT_TYPE_RK\"\u001b[0m,\n",
       "      \u001b[32m\"EXP_NRM_SFORMS\"\u001b[0m,\n",
       "      \u001b[32m\"COUNTERPARTY_DOCUMENT_TYPE_RK2\"\u001b[0m,\n",
       "      \u001b[32m\"UNI_ALL_SOURCES\"\u001b[0m\n",
       "    ),\n",
       "    \u001b[33m\u001b[0m(\n",
       "      \u001b[32m\"ISSUE_DT\"\u001b[0m,\n",
       "      \u001b[32m\"EXP_NRM_SFORMS\"\u001b[0m,\n",
       "      \u001b[32m\"ISSUE_DT2\"\u001b[0m,\n",
       "      \u001b[32m\"UNI_ALL_SOURCES\"\u001b[0m\n",
       "    ),\n",
       "    \u001b[33m\u001b[0m(\n",
       "      \u001b[32m\"ISSUE_PLACE\"\u001b[0m,\n",
       "      \u001b[32m\"EXP_NORM_HFORMS\"\u001b[0m,\n",
       "      \u001b[32m\"ISSUE_PLACE1\"\u001b[0m,\n",
       "      \u001b[32m\"UNI_ALL_SOURCES\"\u001b[0m\n",
       "    ),\n",
       "    \u001b[33m\u001b[0m(\n",
       "      \u001b[32m\"ISSUE_PLACE\"\u001b[0m,\n",
       "      \u001b[32m\"EXP_NRM_SFORMS\"\u001b[0m,\n",
       "      \u001b[32m\"ISSUE_PLACE2\"\u001b[0m,\n",
       "      \u001b[32m\"UNI_ALL_SOURCES\"\u001b[0m\n",
       "    ),\n",
       "    \u001b[33m\u001b[0m(\n",
       "      \u001b[32m\"ISSUE_PLACE_CODE\"\u001b[0m,\n",
       "      \u001b[32m\"EXP_NORM_HFORMS\"\u001b[0m,\n",
       "      \u001b[32m\"ISSUE_PLACE_CODE1\"\u001b[0m,\n",
       "      \u001b[32m\"UNI_ALL_SOURCES\"\u001b[0m\n",
       "    ),\n",
       "    \u001b[33m\u001b[0m(\n",
       "      \u001b[32m\"ISSUE_PLACE_CODE\"\u001b[0m,\n",
       "      \u001b[32m\"EXP_NRM_SFORMS\"\u001b[0m,\n",
       "      \u001b[32m\"ISSUE_PLACE_CODE2\"\u001b[0m,\n",
       "      \u001b[32m\"UNI_ALL_SOURCES\"\u001b[0m\n",
       "    ),\n",
       "    \u001b[33m\u001b[0m(\n",
       "      \u001b[32m\"NK_CCD\"\u001b[0m,\n",
       "      \u001b[32m\"EXP_NORM_HFORMS\"\u001b[0m,\n",
       "      \u001b[32m\"COUNTERPARTY_RK1\"\u001b[0m,\n",
       "      \u001b[32m\"UNI_ALL_SOURCES\"\u001b[0m\n",
       "    ),\n",
       "    \u001b[33m\u001b[0m(\n",
       "      \u001b[32m\"NK_CCD\"\u001b[0m,\n",
       "      \u001b[32m\"EXP_NRM_SFORMS\"\u001b[0m,\n",
       "      \u001b[32m\"COUNTERPARTY_RK2\"\u001b[0m,\n",
       "      \u001b[32m\"UNI_ALL_SOURCES\"\u001b[0m\n",
       "    ),\n",
       "    \u001b[33m\u001b[0m(\n",
       "      \u001b[32m\"OUT_ISSUE_DATE\"\u001b[0m,\n",
       "      \u001b[32m\"EXP_NORM_HFORMS\"\u001b[0m,\n",
       "      \u001b[32m\"ISSUE_DT1\"\u001b[0m,\n",
       "      \u001b[32m\"UNI_ALL_SOURCES\"\u001b[0m\n",
       "    ),\n",
       "    \u001b[33m\u001b[0m(\n",
       "      \u001b[32m\"RK\"\u001b[0m,\n",
       "      \u001b[32m\"mp_IDMAP_ORPHAN_xREF_CNTRP_DOC_TYPE_HFORMS\"\u001b[0m,\n",
       "      \u001b[32m\"COUNTERPARTY_DOCUMENT_TYPE_RK1\"\u001b[0m,\n",
       "      \u001b[32m\"UNI_ALL_SOURCES\"\u001b[0m\n",
       "    )\n",
       "  ),\n",
       "  \u001b[32m\"mp_IDMAP_ORPHAN_COUNTERPARTY_RK\"\u001b[0m -> \u001b[33mList\u001b[0m(\n",
       "    \u001b[33m\u001b[0m(\n",
       "      \u001b[32m\"COUNTERPARTY_RK\"\u001b[0m,\n",
       "      \u001b[32m\"EXP_TARGET\"\u001b[0m,\n",
       "      \u001b[32m\"in_NK_CCD\"\u001b[0m,\n",
       "      \u001b[32m\"mp_IDMAP_ORPHAN_COUNTERPARTY_RK\"\u001b[0m\n",
       "    ),\n",
       "    \u001b[33m\u001b[0m(\n",
       "      \u001b[32m\"SOURCE_SYSTEM_CCD\"\u001b[0m,\n",
       "      \u001b[32m\"EXP_TARGET\"\u001b[0m,\n",
       "      \u001b[32m\"in_SOURCE_SYSTEM_CODE\"\u001b[0m,\n",
       "      \u001b[32m\"mp_IDMAP_ORPHAN_COUNTERPARTY_RK\"\u001b[0m\n",
       "    )\n",
       "  ),\n",
       "  \u001b[32m\"mp_IDMAP_ORPHAN_xREF_CNTRP_DOC_TYPE_DRIVE_LIC_SFORMS\"\u001b[0m -> \u001b[33mList\u001b[0m(\n",
       "    \u001b[33m\u001b[0m(\n",
       "      \u001b[32m\"DOC_TYPE_DRIVE_LIC\"\u001b[0m,\n",
       "      \u001b[32m\"EXP_DOCUMENT_TYPE\"\u001b[0m,\n",
       "      \u001b[32m\"in_NK_CCD\"\u001b[0m,\n",
       "      \u001b[32m\"mp_IDMAP_ORPHAN_xREF_CNTRP_DOC_TYPE_DRIVE_LIC_SFORMS\"\u001b[0m\n",
       "    ),\n",
       "    \u001b[33m\u001b[0m(\n",
       "      \u001b[32m\"MASTER_SYSTEM_CCD\"\u001b[0m,\n",
       "      \u001b[32m\"EXP_DOCUMENT_TYPE\"\u001b[0m,\n",
       "      \u001b[32m\"in_SOURCE_SYSTEM_CODE\"\u001b[0m,\n",
       "      \u001b[32m\"mp_IDMAP_ORPHAN_xREF_CNTRP_DOC_TYPE_DRIVE_LIC_SFORMS\"\u001b[0m\n",
       "    )\n",
       "  ),\n",
       "  \u001b[32m\"mp_IDMAP_ORPHAN_xREF_CNTRP_DOC_TYPE_HFORMS\"\u001b[0m -> \u001b[33mList\u001b[0m(\n",
       "    \u001b[33m\u001b[0m(\n",
       "      \u001b[32m\"DOCUMENT_TYPE\"\u001b[0m,\n",
       "      \u001b[32m\"EXP_NORM_HFORMS\"\u001b[0m,\n",
       "      \u001b[32m\"in_NK_CCD\"\u001b[0m,\n",
       "      \u001b[32m\"mp_IDMAP_ORPHAN_xREF_CNTRP_DOC_TYPE_HFORMS\"\u001b[0m\n",
       "    ),\n",
       "    \u001b[33m\u001b[0m(\n",
       "      \u001b[32m\"out_MASTER_SYSTEM_CCD\"\u001b[0m,\n",
       "      \u001b[32m\"EXP_NORM_HFORMS\"\u001b[0m,\n",
       "      \u001b[32m\"in_SOURCE_SYSTEM_CODE\"\u001b[0m,\n",
       "      \u001b[32m\"mp_IDMAP_ORPHAN_xREF_CNTRP_DOC_TYPE_HFORMS\"\u001b[0m\n",
       "    )\n",
       "  ),\n",
       "  \u001b[32m\"mp_IDMAP_ORPHAN_xREF_CNTRP_DOC_TYPE_MILITARY_SFORMS\"\u001b[0m -> \u001b[33mList\u001b[0m(\n",
       "    \u001b[33m\u001b[0m(\n",
       "      \u001b[32m\"DOC_TYPE_MILITARY_ID\"\u001b[0m,\n",
       "      \u001b[32m\"EXP_DOCUMENT_TYPE\"\u001b[0m,\n",
       "      \u001b[32m\"in_NK_CCD\"\u001b[0m,\n",
       "      \u001b[32m\"mp_IDMAP_ORPHAN_xREF_CNTRP_DOC_TYPE_MILITARY_SFORMS\"\u001b[0m\n",
       "    ),\n",
       "    \u001b[33m\u001b[0m(\n",
       "      \u001b[32m\"MASTER_SYSTEM_CCD\"\u001b[0m,\n",
       "      \u001b[32m\"EXP_DOCUMENT_TYPE\"\u001b[0m,\n",
       "      \u001b[32m\"in_SOURCE_SYSTEM_CODE\"\u001b[0m,\n",
       "      \u001b[32m\"mp_IDMAP_ORPHAN_xREF_CNTRP_DOC_TYPE_MILITARY_SFORMS\"\u001b[0m\n",
       "    )\n",
       "  ),\n",
       "  \u001b[32m\"mp_IDMAP_ORPHAN_xREF_CNTRP_DOC_TYPE_OLD_PASS_SFORMS\"\u001b[0m -> \u001b[33mList\u001b[0m(\n",
       "    \u001b[33m\u001b[0m(\n",
       "      \u001b[32m\"DOC_TYPE_OLD_PASS\"\u001b[0m,\n",
       "      \u001b[32m\"EXP_DOCUMENT_TYPE\"\u001b[0m,\n",
       "      \u001b[32m\"in_NK_CCD\"\u001b[0m,\n",
       "      \u001b[32m\"mp_IDMAP_ORPHAN_xREF_CNTRP_DOC_TYPE_OLD_PASS_SFORMS\"\u001b[0m\n",
       "    ),\n",
       "    \u001b[33m\u001b[0m(\n",
       "      \u001b[32m\"MASTER_SYSTEM_CCD\"\u001b[0m,\n",
       "      \u001b[32m\"EXP_DOCUMENT_TYPE\"\u001b[0m,\n",
       "      \u001b[32m\"in_SOURCE_SYSTEM_CODE\"\u001b[0m,\n",
       "      \u001b[32m\"mp_IDMAP_ORPHAN_xREF_CNTRP_DOC_TYPE_OLD_PASS_SFORMS\"\u001b[0m\n",
       "    )\n",
       "  ),\n",
       "  \u001b[32m\"mp_IDMAP_ORPHAN_xREF_CNTRP_DOC_TYPE_PASS_SFORMS\"\u001b[0m -> \u001b[33mList\u001b[0m(\n",
       "    \u001b[33m\u001b[0m(\n",
       "      \u001b[32m\"DOC_TYPE_PASS\"\u001b[0m,\n",
       "      \u001b[32m\"EXP_DOCUMENT_TYPE\"\u001b[0m,\n",
       "      \u001b[32m\"in_NK_CCD\"\u001b[0m,\n",
       "      \u001b[32m\"mp_IDMAP_ORPHAN_xREF_CNTRP_DOC_TYPE_PASS_SFORMS\"\u001b[0m\n",
       "    ),\n",
       "    \u001b[33m\u001b[0m(\n",
       "      \u001b[32m\"MASTER_SYSTEM_CCD\"\u001b[0m,\n",
       "      \u001b[32m\"EXP_DOCUMENT_TYPE\"\u001b[0m,\n",
       "      \u001b[32m\"in_SOURCE_SYSTEM_CODE\"\u001b[0m,\n",
       "      \u001b[32m\"mp_IDMAP_ORPHAN_xREF_CNTRP_DOC_TYPE_PASS_SFORMS\"\u001b[0m\n",
       "    )\n",
       "  ),\n",
       "  \u001b[32m\"mp_IDMAP_ORPHAN_xREF_CNTRP_DOC_TYPE_PENSFOND_SFORMS\"\u001b[0m -> \u001b[33mList\u001b[0m(\n",
       "    \u001b[33m\u001b[0m(\n",
       "      \u001b[32m\"DOC_TYPE_PENSFOND\"\u001b[0m,\n",
       "      \u001b[32m\"EXP_DOCUMENT_TYPE\"\u001b[0m,\n",
       "      \u001b[32m\"in_NK_CCD\"\u001b[0m,\n",
       "      \u001b[32m\"mp_IDMAP_ORPHAN_xREF_CNTRP_DOC_TYPE_PENSFOND_SFORMS\"\u001b[0m\n",
       "    ),\n",
       "    \u001b[33m\u001b[0m(\n",
       "      \u001b[32m\"MASTER_SYSTEM_CCD\"\u001b[0m,\n",
       "      \u001b[32m\"EXP_DOCUMENT_TYPE\"\u001b[0m,\n",
       "      \u001b[32m\"in_SOURCE_SYSTEM_CODE\"\u001b[0m,\n",
       "      \u001b[32m\"mp_IDMAP_ORPHAN_xREF_CNTRP_DOC_TYPE_PENSFOND_SFORMS\"\u001b[0m\n",
       "    )\n",
       "  ),\n",
       "  \u001b[32m\"mp_IDMAP_ORPHAN_xREF_CNTRP_DOC_TYPE_ZAGR_SFORMS\"\u001b[0m -> \u001b[33mList\u001b[0m(\n",
       "    \u001b[33m\u001b[0m(\n",
       "      \u001b[32m\"DOC_TYPE_ZAGRAN\"\u001b[0m,\n",
       "      \u001b[32m\"EXP_DOCUMENT_TYPE\"\u001b[0m,\n",
       "      \u001b[32m\"in_NK_CCD\"\u001b[0m,\n",
       "      \u001b[32m\"mp_IDMAP_ORPHAN_xREF_CNTRP_DOC_TYPE_ZAGR_SFORMS\"\u001b[0m\n",
       "    ),\n",
       "    \u001b[33m\u001b[0m(\n",
       "      \u001b[32m\"MASTER_SYSTEM_CCD\"\u001b[0m,\n",
       "      \u001b[32m\"EXP_DOCUMENT_TYPE\"\u001b[0m,\n",
       "      \u001b[32m\"in_SOURCE_SYSTEM_CODE\"\u001b[0m,\n",
       "      \u001b[32m\"mp_IDMAP_ORPHAN_xREF_CNTRP_DOC_TYPE_ZAGR_SFORMS\"\u001b[0m\n",
       "    )\n",
       "  ),\n",
       "  \u001b[32m\"mp_xREFMAP_CNTRP_DOCUMENT_TYPE_SEC_DOC_SFORMS\"\u001b[0m -> \u001b[33mList\u001b[0m(\n",
       "    \u001b[33m\u001b[0m(\n",
       "      \u001b[32m\"DOC_TYPE_SEC_DOC_TYPE\"\u001b[0m,\n",
       "      \u001b[32m\"EXP_DOCUMENT_TYPE\"\u001b[0m,\n",
       "      \u001b[32m\"SOURCE_NK_CCD\"\u001b[0m,\n",
       "      \u001b[32m\"mp_xREFMAP_CNTRP_DOCUMENT_TYPE_SEC_DOC_SFORMS\"\u001b[0m\n",
       "    ),\n",
       "    \u001b[33m\u001b[0m(\n",
       "      \u001b[32m\"MASTER_SYSTEM_CCD\"\u001b[0m,\n",
       "      \u001b[32m\"EXP_DOCUMENT_TYPE\"\u001b[0m,\n",
       "      \u001b[32m\"MASTER_SYSTEM_CCD\"\u001b[0m,\n",
       "      \u001b[32m\"mp_xREFMAP_CNTRP_DOCUMENT_TYPE_SEC_DOC_SFORMS\"\u001b[0m\n",
       "    ),\n",
       "    \u001b[33m\u001b[0m(\n",
       "      \u001b[32m\"SOURCE_SYSTEM_CCD\"\u001b[0m,\n",
       "      \u001b[32m\"EXP_DOCUMENT_TYPE\"\u001b[0m,\n",
       "      \u001b[32m\"SOURCE_SYSTEM_CCD\"\u001b[0m,\n",
       "      \u001b[32m\"mp_xREFMAP_CNTRP_DOCUMENT_TYPE_SEC_DOC_SFORMS\"\u001b[0m\n",
       "    )\n",
       "  ),\n",
       "  \u001b[32m\"mp_xREFMAP_CNTRP_DOCUMENT_TYPE_WORKBOOK_SFORMS\"\u001b[0m -> \u001b[33mList\u001b[0m(\n",
       "    \u001b[33m\u001b[0m(\n",
       "      \u001b[32m\"DOC_TYPE_WORKBOOK\"\u001b[0m,\n",
       "      \u001b[32m\"EXP_DOCUMENT_TYPE\"\u001b[0m,\n",
       "      \u001b[32m\"SOURCE_NK_CCD\"\u001b[0m,\n",
       "      \u001b[32m\"mp_xREFMAP_CNTRP_DOCUMENT_TYPE_WORKBOOK_SFORMS\"\u001b[0m\n",
       "    ),\n",
       "    \u001b[33m\u001b[0m(\n",
       "      \u001b[32m\"MASTER_SYSTEM_CCD\"\u001b[0m,\n",
       "      \u001b[32m\"EXP_DOCUMENT_TYPE\"\u001b[0m,\n",
       "      \u001b[32m\"MASTER_SYSTEM_CCD\"\u001b[0m,\n",
       "      \u001b[32m\"mp_xREFMAP_CNTRP_DOCUMENT_TYPE_WORKBOOK_SFORMS\"\u001b[0m\n",
       "    ),\n",
       "    \u001b[33m\u001b[0m(\n",
       "      \u001b[32m\"SOURCE_SYSTEM_CCD\"\u001b[0m,\n",
       "      \u001b[32m\"EXP_DOCUMENT_TYPE\"\u001b[0m,\n",
       "      \u001b[32m\"SOURCE_SYSTEM_CCD\"\u001b[0m,\n",
       "      \u001b[32m\"mp_xREFMAP_CNTRP_DOCUMENT_TYPE_WORKBOOK_SFORMS\"\u001b[0m\n",
       "    )\n",
       "  ),\n",
       "  \u001b[32m\"mp_xREFMAP_CNTRP_DOC_TYPE_SEC_DOC_SF_FILTR\"\u001b[0m -> \u001b[33mList\u001b[0m(\n",
       "    \u001b[33m\u001b[0m(\n",
       "      \u001b[32m\"DOC_TYPE_SEC_DOC_TYPE\"\u001b[0m,\n",
       "      \u001b[32m\"EXP_SRC_SFORMS\"\u001b[0m,\n",
       "      \u001b[32m\"SOURCE_NK_CCD\"\u001b[0m,\n",
       "      \u001b[32m\"mp_xREFMAP_CNTRP_DOC_TYPE_SEC_DOC_SF_FILTR\"\u001b[0m\n",
       "    ),\n",
       "    \u001b[33m\u001b[0m(\n",
       "      \u001b[32m\"MASTER_SYSTEM_CCD\"\u001b[0m,\n",
       "      \u001b[32m\"EXP_SRC_SFORMS\"\u001b[0m,\n",
       "      \u001b[32m\"MASTER_SYSTEM_CCD\"\u001b[0m,\n",
       "      \u001b[32m\"mp_xREFMAP_CNTRP_DOC_TYPE_SEC_DOC_SF_FILTR\"\u001b[0m\n",
       "    ),\n",
       "    \u001b[33m\u001b[0m(\n",
       "      \u001b[32m\"SOURCE_SYSTEM_CCD\"\u001b[0m,\n",
       "      \u001b[32m\"EXP_SRC_SFORMS\"\u001b[0m,\n",
       "      \u001b[32m\"SOURCE_SYSTEM_CCD\"\u001b[0m,\n",
       "      \u001b[32m\"mp_xREFMAP_CNTRP_DOC_TYPE_SEC_DOC_SF_FILTR\"\u001b[0m\n",
       "    )\n",
       "  ),\n",
       "  \u001b[32m\"mp_xREFMAP_CNTRP_DOC_TYPE_WORKBOOK_SF_FILTR\"\u001b[0m -> \u001b[33mList\u001b[0m(\n",
       "    \u001b[33m\u001b[0m(\n",
       "      \u001b[32m\"DOC_TYPE_WORKBOOK\"\u001b[0m,\n",
       "      \u001b[32m\"EXP_SRC_SFORMS\"\u001b[0m,\n",
       "      \u001b[32m\"SOURCE_NK_CCD\"\u001b[0m,\n",
       "      \u001b[32m\"mp_xREFMAP_CNTRP_DOC_TYPE_WORKBOOK_SF_FILTR\"\u001b[0m\n",
       "    ),\n",
       "    \u001b[33m\u001b[0m(\n",
       "      \u001b[32m\"MASTER_SYSTEM_CCD\"\u001b[0m,\n",
       "      \u001b[32m\"EXP_SRC_SFORMS\"\u001b[0m,\n",
       "      \u001b[32m\"MASTER_SYSTEM_CCD\"\u001b[0m,\n",
       "      \u001b[32m\"mp_xREFMAP_CNTRP_DOC_TYPE_WORKBOOK_SF_FILTR\"\u001b[0m\n",
       "    ),\n",
       "    \u001b[33m\u001b[0m(\n",
       "      \u001b[32m\"SOURCE_SYSTEM_CCD\"\u001b[0m,\n",
       "      \u001b[32m\"EXP_SRC_SFORMS\"\u001b[0m,\n",
       "      \u001b[32m\"SOURCE_SYSTEM_CCD\"\u001b[0m,\n",
       "      \u001b[32m\"mp_xREFMAP_CNTRP_DOC_TYPE_WORKBOOK_SF_FILTR\"\u001b[0m\n",
       "    )\n",
       "  )\n",
       ")"
      ]
     },
     "metadata": {},
     "output_type": "display_data"
    }
   ],
   "source": [
    "show(TreeMap(tmp2.groupBy(_._4).toSeq:_*))"
   ]
  },
  {
   "cell_type": "code",
   "execution_count": 118,
   "metadata": {
    "collapsed": false
   },
   "outputs": [
    {
     "data": {
      "text/plain": [
       "\u001b[36mres81\u001b[0m: \u001b[32mammonite\u001b[0m.\u001b[32mpprint\u001b[0m.\u001b[32mShow\u001b[0m[\u001b[32mcollection\u001b[0m.\u001b[32mimmutable\u001b[0m.\u001b[32mSeq\u001b[0m[(\u001b[32mString\u001b[0m, \u001b[32mString\u001b[0m, \u001b[32mString\u001b[0m, \u001b[32mString\u001b[0m)]] = \u001b[33mList\u001b[0m(\n",
       "  \u001b[33m\u001b[0m(\n",
       "    \u001b[32m\"DOCUMENT_NUMBER\"\u001b[0m,\n",
       "    \u001b[32m\"EXP_NRM_NOT_NULL_SFORMS\"\u001b[0m,\n",
       "    \u001b[32m\"DOCUMENT_NUMBER\"\u001b[0m,\n",
       "    \u001b[32m\"FIL_NULL_SFORMS\"\u001b[0m\n",
       "  ),\n",
       "  \u001b[33m\u001b[0m(\n",
       "    \u001b[32m\"DOCUMENT_SERIES\"\u001b[0m,\n",
       "    \u001b[32m\"EXP_NRM_NOT_NULL_SFORMS\"\u001b[0m,\n",
       "    \u001b[32m\"DOCUMENT_SERIES\"\u001b[0m,\n",
       "    \u001b[32m\"FIL_NULL_SFORMS\"\u001b[0m\n",
       "  ),\n",
       "  \u001b[33m\u001b[0m(\n",
       "    \u001b[32m\"DOCUMENT_SER_NUM\"\u001b[0m,\n",
       "    \u001b[32m\"EXP_NRM_NOT_NULL_SFORMS\"\u001b[0m,\n",
       "    \u001b[32m\"DOCUMENT_SER_NUM\"\u001b[0m,\n",
       "    \u001b[32m\"FIL_NULL_SFORMS\"\u001b[0m\n",
       "  ),\n",
       "  \u001b[33m\u001b[0m(\n",
       "    \u001b[32m\"DOCUMENT_TYPE_RK\"\u001b[0m,\n",
       "    \u001b[32m\"EXP_NRM_NOT_NULL_SFORMS\"\u001b[0m,\n",
       "    \u001b[32m\"DOCUMENT_TYPE_RK\"\u001b[0m,\n",
       "    \u001b[32m\"FIL_NULL_SFORMS\"\u001b[0m\n",
       "  ),\n",
       "  \u001b[33m\u001b[0m(\n",
       "    \u001b[32m\"ISSUE_PLACE\"\u001b[0m,\n",
       "    \u001b[32m\"EXP_NRM_NOT_NULL_SFORMS\"\u001b[0m,\n",
       "    \u001b[32m\"ISSUE_PLACE\"\u001b[0m,\n",
       "    \u001b[32m\"FIL_NULL_SFORMS\"\u001b[0m\n",
       "  ),\n",
       "  \u001b[33m\u001b[0m(\n",
       "    \u001b[32m\"ISSUE_PLACE_CODE\"\u001b[0m,\n",
       "    \u001b[32m\"EXP_NRM_NOT_NULL_SFORMS\"\u001b[0m,\n",
       "    \u001b[32m\"ISSUE_PLACE_CODE\"\u001b[0m,\n",
       "    \u001b[32m\"FIL_NULL_SFORMS\"\u001b[0m\n",
       "  ),\n",
       "  \u001b[33m\u001b[0m(\n",
       "    \u001b[32m\"NK_CCD\"\u001b[0m,\n",
       "    \u001b[32m\"EXP_NRM_NOT_NULL_SFORMS\"\u001b[0m,\n",
       "    \u001b[32m\"NK_CCD\"\u001b[0m,\n",
       "    \u001b[32m\"FIL_NULL_SFORMS\"\u001b[0m\n",
       "  ),\n",
       "  \u001b[33m\u001b[0m(\n",
       "    \u001b[32m\"out_ISSUE_DATE\"\u001b[0m,\n",
       "    \u001b[32m\"EXP_NRM_NOT_NULL_SFORMS\"\u001b[0m,\n",
       "    \u001b[32m\"ISSUE_DT\"\u001b[0m,\n",
       "    \u001b[32m\"FIL_NULL_SFORMS\"\u001b[0m\n",
       "  )\n",
       ")"
      ]
     },
     "metadata": {},
     "output_type": "display_data"
    }
   ],
   "source": [
    "show(tmp.groupBy(_._4)(\"FIL_NULL_SFORMS\"))"
   ]
  },
  {
   "cell_type": "code",
   "execution_count": 64,
   "metadata": {
    "collapsed": false
   },
   "outputs": [
    {
     "data": {
      "text/plain": [
       "\u001b[36mres41\u001b[0m: \u001b[32mBoolean\u001b[0m = true"
      ]
     },
     "metadata": {},
     "output_type": "display_data"
    }
   ],
   "source": [
    "Array(\"fds\",\"gd\",\"ds\").contains(\"fds\")"
   ]
  },
  {
   "cell_type": "code",
   "execution_count": 80,
   "metadata": {
    "collapsed": false
   },
   "outputs": [
    {
     "data": {
      "text/plain": [
       "\u001b[36mtmp\u001b[0m: \u001b[32mcollection\u001b[0m.\u001b[32mimmutable\u001b[0m.\u001b[32mSeq\u001b[0m[(\u001b[32mString\u001b[0m, \u001b[32mString\u001b[0m, \u001b[32mString\u001b[0m, \u001b[32mString\u001b[0m)] = \u001b[33mList\u001b[0m(\n",
       "  \u001b[33m\u001b[0m(\u001b[32m\"BRANCH\"\u001b[0m, \u001b[32m\"SQ_CA_GET_HFORMS\"\u001b[0m, \u001b[32m\"BRANCH\"\u001b[0m, \u001b[32m\"EXP_SRC_HFORMS\"\u001b[0m),\n",
       "  \u001b[33m\u001b[0m(\u001b[32m\"BRANCH\"\u001b[0m, \u001b[32m\"SQ_CA_GET_SFORMS\"\u001b[0m, \u001b[32m\"BRANCH\"\u001b[0m, \u001b[32m\"EXP_SRC_SFORMS\"\u001b[0m),\n",
       "  \u001b[33m\u001b[0m(\u001b[32m\"BRANCH\"\u001b[0m, \u001b[32m\"CA_GET_HFORMS\"\u001b[0m, \u001b[32m\"BRANCH\"\u001b[0m, \u001b[32m\"SQ_CA_GET_HFORMS\"\u001b[0m),\n",
       "  \u001b[33m\u001b[0m(\u001b[32m\"BRANCH\"\u001b[0m, \u001b[32m\"CA_GET_SFORMS\"\u001b[0m, \u001b[32m\"BRANCH\"\u001b[0m, \u001b[32m\"SQ_CA_GET_SFORMS\"\u001b[0m),\n",
       "  \u001b[33m\u001b[0m(\n",
       "    \u001b[32m\"COUNTERPARTY_DOCUMENT_TYPE_RK\"\u001b[0m,\n",
       "    \u001b[32m\"EXP_TARGET\"\u001b[0m,\n",
       "    \u001b[32m\"COUNTERPARTY_DOCUMENT_TYPE_RK\"\u001b[0m,\n",
       "    \u001b[32m\"COUNTERPARTY_DOCUMENT\"\u001b[0m\n",
       "  ),\n",
       "\u001b[33m...\u001b[0m"
      ]
     },
     "metadata": {},
     "output_type": "display_data"
    }
   ],
   "source": [
    "val tmp = (fields_mat map bigflat).sortBy(_._1)"
   ]
  },
  {
   "cell_type": "code",
   "execution_count": 85,
   "metadata": {
    "collapsed": false
   },
   "outputs": [
    {
     "data": {
      "text/plain": [
       "\u001b[36mres56\u001b[0m: \u001b[32mBoolean\u001b[0m = true"
      ]
     },
     "metadata": {},
     "output_type": "display_data"
    }
   ],
   "source": [
    "tmp.map(x=>x._1).contains(\"BRANCH\")"
   ]
  },
  {
   "cell_type": "code",
   "execution_count": null,
   "metadata": {
    "collapsed": true
   },
   "outputs": [],
   "source": []
  }
 ],
 "metadata": {
  "kernelspec": {
   "display_name": "Scala 2.11",
   "language": "scala211",
   "name": "scala211"
  },
  "language_info": {
   "codemirror_mode": "text/x-scala",
   "file_extension": ".scala",
   "mimetype": "text/x-scala",
   "name": "scala211",
   "pygments_lexer": "scala",
   "version": "2.11.6"
  }
 },
 "nbformat": 4,
 "nbformat_minor": 0
}
